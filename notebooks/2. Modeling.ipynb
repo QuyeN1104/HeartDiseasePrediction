{
 "cells": [
  {
   "cell_type": "markdown",
   "id": "4af613f8374faf1b",
   "metadata": {},
   "source": [
    "## IMPORT LIBRAIES"
   ]
  },
  {
   "cell_type": "code",
   "execution_count": 1,
   "id": "initial_id",
   "metadata": {
    "ExecuteTime": {
     "end_time": "2025-10-02T06:10:18.566901Z",
     "start_time": "2025-10-02T06:10:17.944829Z"
    },
    "collapsed": true
   },
   "outputs": [
    {
     "name": "stdout",
     "output_type": "stream",
     "text": [
      "Seed: 42\n"
     ]
    }
   ],
   "source": [
    "import os\n",
    "import json\n",
    "import random\n",
    "import numpy as np\n",
    "import pandas as pd\n",
    "import matplotlib.pyplot as plt\n",
    "\n",
    "from pathlib import Path\n",
    "\n",
    "from sklearn.model_selection import train_test_split\n",
    "from sklearn.pipeline import Pipeline\n",
    "from sklearn.impute import SimpleImputer\n",
    "from sklearn.compose import ColumnTransformer\n",
    "from sklearn.tree import DecisionTreeClassifier\n",
    "from sklearn.base import BaseEstimator, TransformerMixin\n",
    "from sklearn.feature_selection import mutual_info_classif\n",
    "from sklearn.preprocessing import OneHotEncoder, StandardScaler, MinMaxScaler\n",
    "\n",
    "os.environ['PYTHONHASHSEED'] = '42'\n",
    "np.random.seed(42)\n",
    "random.seed(42)\n",
    "print('Seed: 42')\n",
    "\n",
    "\n"
   ]
  },
  {
   "cell_type": "code",
   "execution_count": 2,
   "id": "fc25bd4b9e227fa0",
   "metadata": {
    "ExecuteTime": {
     "end_time": "2025-10-02T06:10:18.660509Z",
     "start_time": "2025-10-02T06:10:18.647989Z"
    }
   },
   "outputs": [],
   "source": [
    "def read_csv(file_path):\n",
    "    df = pd.read_csv(file_path)\n",
    "    # display(df.head())\n",
    "\n",
    "    X = df.drop('target', axis=1)\n",
    "    y = df['target']\n",
    "    display(y.value_counts())\n",
    "\n",
    "    print('Shape df ', df.shape)\n",
    "    print('Shape X', X.shape)\n",
    "    print('Shape y: ', y.shape)\n",
    "    return X, y"
   ]
  },
  {
   "cell_type": "markdown",
   "id": "fba47ac16cb71521",
   "metadata": {},
   "source": [
    "## READ DATASETS"
   ]
  },
  {
   "cell_type": "code",
   "execution_count": 3,
   "id": "e2d7af0457be138c",
   "metadata": {
    "ExecuteTime": {
     "end_time": "2025-10-02T06:10:18.799304Z",
     "start_time": "2025-10-02T06:10:18.692574Z"
    }
   },
   "outputs": [
    {
     "data": {
      "text/plain": [
       "target\n",
       "0    131\n",
       "1    111\n",
       "Name: count, dtype: int64"
      ]
     },
     "metadata": {},
     "output_type": "display_data"
    },
    {
     "name": "stdout",
     "output_type": "stream",
     "text": [
      "Shape df  (242, 14)\n",
      "Shape X (242, 13)\n",
      "Shape y:  (242,)\n"
     ]
    },
    {
     "data": {
      "text/plain": [
       "target\n",
       "0    17\n",
       "1    14\n",
       "Name: count, dtype: int64"
      ]
     },
     "metadata": {},
     "output_type": "display_data"
    },
    {
     "name": "stdout",
     "output_type": "stream",
     "text": [
      "Shape df  (31, 14)\n",
      "Shape X (31, 13)\n",
      "Shape y:  (31,)\n"
     ]
    },
    {
     "data": {
      "text/plain": [
       "target\n",
       "0    16\n",
       "1    14\n",
       "Name: count, dtype: int64"
      ]
     },
     "metadata": {},
     "output_type": "display_data"
    },
    {
     "name": "stdout",
     "output_type": "stream",
     "text": [
      "Shape df  (30, 14)\n",
      "Shape X (30, 13)\n",
      "Shape y:  (30,)\n"
     ]
    },
    {
     "data": {
      "text/html": [
       "<div>\n",
       "<style scoped>\n",
       "    .dataframe tbody tr th:only-of-type {\n",
       "        vertical-align: middle;\n",
       "    }\n",
       "\n",
       "    .dataframe tbody tr th {\n",
       "        vertical-align: top;\n",
       "    }\n",
       "\n",
       "    .dataframe thead th {\n",
       "        text-align: right;\n",
       "    }\n",
       "</style>\n",
       "<table border=\"1\" class=\"dataframe\">\n",
       "  <thead>\n",
       "    <tr style=\"text-align: right;\">\n",
       "      <th></th>\n",
       "      <th>age</th>\n",
       "      <th>trestbps</th>\n",
       "      <th>chol</th>\n",
       "      <th>thalach</th>\n",
       "      <th>oldpeak</th>\n",
       "      <th>sex</th>\n",
       "      <th>cp</th>\n",
       "      <th>fbs</th>\n",
       "      <th>restecg</th>\n",
       "      <th>exang</th>\n",
       "      <th>slope</th>\n",
       "      <th>ca</th>\n",
       "      <th>thal</th>\n",
       "    </tr>\n",
       "  </thead>\n",
       "  <tbody>\n",
       "    <tr>\n",
       "      <th>0</th>\n",
       "      <td>-1.063621</td>\n",
       "      <td>0.400391</td>\n",
       "      <td>-0.262410</td>\n",
       "      <td>0.089984</td>\n",
       "      <td>-0.713154</td>\n",
       "      <td>0.0</td>\n",
       "      <td>1.000000</td>\n",
       "      <td>0.0</td>\n",
       "      <td>1.0</td>\n",
       "      <td>1.0</td>\n",
       "      <td>0.5</td>\n",
       "      <td>0.0</td>\n",
       "      <td>0.0</td>\n",
       "    </tr>\n",
       "    <tr>\n",
       "      <th>1</th>\n",
       "      <td>1.720848</td>\n",
       "      <td>-0.054513</td>\n",
       "      <td>1.368307</td>\n",
       "      <td>-1.809349</td>\n",
       "      <td>1.250048</td>\n",
       "      <td>1.0</td>\n",
       "      <td>1.000000</td>\n",
       "      <td>0.0</td>\n",
       "      <td>1.0</td>\n",
       "      <td>0.0</td>\n",
       "      <td>0.5</td>\n",
       "      <td>1.0</td>\n",
       "      <td>0.0</td>\n",
       "    </tr>\n",
       "    <tr>\n",
       "      <th>2</th>\n",
       "      <td>-0.061212</td>\n",
       "      <td>1.082748</td>\n",
       "      <td>-0.338257</td>\n",
       "      <td>0.664201</td>\n",
       "      <td>0.536156</td>\n",
       "      <td>1.0</td>\n",
       "      <td>0.666667</td>\n",
       "      <td>0.0</td>\n",
       "      <td>1.0</td>\n",
       "      <td>0.0</td>\n",
       "      <td>0.0</td>\n",
       "      <td>0.0</td>\n",
       "      <td>1.0</td>\n",
       "    </tr>\n",
       "  </tbody>\n",
       "</table>\n",
       "</div>"
      ],
      "text/plain": [
       "        age  trestbps      chol   thalach   oldpeak  sex        cp  fbs  \\\n",
       "0 -1.063621  0.400391 -0.262410  0.089984 -0.713154  0.0  1.000000  0.0   \n",
       "1  1.720848 -0.054513  1.368307 -1.809349  1.250048  1.0  1.000000  0.0   \n",
       "2 -0.061212  1.082748 -0.338257  0.664201  0.536156  1.0  0.666667  0.0   \n",
       "\n",
       "   restecg  exang  slope   ca  thal  \n",
       "0      1.0    1.0    0.5  0.0   0.0  \n",
       "1      1.0    0.0    0.5  1.0   0.0  \n",
       "2      1.0    0.0    0.0  0.0   1.0  "
      ]
     },
     "execution_count": 3,
     "metadata": {},
     "output_type": "execute_result"
    }
   ],
   "source": [
    "dir = '../splits'\n",
    "X_train, y_train = read_csv(f'{dir}/raw_train.csv')\n",
    "X_test, y_test = read_csv(f'{dir}/raw_test.csv')\n",
    "X_val, y_val = read_csv(f'{dir}/raw_val.csv')\n",
    "\n",
    "X_val.head(3)"
   ]
  },
  {
   "cell_type": "code",
   "execution_count": 4,
   "id": "3f3d7642180de3ef",
   "metadata": {
    "ExecuteTime": {
     "end_time": "2025-10-02T06:10:18.940570Z",
     "start_time": "2025-10-02T06:10:18.897569Z"
    }
   },
   "outputs": [
    {
     "data": {
      "text/plain": [
       "target\n",
       "0    131\n",
       "1    111\n",
       "Name: count, dtype: int64"
      ]
     },
     "metadata": {},
     "output_type": "display_data"
    },
    {
     "name": "stdout",
     "output_type": "stream",
     "text": [
      "Shape df  (242, 14)\n",
      "Shape X (242, 13)\n",
      "Shape y:  (242,)\n"
     ]
    },
    {
     "data": {
      "text/plain": [
       "target\n",
       "0    7\n",
       "1    6\n",
       "Name: count, dtype: int64"
      ]
     },
     "metadata": {},
     "output_type": "display_data"
    },
    {
     "name": "stdout",
     "output_type": "stream",
     "text": [
      "Shape df  (13, 14)\n",
      "Shape X (13, 13)\n",
      "Shape y:  (13,)\n"
     ]
    },
    {
     "data": {
      "text/plain": [
       "target\n",
       "0    26\n",
       "1    22\n",
       "Name: count, dtype: int64"
      ]
     },
     "metadata": {},
     "output_type": "display_data"
    },
    {
     "name": "stdout",
     "output_type": "stream",
     "text": [
      "Shape df  (48, 14)\n",
      "Shape X (48, 13)\n",
      "Shape y:  (48,)\n"
     ]
    }
   ],
   "source": [
    "# FE Dataset\n",
    "X_fe_train, y_fe_train = read_csv(f'{dir}/fe_train.csv')\n",
    "X_fe_test, y_fe_test = read_csv(f'{dir}/fe_test.csv')\n",
    "X_fe_val, y_fe_val = read_csv(f'{dir}/fe_val.csv')"
   ]
  },
  {
   "cell_type": "code",
   "execution_count": 5,
   "id": "cfd3604d42eb2be9",
   "metadata": {
    "ExecuteTime": {
     "end_time": "2025-10-02T06:10:19.065925Z",
     "start_time": "2025-10-02T06:10:19.018571Z"
    }
   },
   "outputs": [
    {
     "data": {
      "text/plain": [
       "target\n",
       "0    131\n",
       "1    111\n",
       "Name: count, dtype: int64"
      ]
     },
     "metadata": {},
     "output_type": "display_data"
    },
    {
     "name": "stdout",
     "output_type": "stream",
     "text": [
      "Shape df  (242, 11)\n",
      "Shape X (242, 10)\n",
      "Shape y:  (242,)\n"
     ]
    },
    {
     "data": {
      "text/plain": [
       "target\n",
       "0    17\n",
       "1    14\n",
       "Name: count, dtype: int64"
      ]
     },
     "metadata": {},
     "output_type": "display_data"
    },
    {
     "name": "stdout",
     "output_type": "stream",
     "text": [
      "Shape df  (31, 11)\n",
      "Shape X (31, 10)\n",
      "Shape y:  (31,)\n"
     ]
    },
    {
     "data": {
      "text/plain": [
       "target\n",
       "0    16\n",
       "1    14\n",
       "Name: count, dtype: int64"
      ]
     },
     "metadata": {},
     "output_type": "display_data"
    },
    {
     "name": "stdout",
     "output_type": "stream",
     "text": [
      "Shape df  (30, 11)\n",
      "Shape X (30, 10)\n",
      "Shape y:  (30,)\n"
     ]
    }
   ],
   "source": [
    "# Original + DT\n",
    "X_dt_train, y_dt_train = read_csv(f'{dir}/dt_train.csv')\n",
    "X_dt_test, y_dt_test = read_csv(f'{dir}/dt_test.csv')\n",
    "X_dt_val, y_dt_val = read_csv(f'{dir}/dt_val.csv')"
   ]
  },
  {
   "cell_type": "code",
   "execution_count": 6,
   "id": "1610b8996ba87aa5",
   "metadata": {
    "ExecuteTime": {
     "end_time": "2025-10-02T06:10:19.206359Z",
     "start_time": "2025-10-02T06:10:19.167030Z"
    }
   },
   "outputs": [
    {
     "data": {
      "text/plain": [
       "target\n",
       "0    131\n",
       "1    111\n",
       "Name: count, dtype: int64"
      ]
     },
     "metadata": {},
     "output_type": "display_data"
    },
    {
     "name": "stdout",
     "output_type": "stream",
     "text": [
      "Shape df  (242, 11)\n",
      "Shape X (242, 10)\n",
      "Shape y:  (242,)\n"
     ]
    },
    {
     "data": {
      "text/plain": [
       "target\n",
       "0    17\n",
       "1    14\n",
       "Name: count, dtype: int64"
      ]
     },
     "metadata": {},
     "output_type": "display_data"
    },
    {
     "name": "stdout",
     "output_type": "stream",
     "text": [
      "Shape df  (31, 11)\n",
      "Shape X (31, 10)\n",
      "Shape y:  (31,)\n"
     ]
    },
    {
     "data": {
      "text/plain": [
       "target\n",
       "0    16\n",
       "1    14\n",
       "Name: count, dtype: int64"
      ]
     },
     "metadata": {},
     "output_type": "display_data"
    },
    {
     "name": "stdout",
     "output_type": "stream",
     "text": [
      "Shape df  (30, 11)\n",
      "Shape X (30, 10)\n",
      "Shape y:  (30,)\n"
     ]
    }
   ],
   "source": [
    "# FEATURING + DECISTION TREE\n",
    "X_fe_dt_train, y_fe_dt_train = read_csv(f'{dir}/fe_dt_train.csv')\n",
    "X_fe_dt_test, y_fe_dt_test = read_csv(f'{dir}/fe_dt_test.csv')\n",
    "X_fe_dt_val, y_fe_dt_val = read_csv(f'{dir}/fe_dt_val.csv')"
   ]
  },
  {
   "cell_type": "code",
   "execution_count": 7,
   "id": "85fbe491a1fdf09",
   "metadata": {
    "ExecuteTime": {
     "end_time": "2025-10-02T06:10:19.317105Z",
     "start_time": "2025-10-02T06:10:19.271359Z"
    }
   },
   "outputs": [
    {
     "data": {
      "text/plain": [
       "target\n",
       "1    131\n",
       "0    131\n",
       "Name: count, dtype: int64"
      ]
     },
     "metadata": {},
     "output_type": "display_data"
    },
    {
     "name": "stdout",
     "output_type": "stream",
     "text": [
      "Shape df  (262, 14)\n",
      "Shape X (262, 13)\n",
      "Shape y:  (262,)\n"
     ]
    },
    {
     "data": {
      "text/plain": [
       "target\n",
       "0    17\n",
       "1    14\n",
       "Name: count, dtype: int64"
      ]
     },
     "metadata": {},
     "output_type": "display_data"
    },
    {
     "name": "stdout",
     "output_type": "stream",
     "text": [
      "Shape df  (31, 11)\n",
      "Shape X (31, 10)\n",
      "Shape y:  (31,)\n"
     ]
    },
    {
     "data": {
      "text/plain": [
       "target\n",
       "0    16\n",
       "1    14\n",
       "Name: count, dtype: int64"
      ]
     },
     "metadata": {},
     "output_type": "display_data"
    },
    {
     "name": "stdout",
     "output_type": "stream",
     "text": [
      "Shape df  (30, 11)\n",
      "Shape X (30, 10)\n",
      "Shape y:  (30,)\n"
     ]
    }
   ],
   "source": [
    "# FEATURING + DT + SMOTE\n",
    "X_smote_train, y_smote_train = read_csv(f'{dir}/smote_fe_train.csv')\n",
    "X_smote_test, y_smote_test = read_csv(f'{dir}/smote_fe_test.csv')\n",
    "X_smote_val, y_smote_val = read_csv(f'{dir}/smote_fe_val.csv')"
   ]
  },
  {
   "cell_type": "markdown",
   "id": "2ec9817979e3d698",
   "metadata": {},
   "source": [
    "## TỐI ƯU THAM SỐ DÙNG OPTUNA"
   ]
  },
  {
   "cell_type": "code",
   "execution_count": 27,
   "id": "bd038d37",
   "metadata": {
    "ExecuteTime": {
     "end_time": "2025-10-02T06:37:29.087484Z",
     "start_time": "2025-10-02T06:37:28.857783Z"
    }
   },
   "outputs": [],
   "source": [
    "import optuna\n",
    "import numpy as np\n",
    "from sklearn.model_selection import cross_val_score, StratifiedKFold\n",
    "from sklearn.metrics import accuracy_score, f1_score, roc_auc_score\n",
    "from sklearn.base import clone\n",
    "\n",
    "SEED     = 42\n",
    "N_JOBS   = -1\n",
    "SCORING  = \"accuracy\"  # đổi \"f1\" hoặc \"roc_auc\" nếu cần\n",
    "cv = StratifiedKFold(n_splits=5, shuffle=True, random_state=SEED)\n",
    "\n",
    "# ===== Suggest spaces cho 6 model =====\n",
    "from sklearn.ensemble import RandomForestClassifier, AdaBoostClassifier, GradientBoostingClassifier\n",
    "from sklearn.tree import DecisionTreeClassifier\n",
    "from xgboost import XGBClassifier\n",
    "from lightgbm import LGBMClassifier, early_stopping\n",
    "from catboost import CatBoostClassifier\n",
    "\n",
    "def suggest_rf(trial):\n",
    "    return RandomForestClassifier(\n",
    "        n_estimators=trial.suggest_int(\"n_estimators\", 300, 900, step=300),\n",
    "        max_depth=trial.suggest_categorical(\"max_depth\", [None, 12, 20, 30]),\n",
    "        min_samples_split=trial.suggest_int(\"min_samples_split\", 2, 10),\n",
    "        min_samples_leaf=trial.suggest_int(\"min_samples_leaf\", 1, 4),\n",
    "        random_state=SEED, n_jobs=N_JOBS\n",
    "    )\n",
    "\n",
    "def suggest_adb(trial):\n",
    "\n",
    "    return AdaBoostClassifier(\n",
    "        estimator=DecisionTreeClassifier(max_depth=1, random_state=SEED),\n",
    "        n_estimators=trial.suggest_int(\"n_estimators\", 200, 800, step=200),\n",
    "        learning_rate=trial.suggest_float(\"learning_rate\", 0.03, 0.3, log=True),\n",
    "        random_state=SEED\n",
    "    )\n",
    "\n",
    "def suggest_gb(trial):\n",
    "    return GradientBoostingClassifier(\n",
    "        n_estimators=trial.suggest_int(\"n_estimators\", 200, 800, step=200),\n",
    "        learning_rate=trial.suggest_float(\"learning_rate\", 0.03, 0.2, log=True),\n",
    "        max_depth=trial.suggest_int(\"max_depth\", 2, 5),\n",
    "        min_samples_leaf=trial.suggest_int(\"min_samples_leaf\", 1, 3),\n",
    "        random_state=SEED\n",
    "    )\n",
    "\n",
    "def suggest_xgb(trial):\n",
    "    return XGBClassifier(\n",
    "        n_estimators=trial.suggest_int(\"n_estimators\", 300, 1000, step=100),\n",
    "        max_depth=trial.suggest_int(\"max_depth\", 3, 8),\n",
    "        learning_rate=trial.suggest_float(\"learning_rate\", 0.02, 0.2, log=True),\n",
    "        subsample=trial.suggest_float(\"subsample\", 0.7, 1.0),\n",
    "        colsample_bytree=trial.suggest_float(\"colsample_bytree\", 0.7, 1.0),\n",
    "        reg_alpha=trial.suggest_float(\"reg_alpha\", 0.0, 1.0),\n",
    "        reg_lambda=trial.suggest_float(\"reg_lambda\", 0.5, 2.0),\n",
    "        n_jobs=N_JOBS, random_state=SEED, eval_metric=\"logloss\", tree_method=\"hist\"\n",
    "    )\n",
    "\n",
    "def suggest_lgbm(trial):\n",
    "    return LGBMClassifier(\n",
    "        verbose=-1,\n",
    "        n_estimators=trial.suggest_int(\"n_estimators\", 300, 1000, step=100),\n",
    "        num_leaves=trial.suggest_int(\"num_leaves\", 31, 255, step=32),\n",
    "        learning_rate=trial.suggest_float(\"learning_rate\", 0.02, 0.2, log=True),\n",
    "        min_child_samples=trial.suggest_int(\"min_child_samples\", 5, 40),\n",
    "        subsample=trial.suggest_float(\"subsample\", 0.7, 1.0),\n",
    "        colsample_bytree=trial.suggest_float(\"colsample_bytree\", 0.7, 1.0),\n",
    "        reg_alpha=trial.suggest_float(\"reg_alpha\", 0.0, 1.0),\n",
    "        reg_lambda=trial.suggest_float(\"reg_lambda\", 0.5, 2.0),\n",
    "        n_jobs=N_JOBS, random_state=SEED\n",
    "    )\n",
    "\n",
    "def suggest_cat(trial):\n",
    "    return CatBoostClassifier(\n",
    "        n_estimators=trial.suggest_int(\"n_estimators\", 400, 1200, step=200),\n",
    "        depth=trial.suggest_int(\"depth\", 4, 10),\n",
    "        learning_rate=trial.suggest_float(\"learning_rate\", 0.02, 0.2, log=True),\n",
    "        l2_leaf_reg=trial.suggest_float(\"l2_leaf_reg\", 1.0, 6.0),\n",
    "        subsample=trial.suggest_float(\"subsample\", 0.7, 1.0),\n",
    "        random_state=SEED, verbose=False\n",
    "    )\n",
    "\n",
    "SUGGESTERS = {\n",
    "    \"rf\":   suggest_rf,\n",
    "    \"adb\":  suggest_adb,\n",
    "    \"gb\":   suggest_gb,\n",
    "    \"xgb\":  suggest_xgb,\n",
    "    \"lgbm\": suggest_lgbm,\n",
    "    \"cat\":  suggest_cat,\n",
    "}\n",
    "\n",
    "def optuna_tune_simple(model_key, X, y, n_trials=40, scoring=SCORING):\n",
    "    suggest_fn = SUGGESTERS[model_key]\n",
    "\n",
    "    def objective(trial):\n",
    "        est = suggest_fn(trial)\n",
    "        score = cross_val_score(est, X, y, cv=5, scoring=scoring,n_jobs=N_JOBS).mean()\n",
    "        return score\n",
    "\n",
    "    study = optuna.create_study(direction=\"maximize\", study_name=f\"{model_key}_simple\")\n",
    "    study.optimize(objective, n_trials=n_trials)\n",
    "\n",
    "    best_est = suggest_fn(study.best_trial)\n",
    "    best_est.fit(X, y)\n",
    "    return {\n",
    "        \"name\": model_key,\n",
    "        \"best_score\": study.best_value,\n",
    "        \"best_params\": study.best_trial.params,\n",
    "        \"best_estimator\": best_est\n",
    "    }\n",
    "\n",
    "# === Gọi ví dụ:\n",
    "# out_lgbm = optuna_tune_simple(\"lgbm\", X_train, y_train, n_trials=40, scoring=\"accuracy\")\n",
    "# out_xgb  = optuna_tune_simple(\"xgb\",  X_train, y_train)\n",
    "# out_cat  = optuna_tune_simple(\"cat\",  X_train, y_train)\n"
   ]
  },
  {
   "cell_type": "code",
   "execution_count": 28,
   "id": "e0e1199be724525",
   "metadata": {
    "ExecuteTime": {
     "end_time": "2025-10-02T06:37:30.920696Z",
     "start_time": "2025-10-02T06:37:30.893173Z"
    }
   },
   "outputs": [],
   "source": [
    "def calc_results(ranked, X_test, y_test, X_val, y_val):\n",
    "    results = {}\n",
    "    for r in ranked:\n",
    "        results[r['name']] = {\n",
    "            'val': accuracy_score(y_val, r['best_estimator'].predict(X_val)),\n",
    "            'test': accuracy_score(y_test, r['best_estimator'].predict(X_test)),\n",
    "        }\n",
    "    # print(results)\n",
    "    return results"
   ]
  },
  {
   "cell_type": "code",
   "execution_count": 40,
   "id": "86b0ef6101af6de",
   "metadata": {
    "ExecuteTime": {
     "end_time": "2025-10-02T06:47:26.344408Z",
     "start_time": "2025-10-02T06:47:26.224143Z"
    }
   },
   "outputs": [],
   "source": [
    "def visualize(results, data_name=''):\n",
    "    algos = list(results.keys())\n",
    "    val_scores = [results[a]['val'] for a in algos]\n",
    "    test_scores = [results[a]['test'] for a in algos]\n",
    "\n",
    "    x = np.arange(len(algos))\n",
    "    width = 0.38\n",
    "    fig, ax = plt.subplots()\n",
    "    b1 = ax.bar(x - width / 2, val_scores, width, label='Validation Accuracy')\n",
    "    b2 = ax.bar(x + width / 2, test_scores, width, label='Test Accuracy')\n",
    "\n",
    "    ax.set_ylabel('Accuracy')\n",
    "    ax.set_xlabel('Algorithms')\n",
    "    ax.set_title(f'{data_name} Validation vs Test Scores by Algorithm')\n",
    "    ax.set_xticks(x)\n",
    "    ax.set_xticklabels(algos)\n",
    "    ax.legend()\n",
    "\n",
    "    def annotate(bars):\n",
    "        for bar in bars:\n",
    "            h = bar.get_height()\n",
    "            ax.annotate('{:.2f}'.format(h), (bar.get_x() + bar.get_width()/ 2, h),\n",
    "                        xytext=(0, 3), textcoords='offset points',\n",
    "                        ha='center', va='bottom')\n",
    "    annotate(b1)\n",
    "    annotate(b2)\n",
    "    plt.show()"
   ]
  },
  {
   "cell_type": "markdown",
   "id": "d50d1278d049e6a2",
   "metadata": {},
   "source": [
    "## ORIGINAL DATASET"
   ]
  },
  {
   "cell_type": "code",
   "execution_count": 30,
   "id": "cd8843f3a9c6a2a0",
   "metadata": {
    "ExecuteTime": {
     "end_time": "2025-10-02T06:42:17.812534Z",
     "start_time": "2025-10-02T06:37:33.332464Z"
    }
   },
   "outputs": [
    {
     "name": "stderr",
     "output_type": "stream",
     "text": [
      "[I 2025-10-02 13:37:33,332] A new study created in memory with name: lgbm_simple\n",
      "[I 2025-10-02 13:37:41,492] Trial 0 finished with value: 0.8014455782312926 and parameters: {'n_estimators': 900, 'num_leaves': 127, 'learning_rate': 0.11414911519277716, 'min_child_samples': 37, 'subsample': 0.7430725316755081, 'colsample_bytree': 0.8982690204466757, 'reg_alpha': 0.10807978941102969, 'reg_lambda': 1.797179349010047}. Best is trial 0 with value: 0.8014455782312926.\n",
      "[I 2025-10-02 13:37:44,482] Trial 1 finished with value: 0.79328231292517 and parameters: {'n_estimators': 400, 'num_leaves': 31, 'learning_rate': 0.15927512724821707, 'min_child_samples': 25, 'subsample': 0.728072290035051, 'colsample_bytree': 0.7829701051068193, 'reg_alpha': 0.302758119306752, 'reg_lambda': 1.1180411821427583}. Best is trial 0 with value: 0.8014455782312926.\n",
      "[I 2025-10-02 13:37:47,357] Trial 2 finished with value: 0.8014455782312926 and parameters: {'n_estimators': 300, 'num_leaves': 159, 'learning_rate': 0.05793104477541944, 'min_child_samples': 22, 'subsample': 0.7924245612773154, 'colsample_bytree': 0.7945266253161568, 'reg_alpha': 0.3770707613301124, 'reg_lambda': 0.7904822264187109}. Best is trial 0 with value: 0.8014455782312926.\n",
      "[I 2025-10-02 13:37:49,522] Trial 3 finished with value: 0.797108843537415 and parameters: {'n_estimators': 700, 'num_leaves': 63, 'learning_rate': 0.05019833804814911, 'min_child_samples': 9, 'subsample': 0.9878999895675066, 'colsample_bytree': 0.9288227694484952, 'reg_alpha': 0.9870078170290068, 'reg_lambda': 1.3858198999288762}. Best is trial 0 with value: 0.8014455782312926.\n",
      "[I 2025-10-02 13:37:51,277] Trial 4 finished with value: 0.7847789115646258 and parameters: {'n_estimators': 1000, 'num_leaves': 223, 'learning_rate': 0.17428567251114668, 'min_child_samples': 12, 'subsample': 0.7366970540990636, 'colsample_bytree': 0.7556843797295775, 'reg_alpha': 0.0295460823685878, 'reg_lambda': 1.4326550624062058}. Best is trial 0 with value: 0.8014455782312926.\n",
      "[I 2025-10-02 13:37:51,822] Trial 5 finished with value: 0.8013605442176871 and parameters: {'n_estimators': 900, 'num_leaves': 223, 'learning_rate': 0.12686060833605325, 'min_child_samples': 14, 'subsample': 0.7538386591023541, 'colsample_bytree': 0.9845285577505143, 'reg_alpha': 0.3976000902893905, 'reg_lambda': 1.00026005896967}. Best is trial 0 with value: 0.8014455782312926.\n",
      "[I 2025-10-02 13:37:52,449] Trial 6 finished with value: 0.7974489795918367 and parameters: {'n_estimators': 600, 'num_leaves': 223, 'learning_rate': 0.15624003575270662, 'min_child_samples': 28, 'subsample': 0.8710602710579134, 'colsample_bytree': 0.7907462836174428, 'reg_alpha': 0.14257701888247765, 'reg_lambda': 1.6814154162617427}. Best is trial 0 with value: 0.8014455782312926.\n",
      "[I 2025-10-02 13:37:52,886] Trial 7 finished with value: 0.8016156462585033 and parameters: {'n_estimators': 300, 'num_leaves': 127, 'learning_rate': 0.08955298878240754, 'min_child_samples': 19, 'subsample': 0.7479732670321035, 'colsample_bytree': 0.9592778378382173, 'reg_alpha': 0.12343267178583672, 'reg_lambda': 1.9830719615048749}. Best is trial 7 with value: 0.8016156462585033.\n",
      "[I 2025-10-02 13:37:53,331] Trial 8 finished with value: 0.8181122448979592 and parameters: {'n_estimators': 400, 'num_leaves': 127, 'learning_rate': 0.025763166770355787, 'min_child_samples': 33, 'subsample': 0.7234091886006874, 'colsample_bytree': 0.8228489725956027, 'reg_alpha': 0.006902584982926729, 'reg_lambda': 0.6910502941001595}. Best is trial 8 with value: 0.8181122448979592.\n",
      "[I 2025-10-02 13:37:54,009] Trial 9 finished with value: 0.7972789115646258 and parameters: {'n_estimators': 800, 'num_leaves': 223, 'learning_rate': 0.07752733841384296, 'min_child_samples': 11, 'subsample': 0.8434271028908075, 'colsample_bytree': 0.7826907800827466, 'reg_alpha': 0.47275748934642536, 'reg_lambda': 0.8433973719810552}. Best is trial 8 with value: 0.8181122448979592.\n",
      "[I 2025-10-02 13:37:54,452] Trial 10 finished with value: 0.8137755102040817 and parameters: {'n_estimators': 500, 'num_leaves': 95, 'learning_rate': 0.020034115736794266, 'min_child_samples': 40, 'subsample': 0.9338494195699308, 'colsample_bytree': 0.7100311181595835, 'reg_alpha': 0.763004066923384, 'reg_lambda': 0.5763055684860735}. Best is trial 8 with value: 0.8181122448979592.\n",
      "[I 2025-10-02 13:37:54,890] Trial 11 finished with value: 0.8097789115646259 and parameters: {'n_estimators': 500, 'num_leaves': 95, 'learning_rate': 0.020397104821913765, 'min_child_samples': 40, 'subsample': 0.9655375314939345, 'colsample_bytree': 0.7054178811728085, 'reg_alpha': 0.7646538724062016, 'reg_lambda': 0.5561257391586364}. Best is trial 8 with value: 0.8181122448979592.\n",
      "[I 2025-10-02 13:37:55,371] Trial 12 finished with value: 0.8098639455782312 and parameters: {'n_estimators': 500, 'num_leaves': 159, 'learning_rate': 0.021864757079909976, 'min_child_samples': 32, 'subsample': 0.9213836311611339, 'colsample_bytree': 0.870201715501377, 'reg_alpha': 0.6443566183450165, 'reg_lambda': 0.5038485344244241}. Best is trial 8 with value: 0.8181122448979592.\n",
      "[I 2025-10-02 13:37:55,869] Trial 13 finished with value: 0.8140306122448979 and parameters: {'n_estimators': 500, 'num_leaves': 95, 'learning_rate': 0.03250320174548181, 'min_child_samples': 34, 'subsample': 0.9112554514213582, 'colsample_bytree': 0.7081281341202899, 'reg_alpha': 0.6996726009769946, 'reg_lambda': 0.7720290531208602}. Best is trial 8 with value: 0.8181122448979592.\n",
      "[I 2025-10-02 13:37:56,254] Trial 14 finished with value: 0.8181972789115646 and parameters: {'n_estimators': 400, 'num_leaves': 31, 'learning_rate': 0.03489388782309177, 'min_child_samples': 32, 'subsample': 0.8524793013417503, 'colsample_bytree': 0.8567963093655444, 'reg_alpha': 0.6389061166999384, 'reg_lambda': 0.8084749440731147}. Best is trial 14 with value: 0.8181972789115646.\n",
      "[I 2025-10-02 13:37:56,671] Trial 15 finished with value: 0.8097789115646258 and parameters: {'n_estimators': 400, 'num_leaves': 31, 'learning_rate': 0.036732981312720764, 'min_child_samples': 29, 'subsample': 0.8124025296145494, 'colsample_bytree': 0.8226194832110737, 'reg_alpha': 0.5909746180736608, 'reg_lambda': 0.9870947929761741}. Best is trial 14 with value: 0.8181972789115646.\n",
      "[I 2025-10-02 13:37:57,467] Trial 16 finished with value: 0.7972789115646258 and parameters: {'n_estimators': 300, 'num_leaves': 63, 'learning_rate': 0.03233158886652656, 'min_child_samples': 5, 'subsample': 0.8768460924979218, 'colsample_bytree': 0.8538194542203607, 'reg_alpha': 0.9201039821097641, 'reg_lambda': 1.1636397052393195}. Best is trial 14 with value: 0.8181972789115646.\n",
      "[I 2025-10-02 13:37:58,056] Trial 17 finished with value: 0.8056122448979591 and parameters: {'n_estimators': 600, 'num_leaves': 191, 'learning_rate': 0.04255044354036917, 'min_child_samples': 33, 'subsample': 0.794350881773161, 'colsample_bytree': 0.8923598536755192, 'reg_alpha': 0.24524706901677185, 'reg_lambda': 0.6796925695078361}. Best is trial 14 with value: 0.8181972789115646.\n",
      "[I 2025-10-02 13:37:58,475] Trial 18 finished with value: 0.8098639455782314 and parameters: {'n_estimators': 400, 'num_leaves': 63, 'learning_rate': 0.02809437603388716, 'min_child_samples': 29, 'subsample': 0.8306178599363249, 'colsample_bytree': 0.8275321557702138, 'reg_alpha': 0.5356281944885862, 'reg_lambda': 0.9115918125184373}. Best is trial 14 with value: 0.8181972789115646.\n",
      "[I 2025-10-02 13:37:59,371] Trial 19 finished with value: 0.8179421768707481 and parameters: {'n_estimators': 700, 'num_leaves': 255, 'learning_rate': 0.025971442498683953, 'min_child_samples': 20, 'subsample': 0.7047355949874419, 'colsample_bytree': 0.8336108676900092, 'reg_alpha': 0.8085148926018915, 'reg_lambda': 1.3070663299006782}. Best is trial 14 with value: 0.8181972789115646.\n",
      "[I 2025-10-02 13:37:59,772] Trial 20 finished with value: 0.8180272108843537 and parameters: {'n_estimators': 400, 'num_leaves': 31, 'learning_rate': 0.044061834521945044, 'min_child_samples': 35, 'subsample': 0.8786044458110593, 'colsample_bytree': 0.9208467632549695, 'reg_alpha': 0.4809372101273041, 'reg_lambda': 0.6882212446487219}. Best is trial 14 with value: 0.8181972789115646.\n",
      "[I 2025-10-02 13:38:00,102] Trial 21 finished with value: 0.8221938775510204 and parameters: {'n_estimators': 400, 'num_leaves': 31, 'learning_rate': 0.04237587926892273, 'min_child_samples': 35, 'subsample': 0.8709846761073118, 'colsample_bytree': 0.9120917396904792, 'reg_alpha': 0.43820623241486334, 'reg_lambda': 0.6952397952152083}. Best is trial 21 with value: 0.8221938775510204.\n",
      "[I 2025-10-02 13:38:00,412] Trial 22 finished with value: 0.8137755102040817 and parameters: {'n_estimators': 300, 'num_leaves': 63, 'learning_rate': 0.06600478957615569, 'min_child_samples': 37, 'subsample': 0.7811994420930186, 'colsample_bytree': 0.8707152282432865, 'reg_alpha': 0.0009168992456937697, 'reg_lambda': 0.6793474703384144}. Best is trial 21 with value: 0.8221938775510204.\n",
      "[I 2025-10-02 13:38:00,848] Trial 23 finished with value: 0.8099489795918368 and parameters: {'n_estimators': 400, 'num_leaves': 31, 'learning_rate': 0.02696364918231944, 'min_child_samples': 31, 'subsample': 0.8572170443469338, 'colsample_bytree': 0.9407810812394168, 'reg_alpha': 0.3239659829922408, 'reg_lambda': 1.0025879770128696}. Best is trial 21 with value: 0.8221938775510204.\n",
      "[I 2025-10-02 13:38:01,344] Trial 24 finished with value: 0.8138605442176872 and parameters: {'n_estimators': 600, 'num_leaves': 95, 'learning_rate': 0.038578999068968105, 'min_child_samples': 37, 'subsample': 0.8984290495635414, 'colsample_bytree': 0.8974791649033463, 'reg_alpha': 0.23921306495388023, 'reg_lambda': 0.8719324829794344}. Best is trial 21 with value: 0.8221938775510204.\n",
      "[I 2025-10-02 13:38:01,868] Trial 25 finished with value: 0.8097789115646258 and parameters: {'n_estimators': 500, 'num_leaves': 127, 'learning_rate': 0.049631788078466785, 'min_child_samples': 26, 'subsample': 0.821237105015124, 'colsample_bytree': 0.862709002240017, 'reg_alpha': 0.5739110367430205, 'reg_lambda': 0.6487173588846106}. Best is trial 21 with value: 0.8221938775510204.\n",
      "[I 2025-10-02 13:38:02,399] Trial 26 finished with value: 0.8096088435374149 and parameters: {'n_estimators': 400, 'num_leaves': 63, 'learning_rate': 0.032209419829892866, 'min_child_samples': 24, 'subsample': 0.9452945608898704, 'colsample_bytree': 0.8125855584969378, 'reg_alpha': 0.6504129334132415, 'reg_lambda': 1.1168688527547503}. Best is trial 21 with value: 0.8221938775510204.\n",
      "[I 2025-10-02 13:38:02,755] Trial 27 finished with value: 0.8139455782312925 and parameters: {'n_estimators': 300, 'num_leaves': 31, 'learning_rate': 0.024999556990786584, 'min_child_samples': 30, 'subsample': 0.8998021412219576, 'colsample_bytree': 0.9923847968225679, 'reg_alpha': 0.4471752935812823, 'reg_lambda': 0.7595179492238832}. Best is trial 21 with value: 0.8221938775510204.\n",
      "[I 2025-10-02 13:38:03,254] Trial 28 finished with value: 0.8098639455782312 and parameters: {'n_estimators': 600, 'num_leaves': 191, 'learning_rate': 0.060410144036203865, 'min_child_samples': 35, 'subsample': 0.8585715905773543, 'colsample_bytree': 0.7559817872319642, 'reg_alpha': 0.8836165479641048, 'reg_lambda': 0.9137793627196579}. Best is trial 21 with value: 0.8221938775510204.\n",
      "[I 2025-10-02 13:38:03,808] Trial 29 finished with value: 0.8056972789115647 and parameters: {'n_estimators': 500, 'num_leaves': 127, 'learning_rate': 0.037264355072437846, 'min_child_samples': 27, 'subsample': 0.7730261981395106, 'colsample_bytree': 0.8870765695988925, 'reg_alpha': 0.21107611078690855, 'reg_lambda': 1.6461072709493076}. Best is trial 21 with value: 0.8221938775510204.\n",
      "[I 2025-10-02 13:38:04,513] Trial 30 finished with value: 0.8262755102040817 and parameters: {'n_estimators': 700, 'num_leaves': 159, 'learning_rate': 0.047658586477869955, 'min_child_samples': 38, 'subsample': 0.8352647559821959, 'colsample_bytree': 0.9168640795029388, 'reg_alpha': 0.6948161493102787, 'reg_lambda': 0.6050878922121932}. Best is trial 30 with value: 0.8262755102040817.\n",
      "[I 2025-10-02 13:38:05,140] Trial 31 finished with value: 0.8179421768707483 and parameters: {'n_estimators': 800, 'num_leaves': 159, 'learning_rate': 0.04864412153889137, 'min_child_samples': 39, 'subsample': 0.8366847161367934, 'colsample_bytree': 0.9222508255589812, 'reg_alpha': 0.700292128042542, 'reg_lambda': 0.5875840962202372}. Best is trial 30 with value: 0.8262755102040817.\n",
      "[I 2025-10-02 13:38:05,670] Trial 32 finished with value: 0.8139455782312925 and parameters: {'n_estimators': 700, 'num_leaves': 191, 'learning_rate': 0.03048021821963001, 'min_child_samples': 37, 'subsample': 0.8094831032055513, 'colsample_bytree': 0.9511490782491498, 'reg_alpha': 0.8439130409873635, 'reg_lambda': 0.5061921813792531}. Best is trial 30 with value: 0.8262755102040817.\n",
      "[I 2025-10-02 13:38:06,382] Trial 33 finished with value: 0.8140306122448979 and parameters: {'n_estimators': 800, 'num_leaves': 159, 'learning_rate': 0.05267762582292644, 'min_child_samples': 36, 'subsample': 0.7116612491990102, 'colsample_bytree': 0.8416570678984168, 'reg_alpha': 0.6167302351619135, 'reg_lambda': 0.7555176358537948}. Best is trial 30 with value: 0.8262755102040817.\n",
      "[I 2025-10-02 13:38:06,742] Trial 34 finished with value: 0.8099489795918368 and parameters: {'n_estimators': 400, 'num_leaves': 31, 'learning_rate': 0.042590866092808405, 'min_child_samples': 33, 'subsample': 0.8838141895592112, 'colsample_bytree': 0.9097096536678674, 'reg_alpha': 0.7000691160246078, 'reg_lambda': 0.6125608075117904}. Best is trial 30 with value: 0.8262755102040817.\n",
      "[I 2025-10-02 13:38:07,568] Trial 35 finished with value: 0.8304421768707483 and parameters: {'n_estimators': 700, 'num_leaves': 127, 'learning_rate': 0.024332353079705077, 'min_child_samples': 38, 'subsample': 0.7636828373411673, 'colsample_bytree': 0.8062473945344163, 'reg_alpha': 0.5410345586666022, 'reg_lambda': 0.8011381093354967}. Best is trial 35 with value: 0.8304421768707483.\n",
      "[I 2025-10-02 13:38:08,174] Trial 36 finished with value: 0.8222789115646257 and parameters: {'n_estimators': 700, 'num_leaves': 63, 'learning_rate': 0.07022884331433096, 'min_child_samples': 38, 'subsample': 0.7948291032366394, 'colsample_bytree': 0.9714154298874942, 'reg_alpha': 0.5409476196896894, 'reg_lambda': 1.057403631017923}. Best is trial 35 with value: 0.8304421768707483.\n",
      "[I 2025-10-02 13:38:08,762] Trial 37 finished with value: 0.8098639455782314 and parameters: {'n_estimators': 700, 'num_leaves': 63, 'learning_rate': 0.07062415443709125, 'min_child_samples': 39, 'subsample': 0.7741455312371235, 'colsample_bytree': 0.9669967419121828, 'reg_alpha': 0.4089951124160849, 'reg_lambda': 1.0868979203089566}. Best is trial 35 with value: 0.8304421768707483.\n",
      "[I 2025-10-02 13:38:09,392] Trial 38 finished with value: 0.8139455782312923 and parameters: {'n_estimators': 900, 'num_leaves': 95, 'learning_rate': 0.10778098898313546, 'min_child_samples': 38, 'subsample': 0.7608169422570664, 'colsample_bytree': 0.9744191510094438, 'reg_alpha': 0.552409582505281, 'reg_lambda': 1.2921248478693992}. Best is trial 35 with value: 0.8304421768707483.\n",
      "[I 2025-10-02 13:38:10,136] Trial 39 finished with value: 0.8097789115646258 and parameters: {'n_estimators': 800, 'num_leaves': 191, 'learning_rate': 0.09365802267496459, 'min_child_samples': 35, 'subsample': 0.7916735072652783, 'colsample_bytree': 0.7704305203787215, 'reg_alpha': 0.36108754200685805, 'reg_lambda': 1.4699550978248395}. Best is trial 35 with value: 0.8304421768707483.\n",
      "[I 2025-10-02 13:38:10,891] Trial 40 finished with value: 0.7973639455782313 and parameters: {'n_estimators': 1000, 'num_leaves': 127, 'learning_rate': 0.07891026700530038, 'min_child_samples': 40, 'subsample': 0.7379020174171387, 'colsample_bytree': 0.9479752206928996, 'reg_alpha': 0.5056283936340646, 'reg_lambda': 1.214939423776746}. Best is trial 35 with value: 0.8304421768707483.\n",
      "[I 2025-10-02 13:38:11,486] Trial 41 finished with value: 0.8139455782312925 and parameters: {'n_estimators': 700, 'num_leaves': 31, 'learning_rate': 0.05646455554406805, 'min_child_samples': 37, 'subsample': 0.8497560382833929, 'colsample_bytree': 0.8031857011452065, 'reg_alpha': 0.5270557790018118, 'reg_lambda': 0.8306397346312123}. Best is trial 35 with value: 0.8304421768707483.\n",
      "[I 2025-10-02 13:38:12,117] Trial 42 finished with value: 0.8179421768707483 and parameters: {'n_estimators': 700, 'num_leaves': 63, 'learning_rate': 0.046139689139717, 'min_child_samples': 31, 'subsample': 0.8133886708042607, 'colsample_bytree': 0.9336393014841544, 'reg_alpha': 0.4345743825580849, 'reg_lambda': 0.9751915939039922}. Best is trial 35 with value: 0.8304421768707483.\n",
      "[I 2025-10-02 13:38:12,643] Trial 43 finished with value: 0.8262755102040817 and parameters: {'n_estimators': 600, 'num_leaves': 63, 'learning_rate': 0.05560084826938518, 'min_child_samples': 38, 'subsample': 0.7984491786703891, 'colsample_bytree': 0.8843773617612486, 'reg_alpha': 0.6292145807243947, 'reg_lambda': 1.0700939691294216}. Best is trial 35 with value: 0.8304421768707483.\n",
      "[I 2025-10-02 13:38:13,156] Trial 44 finished with value: 0.8263605442176871 and parameters: {'n_estimators': 600, 'num_leaves': 95, 'learning_rate': 0.06727107797737752, 'min_child_samples': 38, 'subsample': 0.7988403987712329, 'colsample_bytree': 0.881993546153917, 'reg_alpha': 0.3413328910576855, 'reg_lambda': 1.0466317374985588}. Best is trial 35 with value: 0.8304421768707483.\n",
      "[I 2025-10-02 13:38:13,678] Trial 45 finished with value: 0.7971938775510204 and parameters: {'n_estimators': 600, 'num_leaves': 95, 'learning_rate': 0.07321243304905528, 'min_child_samples': 16, 'subsample': 0.7987622804972758, 'colsample_bytree': 0.8800999833690497, 'reg_alpha': 0.7293212470561425, 'reg_lambda': 1.0556877137893894}. Best is trial 35 with value: 0.8304421768707483.\n",
      "[I 2025-10-02 13:38:14,187] Trial 46 finished with value: 0.8014455782312926 and parameters: {'n_estimators': 600, 'num_leaves': 95, 'learning_rate': 0.08396586555110429, 'min_child_samples': 39, 'subsample': 0.7541304313248334, 'colsample_bytree': 0.907069747053746, 'reg_alpha': 0.3513626365205089, 'reg_lambda': 1.1912184806991095}. Best is trial 35 with value: 0.8304421768707483.\n",
      "[I 2025-10-02 13:38:14,809] Trial 47 finished with value: 0.8179421768707483 and parameters: {'n_estimators': 700, 'num_leaves': 127, 'learning_rate': 0.06444759293250049, 'min_child_samples': 38, 'subsample': 0.7625736195659667, 'colsample_bytree': 0.8792127359564994, 'reg_alpha': 0.0792176027251737, 'reg_lambda': 1.0339071175240577}. Best is trial 35 with value: 0.8304421768707483.\n",
      "[I 2025-10-02 13:38:15,358] Trial 48 finished with value: 0.8056972789115647 and parameters: {'n_estimators': 800, 'num_leaves': 159, 'learning_rate': 0.09963089160751012, 'min_child_samples': 40, 'subsample': 0.8247907714171521, 'colsample_bytree': 0.8406834406620004, 'reg_alpha': 0.6026292227554831, 'reg_lambda': 0.9343753052013051}. Best is trial 35 with value: 0.8304421768707483.\n",
      "[I 2025-10-02 13:38:15,725] Trial 49 finished with value: 0.8098639455782312 and parameters: {'n_estimators': 600, 'num_leaves': 127, 'learning_rate': 0.13440263873678848, 'min_child_samples': 34, 'subsample': 0.7879360732917012, 'colsample_bytree': 0.7298754057049394, 'reg_alpha': 0.7758991998680194, 'reg_lambda': 1.4051600041505385}. Best is trial 35 with value: 0.8304421768707483.\n",
      "[I 2025-10-02 13:38:16,175] A new study created in memory with name: cat_simple\n",
      "[I 2025-10-02 13:38:18,827] Trial 0 finished with value: 0.7848639455782312 and parameters: {'n_estimators': 1000, 'depth': 5, 'learning_rate': 0.17037383942631784, 'l2_leaf_reg': 5.697413542898305, 'subsample': 0.9945601217961042}. Best is trial 0 with value: 0.7848639455782312.\n",
      "[I 2025-10-02 13:38:27,385] Trial 1 finished with value: 0.7810374149659863 and parameters: {'n_estimators': 1000, 'depth': 10, 'learning_rate': 0.09022227854055363, 'l2_leaf_reg': 2.6418539509028345, 'subsample': 0.7516706230764105}. Best is trial 0 with value: 0.7848639455782312.\n",
      "[I 2025-10-02 13:38:30,698] Trial 2 finished with value: 0.7765306122448979 and parameters: {'n_estimators': 1000, 'depth': 5, 'learning_rate': 0.09460253242820325, 'l2_leaf_reg': 1.1971795050498637, 'subsample': 0.803954199931691}. Best is trial 0 with value: 0.7848639455782312.\n",
      "[I 2025-10-02 13:38:38,808] Trial 3 finished with value: 0.7811224489795918 and parameters: {'n_estimators': 800, 'depth': 10, 'learning_rate': 0.13557282016196254, 'l2_leaf_reg': 4.643298983331137, 'subsample': 0.7153689693065252}. Best is trial 0 with value: 0.7848639455782312.\n",
      "c:\\Users\\USER\\anaconda3\\envs\\ml\\lib\\site-packages\\sklearn\\model_selection\\_validation.py:516: FitFailedWarning: \n",
      "2 fits failed out of a total of 5.\n",
      "The score on these train-test partitions for these parameters will be set to nan.\n",
      "If these failures are not expected, you can try to debug them by setting error_score='raise'.\n",
      "\n",
      "Below are more details about the failures:\n",
      "--------------------------------------------------------------------------------\n",
      "2 fits failed with the following error:\n",
      "Traceback (most recent call last):\n",
      "  File \"c:\\Users\\USER\\anaconda3\\envs\\ml\\lib\\site-packages\\sklearn\\model_selection\\_validation.py\", line 859, in _fit_and_score\n",
      "    estimator.fit(X_train, y_train, **fit_params)\n",
      "  File \"c:\\Users\\USER\\anaconda3\\envs\\ml\\lib\\site-packages\\catboost\\core.py\", line 5245, in fit\n",
      "    self._fit(X, y, cat_features, text_features, embedding_features, None, graph, sample_weight, None, None, None, None, baseline, use_best_model,\n",
      "  File \"c:\\Users\\USER\\anaconda3\\envs\\ml\\lib\\site-packages\\catboost\\core.py\", line 2410, in _fit\n",
      "    self._train(\n",
      "  File \"c:\\Users\\USER\\anaconda3\\envs\\ml\\lib\\site-packages\\catboost\\core.py\", line 1790, in _train\n",
      "    self._object._train(train_pool, test_pool, params, allow_clear_pool, init_model._object if init_model else None)\n",
      "  File \"_catboost.pyx\", line 5023, in _catboost._CatBoost._train\n",
      "  File \"_catboost.pyx\", line 5072, in _catboost._CatBoost._train\n",
      "_catboost.CatBoostError: catboost/libs/train_lib/dir_helper.cpp:26: Can't create train tmp dir: tmp\n",
      "\n",
      "  warnings.warn(some_fits_failed_message, FitFailedWarning)\n",
      "[W 2025-10-02 13:38:57,051] Trial 4 failed with parameters: {'n_estimators': 1200, 'depth': 10, 'learning_rate': 0.03768637573929851, 'l2_leaf_reg': 4.673053573502184, 'subsample': 0.9590703117622323} because of the following error: The value nan is not acceptable.\n",
      "[W 2025-10-02 13:38:57,051] Trial 4 failed with value nan.\n",
      "[I 2025-10-02 13:39:06,461] Trial 5 finished with value: 0.8013605442176871 and parameters: {'n_estimators': 1000, 'depth': 7, 'learning_rate': 0.08589507952625647, 'l2_leaf_reg': 5.936542230740766, 'subsample': 0.7650918540728637}. Best is trial 5 with value: 0.8013605442176871.\n",
      "[I 2025-10-02 13:39:11,104] Trial 6 finished with value: 0.79328231292517 and parameters: {'n_estimators': 1200, 'depth': 7, 'learning_rate': 0.09479490235213328, 'l2_leaf_reg': 2.042379459171487, 'subsample': 0.7707939901734847}. Best is trial 5 with value: 0.8013605442176871.\n",
      "[I 2025-10-02 13:39:19,907] Trial 7 finished with value: 0.7974489795918368 and parameters: {'n_estimators': 1000, 'depth': 7, 'learning_rate': 0.05297898872994214, 'l2_leaf_reg': 5.281359274781785, 'subsample': 0.7435478558934021}. Best is trial 5 with value: 0.8013605442176871.\n",
      "[I 2025-10-02 13:39:21,731] Trial 8 finished with value: 0.801530612244898 and parameters: {'n_estimators': 400, 'depth': 6, 'learning_rate': 0.1325031997033709, 'l2_leaf_reg': 2.6982281648757596, 'subsample': 0.7605436502498903}. Best is trial 8 with value: 0.801530612244898.\n",
      "[I 2025-10-02 13:39:26,045] Trial 9 finished with value: 0.7971938775510204 and parameters: {'n_estimators': 400, 'depth': 7, 'learning_rate': 0.1189995721586335, 'l2_leaf_reg': 5.094700529089465, 'subsample': 0.8427617869783637}. Best is trial 8 with value: 0.801530612244898.\n",
      "[I 2025-10-02 13:39:33,476] Trial 10 finished with value: 0.8139455782312925 and parameters: {'n_estimators': 400, 'depth': 10, 'learning_rate': 0.040688932879544934, 'l2_leaf_reg': 3.7768115868762018, 'subsample': 0.8019309330398109}. Best is trial 10 with value: 0.8139455782312925.\n",
      "[I 2025-10-02 13:39:36,885] Trial 11 finished with value: 0.8057823129251702 and parameters: {'n_estimators': 600, 'depth': 9, 'learning_rate': 0.026670706597578645, 'l2_leaf_reg': 4.176378268600665, 'subsample': 0.942091970063846}. Best is trial 10 with value: 0.8139455782312925.\n",
      "[I 2025-10-02 13:39:40,261] Trial 12 finished with value: 0.7971938775510204 and parameters: {'n_estimators': 600, 'depth': 9, 'learning_rate': 0.026256380912692993, 'l2_leaf_reg': 4.029707432641637, 'subsample': 0.9305669630627571}. Best is trial 10 with value: 0.8139455782312925.\n",
      "[I 2025-10-02 13:39:47,210] Trial 13 finished with value: 0.8137755102040817 and parameters: {'n_estimators': 600, 'depth': 9, 'learning_rate': 0.029562391208525947, 'l2_leaf_reg': 3.760832508918641, 'subsample': 0.9032266884050265}. Best is trial 10 with value: 0.8139455782312925.\n",
      "[I 2025-10-02 13:39:50,713] Trial 14 finished with value: 0.8056122448979591 and parameters: {'n_estimators': 600, 'depth': 9, 'learning_rate': 0.04039727390539226, 'l2_leaf_reg': 3.3739321539742644, 'subsample': 0.8830167182491949}. Best is trial 10 with value: 0.8139455782312925.\n",
      "[I 2025-10-02 13:39:52,655] Trial 15 finished with value: 0.8014455782312926 and parameters: {'n_estimators': 400, 'depth': 8, 'learning_rate': 0.037909904408018086, 'l2_leaf_reg': 3.4124353935354645, 'subsample': 0.8545023033723868}. Best is trial 10 with value: 0.8139455782312925.\n",
      "[I 2025-10-02 13:40:03,180] Trial 16 finished with value: 0.7973639455782313 and parameters: {'n_estimators': 600, 'depth': 10, 'learning_rate': 0.021484015252508048, 'l2_leaf_reg': 4.010576715578707, 'subsample': 0.8990019846705384}. Best is trial 10 with value: 0.8139455782312925.\n",
      "[I 2025-10-02 13:40:08,691] Trial 17 finished with value: 0.7974489795918368 and parameters: {'n_estimators': 800, 'depth': 8, 'learning_rate': 0.04019698249074527, 'l2_leaf_reg': 2.9019754180212303, 'subsample': 0.8159135743345416}. Best is trial 10 with value: 0.8139455782312925.\n",
      "[I 2025-10-02 13:40:10,529] Trial 18 finished with value: 0.8096938775510203 and parameters: {'n_estimators': 400, 'depth': 4, 'learning_rate': 0.05864925022311046, 'l2_leaf_reg': 4.529384532704446, 'subsample': 0.9912867796138085}. Best is trial 10 with value: 0.8139455782312925.\n",
      "[I 2025-10-02 13:40:16,863] Trial 19 finished with value: 0.8136904761904763 and parameters: {'n_estimators': 800, 'depth': 8, 'learning_rate': 0.03185582503741477, 'l2_leaf_reg': 2.0664531372138892, 'subsample': 0.8100975717276155}. Best is trial 10 with value: 0.8139455782312925.\n",
      "[I 2025-10-02 13:40:20,733] Trial 20 finished with value: 0.7892006802721088 and parameters: {'n_estimators': 600, 'depth': 9, 'learning_rate': 0.04943466127362473, 'l2_leaf_reg': 3.5761073587656442, 'subsample': 0.9449936358712787}. Best is trial 10 with value: 0.8139455782312925.\n",
      "[I 2025-10-02 13:40:24,668] Trial 21 finished with value: 0.8263605442176871 and parameters: {'n_estimators': 400, 'depth': 10, 'learning_rate': 0.021071231477088555, 'l2_leaf_reg': 4.816174747380508, 'subsample': 0.8864968416084281}. Best is trial 21 with value: 0.8263605442176871.\n",
      "[I 2025-10-02 13:40:28,642] Trial 22 finished with value: 0.8180272108843537 and parameters: {'n_estimators': 400, 'depth': 10, 'learning_rate': 0.020274551265810015, 'l2_leaf_reg': 4.789810440106408, 'subsample': 0.8913650194977125}. Best is trial 21 with value: 0.8263605442176871.\n",
      "[I 2025-10-02 13:40:32,725] Trial 23 finished with value: 0.8057823129251702 and parameters: {'n_estimators': 400, 'depth': 10, 'learning_rate': 0.020440262633892425, 'l2_leaf_reg': 5.018923369652737, 'subsample': 0.8634431026777273}. Best is trial 21 with value: 0.8263605442176871.\n",
      "[I 2025-10-02 13:40:36,510] Trial 24 finished with value: 0.8139455782312925 and parameters: {'n_estimators': 400, 'depth': 10, 'learning_rate': 0.023998284578412833, 'l2_leaf_reg': 4.648383744812737, 'subsample': 0.8325772920653489}. Best is trial 21 with value: 0.8263605442176871.\n",
      "[I 2025-10-02 13:40:40,624] Trial 25 finished with value: 0.7973639455782313 and parameters: {'n_estimators': 400, 'depth': 10, 'learning_rate': 0.07129221524743697, 'l2_leaf_reg': 5.481143223467008, 'subsample': 0.8766075145458715}. Best is trial 21 with value: 0.8263605442176871.\n",
      "[I 2025-10-02 13:40:42,682] Trial 26 finished with value: 0.8098639455782314 and parameters: {'n_estimators': 400, 'depth': 9, 'learning_rate': 0.03249855478376361, 'l2_leaf_reg': 4.364442812608203, 'subsample': 0.9173735903457048}. Best is trial 21 with value: 0.8263605442176871.\n",
      "[I 2025-10-02 13:40:44,845] Trial 27 finished with value: 0.8138605442176872 and parameters: {'n_estimators': 600, 'depth': 8, 'learning_rate': 0.02294478983933108, 'l2_leaf_reg': 4.867675810027773, 'subsample': 0.7877820474073282}. Best is trial 21 with value: 0.8263605442176871.\n",
      "[I 2025-10-02 13:40:48,457] Trial 28 finished with value: 0.8098639455782314 and parameters: {'n_estimators': 400, 'depth': 10, 'learning_rate': 0.02012331557796814, 'l2_leaf_reg': 3.190046725047797, 'subsample': 0.8823242287912544}. Best is trial 21 with value: 0.8263605442176871.\n",
      "[I 2025-10-02 13:40:52,449] Trial 29 finished with value: 0.8181122448979592 and parameters: {'n_estimators': 800, 'depth': 9, 'learning_rate': 0.04586829367628829, 'l2_leaf_reg': 3.836819465796454, 'subsample': 0.9614411170982367}. Best is trial 21 with value: 0.8263605442176871.\n",
      "[I 2025-10-02 13:40:58,543] Trial 30 finished with value: 0.8138605442176872 and parameters: {'n_estimators': 1200, 'depth': 9, 'learning_rate': 0.07024908291710628, 'l2_leaf_reg': 5.4474884678189035, 'subsample': 0.9633657288931882}. Best is trial 21 with value: 0.8263605442176871.\n",
      "[I 2025-10-02 13:41:01,487] Trial 31 finished with value: 0.7846938775510204 and parameters: {'n_estimators': 800, 'depth': 8, 'learning_rate': 0.1775210233404526, 'l2_leaf_reg': 5.850702134639949, 'subsample': 0.9966564655894813}. Best is trial 21 with value: 0.8263605442176871.\n",
      "[I 2025-10-02 13:41:05,523] Trial 32 finished with value: 0.7931972789115647 and parameters: {'n_estimators': 400, 'depth': 10, 'learning_rate': 0.0469319537193856, 'l2_leaf_reg': 3.8032232427263213, 'subsample': 0.9627155844609362}. Best is trial 21 with value: 0.8263605442176871.\n",
      "[I 2025-10-02 13:41:11,161] Trial 33 finished with value: 0.8056122448979591 and parameters: {'n_estimators': 600, 'depth': 10, 'learning_rate': 0.03482815858896209, 'l2_leaf_reg': 4.2637354922702295, 'subsample': 0.9681012434424354}. Best is trial 21 with value: 0.8263605442176871.\n",
      "[I 2025-10-02 13:41:18,930] Trial 34 finished with value: 0.7933673469387755 and parameters: {'n_estimators': 800, 'depth': 10, 'learning_rate': 0.02805749268245227, 'l2_leaf_reg': 4.898368550579829, 'subsample': 0.8267209493278237}. Best is trial 21 with value: 0.8263605442176871.\n",
      "[I 2025-10-02 13:41:21,125] Trial 35 finished with value: 0.7971938775510204 and parameters: {'n_estimators': 400, 'depth': 9, 'learning_rate': 0.04350113007749981, 'l2_leaf_reg': 4.549690662619362, 'subsample': 0.9162340913755613}. Best is trial 21 with value: 0.8263605442176871.\n",
      "[I 2025-10-02 13:41:36,289] Trial 36 finished with value: 0.8017006802721088 and parameters: {'n_estimators': 1200, 'depth': 10, 'learning_rate': 0.024607338312763773, 'l2_leaf_reg': 3.1154615183816956, 'subsample': 0.7934446071689982}. Best is trial 21 with value: 0.8263605442176871.\n",
      "[I 2025-10-02 13:41:47,869] Trial 37 finished with value: 0.7930272108843538 and parameters: {'n_estimators': 1000, 'depth': 5, 'learning_rate': 0.05498521576456734, 'l2_leaf_reg': 3.7561502142031413, 'subsample': 0.7138711226351335}. Best is trial 21 with value: 0.8263605442176871.\n",
      "[I 2025-10-02 13:42:08,579] Trial 38 finished with value: 0.8099489795918368 and parameters: {'n_estimators': 600, 'depth': 10, 'learning_rate': 0.035215006295126125, 'l2_leaf_reg': 1.0441502900234827, 'subsample': 0.86419985504989}. Best is trial 21 with value: 0.8263605442176871.\n",
      "[I 2025-10-02 13:42:13,070] Trial 39 finished with value: 0.8055272108843538 and parameters: {'n_estimators': 800, 'depth': 6, 'learning_rate': 0.07038030599072732, 'l2_leaf_reg': 2.404601000700456, 'subsample': 0.9060714973266984}. Best is trial 21 with value: 0.8263605442176871.\n"
     ]
    }
   ],
   "source": [
    "# === Gọi ví dụ:\n",
    "out_lgbm = optuna_tune_simple(\"lgbm\", X_train, y_train, n_trials=50, scoring=\"accuracy\")\n",
    "out_cat  = optuna_tune_simple(\"cat\",  X_train, y_train)"
   ]
  },
  {
   "cell_type": "code",
   "execution_count": 31,
   "id": "65ede63bf842bc5a",
   "metadata": {
    "ExecuteTime": {
     "end_time": "2025-10-02T06:43:25.519775Z",
     "start_time": "2025-10-02T06:42:35.541767Z"
    }
   },
   "outputs": [
    {
     "name": "stderr",
     "output_type": "stream",
     "text": [
      "[I 2025-10-02 13:42:35,697] A new study created in memory with name: xgb_simple\n",
      "[I 2025-10-02 13:42:41,428] Trial 0 finished with value: 0.7972789115646258 and parameters: {'n_estimators': 900, 'max_depth': 5, 'learning_rate': 0.02053968367219193, 'subsample': 0.7315237366095565, 'colsample_bytree': 0.9261099549174255, 'reg_alpha': 0.5761406258911163, 'reg_lambda': 0.618994862774295}. Best is trial 0 with value: 0.7972789115646258.\n",
      "[I 2025-10-02 13:42:43,769] Trial 1 finished with value: 0.8013605442176871 and parameters: {'n_estimators': 700, 'max_depth': 7, 'learning_rate': 0.09528007633950394, 'subsample': 0.8609195769274559, 'colsample_bytree': 0.8946291419486162, 'reg_alpha': 0.9964898111478593, 'reg_lambda': 1.4482586179778938}. Best is trial 1 with value: 0.8013605442176871.\n",
      "[I 2025-10-02 13:42:57,309] Trial 2 finished with value: 0.78078231292517 and parameters: {'n_estimators': 900, 'max_depth': 7, 'learning_rate': 0.16527285740317332, 'subsample': 0.8715433405873897, 'colsample_bytree': 0.7951115829542355, 'reg_alpha': 0.17951374412549803, 'reg_lambda': 1.2027877397602609}. Best is trial 1 with value: 0.8013605442176871.\n",
      "[I 2025-10-02 13:42:59,711] Trial 3 finished with value: 0.7971938775510204 and parameters: {'n_estimators': 1000, 'max_depth': 3, 'learning_rate': 0.11952427767418017, 'subsample': 0.9061739187500861, 'colsample_bytree': 0.9745778355015478, 'reg_alpha': 0.3117166356452702, 'reg_lambda': 0.5998873456707383}. Best is trial 1 with value: 0.8013605442176871.\n",
      "[I 2025-10-02 13:43:00,055] Trial 4 finished with value: 0.7971938775510204 and parameters: {'n_estimators': 600, 'max_depth': 7, 'learning_rate': 0.13833539869419437, 'subsample': 0.7650114507619266, 'colsample_bytree': 0.7867586216695308, 'reg_alpha': 0.6940731181853977, 'reg_lambda': 0.8722865903593048}. Best is trial 1 with value: 0.8013605442176871.\n",
      "[I 2025-10-02 13:43:00,543] Trial 5 finished with value: 0.7930272108843537 and parameters: {'n_estimators': 800, 'max_depth': 5, 'learning_rate': 0.09486450979457342, 'subsample': 0.880149065974884, 'colsample_bytree': 0.7333089777665625, 'reg_alpha': 0.9648382022893676, 'reg_lambda': 1.520920619547646}. Best is trial 1 with value: 0.8013605442176871.\n",
      "[I 2025-10-02 13:43:00,831] Trial 6 finished with value: 0.8096938775510203 and parameters: {'n_estimators': 500, 'max_depth': 3, 'learning_rate': 0.0242339694175789, 'subsample': 0.7058833598141248, 'colsample_bytree': 0.8311320575141556, 'reg_alpha': 0.7186985376723445, 'reg_lambda': 1.7554381959697745}. Best is trial 6 with value: 0.8096938775510203.\n",
      "[I 2025-10-02 13:43:01,123] Trial 7 finished with value: 0.7847789115646259 and parameters: {'n_estimators': 600, 'max_depth': 5, 'learning_rate': 0.06072251527361116, 'subsample': 0.889410559603399, 'colsample_bytree': 0.7427221002483094, 'reg_alpha': 0.04404748559718541, 'reg_lambda': 1.7187917538522144}. Best is trial 6 with value: 0.8096938775510203.\n",
      "[I 2025-10-02 13:43:01,489] Trial 8 finished with value: 0.7931122448979592 and parameters: {'n_estimators': 700, 'max_depth': 7, 'learning_rate': 0.05138102356601726, 'subsample': 0.8615225490122718, 'colsample_bytree': 0.7258946511385368, 'reg_alpha': 0.3869975247406843, 'reg_lambda': 1.2720796597845054}. Best is trial 6 with value: 0.8096938775510203.\n",
      "[I 2025-10-02 13:43:01,838] Trial 9 finished with value: 0.8139455782312925 and parameters: {'n_estimators': 700, 'max_depth': 6, 'learning_rate': 0.04361789442938584, 'subsample': 0.7948574083363877, 'colsample_bytree': 0.7574706679753024, 'reg_alpha': 0.1964367107224082, 'reg_lambda': 0.522249387534729}. Best is trial 9 with value: 0.8139455782312925.\n",
      "[I 2025-10-02 13:43:02,139] Trial 10 finished with value: 0.7808673469387755 and parameters: {'n_estimators': 300, 'max_depth': 8, 'learning_rate': 0.036951978632465556, 'subsample': 0.9931614452923676, 'colsample_bytree': 0.8684137572185671, 'reg_alpha': 0.00481433565316397, 'reg_lambda': 0.9440501333228113}. Best is trial 9 with value: 0.8139455782312925.\n",
      "[I 2025-10-02 13:43:02,390] Trial 11 finished with value: 0.8178571428571428 and parameters: {'n_estimators': 400, 'max_depth': 3, 'learning_rate': 0.025872958464223394, 'subsample': 0.7754210995329939, 'colsample_bytree': 0.8263578422159973, 'reg_alpha': 0.7323015361775727, 'reg_lambda': 1.9884456733217881}. Best is trial 11 with value: 0.8178571428571428.\n",
      "[I 2025-10-02 13:43:02,602] Trial 12 finished with value: 0.8179421768707483 and parameters: {'n_estimators': 400, 'max_depth': 4, 'learning_rate': 0.0343796329533941, 'subsample': 0.7929390753158365, 'colsample_bytree': 0.7980976532947479, 'reg_alpha': 0.7875345499638495, 'reg_lambda': 1.9731171627749524}. Best is trial 12 with value: 0.8179421768707483.\n",
      "[I 2025-10-02 13:43:02,753] Trial 13 finished with value: 0.8056122448979591 and parameters: {'n_estimators': 300, 'max_depth': 4, 'learning_rate': 0.031165397220296136, 'subsample': 0.8030465083239665, 'colsample_bytree': 0.8192065124902785, 'reg_alpha': 0.7920815514333757, 'reg_lambda': 1.9571834075045265}. Best is trial 12 with value: 0.8179421768707483.\n",
      "[I 2025-10-02 13:43:02,954] Trial 14 finished with value: 0.8096938775510203 and parameters: {'n_estimators': 400, 'max_depth': 4, 'learning_rate': 0.029087126379833725, 'subsample': 0.8138672898362787, 'colsample_bytree': 0.8521849521700409, 'reg_alpha': 0.8350223025691756, 'reg_lambda': 1.985227925498788}. Best is trial 12 with value: 0.8179421768707483.\n",
      "[I 2025-10-02 13:43:03,152] Trial 15 finished with value: 0.801530612244898 and parameters: {'n_estimators': 400, 'max_depth': 4, 'learning_rate': 0.03942206807798253, 'subsample': 0.7571041345357805, 'colsample_bytree': 0.7821799306802698, 'reg_alpha': 0.5533969257948973, 'reg_lambda': 1.7852573843171655}. Best is trial 12 with value: 0.8179421768707483.\n",
      "[I 2025-10-02 13:43:03,356] Trial 16 finished with value: 0.8013605442176871 and parameters: {'n_estimators': 500, 'max_depth': 3, 'learning_rate': 0.027067401295061046, 'subsample': 0.8245145608544081, 'colsample_bytree': 0.8945718393644885, 'reg_alpha': 0.8569177058324075, 'reg_lambda': 1.567426975429499}. Best is trial 12 with value: 0.8179421768707483.\n",
      "[I 2025-10-02 13:43:03,541] Trial 17 finished with value: 0.7930272108843537 and parameters: {'n_estimators': 400, 'max_depth': 4, 'learning_rate': 0.0730497278801139, 'subsample': 0.930010553920011, 'colsample_bytree': 0.7073526825763903, 'reg_alpha': 0.6808517543137155, 'reg_lambda': 1.8404235212520115}. Best is trial 12 with value: 0.8179421768707483.\n",
      "[I 2025-10-02 13:43:03,788] Trial 18 finished with value: 0.8096938775510203 and parameters: {'n_estimators': 500, 'max_depth': 3, 'learning_rate': 0.021115181096677548, 'subsample': 0.7767051467516, 'colsample_bytree': 0.8166634860409887, 'reg_alpha': 0.4562945954837648, 'reg_lambda': 1.6423862982520563}. Best is trial 12 with value: 0.8179421768707483.\n",
      "[I 2025-10-02 13:43:03,994] Trial 19 finished with value: 0.8096088435374149 and parameters: {'n_estimators': 300, 'max_depth': 4, 'learning_rate': 0.03402851349512234, 'subsample': 0.7361898715367651, 'colsample_bytree': 0.9436613525714834, 'reg_alpha': 0.615383208675748, 'reg_lambda': 1.3862344556690083}. Best is trial 12 with value: 0.8179421768707483.\n",
      "[I 2025-10-02 13:43:04,260] Trial 20 finished with value: 0.8097789115646258 and parameters: {'n_estimators': 400, 'max_depth': 6, 'learning_rate': 0.04948111439073802, 'subsample': 0.8293308984955369, 'colsample_bytree': 0.8732605582155141, 'reg_alpha': 0.9015336534716634, 'reg_lambda': 1.8808064997054423}. Best is trial 12 with value: 0.8179421768707483.\n",
      "[I 2025-10-02 13:43:04,585] Trial 21 finished with value: 0.7971938775510204 and parameters: {'n_estimators': 600, 'max_depth': 6, 'learning_rate': 0.04528389705143733, 'subsample': 0.7827299327766569, 'colsample_bytree': 0.7636258538531083, 'reg_alpha': 0.2792119485143036, 'reg_lambda': 1.0191815205666517}. Best is trial 12 with value: 0.8179421768707483.\n",
      "[I 2025-10-02 13:43:04,953] Trial 22 finished with value: 0.7972789115646258 and parameters: {'n_estimators': 800, 'max_depth': 6, 'learning_rate': 0.04068289924719727, 'subsample': 0.7928574944339076, 'colsample_bytree': 0.7781432237345135, 'reg_alpha': 0.12922806218263988, 'reg_lambda': 0.7567363528981763}. Best is trial 12 with value: 0.8179421768707483.\n",
      "[I 2025-10-02 13:43:05,207] Trial 23 finished with value: 0.7931122448979592 and parameters: {'n_estimators': 500, 'max_depth': 5, 'learning_rate': 0.06064160824559475, 'subsample': 0.7466232966327244, 'colsample_bytree': 0.7530177529013, 'reg_alpha': 0.7627727209258053, 'reg_lambda': 1.1007249399770975}. Best is trial 12 with value: 0.8179421768707483.\n",
      "[I 2025-10-02 13:43:05,509] Trial 24 finished with value: 0.8096088435374149 and parameters: {'n_estimators': 700, 'max_depth': 3, 'learning_rate': 0.02495336577116545, 'subsample': 0.8341483281794922, 'colsample_bytree': 0.8030187629677209, 'reg_alpha': 0.4198767579402618, 'reg_lambda': 0.5298263189577128}. Best is trial 12 with value: 0.8179421768707483.\n",
      "[I 2025-10-02 13:43:06,217] Trial 25 finished with value: 0.7973639455782313 and parameters: {'n_estimators': 800, 'max_depth': 6, 'learning_rate': 0.03423062644921628, 'subsample': 0.7054365471433827, 'colsample_bytree': 0.8364639208581599, 'reg_alpha': 0.6155719741142611, 'reg_lambda': 0.7894426663447902}. Best is trial 12 with value: 0.8179421768707483.\n",
      "[I 2025-10-02 13:43:06,505] Trial 26 finished with value: 0.7930272108843537 and parameters: {'n_estimators': 600, 'max_depth': 8, 'learning_rate': 0.07617806394868931, 'subsample': 0.797228207889717, 'colsample_bytree': 0.7674407857520251, 'reg_alpha': 0.5245330187470807, 'reg_lambda': 1.9921920851340458}. Best is trial 12 with value: 0.8179421768707483.\n",
      "[I 2025-10-02 13:43:06,785] Trial 27 finished with value: 0.7971938775510204 and parameters: {'n_estimators': 400, 'max_depth': 4, 'learning_rate': 0.045058847719421875, 'subsample': 0.8426723970094899, 'colsample_bytree': 0.7127191168496811, 'reg_alpha': 0.9083014012070489, 'reg_lambda': 1.6489638169251415}. Best is trial 12 with value: 0.8179421768707483.\n",
      "[I 2025-10-02 13:43:07,188] Trial 28 finished with value: 0.7973639455782313 and parameters: {'n_estimators': 500, 'max_depth': 5, 'learning_rate': 0.028821263482244987, 'subsample': 0.7658803815452301, 'colsample_bytree': 0.8048221800173861, 'reg_alpha': 0.21005762723721202, 'reg_lambda': 1.3194581704581487}. Best is trial 12 with value: 0.8179421768707483.\n",
      "[I 2025-10-02 13:43:07,502] Trial 29 finished with value: 0.8179421768707481 and parameters: {'n_estimators': 900, 'max_depth': 3, 'learning_rate': 0.020662523404433353, 'subsample': 0.731073037477002, 'colsample_bytree': 0.8456415567982503, 'reg_alpha': 0.6305153280138184, 'reg_lambda': 1.1561204643352492}. Best is trial 12 with value: 0.8179421768707483.\n",
      "[I 2025-10-02 13:43:07,894] Trial 30 finished with value: 0.8137755102040817 and parameters: {'n_estimators': 1000, 'max_depth': 3, 'learning_rate': 0.020787887766609114, 'subsample': 0.7195677926791612, 'colsample_bytree': 0.9163961517334855, 'reg_alpha': 0.6163270675347277, 'reg_lambda': 1.1397470077386318}. Best is trial 12 with value: 0.8179421768707483.\n",
      "[I 2025-10-02 13:43:08,377] Trial 31 finished with value: 0.8055272108843538 and parameters: {'n_estimators': 900, 'max_depth': 3, 'learning_rate': 0.02362879788770238, 'subsample': 0.7479522866854073, 'colsample_bytree': 0.8616984088069497, 'reg_alpha': 0.7436477503386221, 'reg_lambda': 0.6946579206970617}. Best is trial 12 with value: 0.8179421768707483.\n",
      "[I 2025-10-02 13:43:08,821] Trial 32 finished with value: 0.8096088435374149 and parameters: {'n_estimators': 800, 'max_depth': 4, 'learning_rate': 0.02079921237776344, 'subsample': 0.7294629925673463, 'colsample_bytree': 0.8368372128322121, 'reg_alpha': 0.6614943392694519, 'reg_lambda': 1.8598866374487548}. Best is trial 12 with value: 0.8179421768707483.\n",
      "[I 2025-10-02 13:43:09,225] Trial 33 finished with value: 0.7972789115646258 and parameters: {'n_estimators': 900, 'max_depth': 3, 'learning_rate': 0.03200687635108818, 'subsample': 0.7797162364040268, 'colsample_bytree': 0.8903799346825758, 'reg_alpha': 0.4788160413326593, 'reg_lambda': 1.474061940504182}. Best is trial 12 with value: 0.8179421768707483.\n",
      "[I 2025-10-02 13:43:09,602] Trial 34 finished with value: 0.8055272108843538 and parameters: {'n_estimators': 700, 'max_depth': 5, 'learning_rate': 0.025997533285129822, 'subsample': 0.8148474320910685, 'colsample_bytree': 0.8181513812723495, 'reg_alpha': 0.8077271899054221, 'reg_lambda': 1.3975607630648434}. Best is trial 12 with value: 0.8179421768707483.\n",
      "[I 2025-10-02 13:43:10,197] Trial 35 finished with value: 0.8056972789115646 and parameters: {'n_estimators': 1000, 'max_depth': 3, 'learning_rate': 0.037529684032473205, 'subsample': 0.7260345830115327, 'colsample_bytree': 0.7987783035403376, 'reg_alpha': 0.3311688328662521, 'reg_lambda': 0.9932207807799719}. Best is trial 12 with value: 0.8179421768707483.\n",
      "[I 2025-10-02 13:43:15,215] Trial 36 finished with value: 0.7973639455782313 and parameters: {'n_estimators': 300, 'max_depth': 4, 'learning_rate': 0.18495369497576566, 'subsample': 0.7673462587335679, 'colsample_bytree': 0.7513711037208894, 'reg_alpha': 0.5799510207723524, 'reg_lambda': 0.5082445386567928}. Best is trial 12 with value: 0.8179421768707483.\n",
      "[I 2025-10-02 13:43:15,666] Trial 37 finished with value: 0.8098639455782312 and parameters: {'n_estimators': 800, 'max_depth': 7, 'learning_rate': 0.022445898847312927, 'subsample': 0.7425087124442512, 'colsample_bytree': 0.8409236624691045, 'reg_alpha': 0.6667055986804995, 'reg_lambda': 0.6395092729169012}. Best is trial 12 with value: 0.8179421768707483.\n",
      "[I 2025-10-02 13:43:15,881] Trial 38 finished with value: 0.8013605442176871 and parameters: {'n_estimators': 600, 'max_depth': 3, 'learning_rate': 0.054359081491739375, 'subsample': 0.8052323403737071, 'colsample_bytree': 0.9827125849972428, 'reg_alpha': 0.7358842488657439, 'reg_lambda': 1.2130186894877262}. Best is trial 12 with value: 0.8179421768707483.\n",
      "[I 2025-10-02 13:43:16,273] Trial 39 finished with value: 0.8097789115646258 and parameters: {'n_estimators': 900, 'max_depth': 7, 'learning_rate': 0.028855863295579553, 'subsample': 0.7162032239949573, 'colsample_bytree': 0.7765607087211166, 'reg_alpha': 0.9799136007913948, 'reg_lambda': 0.8776056242059911}. Best is trial 12 with value: 0.8179421768707483.\n"
     ]
    }
   ],
   "source": [
    "out_xgb  = optuna_tune_simple(\"xgb\",  X_train, y_train)"
   ]
  },
  {
   "cell_type": "code",
   "execution_count": 26,
   "id": "3a50d76b845893a0",
   "metadata": {
    "ExecuteTime": {
     "end_time": "2025-10-02T06:36:27.288243Z",
     "start_time": "2025-10-02T06:31:23.566944Z"
    }
   },
   "outputs": [
    {
     "name": "stderr",
     "output_type": "stream",
     "text": [
      "[I 2025-10-02 13:31:23,568] A new study created in memory with name: rf_simple\n",
      "[I 2025-10-02 13:31:25,778] Trial 0 finished with value: 0.8180272108843537 and parameters: {'n_estimators': 300, 'max_depth': 20, 'min_samples_split': 5, 'min_samples_leaf': 3}. Best is trial 0 with value: 0.8180272108843537.\n",
      "[I 2025-10-02 13:31:28,279] Trial 1 finished with value: 0.8180272108843537 and parameters: {'n_estimators': 300, 'max_depth': 30, 'min_samples_split': 3, 'min_samples_leaf': 3}. Best is trial 0 with value: 0.8180272108843537.\n",
      "[I 2025-10-02 13:31:38,759] Trial 2 finished with value: 0.8179421768707481 and parameters: {'n_estimators': 900, 'max_depth': 20, 'min_samples_split': 9, 'min_samples_leaf': 2}. Best is trial 0 with value: 0.8180272108843537.\n",
      "[I 2025-10-02 13:31:44,161] Trial 3 finished with value: 0.8096938775510203 and parameters: {'n_estimators': 900, 'max_depth': None, 'min_samples_split': 10, 'min_samples_leaf': 3}. Best is trial 0 with value: 0.8180272108843537.\n",
      "[I 2025-10-02 13:31:47,769] Trial 4 finished with value: 0.8096938775510203 and parameters: {'n_estimators': 600, 'max_depth': None, 'min_samples_split': 7, 'min_samples_leaf': 3}. Best is trial 0 with value: 0.8180272108843537.\n",
      "[I 2025-10-02 13:31:51,415] Trial 5 finished with value: 0.8180272108843537 and parameters: {'n_estimators': 600, 'max_depth': 12, 'min_samples_split': 8, 'min_samples_leaf': 3}. Best is trial 0 with value: 0.8180272108843537.\n",
      "[I 2025-10-02 13:31:53,331] Trial 6 finished with value: 0.8220238095238095 and parameters: {'n_estimators': 300, 'max_depth': 30, 'min_samples_split': 10, 'min_samples_leaf': 1}. Best is trial 6 with value: 0.8220238095238095.\n",
      "[I 2025-10-02 13:31:59,100] Trial 7 finished with value: 0.8221938775510204 and parameters: {'n_estimators': 900, 'max_depth': 12, 'min_samples_split': 7, 'min_samples_leaf': 1}. Best is trial 7 with value: 0.8221938775510204.\n",
      "[I 2025-10-02 13:32:04,478] Trial 8 finished with value: 0.8180272108843537 and parameters: {'n_estimators': 900, 'max_depth': None, 'min_samples_split': 4, 'min_samples_leaf': 3}. Best is trial 7 with value: 0.8221938775510204.\n",
      "[I 2025-10-02 13:32:09,902] Trial 9 finished with value: 0.8221088435374149 and parameters: {'n_estimators': 900, 'max_depth': 20, 'min_samples_split': 8, 'min_samples_leaf': 4}. Best is trial 7 with value: 0.8221938775510204.\n",
      "[I 2025-10-02 13:32:13,658] Trial 10 finished with value: 0.8056122448979591 and parameters: {'n_estimators': 600, 'max_depth': 12, 'min_samples_split': 2, 'min_samples_leaf': 1}. Best is trial 7 with value: 0.8221938775510204.\n",
      "[I 2025-10-02 13:32:19,182] Trial 11 finished with value: 0.8221088435374149 and parameters: {'n_estimators': 900, 'max_depth': 20, 'min_samples_split': 6, 'min_samples_leaf': 4}. Best is trial 7 with value: 0.8221938775510204.\n",
      "[I 2025-10-02 13:32:24,682] Trial 12 finished with value: 0.8221088435374149 and parameters: {'n_estimators': 900, 'max_depth': 12, 'min_samples_split': 7, 'min_samples_leaf': 4}. Best is trial 7 with value: 0.8221938775510204.\n",
      "[I 2025-10-02 13:32:30,410] Trial 13 finished with value: 0.8138605442176872 and parameters: {'n_estimators': 900, 'max_depth': 12, 'min_samples_split': 8, 'min_samples_leaf': 2}. Best is trial 7 with value: 0.8221938775510204.\n",
      "[I 2025-10-02 13:32:34,140] Trial 14 finished with value: 0.8179421768707481 and parameters: {'n_estimators': 600, 'max_depth': 20, 'min_samples_split': 6, 'min_samples_leaf': 1}. Best is trial 7 with value: 0.8221938775510204.\n",
      "[I 2025-10-02 13:32:40,983] Trial 15 finished with value: 0.8138605442176872 and parameters: {'n_estimators': 900, 'max_depth': 12, 'min_samples_split': 8, 'min_samples_leaf': 2}. Best is trial 7 with value: 0.8221938775510204.\n",
      "[I 2025-10-02 13:32:46,684] Trial 16 finished with value: 0.8138605442176872 and parameters: {'n_estimators': 600, 'max_depth': 20, 'min_samples_split': 5, 'min_samples_leaf': 4}. Best is trial 7 with value: 0.8221938775510204.\n",
      "[I 2025-10-02 13:32:54,504] Trial 17 finished with value: 0.8180272108843537 and parameters: {'n_estimators': 900, 'max_depth': 30, 'min_samples_split': 7, 'min_samples_leaf': 2}. Best is trial 7 with value: 0.8221938775510204.\n",
      "[I 2025-10-02 13:33:02,258] Trial 18 finished with value: 0.8138605442176872 and parameters: {'n_estimators': 900, 'max_depth': 20, 'min_samples_split': 5, 'min_samples_leaf': 1}. Best is trial 7 with value: 0.8221938775510204.\n",
      "[I 2025-10-02 13:33:09,381] Trial 19 finished with value: 0.8056122448979591 and parameters: {'n_estimators': 600, 'max_depth': 12, 'min_samples_split': 9, 'min_samples_leaf': 4}. Best is trial 7 with value: 0.8221938775510204.\n",
      "[I 2025-10-02 13:33:16,537] Trial 20 finished with value: 0.8137755102040816 and parameters: {'n_estimators': 600, 'max_depth': 12, 'min_samples_split': 9, 'min_samples_leaf': 2}. Best is trial 7 with value: 0.8221938775510204.\n",
      "[I 2025-10-02 13:33:25,413] Trial 21 finished with value: 0.8221088435374149 and parameters: {'n_estimators': 900, 'max_depth': 20, 'min_samples_split': 6, 'min_samples_leaf': 4}. Best is trial 7 with value: 0.8221938775510204.\n",
      "[I 2025-10-02 13:33:31,425] Trial 22 finished with value: 0.8221088435374149 and parameters: {'n_estimators': 900, 'max_depth': 20, 'min_samples_split': 7, 'min_samples_leaf': 4}. Best is trial 7 with value: 0.8221938775510204.\n",
      "[I 2025-10-02 13:33:38,347] Trial 23 finished with value: 0.8221088435374149 and parameters: {'n_estimators': 900, 'max_depth': 20, 'min_samples_split': 6, 'min_samples_leaf': 4}. Best is trial 7 with value: 0.8221938775510204.\n",
      "[I 2025-10-02 13:33:44,878] Trial 24 finished with value: 0.8221088435374149 and parameters: {'n_estimators': 900, 'max_depth': 20, 'min_samples_split': 8, 'min_samples_leaf': 4}. Best is trial 7 with value: 0.8221938775510204.\n",
      "[I 2025-10-02 13:33:52,854] Trial 25 finished with value: 0.8221088435374149 and parameters: {'n_estimators': 900, 'max_depth': 20, 'min_samples_split': 4, 'min_samples_leaf': 4}. Best is trial 7 with value: 0.8221938775510204.\n",
      "[I 2025-10-02 13:34:00,822] Trial 26 finished with value: 0.8138605442176872 and parameters: {'n_estimators': 900, 'max_depth': 30, 'min_samples_split': 7, 'min_samples_leaf': 3}. Best is trial 7 with value: 0.8221938775510204.\n",
      "[I 2025-10-02 13:34:07,803] Trial 27 finished with value: 0.8179421768707481 and parameters: {'n_estimators': 600, 'max_depth': None, 'min_samples_split': 6, 'min_samples_leaf': 1}. Best is trial 7 with value: 0.8221938775510204.\n",
      "[I 2025-10-02 13:34:13,347] Trial 28 finished with value: 0.8221088435374149 and parameters: {'n_estimators': 900, 'max_depth': 20, 'min_samples_split': 5, 'min_samples_leaf': 4}. Best is trial 7 with value: 0.8221938775510204.\n",
      "[I 2025-10-02 13:34:15,270] Trial 29 finished with value: 0.8180272108843537 and parameters: {'n_estimators': 300, 'max_depth': 20, 'min_samples_split': 4, 'min_samples_leaf': 3}. Best is trial 7 with value: 0.8221938775510204.\n",
      "[I 2025-10-02 13:34:20,613] Trial 30 finished with value: 0.8055272108843538 and parameters: {'n_estimators': 900, 'max_depth': 12, 'min_samples_split': 6, 'min_samples_leaf': 2}. Best is trial 7 with value: 0.8221938775510204.\n",
      "[I 2025-10-02 13:34:26,144] Trial 31 finished with value: 0.8221088435374149 and parameters: {'n_estimators': 900, 'max_depth': 12, 'min_samples_split': 7, 'min_samples_leaf': 4}. Best is trial 7 with value: 0.8221938775510204.\n",
      "[I 2025-10-02 13:34:32,051] Trial 32 finished with value: 0.8221088435374149 and parameters: {'n_estimators': 900, 'max_depth': 12, 'min_samples_split': 8, 'min_samples_leaf': 4}. Best is trial 7 with value: 0.8221938775510204.\n",
      "[I 2025-10-02 13:34:38,555] Trial 33 finished with value: 0.8221088435374149 and parameters: {'n_estimators': 900, 'max_depth': 12, 'min_samples_split': 7, 'min_samples_leaf': 4}. Best is trial 7 with value: 0.8221938775510204.\n",
      "[I 2025-10-02 13:34:46,577] Trial 34 finished with value: 0.8138605442176872 and parameters: {'n_estimators': 900, 'max_depth': 12, 'min_samples_split': 9, 'min_samples_leaf': 3}. Best is trial 7 with value: 0.8221938775510204.\n",
      "[I 2025-10-02 13:34:55,602] Trial 35 finished with value: 0.8221088435374149 and parameters: {'n_estimators': 900, 'max_depth': 30, 'min_samples_split': 6, 'min_samples_leaf': 4}. Best is trial 7 with value: 0.8221938775510204.\n",
      "[I 2025-10-02 13:35:02,833] Trial 36 finished with value: 0.8138605442176872 and parameters: {'n_estimators': 900, 'max_depth': None, 'min_samples_split': 9, 'min_samples_leaf': 3}. Best is trial 7 with value: 0.8221938775510204.\n",
      "[I 2025-10-02 13:35:08,474] Trial 37 finished with value: 0.8180272108843537 and parameters: {'n_estimators': 600, 'max_depth': 20, 'min_samples_split': 10, 'min_samples_leaf': 3}. Best is trial 7 with value: 0.8221938775510204.\n",
      "[I 2025-10-02 13:35:11,650] Trial 38 finished with value: 0.8180272108843537 and parameters: {'n_estimators': 300, 'max_depth': 12, 'min_samples_split': 7, 'min_samples_leaf': 4}. Best is trial 7 with value: 0.8221938775510204.\n",
      "[I 2025-10-02 13:35:16,506] Trial 39 finished with value: 0.8180272108843537 and parameters: {'n_estimators': 600, 'max_depth': None, 'min_samples_split': 8, 'min_samples_leaf': 3}. Best is trial 7 with value: 0.8221938775510204.\n",
      "[I 2025-10-02 13:35:17,821] A new study created in memory with name: gb_simple\n",
      "[I 2025-10-02 13:35:19,101] Trial 0 finished with value: 0.7685374149659864 and parameters: {'n_estimators': 200, 'learning_rate': 0.05351563997324441, 'max_depth': 3, 'min_samples_leaf': 1}. Best is trial 0 with value: 0.7685374149659864.\n",
      "[I 2025-10-02 13:35:20,639] Trial 1 finished with value: 0.7392857142857143 and parameters: {'n_estimators': 400, 'learning_rate': 0.06358523574568738, 'max_depth': 2, 'min_samples_leaf': 1}. Best is trial 0 with value: 0.7685374149659864.\n",
      "[I 2025-10-02 13:35:21,485] Trial 2 finished with value: 0.7393707482993197 and parameters: {'n_estimators': 200, 'learning_rate': 0.15350933007571685, 'max_depth': 2, 'min_samples_leaf': 1}. Best is trial 0 with value: 0.7685374149659864.\n",
      "[I 2025-10-02 13:35:27,720] Trial 3 finished with value: 0.743452380952381 and parameters: {'n_estimators': 800, 'learning_rate': 0.06964542045840064, 'max_depth': 5, 'min_samples_leaf': 2}. Best is trial 0 with value: 0.7685374149659864.\n",
      "[I 2025-10-02 13:35:28,621] Trial 4 finished with value: 0.7850340136054422 and parameters: {'n_estimators': 200, 'learning_rate': 0.03545963535486875, 'max_depth': 2, 'min_samples_leaf': 2}. Best is trial 4 with value: 0.7850340136054422.\n",
      "[I 2025-10-02 13:35:32,720] Trial 5 finished with value: 0.7642857142857142 and parameters: {'n_estimators': 600, 'learning_rate': 0.12816220643370785, 'max_depth': 4, 'min_samples_leaf': 1}. Best is trial 4 with value: 0.7850340136054422.\n",
      "[I 2025-10-02 13:35:34,961] Trial 6 finished with value: 0.7684523809523809 and parameters: {'n_estimators': 400, 'learning_rate': 0.05464614473302437, 'max_depth': 3, 'min_samples_leaf': 1}. Best is trial 4 with value: 0.7850340136054422.\n",
      "[I 2025-10-02 13:35:39,302] Trial 7 finished with value: 0.7560374149659863 and parameters: {'n_estimators': 600, 'learning_rate': 0.04140045984736496, 'max_depth': 4, 'min_samples_leaf': 3}. Best is trial 4 with value: 0.7850340136054422.\n",
      "[I 2025-10-02 13:35:44,053] Trial 8 finished with value: 0.7601190476190476 and parameters: {'n_estimators': 800, 'learning_rate': 0.1031692858415277, 'max_depth': 5, 'min_samples_leaf': 2}. Best is trial 4 with value: 0.7850340136054422.\n",
      "[I 2025-10-02 13:35:48,528] Trial 9 finished with value: 0.7520408163265306 and parameters: {'n_estimators': 800, 'learning_rate': 0.04239789938124291, 'max_depth': 3, 'min_samples_leaf': 2}. Best is trial 4 with value: 0.7850340136054422.\n",
      "[I 2025-10-02 13:35:49,367] Trial 10 finished with value: 0.7851190476190476 and parameters: {'n_estimators': 200, 'learning_rate': 0.030745869614353258, 'max_depth': 2, 'min_samples_leaf': 3}. Best is trial 10 with value: 0.7851190476190476.\n",
      "[I 2025-10-02 13:35:50,100] Trial 11 finished with value: 0.780952380952381 and parameters: {'n_estimators': 200, 'learning_rate': 0.033076968391057844, 'max_depth': 2, 'min_samples_leaf': 3}. Best is trial 10 with value: 0.7851190476190476.\n",
      "[I 2025-10-02 13:35:51,726] Trial 12 finished with value: 0.7767006802721088 and parameters: {'n_estimators': 400, 'learning_rate': 0.03153552156433664, 'max_depth': 2, 'min_samples_leaf': 3}. Best is trial 10 with value: 0.7851190476190476.\n",
      "[I 2025-10-02 13:35:52,488] Trial 13 finished with value: 0.7892006802721089 and parameters: {'n_estimators': 200, 'learning_rate': 0.030675437660877332, 'max_depth': 2, 'min_samples_leaf': 3}. Best is trial 13 with value: 0.7892006802721089.\n",
      "[I 2025-10-02 13:35:54,674] Trial 14 finished with value: 0.7438775510204081 and parameters: {'n_estimators': 400, 'learning_rate': 0.0962830027420332, 'max_depth': 3, 'min_samples_leaf': 3}. Best is trial 13 with value: 0.7892006802721089.\n",
      "[I 2025-10-02 13:35:55,526] Trial 15 finished with value: 0.7600340136054422 and parameters: {'n_estimators': 200, 'learning_rate': 0.19977772665383872, 'max_depth': 2, 'min_samples_leaf': 3}. Best is trial 13 with value: 0.7892006802721089.\n",
      "[I 2025-10-02 13:35:56,901] Trial 16 finished with value: 0.7768707482993198 and parameters: {'n_estimators': 200, 'learning_rate': 0.04997487923749679, 'max_depth': 4, 'min_samples_leaf': 3}. Best is trial 13 with value: 0.7892006802721089.\n",
      "[I 2025-10-02 13:35:59,942] Trial 17 finished with value: 0.7437074829931973 and parameters: {'n_estimators': 600, 'learning_rate': 0.04499521501890725, 'max_depth': 3, 'min_samples_leaf': 3}. Best is trial 13 with value: 0.7892006802721089.\n",
      "[I 2025-10-02 13:36:01,421] Trial 18 finished with value: 0.7602040816326531 and parameters: {'n_estimators': 400, 'learning_rate': 0.030596782117644584, 'max_depth': 2, 'min_samples_leaf': 2}. Best is trial 13 with value: 0.7892006802721089.\n",
      "[I 2025-10-02 13:36:02,488] Trial 19 finished with value: 0.7520408163265306 and parameters: {'n_estimators': 200, 'learning_rate': 0.0831771997385008, 'max_depth': 3, 'min_samples_leaf': 3}. Best is trial 13 with value: 0.7892006802721089.\n",
      "[I 2025-10-02 13:36:03,978] Trial 20 finished with value: 0.7683673469387756 and parameters: {'n_estimators': 400, 'learning_rate': 0.03748383990946024, 'max_depth': 2, 'min_samples_leaf': 3}. Best is trial 13 with value: 0.7892006802721089.\n",
      "[I 2025-10-02 13:36:04,792] Trial 21 finished with value: 0.7891156462585035 and parameters: {'n_estimators': 200, 'learning_rate': 0.03594462628993408, 'max_depth': 2, 'min_samples_leaf': 2}. Best is trial 13 with value: 0.7892006802721089.\n",
      "[I 2025-10-02 13:36:05,501] Trial 22 finished with value: 0.7973639455782313 and parameters: {'n_estimators': 200, 'learning_rate': 0.037557796897093335, 'max_depth': 2, 'min_samples_leaf': 2}. Best is trial 22 with value: 0.7973639455782313.\n",
      "[I 2025-10-02 13:36:06,376] Trial 23 finished with value: 0.8056972789115646 and parameters: {'n_estimators': 200, 'learning_rate': 0.041604611269339564, 'max_depth': 2, 'min_samples_leaf': 2}. Best is trial 23 with value: 0.8056972789115646.\n",
      "[I 2025-10-02 13:36:07,439] Trial 24 finished with value: 0.7850340136054422 and parameters: {'n_estimators': 200, 'learning_rate': 0.060609571502469664, 'max_depth': 3, 'min_samples_leaf': 2}. Best is trial 23 with value: 0.8056972789115646.\n",
      "[I 2025-10-02 13:36:09,062] Trial 25 finished with value: 0.7435374149659864 and parameters: {'n_estimators': 400, 'learning_rate': 0.04504700769640942, 'max_depth': 2, 'min_samples_leaf': 2}. Best is trial 23 with value: 0.8056972789115646.\n",
      "[I 2025-10-02 13:36:10,116] Trial 26 finished with value: 0.7725340136054422 and parameters: {'n_estimators': 200, 'learning_rate': 0.038662430762703724, 'max_depth': 3, 'min_samples_leaf': 2}. Best is trial 23 with value: 0.8056972789115646.\n",
      "[I 2025-10-02 13:36:11,711] Trial 27 finished with value: 0.7475340136054421 and parameters: {'n_estimators': 400, 'learning_rate': 0.04856788112381196, 'max_depth': 2, 'min_samples_leaf': 2}. Best is trial 23 with value: 0.8056972789115646.\n",
      "[I 2025-10-02 13:36:13,188] Trial 28 finished with value: 0.7851190476190475 and parameters: {'n_estimators': 200, 'learning_rate': 0.03741186558838147, 'max_depth': 4, 'min_samples_leaf': 2}. Best is trial 23 with value: 0.8056972789115646.\n",
      "[I 2025-10-02 13:36:13,957] Trial 29 finished with value: 0.7849489795918367 and parameters: {'n_estimators': 200, 'learning_rate': 0.05442711399945289, 'max_depth': 2, 'min_samples_leaf': 1}. Best is trial 23 with value: 0.8056972789115646.\n",
      "[I 2025-10-02 13:36:17,097] Trial 30 finished with value: 0.7312074829931973 and parameters: {'n_estimators': 600, 'learning_rate': 0.07520156082158748, 'max_depth': 3, 'min_samples_leaf': 2}. Best is trial 23 with value: 0.8056972789115646.\n",
      "[I 2025-10-02 13:36:17,910] Trial 31 finished with value: 0.7974489795918367 and parameters: {'n_estimators': 200, 'learning_rate': 0.03621647475173072, 'max_depth': 2, 'min_samples_leaf': 2}. Best is trial 23 with value: 0.8056972789115646.\n",
      "[I 2025-10-02 13:36:18,629] Trial 32 finished with value: 0.7974489795918368 and parameters: {'n_estimators': 200, 'learning_rate': 0.041864526575766864, 'max_depth': 2, 'min_samples_leaf': 2}. Best is trial 23 with value: 0.8056972789115646.\n",
      "[I 2025-10-02 13:36:19,378] Trial 33 finished with value: 0.7851190476190476 and parameters: {'n_estimators': 200, 'learning_rate': 0.04834110950614415, 'max_depth': 2, 'min_samples_leaf': 2}. Best is trial 23 with value: 0.8056972789115646.\n",
      "[I 2025-10-02 13:36:20,134] Trial 34 finished with value: 0.7684523809523809 and parameters: {'n_estimators': 200, 'learning_rate': 0.06175555600710219, 'max_depth': 2, 'min_samples_leaf': 2}. Best is trial 23 with value: 0.8056972789115646.\n",
      "[I 2025-10-02 13:36:21,646] Trial 35 finished with value: 0.7601190476190476 and parameters: {'n_estimators': 400, 'learning_rate': 0.04148397502283196, 'max_depth': 2, 'min_samples_leaf': 2}. Best is trial 23 with value: 0.8056972789115646.\n",
      "[I 2025-10-02 13:36:22,430] Trial 36 finished with value: 0.7974489795918368 and parameters: {'n_estimators': 200, 'learning_rate': 0.056409124592211236, 'max_depth': 2, 'min_samples_leaf': 1}. Best is trial 23 with value: 0.8056972789115646.\n",
      "[I 2025-10-02 13:36:24,387] Trial 37 finished with value: 0.7601190476190476 and parameters: {'n_estimators': 200, 'learning_rate': 0.06577067523993956, 'max_depth': 5, 'min_samples_leaf': 1}. Best is trial 23 with value: 0.8056972789115646.\n",
      "[I 2025-10-02 13:36:26,367] Trial 38 finished with value: 0.7768707482993198 and parameters: {'n_estimators': 400, 'learning_rate': 0.057690162059511635, 'max_depth': 3, 'min_samples_leaf': 1}. Best is trial 23 with value: 0.8056972789115646.\n",
      "[I 2025-10-02 13:36:27,106] Trial 39 finished with value: 0.7891156462585034 and parameters: {'n_estimators': 200, 'learning_rate': 0.051471374563107866, 'max_depth': 2, 'min_samples_leaf': 1}. Best is trial 23 with value: 0.8056972789115646.\n"
     ]
    }
   ],
   "source": [
    "out_rf = optuna_tune_simple(\"rf\", X_train, y_train)\n",
    "out_gb = optuna_tune_simple('gb', X_train, y_train)"
   ]
  },
  {
   "cell_type": "code",
   "execution_count": 11,
   "id": "9beaa1f456bf8b95",
   "metadata": {
    "ExecuteTime": {
     "end_time": "2025-10-02T06:11:21.707314Z",
     "start_time": "2025-10-02T06:10:20.230603Z"
    }
   },
   "outputs": [
    {
     "name": "stderr",
     "output_type": "stream",
     "text": [
      "[I 2025-10-02 13:10:20,233] A new study created in memory with name: adb_simple\n",
      "[I 2025-10-02 13:10:39,503] Trial 0 finished with value: 0.8141156462585034 and parameters: {'n_estimators': 600, 'learning_rate': 0.05436236530386764}. Best is trial 0 with value: 0.8141156462585034.\n",
      "[I 2025-10-02 13:10:43,935] Trial 1 finished with value: 0.826530612244898 and parameters: {'n_estimators': 600, 'learning_rate': 0.03155881196279211}. Best is trial 1 with value: 0.826530612244898.\n",
      "[I 2025-10-02 13:10:48,736] Trial 2 finished with value: 0.789030612244898 and parameters: {'n_estimators': 800, 'learning_rate': 0.22265497018496705}. Best is trial 1 with value: 0.826530612244898.\n",
      "[I 2025-10-02 13:10:52,300] Trial 3 finished with value: 0.8017857142857144 and parameters: {'n_estimators': 600, 'learning_rate': 0.11050951327930099}. Best is trial 1 with value: 0.826530612244898.\n",
      "[I 2025-10-02 13:10:53,601] Trial 4 finished with value: 0.8058673469387754 and parameters: {'n_estimators': 600, 'learning_rate': 0.06830721571076172}. Best is trial 1 with value: 0.826530612244898.\n",
      "[I 2025-10-02 13:10:54,520] Trial 5 finished with value: 0.8223639455782313 and parameters: {'n_estimators': 400, 'learning_rate': 0.05384093848950886}. Best is trial 1 with value: 0.826530612244898.\n",
      "[I 2025-10-02 13:10:56,036] Trial 6 finished with value: 0.8017857142857142 and parameters: {'n_estimators': 600, 'learning_rate': 0.16148312662034717}. Best is trial 1 with value: 0.826530612244898.\n",
      "[I 2025-10-02 13:10:56,535] Trial 7 finished with value: 0.8017857142857142 and parameters: {'n_estimators': 200, 'learning_rate': 0.18936501454172652}. Best is trial 1 with value: 0.826530612244898.\n",
      "[I 2025-10-02 13:10:57,502] Trial 8 finished with value: 0.8264455782312925 and parameters: {'n_estimators': 200, 'learning_rate': 0.10748400782431335}. Best is trial 1 with value: 0.826530612244898.\n",
      "[I 2025-10-02 13:10:58,503] Trial 9 finished with value: 0.8017857142857144 and parameters: {'n_estimators': 400, 'learning_rate': 0.1800093226787081}. Best is trial 1 with value: 0.826530612244898.\n",
      "[I 2025-10-02 13:11:01,517] Trial 10 finished with value: 0.8223639455782313 and parameters: {'n_estimators': 800, 'learning_rate': 0.0302519347003077}. Best is trial 1 with value: 0.826530612244898.\n",
      "[I 2025-10-02 13:11:02,221] Trial 11 finished with value: 0.8388605442176871 and parameters: {'n_estimators': 200, 'learning_rate': 0.0319494023965763}. Best is trial 11 with value: 0.8388605442176871.\n",
      "[I 2025-10-02 13:11:03,091] Trial 12 finished with value: 0.8347789115646258 and parameters: {'n_estimators': 400, 'learning_rate': 0.03009556734548018}. Best is trial 11 with value: 0.8388605442176871.\n",
      "[I 2025-10-02 13:11:03,538] Trial 13 finished with value: 0.8347789115646258 and parameters: {'n_estimators': 200, 'learning_rate': 0.03788713564370808}. Best is trial 11 with value: 0.8388605442176871.\n",
      "[I 2025-10-02 13:11:04,432] Trial 14 finished with value: 0.8306972789115645 and parameters: {'n_estimators': 400, 'learning_rate': 0.043729679078739536}. Best is trial 11 with value: 0.8388605442176871.\n",
      "[I 2025-10-02 13:11:04,893] Trial 15 finished with value: 0.8306122448979592 and parameters: {'n_estimators': 200, 'learning_rate': 0.08274805426984799}. Best is trial 11 with value: 0.8388605442176871.\n",
      "[I 2025-10-02 13:11:05,730] Trial 16 finished with value: 0.8347789115646258 and parameters: {'n_estimators': 400, 'learning_rate': 0.04391584017121724}. Best is trial 11 with value: 0.8388605442176871.\n",
      "[I 2025-10-02 13:11:06,187] Trial 17 finished with value: 0.8347789115646258 and parameters: {'n_estimators': 200, 'learning_rate': 0.06038392346650341}. Best is trial 11 with value: 0.8388605442176871.\n",
      "[I 2025-10-02 13:11:07,044] Trial 18 finished with value: 0.8347789115646258 and parameters: {'n_estimators': 400, 'learning_rate': 0.0393980685757152}. Best is trial 11 with value: 0.8388605442176871.\n",
      "[I 2025-10-02 13:11:07,511] Trial 19 finished with value: 0.8306122448979592 and parameters: {'n_estimators': 200, 'learning_rate': 0.08093294981574559}. Best is trial 11 with value: 0.8388605442176871.\n",
      "[I 2025-10-02 13:11:08,294] Trial 20 finished with value: 0.805952380952381 and parameters: {'n_estimators': 400, 'learning_rate': 0.13842867871179926}. Best is trial 11 with value: 0.8388605442176871.\n",
      "[I 2025-10-02 13:11:08,624] Trial 21 finished with value: 0.8347789115646258 and parameters: {'n_estimators': 200, 'learning_rate': 0.03707577995999708}. Best is trial 11 with value: 0.8388605442176871.\n",
      "[I 2025-10-02 13:11:08,960] Trial 22 finished with value: 0.8388605442176871 and parameters: {'n_estimators': 200, 'learning_rate': 0.030130386889233626}. Best is trial 11 with value: 0.8388605442176871.\n",
      "[I 2025-10-02 13:11:09,254] Trial 23 finished with value: 0.793452380952381 and parameters: {'n_estimators': 200, 'learning_rate': 0.28974913655962964}. Best is trial 11 with value: 0.8388605442176871.\n",
      "[I 2025-10-02 13:11:09,827] Trial 24 finished with value: 0.8306972789115645 and parameters: {'n_estimators': 400, 'learning_rate': 0.03053497795859585}. Best is trial 11 with value: 0.8388605442176871.\n",
      "[I 2025-10-02 13:11:10,142] Trial 25 finished with value: 0.8347789115646258 and parameters: {'n_estimators': 200, 'learning_rate': 0.04654816704402446}. Best is trial 11 with value: 0.8388605442176871.\n",
      "[I 2025-10-02 13:11:10,698] Trial 26 finished with value: 0.8306972789115645 and parameters: {'n_estimators': 400, 'learning_rate': 0.03438655706197895}. Best is trial 11 with value: 0.8388605442176871.\n",
      "[I 2025-10-02 13:11:10,999] Trial 27 finished with value: 0.8347789115646258 and parameters: {'n_estimators': 200, 'learning_rate': 0.05376498680134877}. Best is trial 11 with value: 0.8388605442176871.\n",
      "[I 2025-10-02 13:11:11,314] Trial 28 finished with value: 0.8347789115646258 and parameters: {'n_estimators': 200, 'learning_rate': 0.045023117848265584}. Best is trial 11 with value: 0.8388605442176871.\n",
      "[I 2025-10-02 13:11:11,897] Trial 29 finished with value: 0.8181972789115646 and parameters: {'n_estimators': 400, 'learning_rate': 0.06611886216960251}. Best is trial 11 with value: 0.8388605442176871.\n",
      "[I 2025-10-02 13:11:12,206] Trial 30 finished with value: 0.8347789115646258 and parameters: {'n_estimators': 200, 'learning_rate': 0.035902834151290454}. Best is trial 11 with value: 0.8388605442176871.\n",
      "[I 2025-10-02 13:11:12,528] Trial 31 finished with value: 0.8389455782312926 and parameters: {'n_estimators': 200, 'learning_rate': 0.03764562186390852}. Best is trial 31 with value: 0.8389455782312926.\n",
      "[I 2025-10-02 13:11:12,822] Trial 32 finished with value: 0.8388605442176871 and parameters: {'n_estimators': 200, 'learning_rate': 0.03020978025798425}. Best is trial 31 with value: 0.8389455782312926.\n",
      "[I 2025-10-02 13:11:13,106] Trial 33 finished with value: 0.8347789115646258 and parameters: {'n_estimators': 200, 'learning_rate': 0.03467333198303531}. Best is trial 31 with value: 0.8389455782312926.\n",
      "[I 2025-10-02 13:11:13,393] Trial 34 finished with value: 0.8347789115646258 and parameters: {'n_estimators': 200, 'learning_rate': 0.04112200129841056}. Best is trial 31 with value: 0.8389455782312926.\n",
      "[I 2025-10-02 13:11:13,702] Trial 35 finished with value: 0.8347789115646258 and parameters: {'n_estimators': 200, 'learning_rate': 0.05042305011109329}. Best is trial 31 with value: 0.8389455782312926.\n",
      "[I 2025-10-02 13:11:14,031] Trial 36 finished with value: 0.8388605442176871 and parameters: {'n_estimators': 200, 'learning_rate': 0.033862374010624224}. Best is trial 31 with value: 0.8389455782312926.\n",
      "[I 2025-10-02 13:11:15,176] Trial 37 finished with value: 0.8099489795918366 and parameters: {'n_estimators': 800, 'learning_rate': 0.04924171897561402}. Best is trial 31 with value: 0.8389455782312926.\n",
      "[I 2025-10-02 13:11:16,045] Trial 38 finished with value: 0.8141156462585034 and parameters: {'n_estimators': 600, 'learning_rate': 0.058390100963379925}. Best is trial 31 with value: 0.8389455782312926.\n",
      "[I 2025-10-02 13:11:16,357] Trial 39 finished with value: 0.8388605442176871 and parameters: {'n_estimators': 200, 'learning_rate': 0.033098553860374254}. Best is trial 31 with value: 0.8389455782312926.\n",
      "[I 2025-10-02 13:11:16,671] Trial 40 finished with value: 0.8347789115646258 and parameters: {'n_estimators': 200, 'learning_rate': 0.039675859763381914}. Best is trial 31 with value: 0.8389455782312926.\n",
      "[I 2025-10-02 13:11:17,132] Trial 41 finished with value: 0.8347789115646258 and parameters: {'n_estimators': 200, 'learning_rate': 0.03480107561288804}. Best is trial 31 with value: 0.8389455782312926.\n",
      "[I 2025-10-02 13:11:17,400] Trial 42 finished with value: 0.8347789115646258 and parameters: {'n_estimators': 200, 'learning_rate': 0.03262295063652561}. Best is trial 31 with value: 0.8389455782312926.\n",
      "[I 2025-10-02 13:11:17,700] Trial 43 finished with value: 0.8388605442176871 and parameters: {'n_estimators': 200, 'learning_rate': 0.030124457223322562}. Best is trial 31 with value: 0.8389455782312926.\n",
      "[I 2025-10-02 13:11:18,016] Trial 44 finished with value: 0.8389455782312926 and parameters: {'n_estimators': 200, 'learning_rate': 0.03940962005477965}. Best is trial 31 with value: 0.8389455782312926.\n",
      "[I 2025-10-02 13:11:18,332] Trial 45 finished with value: 0.8347789115646258 and parameters: {'n_estimators': 200, 'learning_rate': 0.04004053649378038}. Best is trial 31 with value: 0.8389455782312926.\n",
      "[I 2025-10-02 13:11:18,601] Trial 46 finished with value: 0.8264455782312925 and parameters: {'n_estimators': 200, 'learning_rate': 0.12246226875291367}. Best is trial 31 with value: 0.8389455782312926.\n",
      "[I 2025-10-02 13:11:19,136] Trial 47 finished with value: 0.8347789115646258 and parameters: {'n_estimators': 400, 'learning_rate': 0.042790992381151485}. Best is trial 31 with value: 0.8389455782312926.\n",
      "[I 2025-10-02 13:11:19,405] Trial 48 finished with value: 0.8430272108843537 and parameters: {'n_estimators': 200, 'learning_rate': 0.03729717290662577}. Best is trial 48 with value: 0.8430272108843537.\n",
      "[I 2025-10-02 13:11:20,552] Trial 49 finished with value: 0.8017857142857144 and parameters: {'n_estimators': 800, 'learning_rate': 0.07866624184388323}. Best is trial 48 with value: 0.8430272108843537.\n"
     ]
    }
   ],
   "source": [
    "out_ada = optuna_tune_simple('adb', X_train, y_train, n_trials=50)"
   ]
  },
  {
   "cell_type": "code",
   "execution_count": 32,
   "id": "bbf066fb6f06c5b9",
   "metadata": {
    "ExecuteTime": {
     "end_time": "2025-10-02T06:44:05.839957Z",
     "start_time": "2025-10-02T06:44:05.674568Z"
    }
   },
   "outputs": [],
   "source": [
    "ranked = sorted([out_ada, out_rf, out_gb, out_lgbm, out_xgb, out_cat], key=lambda x: x[\"best_score\"], reverse=True)"
   ]
  },
  {
   "cell_type": "code",
   "execution_count": 33,
   "id": "159e38dff0e8aa26",
   "metadata": {
    "ExecuteTime": {
     "end_time": "2025-10-02T06:44:09.657455Z",
     "start_time": "2025-10-02T06:44:07.875970Z"
    }
   },
   "outputs": [],
   "source": [
    "raw_results = calc_results(ranked, X_test, y_test, X_val, y_val)"
   ]
  },
  {
   "cell_type": "code",
   "execution_count": 34,
   "id": "5593b66ff3983dbc",
   "metadata": {
    "ExecuteTime": {
     "end_time": "2025-10-02T06:44:11.703124Z",
     "start_time": "2025-10-02T06:44:11.636846Z"
    }
   },
   "outputs": [
    {
     "data": {
      "text/plain": [
       "{'adb': {'val': 0.9666666666666667, 'test': 0.8387096774193549},\n",
       " 'lgbm': {'val': 0.9333333333333333, 'test': 0.8709677419354839},\n",
       " 'cat': {'val': 0.9, 'test': 0.8064516129032258},\n",
       " 'rf': {'val': 0.9333333333333333, 'test': 0.8709677419354839},\n",
       " 'xgb': {'val': 0.9333333333333333, 'test': 0.8709677419354839},\n",
       " 'gb': {'val': 0.9333333333333333, 'test': 0.9032258064516129}}"
      ]
     },
     "execution_count": 34,
     "metadata": {},
     "output_type": "execute_result"
    }
   ],
   "source": [
    "raw_results"
   ]
  },
  {
   "cell_type": "code",
   "execution_count": 41,
   "id": "e5fed7a8d0e5654d",
   "metadata": {
    "ExecuteTime": {
     "end_time": "2025-10-02T06:47:33.034938Z",
     "start_time": "2025-10-02T06:47:32.301712Z"
    }
   },
   "outputs": [
    {
     "data": {
      "image/png": "[encoded data removed]",
      "text/plain": [
       "<Figure size 640x480 with 1 Axes>"
      ]
     },
     "metadata": {},
     "output_type": "display_data"
    }
   ],
   "source": [
    "visualize(raw_results, 'Raw Dataset')"
   ]
  },
  {
   "cell_type": "code",
   "execution_count": 42,
   "id": "c32708ca7b738723",
   "metadata": {
    "ExecuteTime": {
     "end_time": "2025-10-02T06:47:39.822435Z",
     "start_time": "2025-10-02T06:47:39.745840Z"
    }
   },
   "outputs": [
    {
     "name": "stdout",
     "output_type": "stream",
     "text": [
      "AdaBoostClassifier(estimator=DecisionTreeClassifier(max_depth=1,\n",
      "                                                    random_state=42),\n",
      "                   learning_rate=0.03729717290662577, n_estimators=200,\n",
      "                   random_state=42)\n",
      "LGBMClassifier(colsample_bytree=0.8062473945344163,\n",
      "               learning_rate=0.024332353079705077, min_child_samples=38,\n",
      "               n_estimators=700, n_jobs=-1, num_leaves=127, random_state=42,\n",
      "               reg_alpha=0.5410345586666022, reg_lambda=0.8011381093354967,\n",
      "               subsample=0.7636828373411673, verbose=-1)\n",
      "<catboost.core.CatBoostClassifier object at 0x0000012E71AC4520>\n",
      "RandomForestClassifier(max_depth=12, min_samples_split=7, n_estimators=900,\n",
      "                       n_jobs=-1, random_state=42)\n",
      "XGBClassifier(base_score=None, booster=None, callbacks=None,\n",
      "              colsample_bylevel=None, colsample_bynode=None,\n",
      "              colsample_bytree=0.7980976532947479, device=None,\n",
      "              early_stopping_rounds=None, enable_categorical=False,\n",
      "              eval_metric='logloss', feature_types=None, feature_weights=None,\n",
      "              gamma=None, grow_policy=None, importance_type=None,\n",
      "              interaction_constraints=None, learning_rate=0.0343796329533941,\n",
      "              max_bin=None, max_cat_threshold=None, max_cat_to_onehot=None,\n",
      "              max_delta_step=None, max_depth=4, max_leaves=None,\n",
      "              min_child_weight=None, missing=nan, monotone_constraints=None,\n",
      "              multi_strategy=None, n_estimators=400, n_jobs=-1,\n",
      "              num_parallel_tree=None, ...)\n",
      "GradientBoostingClassifier(learning_rate=0.041604611269339564, max_depth=2,\n",
      "                           min_samples_leaf=2, n_estimators=200,\n",
      "                           random_state=42)\n"
     ]
    }
   ],
   "source": [
    "for r in ranked:\n",
    "    print(r['best_estimator'])"
   ]
  },
  {
   "cell_type": "markdown",
   "id": "64e6a609714c67a9",
   "metadata": {},
   "source": [
    "## DT DATASET"
   ]
  },
  {
   "cell_type": "code",
   "execution_count": null,
   "id": "4e1540f3",
   "metadata": {},
   "outputs": [],
   "source": [
    "out_dt_lgbm = optuna_tune_simple(\"lgbm\", X_train, y_dt_train, n_trials=40, scoring=\"accuracy\")\n",
    "out_dt_xgb  = optuna_tune_simple(\"xgb\",  X_dt_train, y_dt_train)\n",
    "out_dt_cat  = optuna_tune_simple(\"cat\",  X_dt_train, y_dt_train)\n",
    "out_dt_rf = optuna_tune_simple(\"rf\", X_dt_train, y_dt_train)\n",
    "out_dt_gb = optuna_tune_simple('gb', X_dt_train, y_dt_train)\n",
    "out_dt_ada = optuna_tune_simple('adb', X_dt_train, y_dt_train)"
   ]
  },
  {
   "cell_type": "code",
   "execution_count": 24,
   "id": "1ddd0516173c032d",
   "metadata": {
    "ExecuteTime": {
     "end_time": "2025-10-02T04:23:50.055598Z",
     "start_time": "2025-10-02T04:23:49.762090Z"
    }
   },
   "outputs": [
    {
     "ename": "NameError",
     "evalue": "name 'out_dt_ada' is not defined",
     "output_type": "error",
     "traceback": [
      "\u001B[1;31m---------------------------------------------------------------------------\u001B[0m",
      "\u001B[1;31mNameError\u001B[0m                                 Traceback (most recent call last)",
      "Cell \u001B[1;32mIn[24], line 1\u001B[0m\n\u001B[1;32m----> 1\u001B[0m dt_ranked \u001B[38;5;241m=\u001B[39m \u001B[38;5;28msorted\u001B[39m([\u001B[43mout_dt_ada\u001B[49m, out_dt_rf, out_dt_gb, out_dt_lgbm, out_dt_xgb, out_dt_cat], key\u001B[38;5;241m=\u001B[39m\u001B[38;5;28;01mlambda\u001B[39;00m x: x[\u001B[38;5;124m\"\u001B[39m\u001B[38;5;124mbest_score\u001B[39m\u001B[38;5;124m\"\u001B[39m], reverse\u001B[38;5;241m=\u001B[39m\u001B[38;5;28;01mTrue\u001B[39;00m)\n",
      "\u001B[1;31mNameError\u001B[0m: name 'out_dt_ada' is not defined"
     ]
    }
   ],
   "source": [
    "dt_ranked = sorted([out_dt_ada, out_dt_rf, out_dt_gb, out_dt_lgbm, out_dt_xgb, out_dt_cat], key=lambda x: x[\"best_score\"], reverse=True)"
   ]
  },
  {
   "cell_type": "code",
   "execution_count": null,
   "id": "276c5d1b",
   "metadata": {},
   "outputs": [],
   "source": [
    "dt_results = calc_results(dt_ranked, X_dt_test, y_dt_test, X_dt_val, y_dt_val)"
   ]
  },
  {
   "cell_type": "code",
   "execution_count": null,
   "id": "9004eedbecf3476b",
   "metadata": {},
   "outputs": [],
   "source": [
    "visualize(dt_results, 'DT Dataset')"
   ]
  },
  {
   "cell_type": "markdown",
   "id": "f918b54d",
   "metadata": {},
   "source": [
    "## FE DATASET"
   ]
  },
  {
   "cell_type": "markdown",
   "id": "bdd7d7aa",
   "metadata": {},
   "source": [
    "out_fe_lgbm = optuna_tune_simple(\"lgbm\", X_fe_train, y_fe_train, n_trials=40, scoring=\"accuracy\")\n",
    "out_fe_cat  = optuna_tune_simple(\"cat\",  X_fe_train, y_fe_train)\n",
    "out_fe_xgb  = optuna_tune_simple(\"xgb\",  X_fe_train, y_fe_train)\n",
    "out_fe_rf   = optuna_tune_simple(\"rf\",   X_fe_train, y_fe_train)\n",
    "out_fe_gb   = optuna_tune_simple('gb',   X_fe_train, y_fe_train)\n",
    "out_fe_ada  = optuna_tune_simple('adb',  X_fe_train, y_fe_train)"
   ]
  },
  {
   "cell_type": "code",
   "execution_count": null,
   "id": "57b470c4",
   "metadata": {},
   "outputs": [],
   "source": [
    "fe_ranked = sorted([out_fe_ada, out_fe_rf, out_fe_gb, out_fe_lgbm, out_fe_xgb, out_fe_cat],\n",
    "                   key=lambda x: x[\"best_score\"], reverse=True)\n"
   ]
  },
  {
   "cell_type": "code",
   "execution_count": null,
   "id": "91545e26",
   "metadata": {},
   "outputs": [],
   "source": [
    "fe_results = calc_results(fe_ranked, X_fe_test, y_fe_test, X_fe_val, y_fe_val)"
   ]
  },
  {
   "cell_type": "code",
   "execution_count": null,
   "id": "c6d8bc98",
   "metadata": {},
   "outputs": [],
   "source": [
    "visualize(fe_results, 'FE Dataset')"
   ]
  },
  {
   "cell_type": "markdown",
   "id": "9831a212",
   "metadata": {},
   "source": [
    "## FE + DT DATASET"
   ]
  },
  {
   "cell_type": "code",
   "execution_count": null,
   "id": "145c2b243ed5b8c8",
   "metadata": {},
   "outputs": [],
   "source": [
    "out_fe_dt_lgbm = optuna_tune_simple(\"lgbm\", X_fe_dt_train, y_fe_dt_train, n_trials=40, scoring=\"accuracy\")\n",
    "out_fe_dt_cat  = optuna_tune_simple(\"cat\",  X_fe_dt_train, y_fe_dt_train)\n",
    "out_fe_dt_xgb  = optuna_tune_simple(\"xgb\",  X_fe_dt_train, y_fe_dt_train)\n",
    "out_fe_dt_rf   = optuna_tune_simple(\"rf\",   X_fe_dt_train, y_fe_dt_train)\n",
    "out_fe_dt_gb   = optuna_tune_simple('gb',   X_fe_dt_train, y_fe_dt_train)\n",
    "out_fe_dt_ada  = optuna_tune_simple('adb',  X_fe_dt_train, y_fe_dt_train)"
   ]
  },
  {
   "cell_type": "code",
   "execution_count": null,
   "id": "57a81112",
   "metadata": {},
   "outputs": [],
   "source": [
    "fe_dt_ranked = sorted([out_fe_dt_ada, out_fe_dt_rf, out_fe_dt_gb, out_fe_dt_lgbm, out_fe_dt_xgb, out_fe_dt_cat],\n",
    "                      key=lambda x: x[\"best_score\"], reverse=True)\n"
   ]
  },
  {
   "cell_type": "code",
   "execution_count": null,
   "id": "c7a841b7",
   "metadata": {},
   "outputs": [],
   "source": [
    "fe_dt_results = calc_results(fe_dt_ranked, X_fe_dt_test, y_fe_dt_test, X_fe_dt_val, y_fe_dt_val)"
   ]
  },
  {
   "cell_type": "code",
   "execution_count": null,
   "id": "8b9d9f48",
   "metadata": {},
   "outputs": [],
   "source": [
    "visualize(fe_dt_results, 'FE + DT Dataset')"
   ]
  },
  {
   "cell_type": "markdown",
   "id": "b11de921",
   "metadata": {},
   "source": [
    "## SMOTE DATASET"
   ]
  },
  {
   "cell_type": "code",
   "execution_count": null,
   "id": "a0879115ad876c7c",
   "metadata": {},
   "outputs": [],
   "source": [
    "out_fe_sm_lgbm = optuna_tune_simple(\"lgbm\", X_smote_train, y_smote_train, n_trials=40, scoring=\"accuracy\")\n",
    "out_fe_sm_cat  = optuna_tune_simple(\"cat\",  X_smote_train, y_smote_train)\n",
    "out_fe_sm_xgb  = optuna_tune_simple(\"xgb\",  X_smote_train, y_smote_train)\n",
    "out_fe_sm_rf   = optuna_tune_simple(\"rf\",   X_smote_train, y_smote_train)\n",
    "out_fe_sm_gb   = optuna_tune_simple('gb',   X_smote_train, y_smote_train)\n",
    "out_fe_sm_ada  = optuna_tune_simple('adb',  X_smote_train, y_smote_train)\n"
   ]
  },
  {
   "cell_type": "code",
   "execution_count": null,
   "id": "5e87d266",
   "metadata": {},
   "outputs": [],
   "source": [
    "fe_sm_ranked = sorted([out_fe_sm_ada, out_fe_sm_rf, out_fe_sm_gb, out_fe_sm_lgbm, out_fe_sm_xgb, out_fe_sm_cat],\n",
    "                      key=lambda x: x[\"best_score\"], reverse=True)\n"
   ]
  },
  {
   "cell_type": "code",
   "execution_count": null,
   "id": "c1d22282",
   "metadata": {},
   "outputs": [],
   "source": [
    "fe_sm_results = calc_results(fe_sm_ranked, X_smote_test, y_smote_test, X_smote_val, y_smote_val)"
   ]
  },
  {
   "cell_type": "code",
   "execution_count": null,
   "id": "1789b05a",
   "metadata": {},
   "outputs": [],
   "source": [
    "visualize(fe_sm_results, 'FE + SMOTE (train)')\n"
   ]
  },
  {
   "cell_type": "markdown",
   "id": "33c35b4a",
   "metadata": {},
   "source": [
    "## RESULT REPORT"
   ]
  },
  {
   "metadata": {},
   "cell_type": "code",
   "outputs": [],
   "execution_count": null,
   "source": [
    "# Aggregate best estimators across datasets and save to CSV\n",
    "from pathlib import Path\n",
    "import json\n",
    "import pandas as pd\n",
    "\n",
    "# Map dataset -> variable prefix used in your notebook variables\n",
    "dataset_prefixes = {\n",
    "    'raw':   '',        # e.g., out_ada, out_rf, ...\n",
    "    'dt':    'dt',      # e.g., out_dt_ada, out_dt_rf, ...\n",
    "    'fe':    'fe',      # e.g., out_fe_ada, ...\n",
    "    'fe_dt': 'fe_dt',   # e.g., out_fe_dt_ada, ...\n",
    "    'fe_sm': 'fe_sm',   # e.g., out_fe_sm_ada, ...\n",
    "}\n",
    "\n",
    "# 6 algorithms (matching keys used in SUGGESTERS)\n",
    "alg_order = ['adb', 'rf', 'gb', 'lgbm', 'xgb', 'cat']\n",
    "\n",
    "# Map algorithm key -> suffix used in your variable names\n",
    "suffix_map = {'adb': 'ada', 'rf': 'rf', 'gb': 'gb', 'lgbm': 'lgbm', 'xgb': 'xgb', 'cat': 'cat'}\n",
    "\n",
    "def get_out(prefix: str, alg: str):\n",
    "    # Compose variable name e.g., out_fe_dt_ada or out_rf\n",
    "    varname = f\"out_{(prefix + '_') if prefix else ''}{suffix_map[alg]}\"\n",
    "    return globals().get(varname, None)\n",
    "\n",
    "rows = []\n",
    "for ds, prefix in dataset_prefixes.items():\n",
    "    for alg in alg_order:\n",
    "        out = get_out(prefix, alg)\n",
    "        if out is None:\n",
    "            continue\n",
    "        est = out.get('best_estimator')\n",
    "        params = out.get('best_params', {})\n",
    "        score = out.get('best_score', None)\n",
    "        score_fmt = f\"{score:.4f}\" if isinstance(score, (int, float)) else str(score)\n",
    "        est_class = type(est).__name__ if est is not None else ''\n",
    "        est_repr = (repr(est) if est is not None else '').replace('\\n', ' ').replace('\\r', ' ')\n",
    "        print(f\"[{ds}] {alg}: score={score_fmt}  estimator={est_class}\")\n",
    "\n",
    "        rows.append({\n",
    "            'dataset': ds,\n",
    "            'algorithm': alg,\n",
    "            'best_score': score,\n",
    "            'best_params_json': json.dumps(params),\n",
    "            'estimator_class': est_class,\n",
    "            'estimator_repr': est_repr\n",
    "        })\n",
    "\n",
    "best_df = pd.DataFrame(rows).sort_values(['dataset','algorithm']).reset_index(drop=True)\n",
    "out_path = Path('../splits') / 'best_estimators_summary.csv'\n",
    "out_path.parent.mkdir(parents=True, exist_ok=True)\n",
    "best_df.to_csv(out_path, index=False)\n",
    "print(\"Saved:\", out_path)\n",
    "best_df.head()\n"
   ],
   "id": "2dba3f2af7018e1a"
  },
  {
   "cell_type": "code",
   "execution_count": null,
   "id": "82409ab3",
   "metadata": {},
   "outputs": [],
   "source": [
    "# Plot 6 charts: one per algorithm, showing val/test across datasets\n",
    "import numpy as np\n",
    "import pandas as pd\n",
    "import matplotlib.pyplot as plt\n",
    "import seaborn as sns\n",
    "\n",
    "# These should be produced earlier via calc_results(...):\n",
    "# raw_results, dt_results, fe_results, fe_dt_results, fe_sm_results\n",
    "results_vars = {\n",
    "    'raw':   'raw_results',\n",
    "    'dt':    'dt_results',\n",
    "    'fe':    'fe_results',\n",
    "    'fe_dt': 'fe_dt_results',\n",
    "    'fe_sm': 'fe_sm_results',\n",
    "}\n",
    "\n",
    "records = []\n",
    "for ds, varname in results_vars.items():\n",
    "    res = globals().get(varname, None)\n",
    "    if res is None:\n",
    "        continue\n",
    "    # res expected format: { 'adb': {'val': score, 'test': score}, ... }\n",
    "    for alg, metrics in res.items():\n",
    "        if not isinstance(metrics, dict):\n",
    "            continue\n",
    "        for split in ['val', 'test']:\n",
    "            val = metrics.get(split, None)\n",
    "            if val is None:\n",
    "                continue\n",
    "            records.append({'dataset': ds, 'algorithm': alg, 'split': split, 'score': float(val)})\n",
    "\n",
    "plot_df = pd.DataFrame(records)\n",
    "alg_names = ['adb', 'rf', 'gb', 'lgbm', 'xgb', 'cat']\n",
    "\n",
    "fig, axes = plt.subplots(2, 3, figsize=(14, 7), sharey=True)\n",
    "axes = axes.ravel()\n",
    "\n",
    "for i, alg in enumerate(alg_names):\n",
    "    ax = axes[i]\n",
    "    sub = plot_df[plot_df['algorithm'] == alg]\n",
    "    if sub.empty:\n",
    "        ax.set_title(f\"{alg.upper()} — no data\")\n",
    "        ax.axis('off')\n",
    "        continue\n",
    "\n",
    "    sns.barplot(data=sub, x='dataset', y='score', hue='split', ax=ax, palette=['#4c78a8', '#f58518'])\n",
    "    ax.set_title(alg.upper())\n",
    "    ax.set_xlabel('Dataset')\n",
    "    ax.set_ylabel('Score')\n",
    "    ax.set_xticklabels(ax.get_xticklabels(), rotation=20)\n",
    "\n",
    "    # annotate bars\n",
    "    for p in ax.patches:\n",
    "        h = p.get_height()\n",
    "        if np.isfinite(h):\n",
    "            ax.annotate(f\"{h:.3f}\", (p.get_x() + p.get_width()/2, h), ha='center', va='bottom', fontsize=8)\n",
    "\n",
    "# One shared legend\n",
    "handles, labels = axes[0].get_legend_handles_labels()\n",
    "fig.legend(handles, labels, loc='upper center', ncol=2, title='Split')\n",
    "plt.tight_layout(rect=[0, 0, 1, 0.92])\n",
    "plt.show()\n"
   ]
  }
 ],
 "metadata": {
  "kernelspec": {
   "display_name": "ml",
   "language": "python",
   "name": "python3"
  },
  "language_info": {
   "codemirror_mode": {
    "name": "ipython",
    "version": 3
   },
   "file_extension": ".py",
   "mimetype": "text/x-python",
   "name": "python",
   "nbconvert_exporter": "python",
   "pygments_lexer": "ipython3",
   "version": "3.10.18"
  }
 },
 "nbformat": 4,
 "nbformat_minor": 5
}
