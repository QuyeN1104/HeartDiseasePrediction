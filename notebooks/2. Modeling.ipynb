{
 "cells": [
  {
   "metadata": {},
   "cell_type": "markdown",
   "source": "## IMPORT LIBRAIES",
   "id": "4af613f8374faf1b"
  },
  {
   "cell_type": "code",
   "id": "initial_id",
   "metadata": {
    "collapsed": true,
    "ExecuteTime": {
     "end_time": "2025-10-02T06:10:18.566901Z",
     "start_time": "2025-10-02T06:10:17.944829Z"
    }
   },
   "source": [
    "import os\n",
    "import json\n",
    "import random\n",
    "import numpy as np\n",
    "import pandas as pd\n",
    "import matplotlib.pyplot as plt\n",
    "\n",
    "from pathlib import Path\n",
    "\n",
    "from sklearn.model_selection import train_test_split\n",
    "from sklearn.pipeline import Pipeline\n",
    "from sklearn.impute import SimpleImputer\n",
    "from sklearn.compose import ColumnTransformer\n",
    "from sklearn.tree import DecisionTreeClassifier\n",
    "from sklearn.base import BaseEstimator, TransformerMixin\n",
    "from sklearn.feature_selection import mutual_info_classif\n",
    "from sklearn.preprocessing import OneHotEncoder, StandardScaler, MinMaxScaler\n",
    "\n",
    "os.environ['PYTHONHASHSEED'] = '42'\n",
    "np.random.seed(42)\n",
    "random.seed(42)\n",
    "print('Seed: 42')\n",
    "\n",
    "\n"
   ],
   "outputs": [
    {
     "name": "stdout",
     "output_type": "stream",
     "text": [
      "Seed: 42\n"
     ]
    }
   ],
   "execution_count": 1
  },
  {
   "cell_type": "code",
   "id": "fc25bd4b9e227fa0",
   "metadata": {
    "ExecuteTime": {
     "end_time": "2025-10-02T06:10:18.660509Z",
     "start_time": "2025-10-02T06:10:18.647989Z"
    }
   },
   "source": [
    "def read_csv(file_path):\n",
    "    df = pd.read_csv(file_path)\n",
    "    # display(df.head())\n",
    "\n",
    "    X = df.drop('target', axis=1)\n",
    "    y = df['target']\n",
    "    display(y.value_counts())\n",
    "\n",
    "    print('Shape df ', df.shape)\n",
    "    print('Shape X', X.shape)\n",
    "    print('Shape y: ', y.shape)\n",
    "    return X, y"
   ],
   "outputs": [],
   "execution_count": 2
  },
  {
   "cell_type": "markdown",
   "id": "fba47ac16cb71521",
   "metadata": {},
   "source": [
    "## READ DATASETS"
   ]
  },
  {
   "cell_type": "code",
   "id": "e2d7af0457be138c",
   "metadata": {
    "ExecuteTime": {
     "end_time": "2025-10-02T06:10:18.799304Z",
     "start_time": "2025-10-02T06:10:18.692574Z"
    }
   },
   "source": [
    "dir = '../splits'\n",
    "X_train, y_train = read_csv(f'{dir}/raw_train.csv')\n",
    "X_test, y_test = read_csv(f'{dir}/raw_test.csv')\n",
    "X_val, y_val = read_csv(f'{dir}/raw_val.csv')\n",
    "\n",
    "X_val.head(3)"
   ],
   "outputs": [
    {
     "data": {
      "text/plain": [
       "target\n",
       "0    131\n",
       "1    111\n",
       "Name: count, dtype: int64"
      ]
     },
     "metadata": {},
     "output_type": "display_data"
    },
    {
     "name": "stdout",
     "output_type": "stream",
     "text": [
      "Shape df  (242, 14)\n",
      "Shape X (242, 13)\n",
      "Shape y:  (242,)\n"
     ]
    },
    {
     "data": {
      "text/plain": [
       "target\n",
       "0    17\n",
       "1    14\n",
       "Name: count, dtype: int64"
      ]
     },
     "metadata": {},
     "output_type": "display_data"
    },
    {
     "name": "stdout",
     "output_type": "stream",
     "text": [
      "Shape df  (31, 14)\n",
      "Shape X (31, 13)\n",
      "Shape y:  (31,)\n"
     ]
    },
    {
     "data": {
      "text/plain": [
       "target\n",
       "0    16\n",
       "1    14\n",
       "Name: count, dtype: int64"
      ]
     },
     "metadata": {},
     "output_type": "display_data"
    },
    {
     "name": "stdout",
     "output_type": "stream",
     "text": [
      "Shape df  (30, 14)\n",
      "Shape X (30, 13)\n",
      "Shape y:  (30,)\n"
     ]
    },
    {
     "data": {
      "text/plain": [
       "        age  trestbps      chol   thalach   oldpeak  sex        cp  fbs  \\\n",
       "0 -1.063621  0.400391 -0.262410  0.089984 -0.713154  0.0  1.000000  0.0   \n",
       "1  1.720848 -0.054513  1.368307 -1.809349  1.250048  1.0  1.000000  0.0   \n",
       "2 -0.061212  1.082748 -0.338257  0.664201  0.536156  1.0  0.666667  0.0   \n",
       "\n",
       "   restecg  exang  slope   ca  thal  \n",
       "0      1.0    1.0    0.5  0.0   0.0  \n",
       "1      1.0    0.0    0.5  1.0   0.0  \n",
       "2      1.0    0.0    0.0  0.0   1.0  "
      ],
      "text/html": [
       "<div>\n",
       "<style scoped>\n",
       "    .dataframe tbody tr th:only-of-type {\n",
       "        vertical-align: middle;\n",
       "    }\n",
       "\n",
       "    .dataframe tbody tr th {\n",
       "        vertical-align: top;\n",
       "    }\n",
       "\n",
       "    .dataframe thead th {\n",
       "        text-align: right;\n",
       "    }\n",
       "</style>\n",
       "<table border=\"1\" class=\"dataframe\">\n",
       "  <thead>\n",
       "    <tr style=\"text-align: right;\">\n",
       "      <th></th>\n",
       "      <th>age</th>\n",
       "      <th>trestbps</th>\n",
       "      <th>chol</th>\n",
       "      <th>thalach</th>\n",
       "      <th>oldpeak</th>\n",
       "      <th>sex</th>\n",
       "      <th>cp</th>\n",
       "      <th>fbs</th>\n",
       "      <th>restecg</th>\n",
       "      <th>exang</th>\n",
       "      <th>slope</th>\n",
       "      <th>ca</th>\n",
       "      <th>thal</th>\n",
       "    </tr>\n",
       "  </thead>\n",
       "  <tbody>\n",
       "    <tr>\n",
       "      <th>0</th>\n",
       "      <td>-1.063621</td>\n",
       "      <td>0.400391</td>\n",
       "      <td>-0.262410</td>\n",
       "      <td>0.089984</td>\n",
       "      <td>-0.713154</td>\n",
       "      <td>0.0</td>\n",
       "      <td>1.000000</td>\n",
       "      <td>0.0</td>\n",
       "      <td>1.0</td>\n",
       "      <td>1.0</td>\n",
       "      <td>0.5</td>\n",
       "      <td>0.0</td>\n",
       "      <td>0.0</td>\n",
       "    </tr>\n",
       "    <tr>\n",
       "      <th>1</th>\n",
       "      <td>1.720848</td>\n",
       "      <td>-0.054513</td>\n",
       "      <td>1.368307</td>\n",
       "      <td>-1.809349</td>\n",
       "      <td>1.250048</td>\n",
       "      <td>1.0</td>\n",
       "      <td>1.000000</td>\n",
       "      <td>0.0</td>\n",
       "      <td>1.0</td>\n",
       "      <td>0.0</td>\n",
       "      <td>0.5</td>\n",
       "      <td>1.0</td>\n",
       "      <td>0.0</td>\n",
       "    </tr>\n",
       "    <tr>\n",
       "      <th>2</th>\n",
       "      <td>-0.061212</td>\n",
       "      <td>1.082748</td>\n",
       "      <td>-0.338257</td>\n",
       "      <td>0.664201</td>\n",
       "      <td>0.536156</td>\n",
       "      <td>1.0</td>\n",
       "      <td>0.666667</td>\n",
       "      <td>0.0</td>\n",
       "      <td>1.0</td>\n",
       "      <td>0.0</td>\n",
       "      <td>0.0</td>\n",
       "      <td>0.0</td>\n",
       "      <td>1.0</td>\n",
       "    </tr>\n",
       "  </tbody>\n",
       "</table>\n",
       "</div>"
      ]
     },
     "execution_count": 3,
     "metadata": {},
     "output_type": "execute_result"
    }
   ],
   "execution_count": 3
  },
  {
   "cell_type": "code",
   "id": "3f3d7642180de3ef",
   "metadata": {
    "ExecuteTime": {
     "end_time": "2025-10-02T06:10:18.940570Z",
     "start_time": "2025-10-02T06:10:18.897569Z"
    }
   },
   "source": [
    "# FE Dataset\n",
    "X_fe_train, y_fe_train = read_csv(f'{dir}/fe_train.csv')\n",
    "X_fe_test, y_fe_test = read_csv(f'{dir}/fe_test.csv')\n",
    "X_fe_val, y_fe_val = read_csv(f'{dir}/fe_val.csv')"
   ],
   "outputs": [
    {
     "data": {
      "text/plain": [
       "target\n",
       "0    131\n",
       "1    111\n",
       "Name: count, dtype: int64"
      ]
     },
     "metadata": {},
     "output_type": "display_data"
    },
    {
     "name": "stdout",
     "output_type": "stream",
     "text": [
      "Shape df  (242, 14)\n",
      "Shape X (242, 13)\n",
      "Shape y:  (242,)\n"
     ]
    },
    {
     "data": {
      "text/plain": [
       "target\n",
       "0    7\n",
       "1    6\n",
       "Name: count, dtype: int64"
      ]
     },
     "metadata": {},
     "output_type": "display_data"
    },
    {
     "name": "stdout",
     "output_type": "stream",
     "text": [
      "Shape df  (13, 14)\n",
      "Shape X (13, 13)\n",
      "Shape y:  (13,)\n"
     ]
    },
    {
     "data": {
      "text/plain": [
       "target\n",
       "0    26\n",
       "1    22\n",
       "Name: count, dtype: int64"
      ]
     },
     "metadata": {},
     "output_type": "display_data"
    },
    {
     "name": "stdout",
     "output_type": "stream",
     "text": [
      "Shape df  (48, 14)\n",
      "Shape X (48, 13)\n",
      "Shape y:  (48,)\n"
     ]
    }
   ],
   "execution_count": 4
  },
  {
   "cell_type": "code",
   "id": "cfd3604d42eb2be9",
   "metadata": {
    "ExecuteTime": {
     "end_time": "2025-10-02T06:10:19.065925Z",
     "start_time": "2025-10-02T06:10:19.018571Z"
    }
   },
   "source": [
    "# Original + DT\n",
    "X_dt_train, y_dt_train = read_csv(f'{dir}/dt_train.csv')\n",
    "X_dt_test, y_dt_test = read_csv(f'{dir}/dt_test.csv')\n",
    "X_dt_val, y_dt_val = read_csv(f'{dir}/dt_val.csv')"
   ],
   "outputs": [
    {
     "data": {
      "text/plain": [
       "target\n",
       "0    131\n",
       "1    111\n",
       "Name: count, dtype: int64"
      ]
     },
     "metadata": {},
     "output_type": "display_data"
    },
    {
     "name": "stdout",
     "output_type": "stream",
     "text": [
      "Shape df  (242, 11)\n",
      "Shape X (242, 10)\n",
      "Shape y:  (242,)\n"
     ]
    },
    {
     "data": {
      "text/plain": [
       "target\n",
       "0    17\n",
       "1    14\n",
       "Name: count, dtype: int64"
      ]
     },
     "metadata": {},
     "output_type": "display_data"
    },
    {
     "name": "stdout",
     "output_type": "stream",
     "text": [
      "Shape df  (31, 11)\n",
      "Shape X (31, 10)\n",
      "Shape y:  (31,)\n"
     ]
    },
    {
     "data": {
      "text/plain": [
       "target\n",
       "0    16\n",
       "1    14\n",
       "Name: count, dtype: int64"
      ]
     },
     "metadata": {},
     "output_type": "display_data"
    },
    {
     "name": "stdout",
     "output_type": "stream",
     "text": [
      "Shape df  (30, 11)\n",
      "Shape X (30, 10)\n",
      "Shape y:  (30,)\n"
     ]
    }
   ],
   "execution_count": 5
  },
  {
   "cell_type": "code",
   "id": "1610b8996ba87aa5",
   "metadata": {
    "ExecuteTime": {
     "end_time": "2025-10-02T06:10:19.206359Z",
     "start_time": "2025-10-02T06:10:19.167030Z"
    }
   },
   "source": [
    "# FEATURING + DECISTION TREE\n",
    "X_fe_dt_train, y_fe_dt_train = read_csv(f'{dir}/fe_dt_train.csv')\n",
    "X_fe_dt_test, y_fe_dt_test = read_csv(f'{dir}/fe_dt_test.csv')\n",
    "X_fe_dt_val, y_fe_dt_val = read_csv(f'{dir}/fe_dt_val.csv')"
   ],
   "outputs": [
    {
     "data": {
      "text/plain": [
       "target\n",
       "0    131\n",
       "1    111\n",
       "Name: count, dtype: int64"
      ]
     },
     "metadata": {},
     "output_type": "display_data"
    },
    {
     "name": "stdout",
     "output_type": "stream",
     "text": [
      "Shape df  (242, 11)\n",
      "Shape X (242, 10)\n",
      "Shape y:  (242,)\n"
     ]
    },
    {
     "data": {
      "text/plain": [
       "target\n",
       "0    17\n",
       "1    14\n",
       "Name: count, dtype: int64"
      ]
     },
     "metadata": {},
     "output_type": "display_data"
    },
    {
     "name": "stdout",
     "output_type": "stream",
     "text": [
      "Shape df  (31, 11)\n",
      "Shape X (31, 10)\n",
      "Shape y:  (31,)\n"
     ]
    },
    {
     "data": {
      "text/plain": [
       "target\n",
       "0    16\n",
       "1    14\n",
       "Name: count, dtype: int64"
      ]
     },
     "metadata": {},
     "output_type": "display_data"
    },
    {
     "name": "stdout",
     "output_type": "stream",
     "text": [
      "Shape df  (30, 11)\n",
      "Shape X (30, 10)\n",
      "Shape y:  (30,)\n"
     ]
    }
   ],
   "execution_count": 6
  },
  {
   "cell_type": "code",
   "id": "85fbe491a1fdf09",
   "metadata": {
    "ExecuteTime": {
     "end_time": "2025-10-02T06:10:19.317105Z",
     "start_time": "2025-10-02T06:10:19.271359Z"
    }
   },
   "source": [
    "# FEATURING + DT + SMOTE\n",
    "X_smote_train, y_smote_train = read_csv(f'{dir}/smote_fe_train.csv')\n",
    "X_smote_test, y_smote_test = read_csv(f'{dir}/smote_fe_test.csv')\n",
    "X_smote_val, y_smote_val = read_csv(f'{dir}/smote_fe_val.csv')"
   ],
   "outputs": [
    {
     "data": {
      "text/plain": [
       "target\n",
       "1    131\n",
       "0    131\n",
       "Name: count, dtype: int64"
      ]
     },
     "metadata": {},
     "output_type": "display_data"
    },
    {
     "name": "stdout",
     "output_type": "stream",
     "text": [
      "Shape df  (262, 14)\n",
      "Shape X (262, 13)\n",
      "Shape y:  (262,)\n"
     ]
    },
    {
     "data": {
      "text/plain": [
       "target\n",
       "0    17\n",
       "1    14\n",
       "Name: count, dtype: int64"
      ]
     },
     "metadata": {},
     "output_type": "display_data"
    },
    {
     "name": "stdout",
     "output_type": "stream",
     "text": [
      "Shape df  (31, 11)\n",
      "Shape X (31, 10)\n",
      "Shape y:  (31,)\n"
     ]
    },
    {
     "data": {
      "text/plain": [
       "target\n",
       "0    16\n",
       "1    14\n",
       "Name: count, dtype: int64"
      ]
     },
     "metadata": {},
     "output_type": "display_data"
    },
    {
     "name": "stdout",
     "output_type": "stream",
     "text": [
      "Shape df  (30, 11)\n",
      "Shape X (30, 10)\n",
      "Shape y:  (30,)\n"
     ]
    }
   ],
   "execution_count": 7
  },
  {
   "metadata": {},
   "cell_type": "markdown",
   "source": "## TỐI ƯU THAM SỐ DÙNG OPTUNA",
   "id": "2ec9817979e3d698"
  },
  {
   "cell_type": "code",
   "id": "bd038d37",
   "metadata": {
    "ExecuteTime": {
     "end_time": "2025-10-02T06:37:29.087484Z",
     "start_time": "2025-10-02T06:37:28.857783Z"
    }
   },
   "source": [
    "import optuna\n",
    "import numpy as np\n",
    "from sklearn.model_selection import cross_val_score, StratifiedKFold\n",
    "from sklearn.metrics import accuracy_score, f1_score, roc_auc_score\n",
    "from sklearn.base import clone\n",
    "\n",
    "SEED     = 42\n",
    "N_JOBS   = -1\n",
    "SCORING  = \"accuracy\"  # đổi \"f1\" hoặc \"roc_auc\" nếu cần\n",
    "cv = StratifiedKFold(n_splits=5, shuffle=True, random_state=SEED)\n",
    "\n",
    "# ===== Suggest spaces cho 6 model =====\n",
    "from sklearn.ensemble import RandomForestClassifier, AdaBoostClassifier, GradientBoostingClassifier\n",
    "from sklearn.tree import DecisionTreeClassifier\n",
    "from xgboost import XGBClassifier\n",
    "from lightgbm import LGBMClassifier, early_stopping\n",
    "from catboost import CatBoostClassifier\n",
    "\n",
    "def suggest_rf(trial):\n",
    "    return RandomForestClassifier(\n",
    "        n_estimators=trial.suggest_int(\"n_estimators\", 300, 900, step=300),\n",
    "        max_depth=trial.suggest_categorical(\"max_depth\", [None, 12, 20, 30]),\n",
    "        min_samples_split=trial.suggest_int(\"min_samples_split\", 2, 10),\n",
    "        min_samples_leaf=trial.suggest_int(\"min_samples_leaf\", 1, 4),\n",
    "        random_state=SEED, n_jobs=N_JOBS\n",
    "    )\n",
    "\n",
    "def suggest_adb(trial):\n",
    "\n",
    "    return AdaBoostClassifier(\n",
    "        estimator=DecisionTreeClassifier(max_depth=1, random_state=SEED),\n",
    "        n_estimators=trial.suggest_int(\"n_estimators\", 200, 800, step=200),\n",
    "        learning_rate=trial.suggest_float(\"learning_rate\", 0.03, 0.3, log=True),\n",
    "        random_state=SEED\n",
    "    )\n",
    "\n",
    "def suggest_gb(trial):\n",
    "    return GradientBoostingClassifier(\n",
    "        n_estimators=trial.suggest_int(\"n_estimators\", 200, 800, step=200),\n",
    "        learning_rate=trial.suggest_float(\"learning_rate\", 0.03, 0.2, log=True),\n",
    "        max_depth=trial.suggest_int(\"max_depth\", 2, 5),\n",
    "        min_samples_leaf=trial.suggest_int(\"min_samples_leaf\", 1, 3),\n",
    "        random_state=SEED\n",
    "    )\n",
    "\n",
    "def suggest_xgb(trial):\n",
    "    return XGBClassifier(\n",
    "        n_estimators=trial.suggest_int(\"n_estimators\", 300, 1000, step=100),\n",
    "        max_depth=trial.suggest_int(\"max_depth\", 3, 8),\n",
    "        learning_rate=trial.suggest_float(\"learning_rate\", 0.02, 0.2, log=True),\n",
    "        subsample=trial.suggest_float(\"subsample\", 0.7, 1.0),\n",
    "        colsample_bytree=trial.suggest_float(\"colsample_bytree\", 0.7, 1.0),\n",
    "        reg_alpha=trial.suggest_float(\"reg_alpha\", 0.0, 1.0),\n",
    "        reg_lambda=trial.suggest_float(\"reg_lambda\", 0.5, 2.0),\n",
    "        n_jobs=N_JOBS, random_state=SEED, eval_metric=\"logloss\", tree_method=\"hist\"\n",
    "    )\n",
    "\n",
    "def suggest_lgbm(trial):\n",
    "    return LGBMClassifier(\n",
    "        verbose=-1,\n",
    "        n_estimators=trial.suggest_int(\"n_estimators\", 300, 1000, step=100),\n",
    "        num_leaves=trial.suggest_int(\"num_leaves\", 31, 255, step=32),\n",
    "        learning_rate=trial.suggest_float(\"learning_rate\", 0.02, 0.2, log=True),\n",
    "        min_child_samples=trial.suggest_int(\"min_child_samples\", 5, 40),\n",
    "        subsample=trial.suggest_float(\"subsample\", 0.7, 1.0),\n",
    "        colsample_bytree=trial.suggest_float(\"colsample_bytree\", 0.7, 1.0),\n",
    "        reg_alpha=trial.suggest_float(\"reg_alpha\", 0.0, 1.0),\n",
    "        reg_lambda=trial.suggest_float(\"reg_lambda\", 0.5, 2.0),\n",
    "        n_jobs=N_JOBS, random_state=SEED\n",
    "    )\n",
    "\n",
    "def suggest_cat(trial):\n",
    "    return CatBoostClassifier(\n",
    "        n_estimators=trial.suggest_int(\"n_estimators\", 400, 1200, step=200),\n",
    "        depth=trial.suggest_int(\"depth\", 4, 10),\n",
    "        learning_rate=trial.suggest_float(\"learning_rate\", 0.02, 0.2, log=True),\n",
    "        l2_leaf_reg=trial.suggest_float(\"l2_leaf_reg\", 1.0, 6.0),\n",
    "        subsample=trial.suggest_float(\"subsample\", 0.7, 1.0),\n",
    "        random_state=SEED, verbose=False\n",
    "    )\n",
    "\n",
    "SUGGESTERS = {\n",
    "    \"rf\":   suggest_rf,\n",
    "    \"adb\":  suggest_adb,\n",
    "    \"gb\":   suggest_gb,\n",
    "    \"xgb\":  suggest_xgb,\n",
    "    \"lgbm\": suggest_lgbm,\n",
    "    \"cat\":  suggest_cat,\n",
    "}\n",
    "\n",
    "def optuna_tune_simple(model_key, X, y, n_trials=40, scoring=SCORING):\n",
    "    suggest_fn = SUGGESTERS[model_key]\n",
    "\n",
    "    def objective(trial):\n",
    "        est = suggest_fn(trial)\n",
    "        score = cross_val_score(est, X, y, cv=5, scoring=scoring,n_jobs=N_JOBS).mean()\n",
    "        return score\n",
    "\n",
    "    study = optuna.create_study(direction=\"maximize\", study_name=f\"{model_key}_simple\")\n",
    "    study.optimize(objective, n_trials=n_trials)\n",
    "\n",
    "    best_est = suggest_fn(study.best_trial)\n",
    "    best_est.fit(X, y)\n",
    "    return {\n",
    "        \"name\": model_key,\n",
    "        \"best_score\": study.best_value,\n",
    "        \"best_params\": study.best_trial.params,\n",
    "        \"best_estimator\": best_est\n",
    "    }\n",
    "\n",
    "# === Gọi ví dụ:\n",
    "# out_lgbm = optuna_tune_simple(\"lgbm\", X_train, y_train, n_trials=40, scoring=\"accuracy\")\n",
    "# out_xgb  = optuna_tune_simple(\"xgb\",  X_train, y_train)\n",
    "# out_cat  = optuna_tune_simple(\"cat\",  X_train, y_train)\n"
   ],
   "outputs": [],
   "execution_count": 27
  },
  {
   "metadata": {
    "ExecuteTime": {
     "end_time": "2025-10-02T06:37:30.920696Z",
     "start_time": "2025-10-02T06:37:30.893173Z"
    }
   },
   "cell_type": "code",
   "source": [
    "def calc_results(ranked, X_test, y_test, X_val, y_val):\n",
    "    results = {}\n",
    "    for r in ranked:\n",
    "        results[r['name']] = {\n",
    "            'val': accuracy_score(y_val, r['best_estimator'].predict(X_val)),\n",
    "            'test': accuracy_score(y_test, r['best_estimator'].predict(X_test)),\n",
    "        }\n",
    "    # print(results)\n",
    "    return results"
   ],
   "id": "e0e1199be724525",
   "outputs": [],
   "execution_count": 28
  },
  {
   "metadata": {
    "ExecuteTime": {
     "end_time": "2025-10-02T06:47:26.344408Z",
     "start_time": "2025-10-02T06:47:26.224143Z"
    }
   },
   "cell_type": "code",
   "source": [
    "def visualize(results, data_name=''):\n",
    "    algos = list(results.keys())\n",
    "    val_scores = [results[a]['val'] for a in algos]\n",
    "    test_scores = [results[a]['test'] for a in algos]\n",
    "\n",
    "    x = np.arange(len(algos))\n",
    "    width = 0.38\n",
    "    fig, ax = plt.subplots()\n",
    "    b1 = ax.bar(x - width / 2, val_scores, width, label='Validation Accuracy')\n",
    "    b2 = ax.bar(x + width / 2, test_scores, width, label='Test Accuracy')\n",
    "\n",
    "    ax.set_ylabel('Accuracy')\n",
    "    ax.set_xlabel('Algorithms')\n",
    "    ax.set_title(f'{data_name} Validation vs Test Scores by Algorithm')\n",
    "    ax.set_xticks(x)\n",
    "    ax.set_xticklabels(algos)\n",
    "    ax.legend()\n",
    "\n",
    "    def annotate(bars):\n",
    "        for bar in bars:\n",
    "            h = bar.get_height()\n",
    "            ax.annotate('{:.2f}'.format(h), (bar.get_x() + bar.get_width()/ 2, h),\n",
    "                        xytext=(0, 3), textcoords='offset points',\n",
    "                        ha='center', va='bottom')\n",
    "    annotate(b1)\n",
    "    annotate(b2)\n",
    "    plt.show()"
   ],
   "id": "86b0ef6101af6de",
   "outputs": [],
   "execution_count": 40
  },
  {
   "metadata": {},
   "cell_type": "markdown",
   "source": "## ORIGINAL DATASET",
   "id": "d50d1278d049e6a2"
  },
  {
   "metadata": {
    "ExecuteTime": {
     "end_time": "2025-10-02T06:42:17.812534Z",
     "start_time": "2025-10-02T06:37:33.332464Z"
    }
   },
   "cell_type": "code",
   "source": [
    "# === Gọi ví dụ:\n",
    "out_lgbm = optuna_tune_simple(\"lgbm\", X_train, y_train, n_trials=50, scoring=\"accuracy\")\n",
    "out_cat  = optuna_tune_simple(\"cat\",  X_train, y_train)"
   ],
   "id": "cd8843f3a9c6a2a0",
   "outputs": [
    {
     "name": "stderr",
     "output_type": "stream",
     "text": [
      "[I 2025-10-02 13:37:33,332] A new study created in memory with name: lgbm_simple\n",
      "[I 2025-10-02 13:37:41,492] Trial 0 finished with value: 0.8014455782312926 and parameters: {'n_estimators': 900, 'num_leaves': 127, 'learning_rate': 0.11414911519277716, 'min_child_samples': 37, 'subsample': 0.7430725316755081, 'colsample_bytree': 0.8982690204466757, 'reg_alpha': 0.10807978941102969, 'reg_lambda': 1.797179349010047}. Best is trial 0 with value: 0.8014455782312926.\n",
      "[I 2025-10-02 13:37:44,482] Trial 1 finished with value: 0.79328231292517 and parameters: {'n_estimators': 400, 'num_leaves': 31, 'learning_rate': 0.15927512724821707, 'min_child_samples': 25, 'subsample': 0.728072290035051, 'colsample_bytree': 0.7829701051068193, 'reg_alpha': 0.302758119306752, 'reg_lambda': 1.1180411821427583}. Best is trial 0 with value: 0.8014455782312926.\n",
      "[I 2025-10-02 13:37:47,357] Trial 2 finished with value: 0.8014455782312926 and parameters: {'n_estimators': 300, 'num_leaves': 159, 'learning_rate': 0.05793104477541944, 'min_child_samples': 22, 'subsample': 0.7924245612773154, 'colsample_bytree': 0.7945266253161568, 'reg_alpha': 0.3770707613301124, 'reg_lambda': 0.7904822264187109}. Best is trial 0 with value: 0.8014455782312926.\n",
      "[I 2025-10-02 13:37:49,522] Trial 3 finished with value: 0.797108843537415 and parameters: {'n_estimators': 700, 'num_leaves': 63, 'learning_rate': 0.05019833804814911, 'min_child_samples': 9, 'subsample': 0.9878999895675066, 'colsample_bytree': 0.9288227694484952, 'reg_alpha': 0.9870078170290068, 'reg_lambda': 1.3858198999288762}. Best is trial 0 with value: 0.8014455782312926.\n",
      "[I 2025-10-02 13:37:51,277] Trial 4 finished with value: 0.7847789115646258 and parameters: {'n_estimators': 1000, 'num_leaves': 223, 'learning_rate': 0.17428567251114668, 'min_child_samples': 12, 'subsample': 0.7366970540990636, 'colsample_bytree': 0.7556843797295775, 'reg_alpha': 0.0295460823685878, 'reg_lambda': 1.4326550624062058}. Best is trial 0 with value: 0.8014455782312926.\n",
      "[I 2025-10-02 13:37:51,822] Trial 5 finished with value: 0.8013605442176871 and parameters: {'n_estimators': 900, 'num_leaves': 223, 'learning_rate': 0.12686060833605325, 'min_child_samples': 14, 'subsample': 0.7538386591023541, 'colsample_bytree': 0.9845285577505143, 'reg_alpha': 0.3976000902893905, 'reg_lambda': 1.00026005896967}. Best is trial 0 with value: 0.8014455782312926.\n",
      "[I 2025-10-02 13:37:52,449] Trial 6 finished with value: 0.7974489795918367 and parameters: {'n_estimators': 600, 'num_leaves': 223, 'learning_rate': 0.15624003575270662, 'min_child_samples': 28, 'subsample': 0.8710602710579134, 'colsample_bytree': 0.7907462836174428, 'reg_alpha': 0.14257701888247765, 'reg_lambda': 1.6814154162617427}. Best is trial 0 with value: 0.8014455782312926.\n",
      "[I 2025-10-02 13:37:52,886] Trial 7 finished with value: 0.8016156462585033 and parameters: {'n_estimators': 300, 'num_leaves': 127, 'learning_rate': 0.08955298878240754, 'min_child_samples': 19, 'subsample': 0.7479732670321035, 'colsample_bytree': 0.9592778378382173, 'reg_alpha': 0.12343267178583672, 'reg_lambda': 1.9830719615048749}. Best is trial 7 with value: 0.8016156462585033.\n",
      "[I 2025-10-02 13:37:53,331] Trial 8 finished with value: 0.8181122448979592 and parameters: {'n_estimators': 400, 'num_leaves': 127, 'learning_rate': 0.025763166770355787, 'min_child_samples': 33, 'subsample': 0.7234091886006874, 'colsample_bytree': 0.8228489725956027, 'reg_alpha': 0.006902584982926729, 'reg_lambda': 0.6910502941001595}. Best is trial 8 with value: 0.8181122448979592.\n",
      "[I 2025-10-02 13:37:54,009] Trial 9 finished with value: 0.7972789115646258 and parameters: {'n_estimators': 800, 'num_leaves': 223, 'learning_rate': 0.07752733841384296, 'min_child_samples': 11, 'subsample': 0.8434271028908075, 'colsample_bytree': 0.7826907800827466, 'reg_alpha': 0.47275748934642536, 'reg_lambda': 0.8433973719810552}. Best is trial 8 with value: 0.8181122448979592.\n",
      "[I 2025-10-02 13:37:54,452] Trial 10 finished with value: 0.8137755102040817 and parameters: {'n_estimators': 500, 'num_leaves': 95, 'learning_rate': 0.020034115736794266, 'min_child_samples': 40, 'subsample': 0.9338494195699308, 'colsample_bytree': 0.7100311181595835, 'reg_alpha': 0.763004066923384, 'reg_lambda': 0.5763055684860735}. Best is trial 8 with value: 0.8181122448979592.\n",
      "[I 2025-10-02 13:37:54,890] Trial 11 finished with value: 0.8097789115646259 and parameters: {'n_estimators': 500, 'num_leaves': 95, 'learning_rate': 0.020397104821913765, 'min_child_samples': 40, 'subsample': 0.9655375314939345, 'colsample_bytree': 0.7054178811728085, 'reg_alpha': 0.7646538724062016, 'reg_lambda': 0.5561257391586364}. Best is trial 8 with value: 0.8181122448979592.\n",
      "[I 2025-10-02 13:37:55,371] Trial 12 finished with value: 0.8098639455782312 and parameters: {'n_estimators': 500, 'num_leaves': 159, 'learning_rate': 0.021864757079909976, 'min_child_samples': 32, 'subsample': 0.9213836311611339, 'colsample_bytree': 0.870201715501377, 'reg_alpha': 0.6443566183450165, 'reg_lambda': 0.5038485344244241}. Best is trial 8 with value: 0.8181122448979592.\n",
      "[I 2025-10-02 13:37:55,869] Trial 13 finished with value: 0.8140306122448979 and parameters: {'n_estimators': 500, 'num_leaves': 95, 'learning_rate': 0.03250320174548181, 'min_child_samples': 34, 'subsample': 0.9112554514213582, 'colsample_bytree': 0.7081281341202899, 'reg_alpha': 0.6996726009769946, 'reg_lambda': 0.7720290531208602}. Best is trial 8 with value: 0.8181122448979592.\n",
      "[I 2025-10-02 13:37:56,254] Trial 14 finished with value: 0.8181972789115646 and parameters: {'n_estimators': 400, 'num_leaves': 31, 'learning_rate': 0.03489388782309177, 'min_child_samples': 32, 'subsample': 0.8524793013417503, 'colsample_bytree': 0.8567963093655444, 'reg_alpha': 0.6389061166999384, 'reg_lambda': 0.8084749440731147}. Best is trial 14 with value: 0.8181972789115646.\n",
      "[I 2025-10-02 13:37:56,671] Trial 15 finished with value: 0.8097789115646258 and parameters: {'n_estimators': 400, 'num_leaves': 31, 'learning_rate': 0.036732981312720764, 'min_child_samples': 29, 'subsample': 0.8124025296145494, 'colsample_bytree': 0.8226194832110737, 'reg_alpha': 0.5909746180736608, 'reg_lambda': 0.9870947929761741}. Best is trial 14 with value: 0.8181972789115646.\n",
      "[I 2025-10-02 13:37:57,467] Trial 16 finished with value: 0.7972789115646258 and parameters: {'n_estimators': 300, 'num_leaves': 63, 'learning_rate': 0.03233158886652656, 'min_child_samples': 5, 'subsample': 0.8768460924979218, 'colsample_bytree': 0.8538194542203607, 'reg_alpha': 0.9201039821097641, 'reg_lambda': 1.1636397052393195}. Best is trial 14 with value: 0.8181972789115646.\n",
      "[I 2025-10-02 13:37:58,056] Trial 17 finished with value: 0.8056122448979591 and parameters: {'n_estimators': 600, 'num_leaves': 191, 'learning_rate': 0.04255044354036917, 'min_child_samples': 33, 'subsample': 0.794350881773161, 'colsample_bytree': 0.8923598536755192, 'reg_alpha': 0.24524706901677185, 'reg_lambda': 0.6796925695078361}. Best is trial 14 with value: 0.8181972789115646.\n",
      "[I 2025-10-02 13:37:58,475] Trial 18 finished with value: 0.8098639455782314 and parameters: {'n_estimators': 400, 'num_leaves': 63, 'learning_rate': 0.02809437603388716, 'min_child_samples': 29, 'subsample': 0.8306178599363249, 'colsample_bytree': 0.8275321557702138, 'reg_alpha': 0.5356281944885862, 'reg_lambda': 0.9115918125184373}. Best is trial 14 with value: 0.8181972789115646.\n",
      "[I 2025-10-02 13:37:59,371] Trial 19 finished with value: 0.8179421768707481 and parameters: {'n_estimators': 700, 'num_leaves': 255, 'learning_rate': 0.025971442498683953, 'min_child_samples': 20, 'subsample': 0.7047355949874419, 'colsample_bytree': 0.8336108676900092, 'reg_alpha': 0.8085148926018915, 'reg_lambda': 1.3070663299006782}. Best is trial 14 with value: 0.8181972789115646.\n",
      "[I 2025-10-02 13:37:59,772] Trial 20 finished with value: 0.8180272108843537 and parameters: {'n_estimators': 400, 'num_leaves': 31, 'learning_rate': 0.044061834521945044, 'min_child_samples': 35, 'subsample': 0.8786044458110593, 'colsample_bytree': 0.9208467632549695, 'reg_alpha': 0.4809372101273041, 'reg_lambda': 0.6882212446487219}. Best is trial 14 with value: 0.8181972789115646.\n",
      "[I 2025-10-02 13:38:00,102] Trial 21 finished with value: 0.8221938775510204 and parameters: {'n_estimators': 400, 'num_leaves': 31, 'learning_rate': 0.04237587926892273, 'min_child_samples': 35, 'subsample': 0.8709846761073118, 'colsample_bytree': 0.9120917396904792, 'reg_alpha': 0.43820623241486334, 'reg_lambda': 0.6952397952152083}. Best is trial 21 with value: 0.8221938775510204.\n",
      "[I 2025-10-02 13:38:00,412] Trial 22 finished with value: 0.8137755102040817 and parameters: {'n_estimators': 300, 'num_leaves': 63, 'learning_rate': 0.06600478957615569, 'min_child_samples': 37, 'subsample': 0.7811994420930186, 'colsample_bytree': 0.8707152282432865, 'reg_alpha': 0.0009168992456937697, 'reg_lambda': 0.6793474703384144}. Best is trial 21 with value: 0.8221938775510204.\n",
      "[I 2025-10-02 13:38:00,848] Trial 23 finished with value: 0.8099489795918368 and parameters: {'n_estimators': 400, 'num_leaves': 31, 'learning_rate': 0.02696364918231944, 'min_child_samples': 31, 'subsample': 0.8572170443469338, 'colsample_bytree': 0.9407810812394168, 'reg_alpha': 0.3239659829922408, 'reg_lambda': 1.0025879770128696}. Best is trial 21 with value: 0.8221938775510204.\n",
      "[I 2025-10-02 13:38:01,344] Trial 24 finished with value: 0.8138605442176872 and parameters: {'n_estimators': 600, 'num_leaves': 95, 'learning_rate': 0.038578999068968105, 'min_child_samples': 37, 'subsample': 0.8984290495635414, 'colsample_bytree': 0.8974791649033463, 'reg_alpha': 0.23921306495388023, 'reg_lambda': 0.8719324829794344}. Best is trial 21 with value: 0.8221938775510204.\n",
      "[I 2025-10-02 13:38:01,868] Trial 25 finished with value: 0.8097789115646258 and parameters: {'n_estimators': 500, 'num_leaves': 127, 'learning_rate': 0.049631788078466785, 'min_child_samples': 26, 'subsample': 0.821237105015124, 'colsample_bytree': 0.862709002240017, 'reg_alpha': 0.5739110367430205, 'reg_lambda': 0.6487173588846106}. Best is trial 21 with value: 0.8221938775510204.\n",
      "[I 2025-10-02 13:38:02,399] Trial 26 finished with value: 0.8096088435374149 and parameters: {'n_estimators': 400, 'num_leaves': 63, 'learning_rate': 0.032209419829892866, 'min_child_samples': 24, 'subsample': 0.9452945608898704, 'colsample_bytree': 0.8125855584969378, 'reg_alpha': 0.6504129334132415, 'reg_lambda': 1.1168688527547503}. Best is trial 21 with value: 0.8221938775510204.\n",
      "[I 2025-10-02 13:38:02,755] Trial 27 finished with value: 0.8139455782312925 and parameters: {'n_estimators': 300, 'num_leaves': 31, 'learning_rate': 0.024999556990786584, 'min_child_samples': 30, 'subsample': 0.8998021412219576, 'colsample_bytree': 0.9923847968225679, 'reg_alpha': 0.4471752935812823, 'reg_lambda': 0.7595179492238832}. Best is trial 21 with value: 0.8221938775510204.\n",
      "[I 2025-10-02 13:38:03,254] Trial 28 finished with value: 0.8098639455782312 and parameters: {'n_estimators': 600, 'num_leaves': 191, 'learning_rate': 0.060410144036203865, 'min_child_samples': 35, 'subsample': 0.8585715905773543, 'colsample_bytree': 0.7559817872319642, 'reg_alpha': 0.8836165479641048, 'reg_lambda': 0.9137793627196579}. Best is trial 21 with value: 0.8221938775510204.\n",
      "[I 2025-10-02 13:38:03,808] Trial 29 finished with value: 0.8056972789115647 and parameters: {'n_estimators': 500, 'num_leaves': 127, 'learning_rate': 0.037264355072437846, 'min_child_samples': 27, 'subsample': 0.7730261981395106, 'colsample_bytree': 0.8870765695988925, 'reg_alpha': 0.21107611078690855, 'reg_lambda': 1.6461072709493076}. Best is trial 21 with value: 0.8221938775510204.\n",
      "[I 2025-10-02 13:38:04,513] Trial 30 finished with value: 0.8262755102040817 and parameters: {'n_estimators': 700, 'num_leaves': 159, 'learning_rate': 0.047658586477869955, 'min_child_samples': 38, 'subsample': 0.8352647559821959, 'colsample_bytree': 0.9168640795029388, 'reg_alpha': 0.6948161493102787, 'reg_lambda': 0.6050878922121932}. Best is trial 30 with value: 0.8262755102040817.\n",
      "[I 2025-10-02 13:38:05,140] Trial 31 finished with value: 0.8179421768707483 and parameters: {'n_estimators': 800, 'num_leaves': 159, 'learning_rate': 0.04864412153889137, 'min_child_samples': 39, 'subsample': 0.8366847161367934, 'colsample_bytree': 0.9222508255589812, 'reg_alpha': 0.700292128042542, 'reg_lambda': 0.5875840962202372}. Best is trial 30 with value: 0.8262755102040817.\n",
      "[I 2025-10-02 13:38:05,670] Trial 32 finished with value: 0.8139455782312925 and parameters: {'n_estimators': 700, 'num_leaves': 191, 'learning_rate': 0.03048021821963001, 'min_child_samples': 37, 'subsample': 0.8094831032055513, 'colsample_bytree': 0.9511490782491498, 'reg_alpha': 0.8439130409873635, 'reg_lambda': 0.5061921813792531}. Best is trial 30 with value: 0.8262755102040817.\n",
      "[I 2025-10-02 13:38:06,382] Trial 33 finished with value: 0.8140306122448979 and parameters: {'n_estimators': 800, 'num_leaves': 159, 'learning_rate': 0.05267762582292644, 'min_child_samples': 36, 'subsample': 0.7116612491990102, 'colsample_bytree': 0.8416570678984168, 'reg_alpha': 0.6167302351619135, 'reg_lambda': 0.7555176358537948}. Best is trial 30 with value: 0.8262755102040817.\n",
      "[I 2025-10-02 13:38:06,742] Trial 34 finished with value: 0.8099489795918368 and parameters: {'n_estimators': 400, 'num_leaves': 31, 'learning_rate': 0.042590866092808405, 'min_child_samples': 33, 'subsample': 0.8838141895592112, 'colsample_bytree': 0.9097096536678674, 'reg_alpha': 0.7000691160246078, 'reg_lambda': 0.6125608075117904}. Best is trial 30 with value: 0.8262755102040817.\n",
      "[I 2025-10-02 13:38:07,568] Trial 35 finished with value: 0.8304421768707483 and parameters: {'n_estimators': 700, 'num_leaves': 127, 'learning_rate': 0.024332353079705077, 'min_child_samples': 38, 'subsample': 0.7636828373411673, 'colsample_bytree': 0.8062473945344163, 'reg_alpha': 0.5410345586666022, 'reg_lambda': 0.8011381093354967}. Best is trial 35 with value: 0.8304421768707483.\n",
      "[I 2025-10-02 13:38:08,174] Trial 36 finished with value: 0.8222789115646257 and parameters: {'n_estimators': 700, 'num_leaves': 63, 'learning_rate': 0.07022884331433096, 'min_child_samples': 38, 'subsample': 0.7948291032366394, 'colsample_bytree': 0.9714154298874942, 'reg_alpha': 0.5409476196896894, 'reg_lambda': 1.057403631017923}. Best is trial 35 with value: 0.8304421768707483.\n",
      "[I 2025-10-02 13:38:08,762] Trial 37 finished with value: 0.8098639455782314 and parameters: {'n_estimators': 700, 'num_leaves': 63, 'learning_rate': 0.07062415443709125, 'min_child_samples': 39, 'subsample': 0.7741455312371235, 'colsample_bytree': 0.9669967419121828, 'reg_alpha': 0.4089951124160849, 'reg_lambda': 1.0868979203089566}. Best is trial 35 with value: 0.8304421768707483.\n",
      "[I 2025-10-02 13:38:09,392] Trial 38 finished with value: 0.8139455782312923 and parameters: {'n_estimators': 900, 'num_leaves': 95, 'learning_rate': 0.10778098898313546, 'min_child_samples': 38, 'subsample': 0.7608169422570664, 'colsample_bytree': 0.9744191510094438, 'reg_alpha': 0.552409582505281, 'reg_lambda': 1.2921248478693992}. Best is trial 35 with value: 0.8304421768707483.\n",
      "[I 2025-10-02 13:38:10,136] Trial 39 finished with value: 0.8097789115646258 and parameters: {'n_estimators': 800, 'num_leaves': 191, 'learning_rate': 0.09365802267496459, 'min_child_samples': 35, 'subsample': 0.7916735072652783, 'colsample_bytree': 0.7704305203787215, 'reg_alpha': 0.36108754200685805, 'reg_lambda': 1.4699550978248395}. Best is trial 35 with value: 0.8304421768707483.\n",
      "[I 2025-10-02 13:38:10,891] Trial 40 finished with value: 0.7973639455782313 and parameters: {'n_estimators': 1000, 'num_leaves': 127, 'learning_rate': 0.07891026700530038, 'min_child_samples': 40, 'subsample': 0.7379020174171387, 'colsample_bytree': 0.9479752206928996, 'reg_alpha': 0.5056283936340646, 'reg_lambda': 1.214939423776746}. Best is trial 35 with value: 0.8304421768707483.\n",
      "[I 2025-10-02 13:38:11,486] Trial 41 finished with value: 0.8139455782312925 and parameters: {'n_estimators': 700, 'num_leaves': 31, 'learning_rate': 0.05646455554406805, 'min_child_samples': 37, 'subsample': 0.8497560382833929, 'colsample_bytree': 0.8031857011452065, 'reg_alpha': 0.5270557790018118, 'reg_lambda': 0.8306397346312123}. Best is trial 35 with value: 0.8304421768707483.\n",
      "[I 2025-10-02 13:38:12,117] Trial 42 finished with value: 0.8179421768707483 and parameters: {'n_estimators': 700, 'num_leaves': 63, 'learning_rate': 0.046139689139717, 'min_child_samples': 31, 'subsample': 0.8133886708042607, 'colsample_bytree': 0.9336393014841544, 'reg_alpha': 0.4345743825580849, 'reg_lambda': 0.9751915939039922}. Best is trial 35 with value: 0.8304421768707483.\n",
      "[I 2025-10-02 13:38:12,643] Trial 43 finished with value: 0.8262755102040817 and parameters: {'n_estimators': 600, 'num_leaves': 63, 'learning_rate': 0.05560084826938518, 'min_child_samples': 38, 'subsample': 0.7984491786703891, 'colsample_bytree': 0.8843773617612486, 'reg_alpha': 0.6292145807243947, 'reg_lambda': 1.0700939691294216}. Best is trial 35 with value: 0.8304421768707483.\n",
      "[I 2025-10-02 13:38:13,156] Trial 44 finished with value: 0.8263605442176871 and parameters: {'n_estimators': 600, 'num_leaves': 95, 'learning_rate': 0.06727107797737752, 'min_child_samples': 38, 'subsample': 0.7988403987712329, 'colsample_bytree': 0.881993546153917, 'reg_alpha': 0.3413328910576855, 'reg_lambda': 1.0466317374985588}. Best is trial 35 with value: 0.8304421768707483.\n",
      "[I 2025-10-02 13:38:13,678] Trial 45 finished with value: 0.7971938775510204 and parameters: {'n_estimators': 600, 'num_leaves': 95, 'learning_rate': 0.07321243304905528, 'min_child_samples': 16, 'subsample': 0.7987622804972758, 'colsample_bytree': 0.8800999833690497, 'reg_alpha': 0.7293212470561425, 'reg_lambda': 1.0556877137893894}. Best is trial 35 with value: 0.8304421768707483.\n",
      "[I 2025-10-02 13:38:14,187] Trial 46 finished with value: 0.8014455782312926 and parameters: {'n_estimators': 600, 'num_leaves': 95, 'learning_rate': 0.08396586555110429, 'min_child_samples': 39, 'subsample': 0.7541304313248334, 'colsample_bytree': 0.907069747053746, 'reg_alpha': 0.3513626365205089, 'reg_lambda': 1.1912184806991095}. Best is trial 35 with value: 0.8304421768707483.\n",
      "[I 2025-10-02 13:38:14,809] Trial 47 finished with value: 0.8179421768707483 and parameters: {'n_estimators': 700, 'num_leaves': 127, 'learning_rate': 0.06444759293250049, 'min_child_samples': 38, 'subsample': 0.7625736195659667, 'colsample_bytree': 0.8792127359564994, 'reg_alpha': 0.0792176027251737, 'reg_lambda': 1.0339071175240577}. Best is trial 35 with value: 0.8304421768707483.\n",
      "[I 2025-10-02 13:38:15,358] Trial 48 finished with value: 0.8056972789115647 and parameters: {'n_estimators': 800, 'num_leaves': 159, 'learning_rate': 0.09963089160751012, 'min_child_samples': 40, 'subsample': 0.8247907714171521, 'colsample_bytree': 0.8406834406620004, 'reg_alpha': 0.6026292227554831, 'reg_lambda': 0.9343753052013051}. Best is trial 35 with value: 0.8304421768707483.\n",
      "[I 2025-10-02 13:38:15,725] Trial 49 finished with value: 0.8098639455782312 and parameters: {'n_estimators': 600, 'num_leaves': 127, 'learning_rate': 0.13440263873678848, 'min_child_samples': 34, 'subsample': 0.7879360732917012, 'colsample_bytree': 0.7298754057049394, 'reg_alpha': 0.7758991998680194, 'reg_lambda': 1.4051600041505385}. Best is trial 35 with value: 0.8304421768707483.\n",
      "[I 2025-10-02 13:38:16,175] A new study created in memory with name: cat_simple\n",
      "[I 2025-10-02 13:38:18,827] Trial 0 finished with value: 0.7848639455782312 and parameters: {'n_estimators': 1000, 'depth': 5, 'learning_rate': 0.17037383942631784, 'l2_leaf_reg': 5.697413542898305, 'subsample': 0.9945601217961042}. Best is trial 0 with value: 0.7848639455782312.\n",
      "[I 2025-10-02 13:38:27,385] Trial 1 finished with value: 0.7810374149659863 and parameters: {'n_estimators': 1000, 'depth': 10, 'learning_rate': 0.09022227854055363, 'l2_leaf_reg': 2.6418539509028345, 'subsample': 0.7516706230764105}. Best is trial 0 with value: 0.7848639455782312.\n",
      "[I 2025-10-02 13:38:30,698] Trial 2 finished with value: 0.7765306122448979 and parameters: {'n_estimators': 1000, 'depth': 5, 'learning_rate': 0.09460253242820325, 'l2_leaf_reg': 1.1971795050498637, 'subsample': 0.803954199931691}. Best is trial 0 with value: 0.7848639455782312.\n",
      "[I 2025-10-02 13:38:38,808] Trial 3 finished with value: 0.7811224489795918 and parameters: {'n_estimators': 800, 'depth': 10, 'learning_rate': 0.13557282016196254, 'l2_leaf_reg': 4.643298983331137, 'subsample': 0.7153689693065252}. Best is trial 0 with value: 0.7848639455782312.\n",
      "c:\\Users\\USER\\anaconda3\\envs\\ml\\lib\\site-packages\\sklearn\\model_selection\\_validation.py:516: FitFailedWarning: \n",
      "2 fits failed out of a total of 5.\n",
      "The score on these train-test partitions for these parameters will be set to nan.\n",
      "If these failures are not expected, you can try to debug them by setting error_score='raise'.\n",
      "\n",
      "Below are more details about the failures:\n",
      "--------------------------------------------------------------------------------\n",
      "2 fits failed with the following error:\n",
      "Traceback (most recent call last):\n",
      "  File \"c:\\Users\\USER\\anaconda3\\envs\\ml\\lib\\site-packages\\sklearn\\model_selection\\_validation.py\", line 859, in _fit_and_score\n",
      "    estimator.fit(X_train, y_train, **fit_params)\n",
      "  File \"c:\\Users\\USER\\anaconda3\\envs\\ml\\lib\\site-packages\\catboost\\core.py\", line 5245, in fit\n",
      "    self._fit(X, y, cat_features, text_features, embedding_features, None, graph, sample_weight, None, None, None, None, baseline, use_best_model,\n",
      "  File \"c:\\Users\\USER\\anaconda3\\envs\\ml\\lib\\site-packages\\catboost\\core.py\", line 2410, in _fit\n",
      "    self._train(\n",
      "  File \"c:\\Users\\USER\\anaconda3\\envs\\ml\\lib\\site-packages\\catboost\\core.py\", line 1790, in _train\n",
      "    self._object._train(train_pool, test_pool, params, allow_clear_pool, init_model._object if init_model else None)\n",
      "  File \"_catboost.pyx\", line 5023, in _catboost._CatBoost._train\n",
      "  File \"_catboost.pyx\", line 5072, in _catboost._CatBoost._train\n",
      "_catboost.CatBoostError: catboost/libs/train_lib/dir_helper.cpp:26: Can't create train tmp dir: tmp\n",
      "\n",
      "  warnings.warn(some_fits_failed_message, FitFailedWarning)\n",
      "[W 2025-10-02 13:38:57,051] Trial 4 failed with parameters: {'n_estimators': 1200, 'depth': 10, 'learning_rate': 0.03768637573929851, 'l2_leaf_reg': 4.673053573502184, 'subsample': 0.9590703117622323} because of the following error: The value nan is not acceptable.\n",
      "[W 2025-10-02 13:38:57,051] Trial 4 failed with value nan.\n",
      "[I 2025-10-02 13:39:06,461] Trial 5 finished with value: 0.8013605442176871 and parameters: {'n_estimators': 1000, 'depth': 7, 'learning_rate': 0.08589507952625647, 'l2_leaf_reg': 5.936542230740766, 'subsample': 0.7650918540728637}. Best is trial 5 with value: 0.8013605442176871.\n",
      "[I 2025-10-02 13:39:11,104] Trial 6 finished with value: 0.79328231292517 and parameters: {'n_estimators': 1200, 'depth': 7, 'learning_rate': 0.09479490235213328, 'l2_leaf_reg': 2.042379459171487, 'subsample': 0.7707939901734847}. Best is trial 5 with value: 0.8013605442176871.\n",
      "[I 2025-10-02 13:39:19,907] Trial 7 finished with value: 0.7974489795918368 and parameters: {'n_estimators': 1000, 'depth': 7, 'learning_rate': 0.05297898872994214, 'l2_leaf_reg': 5.281359274781785, 'subsample': 0.7435478558934021}. Best is trial 5 with value: 0.8013605442176871.\n",
      "[I 2025-10-02 13:39:21,731] Trial 8 finished with value: 0.801530612244898 and parameters: {'n_estimators': 400, 'depth': 6, 'learning_rate': 0.1325031997033709, 'l2_leaf_reg': 2.6982281648757596, 'subsample': 0.7605436502498903}. Best is trial 8 with value: 0.801530612244898.\n",
      "[I 2025-10-02 13:39:26,045] Trial 9 finished with value: 0.7971938775510204 and parameters: {'n_estimators': 400, 'depth': 7, 'learning_rate': 0.1189995721586335, 'l2_leaf_reg': 5.094700529089465, 'subsample': 0.8427617869783637}. Best is trial 8 with value: 0.801530612244898.\n",
      "[I 2025-10-02 13:39:33,476] Trial 10 finished with value: 0.8139455782312925 and parameters: {'n_estimators': 400, 'depth': 10, 'learning_rate': 0.040688932879544934, 'l2_leaf_reg': 3.7768115868762018, 'subsample': 0.8019309330398109}. Best is trial 10 with value: 0.8139455782312925.\n",
      "[I 2025-10-02 13:39:36,885] Trial 11 finished with value: 0.8057823129251702 and parameters: {'n_estimators': 600, 'depth': 9, 'learning_rate': 0.026670706597578645, 'l2_leaf_reg': 4.176378268600665, 'subsample': 0.942091970063846}. Best is trial 10 with value: 0.8139455782312925.\n",
      "[I 2025-10-02 13:39:40,261] Trial 12 finished with value: 0.7971938775510204 and parameters: {'n_estimators': 600, 'depth': 9, 'learning_rate': 0.026256380912692993, 'l2_leaf_reg': 4.029707432641637, 'subsample': 0.9305669630627571}. Best is trial 10 with value: 0.8139455782312925.\n",
      "[I 2025-10-02 13:39:47,210] Trial 13 finished with value: 0.8137755102040817 and parameters: {'n_estimators': 600, 'depth': 9, 'learning_rate': 0.029562391208525947, 'l2_leaf_reg': 3.760832508918641, 'subsample': 0.9032266884050265}. Best is trial 10 with value: 0.8139455782312925.\n",
      "[I 2025-10-02 13:39:50,713] Trial 14 finished with value: 0.8056122448979591 and parameters: {'n_estimators': 600, 'depth': 9, 'learning_rate': 0.04039727390539226, 'l2_leaf_reg': 3.3739321539742644, 'subsample': 0.8830167182491949}. Best is trial 10 with value: 0.8139455782312925.\n",
      "[I 2025-10-02 13:39:52,655] Trial 15 finished with value: 0.8014455782312926 and parameters: {'n_estimators': 400, 'depth': 8, 'learning_rate': 0.037909904408018086, 'l2_leaf_reg': 3.4124353935354645, 'subsample': 0.8545023033723868}. Best is trial 10 with value: 0.8139455782312925.\n",
      "[I 2025-10-02 13:40:03,180] Trial 16 finished with value: 0.7973639455782313 and parameters: {'n_estimators': 600, 'depth': 10, 'learning_rate': 0.021484015252508048, 'l2_leaf_reg': 4.010576715578707, 'subsample': 0.8990019846705384}. Best is trial 10 with value: 0.8139455782312925.\n",
      "[I 2025-10-02 13:40:08,691] Trial 17 finished with value: 0.7974489795918368 and parameters: {'n_estimators': 800, 'depth': 8, 'learning_rate': 0.04019698249074527, 'l2_leaf_reg': 2.9019754180212303, 'subsample': 0.8159135743345416}. Best is trial 10 with value: 0.8139455782312925.\n",
      "[I 2025-10-02 13:40:10,529] Trial 18 finished with value: 0.8096938775510203 and parameters: {'n_estimators': 400, 'depth': 4, 'learning_rate': 0.05864925022311046, 'l2_leaf_reg': 4.529384532704446, 'subsample': 0.9912867796138085}. Best is trial 10 with value: 0.8139455782312925.\n",
      "[I 2025-10-02 13:40:16,863] Trial 19 finished with value: 0.8136904761904763 and parameters: {'n_estimators': 800, 'depth': 8, 'learning_rate': 0.03185582503741477, 'l2_leaf_reg': 2.0664531372138892, 'subsample': 0.8100975717276155}. Best is trial 10 with value: 0.8139455782312925.\n",
      "[I 2025-10-02 13:40:20,733] Trial 20 finished with value: 0.7892006802721088 and parameters: {'n_estimators': 600, 'depth': 9, 'learning_rate': 0.04943466127362473, 'l2_leaf_reg': 3.5761073587656442, 'subsample': 0.9449936358712787}. Best is trial 10 with value: 0.8139455782312925.\n",
      "[I 2025-10-02 13:40:24,668] Trial 21 finished with value: 0.8263605442176871 and parameters: {'n_estimators': 400, 'depth': 10, 'learning_rate': 0.021071231477088555, 'l2_leaf_reg': 4.816174747380508, 'subsample': 0.8864968416084281}. Best is trial 21 with value: 0.8263605442176871.\n",
      "[I 2025-10-02 13:40:28,642] Trial 22 finished with value: 0.8180272108843537 and parameters: {'n_estimators': 400, 'depth': 10, 'learning_rate': 0.020274551265810015, 'l2_leaf_reg': 4.789810440106408, 'subsample': 0.8913650194977125}. Best is trial 21 with value: 0.8263605442176871.\n",
      "[I 2025-10-02 13:40:32,725] Trial 23 finished with value: 0.8057823129251702 and parameters: {'n_estimators': 400, 'depth': 10, 'learning_rate': 0.020440262633892425, 'l2_leaf_reg': 5.018923369652737, 'subsample': 0.8634431026777273}. Best is trial 21 with value: 0.8263605442176871.\n",
      "[I 2025-10-02 13:40:36,510] Trial 24 finished with value: 0.8139455782312925 and parameters: {'n_estimators': 400, 'depth': 10, 'learning_rate': 0.023998284578412833, 'l2_leaf_reg': 4.648383744812737, 'subsample': 0.8325772920653489}. Best is trial 21 with value: 0.8263605442176871.\n",
      "[I 2025-10-02 13:40:40,624] Trial 25 finished with value: 0.7973639455782313 and parameters: {'n_estimators': 400, 'depth': 10, 'learning_rate': 0.07129221524743697, 'l2_leaf_reg': 5.481143223467008, 'subsample': 0.8766075145458715}. Best is trial 21 with value: 0.8263605442176871.\n",
      "[I 2025-10-02 13:40:42,682] Trial 26 finished with value: 0.8098639455782314 and parameters: {'n_estimators': 400, 'depth': 9, 'learning_rate': 0.03249855478376361, 'l2_leaf_reg': 4.364442812608203, 'subsample': 0.9173735903457048}. Best is trial 21 with value: 0.8263605442176871.\n",
      "[I 2025-10-02 13:40:44,845] Trial 27 finished with value: 0.8138605442176872 and parameters: {'n_estimators': 600, 'depth': 8, 'learning_rate': 0.02294478983933108, 'l2_leaf_reg': 4.867675810027773, 'subsample': 0.7877820474073282}. Best is trial 21 with value: 0.8263605442176871.\n",
      "[I 2025-10-02 13:40:48,457] Trial 28 finished with value: 0.8098639455782314 and parameters: {'n_estimators': 400, 'depth': 10, 'learning_rate': 0.02012331557796814, 'l2_leaf_reg': 3.190046725047797, 'subsample': 0.8823242287912544}. Best is trial 21 with value: 0.8263605442176871.\n",
      "[I 2025-10-02 13:40:52,449] Trial 29 finished with value: 0.8181122448979592 and parameters: {'n_estimators': 800, 'depth': 9, 'learning_rate': 0.04586829367628829, 'l2_leaf_reg': 3.836819465796454, 'subsample': 0.9614411170982367}. Best is trial 21 with value: 0.8263605442176871.\n",
      "[I 2025-10-02 13:40:58,543] Trial 30 finished with value: 0.8138605442176872 and parameters: {'n_estimators': 1200, 'depth': 9, 'learning_rate': 0.07024908291710628, 'l2_leaf_reg': 5.4474884678189035, 'subsample': 0.9633657288931882}. Best is trial 21 with value: 0.8263605442176871.\n",
      "[I 2025-10-02 13:41:01,487] Trial 31 finished with value: 0.7846938775510204 and parameters: {'n_estimators': 800, 'depth': 8, 'learning_rate': 0.1775210233404526, 'l2_leaf_reg': 5.850702134639949, 'subsample': 0.9966564655894813}. Best is trial 21 with value: 0.8263605442176871.\n",
      "[I 2025-10-02 13:41:05,523] Trial 32 finished with value: 0.7931972789115647 and parameters: {'n_estimators': 400, 'depth': 10, 'learning_rate': 0.0469319537193856, 'l2_leaf_reg': 3.8032232427263213, 'subsample': 0.9627155844609362}. Best is trial 21 with value: 0.8263605442176871.\n",
      "[I 2025-10-02 13:41:11,161] Trial 33 finished with value: 0.8056122448979591 and parameters: {'n_estimators': 600, 'depth': 10, 'learning_rate': 0.03482815858896209, 'l2_leaf_reg': 4.2637354922702295, 'subsample': 0.9681012434424354}. Best is trial 21 with value: 0.8263605442176871.\n",
      "[I 2025-10-02 13:41:18,930] Trial 34 finished with value: 0.7933673469387755 and parameters: {'n_estimators': 800, 'depth': 10, 'learning_rate': 0.02805749268245227, 'l2_leaf_reg': 4.898368550579829, 'subsample': 0.8267209493278237}. Best is trial 21 with value: 0.8263605442176871.\n",
      "[I 2025-10-02 13:41:21,125] Trial 35 finished with value: 0.7971938775510204 and parameters: {'n_estimators': 400, 'depth': 9, 'learning_rate': 0.04350113007749981, 'l2_leaf_reg': 4.549690662619362, 'subsample': 0.9162340913755613}. Best is trial 21 with value: 0.8263605442176871.\n",
      "[I 2025-10-02 13:41:36,289] Trial 36 finished with value: 0.8017006802721088 and parameters: {'n_estimators': 1200, 'depth': 10, 'learning_rate': 0.024607338312763773, 'l2_leaf_reg': 3.1154615183816956, 'subsample': 0.7934446071689982}. Best is trial 21 with value: 0.8263605442176871.\n",
      "[I 2025-10-02 13:41:47,869] Trial 37 finished with value: 0.7930272108843538 and parameters: {'n_estimators': 1000, 'depth': 5, 'learning_rate': 0.05498521576456734, 'l2_leaf_reg': 3.7561502142031413, 'subsample': 0.7138711226351335}. Best is trial 21 with value: 0.8263605442176871.\n",
      "[I 2025-10-02 13:42:08,579] Trial 38 finished with value: 0.8099489795918368 and parameters: {'n_estimators': 600, 'depth': 10, 'learning_rate': 0.035215006295126125, 'l2_leaf_reg': 1.0441502900234827, 'subsample': 0.86419985504989}. Best is trial 21 with value: 0.8263605442176871.\n",
      "[I 2025-10-02 13:42:13,070] Trial 39 finished with value: 0.8055272108843538 and parameters: {'n_estimators': 800, 'depth': 6, 'learning_rate': 0.07038030599072732, 'l2_leaf_reg': 2.404601000700456, 'subsample': 0.9060714973266984}. Best is trial 21 with value: 0.8263605442176871.\n"
     ]
    }
   ],
   "execution_count": 30
  },
  {
   "metadata": {
    "ExecuteTime": {
     "end_time": "2025-10-02T06:43:25.519775Z",
     "start_time": "2025-10-02T06:42:35.541767Z"
    }
   },
   "cell_type": "code",
   "source": "out_xgb  = optuna_tune_simple(\"xgb\",  X_train, y_train)",
   "id": "65ede63bf842bc5a",
   "outputs": [
    {
     "name": "stderr",
     "output_type": "stream",
     "text": [
      "[I 2025-10-02 13:42:35,697] A new study created in memory with name: xgb_simple\n",
      "[I 2025-10-02 13:42:41,428] Trial 0 finished with value: 0.7972789115646258 and parameters: {'n_estimators': 900, 'max_depth': 5, 'learning_rate': 0.02053968367219193, 'subsample': 0.7315237366095565, 'colsample_bytree': 0.9261099549174255, 'reg_alpha': 0.5761406258911163, 'reg_lambda': 0.618994862774295}. Best is trial 0 with value: 0.7972789115646258.\n",
      "[I 2025-10-02 13:42:43,769] Trial 1 finished with value: 0.8013605442176871 and parameters: {'n_estimators': 700, 'max_depth': 7, 'learning_rate': 0.09528007633950394, 'subsample': 0.8609195769274559, 'colsample_bytree': 0.8946291419486162, 'reg_alpha': 0.9964898111478593, 'reg_lambda': 1.4482586179778938}. Best is trial 1 with value: 0.8013605442176871.\n",
      "[I 2025-10-02 13:42:57,309] Trial 2 finished with value: 0.78078231292517 and parameters: {'n_estimators': 900, 'max_depth': 7, 'learning_rate': 0.16527285740317332, 'subsample': 0.8715433405873897, 'colsample_bytree': 0.7951115829542355, 'reg_alpha': 0.17951374412549803, 'reg_lambda': 1.2027877397602609}. Best is trial 1 with value: 0.8013605442176871.\n",
      "[I 2025-10-02 13:42:59,711] Trial 3 finished with value: 0.7971938775510204 and parameters: {'n_estimators': 1000, 'max_depth': 3, 'learning_rate': 0.11952427767418017, 'subsample': 0.9061739187500861, 'colsample_bytree': 0.9745778355015478, 'reg_alpha': 0.3117166356452702, 'reg_lambda': 0.5998873456707383}. Best is trial 1 with value: 0.8013605442176871.\n",
      "[I 2025-10-02 13:43:00,055] Trial 4 finished with value: 0.7971938775510204 and parameters: {'n_estimators': 600, 'max_depth': 7, 'learning_rate': 0.13833539869419437, 'subsample': 0.7650114507619266, 'colsample_bytree': 0.7867586216695308, 'reg_alpha': 0.6940731181853977, 'reg_lambda': 0.8722865903593048}. Best is trial 1 with value: 0.8013605442176871.\n",
      "[I 2025-10-02 13:43:00,543] Trial 5 finished with value: 0.7930272108843537 and parameters: {'n_estimators': 800, 'max_depth': 5, 'learning_rate': 0.09486450979457342, 'subsample': 0.880149065974884, 'colsample_bytree': 0.7333089777665625, 'reg_alpha': 0.9648382022893676, 'reg_lambda': 1.520920619547646}. Best is trial 1 with value: 0.8013605442176871.\n",
      "[I 2025-10-02 13:43:00,831] Trial 6 finished with value: 0.8096938775510203 and parameters: {'n_estimators': 500, 'max_depth': 3, 'learning_rate': 0.0242339694175789, 'subsample': 0.7058833598141248, 'colsample_bytree': 0.8311320575141556, 'reg_alpha': 0.7186985376723445, 'reg_lambda': 1.7554381959697745}. Best is trial 6 with value: 0.8096938775510203.\n",
      "[I 2025-10-02 13:43:01,123] Trial 7 finished with value: 0.7847789115646259 and parameters: {'n_estimators': 600, 'max_depth': 5, 'learning_rate': 0.06072251527361116, 'subsample': 0.889410559603399, 'colsample_bytree': 0.7427221002483094, 'reg_alpha': 0.04404748559718541, 'reg_lambda': 1.7187917538522144}. Best is trial 6 with value: 0.8096938775510203.\n",
      "[I 2025-10-02 13:43:01,489] Trial 8 finished with value: 0.7931122448979592 and parameters: {'n_estimators': 700, 'max_depth': 7, 'learning_rate': 0.05138102356601726, 'subsample': 0.8615225490122718, 'colsample_bytree': 0.7258946511385368, 'reg_alpha': 0.3869975247406843, 'reg_lambda': 1.2720796597845054}. Best is trial 6 with value: 0.8096938775510203.\n",
      "[I 2025-10-02 13:43:01,838] Trial 9 finished with value: 0.8139455782312925 and parameters: {'n_estimators': 700, 'max_depth': 6, 'learning_rate': 0.04361789442938584, 'subsample': 0.7948574083363877, 'colsample_bytree': 0.7574706679753024, 'reg_alpha': 0.1964367107224082, 'reg_lambda': 0.522249387534729}. Best is trial 9 with value: 0.8139455782312925.\n",
      "[I 2025-10-02 13:43:02,139] Trial 10 finished with value: 0.7808673469387755 and parameters: {'n_estimators': 300, 'max_depth': 8, 'learning_rate': 0.036951978632465556, 'subsample': 0.9931614452923676, 'colsample_bytree': 0.8684137572185671, 'reg_alpha': 0.00481433565316397, 'reg_lambda': 0.9440501333228113}. Best is trial 9 with value: 0.8139455782312925.\n",
      "[I 2025-10-02 13:43:02,390] Trial 11 finished with value: 0.8178571428571428 and parameters: {'n_estimators': 400, 'max_depth': 3, 'learning_rate': 0.025872958464223394, 'subsample': 0.7754210995329939, 'colsample_bytree': 0.8263578422159973, 'reg_alpha': 0.7323015361775727, 'reg_lambda': 1.9884456733217881}. Best is trial 11 with value: 0.8178571428571428.\n",
      "[I 2025-10-02 13:43:02,602] Trial 12 finished with value: 0.8179421768707483 and parameters: {'n_estimators': 400, 'max_depth': 4, 'learning_rate': 0.0343796329533941, 'subsample': 0.7929390753158365, 'colsample_bytree': 0.7980976532947479, 'reg_alpha': 0.7875345499638495, 'reg_lambda': 1.9731171627749524}. Best is trial 12 with value: 0.8179421768707483.\n",
      "[I 2025-10-02 13:43:02,753] Trial 13 finished with value: 0.8056122448979591 and parameters: {'n_estimators': 300, 'max_depth': 4, 'learning_rate': 0.031165397220296136, 'subsample': 0.8030465083239665, 'colsample_bytree': 0.8192065124902785, 'reg_alpha': 0.7920815514333757, 'reg_lambda': 1.9571834075045265}. Best is trial 12 with value: 0.8179421768707483.\n",
      "[I 2025-10-02 13:43:02,954] Trial 14 finished with value: 0.8096938775510203 and parameters: {'n_estimators': 400, 'max_depth': 4, 'learning_rate': 0.029087126379833725, 'subsample': 0.8138672898362787, 'colsample_bytree': 0.8521849521700409, 'reg_alpha': 0.8350223025691756, 'reg_lambda': 1.985227925498788}. Best is trial 12 with value: 0.8179421768707483.\n",
      "[I 2025-10-02 13:43:03,152] Trial 15 finished with value: 0.801530612244898 and parameters: {'n_estimators': 400, 'max_depth': 4, 'learning_rate': 0.03942206807798253, 'subsample': 0.7571041345357805, 'colsample_bytree': 0.7821799306802698, 'reg_alpha': 0.5533969257948973, 'reg_lambda': 1.7852573843171655}. Best is trial 12 with value: 0.8179421768707483.\n",
      "[I 2025-10-02 13:43:03,356] Trial 16 finished with value: 0.8013605442176871 and parameters: {'n_estimators': 500, 'max_depth': 3, 'learning_rate': 0.027067401295061046, 'subsample': 0.8245145608544081, 'colsample_bytree': 0.8945718393644885, 'reg_alpha': 0.8569177058324075, 'reg_lambda': 1.567426975429499}. Best is trial 12 with value: 0.8179421768707483.\n",
      "[I 2025-10-02 13:43:03,541] Trial 17 finished with value: 0.7930272108843537 and parameters: {'n_estimators': 400, 'max_depth': 4, 'learning_rate': 0.0730497278801139, 'subsample': 0.930010553920011, 'colsample_bytree': 0.7073526825763903, 'reg_alpha': 0.6808517543137155, 'reg_lambda': 1.8404235212520115}. Best is trial 12 with value: 0.8179421768707483.\n",
      "[I 2025-10-02 13:43:03,788] Trial 18 finished with value: 0.8096938775510203 and parameters: {'n_estimators': 500, 'max_depth': 3, 'learning_rate': 0.021115181096677548, 'subsample': 0.7767051467516, 'colsample_bytree': 0.8166634860409887, 'reg_alpha': 0.4562945954837648, 'reg_lambda': 1.6423862982520563}. Best is trial 12 with value: 0.8179421768707483.\n",
      "[I 2025-10-02 13:43:03,994] Trial 19 finished with value: 0.8096088435374149 and parameters: {'n_estimators': 300, 'max_depth': 4, 'learning_rate': 0.03402851349512234, 'subsample': 0.7361898715367651, 'colsample_bytree': 0.9436613525714834, 'reg_alpha': 0.615383208675748, 'reg_lambda': 1.3862344556690083}. Best is trial 12 with value: 0.8179421768707483.\n",
      "[I 2025-10-02 13:43:04,260] Trial 20 finished with value: 0.8097789115646258 and parameters: {'n_estimators': 400, 'max_depth': 6, 'learning_rate': 0.04948111439073802, 'subsample': 0.8293308984955369, 'colsample_bytree': 0.8732605582155141, 'reg_alpha': 0.9015336534716634, 'reg_lambda': 1.8808064997054423}. Best is trial 12 with value: 0.8179421768707483.\n",
      "[I 2025-10-02 13:43:04,585] Trial 21 finished with value: 0.7971938775510204 and parameters: {'n_estimators': 600, 'max_depth': 6, 'learning_rate': 0.04528389705143733, 'subsample': 0.7827299327766569, 'colsample_bytree': 0.7636258538531083, 'reg_alpha': 0.2792119485143036, 'reg_lambda': 1.0191815205666517}. Best is trial 12 with value: 0.8179421768707483.\n",
      "[I 2025-10-02 13:43:04,953] Trial 22 finished with value: 0.7972789115646258 and parameters: {'n_estimators': 800, 'max_depth': 6, 'learning_rate': 0.04068289924719727, 'subsample': 0.7928574944339076, 'colsample_bytree': 0.7781432237345135, 'reg_alpha': 0.12922806218263988, 'reg_lambda': 0.7567363528981763}. Best is trial 12 with value: 0.8179421768707483.\n",
      "[I 2025-10-02 13:43:05,207] Trial 23 finished with value: 0.7931122448979592 and parameters: {'n_estimators': 500, 'max_depth': 5, 'learning_rate': 0.06064160824559475, 'subsample': 0.7466232966327244, 'colsample_bytree': 0.7530177529013, 'reg_alpha': 0.7627727209258053, 'reg_lambda': 1.1007249399770975}. Best is trial 12 with value: 0.8179421768707483.\n",
      "[I 2025-10-02 13:43:05,509] Trial 24 finished with value: 0.8096088435374149 and parameters: {'n_estimators': 700, 'max_depth': 3, 'learning_rate': 0.02495336577116545, 'subsample': 0.8341483281794922, 'colsample_bytree': 0.8030187629677209, 'reg_alpha': 0.4198767579402618, 'reg_lambda': 0.5298263189577128}. Best is trial 12 with value: 0.8179421768707483.\n",
      "[I 2025-10-02 13:43:06,217] Trial 25 finished with value: 0.7973639455782313 and parameters: {'n_estimators': 800, 'max_depth': 6, 'learning_rate': 0.03423062644921628, 'subsample': 0.7054365471433827, 'colsample_bytree': 0.8364639208581599, 'reg_alpha': 0.6155719741142611, 'reg_lambda': 0.7894426663447902}. Best is trial 12 with value: 0.8179421768707483.\n",
      "[I 2025-10-02 13:43:06,505] Trial 26 finished with value: 0.7930272108843537 and parameters: {'n_estimators': 600, 'max_depth': 8, 'learning_rate': 0.07617806394868931, 'subsample': 0.797228207889717, 'colsample_bytree': 0.7674407857520251, 'reg_alpha': 0.5245330187470807, 'reg_lambda': 1.9921920851340458}. Best is trial 12 with value: 0.8179421768707483.\n",
      "[I 2025-10-02 13:43:06,785] Trial 27 finished with value: 0.7971938775510204 and parameters: {'n_estimators': 400, 'max_depth': 4, 'learning_rate': 0.045058847719421875, 'subsample': 0.8426723970094899, 'colsample_bytree': 0.7127191168496811, 'reg_alpha': 0.9083014012070489, 'reg_lambda': 1.6489638169251415}. Best is trial 12 with value: 0.8179421768707483.\n",
      "[I 2025-10-02 13:43:07,188] Trial 28 finished with value: 0.7973639455782313 and parameters: {'n_estimators': 500, 'max_depth': 5, 'learning_rate': 0.028821263482244987, 'subsample': 0.7658803815452301, 'colsample_bytree': 0.8048221800173861, 'reg_alpha': 0.21005762723721202, 'reg_lambda': 1.3194581704581487}. Best is trial 12 with value: 0.8179421768707483.\n",
      "[I 2025-10-02 13:43:07,502] Trial 29 finished with value: 0.8179421768707481 and parameters: {'n_estimators': 900, 'max_depth': 3, 'learning_rate': 0.020662523404433353, 'subsample': 0.731073037477002, 'colsample_bytree': 0.8456415567982503, 'reg_alpha': 0.6305153280138184, 'reg_lambda': 1.1561204643352492}. Best is trial 12 with value: 0.8179421768707483.\n",
      "[I 2025-10-02 13:43:07,894] Trial 30 finished with value: 0.8137755102040817 and parameters: {'n_estimators': 1000, 'max_depth': 3, 'learning_rate': 0.020787887766609114, 'subsample': 0.7195677926791612, 'colsample_bytree': 0.9163961517334855, 'reg_alpha': 0.6163270675347277, 'reg_lambda': 1.1397470077386318}. Best is trial 12 with value: 0.8179421768707483.\n",
      "[I 2025-10-02 13:43:08,377] Trial 31 finished with value: 0.8055272108843538 and parameters: {'n_estimators': 900, 'max_depth': 3, 'learning_rate': 0.02362879788770238, 'subsample': 0.7479522866854073, 'colsample_bytree': 0.8616984088069497, 'reg_alpha': 0.7436477503386221, 'reg_lambda': 0.6946579206970617}. Best is trial 12 with value: 0.8179421768707483.\n",
      "[I 2025-10-02 13:43:08,821] Trial 32 finished with value: 0.8096088435374149 and parameters: {'n_estimators': 800, 'max_depth': 4, 'learning_rate': 0.02079921237776344, 'subsample': 0.7294629925673463, 'colsample_bytree': 0.8368372128322121, 'reg_alpha': 0.6614943392694519, 'reg_lambda': 1.8598866374487548}. Best is trial 12 with value: 0.8179421768707483.\n",
      "[I 2025-10-02 13:43:09,225] Trial 33 finished with value: 0.7972789115646258 and parameters: {'n_estimators': 900, 'max_depth': 3, 'learning_rate': 0.03200687635108818, 'subsample': 0.7797162364040268, 'colsample_bytree': 0.8903799346825758, 'reg_alpha': 0.4788160413326593, 'reg_lambda': 1.474061940504182}. Best is trial 12 with value: 0.8179421768707483.\n",
      "[I 2025-10-02 13:43:09,602] Trial 34 finished with value: 0.8055272108843538 and parameters: {'n_estimators': 700, 'max_depth': 5, 'learning_rate': 0.025997533285129822, 'subsample': 0.8148474320910685, 'colsample_bytree': 0.8181513812723495, 'reg_alpha': 0.8077271899054221, 'reg_lambda': 1.3975607630648434}. Best is trial 12 with value: 0.8179421768707483.\n",
      "[I 2025-10-02 13:43:10,197] Trial 35 finished with value: 0.8056972789115646 and parameters: {'n_estimators': 1000, 'max_depth': 3, 'learning_rate': 0.037529684032473205, 'subsample': 0.7260345830115327, 'colsample_bytree': 0.7987783035403376, 'reg_alpha': 0.3311688328662521, 'reg_lambda': 0.9932207807799719}. Best is trial 12 with value: 0.8179421768707483.\n",
      "[I 2025-10-02 13:43:15,215] Trial 36 finished with value: 0.7973639455782313 and parameters: {'n_estimators': 300, 'max_depth': 4, 'learning_rate': 0.18495369497576566, 'subsample': 0.7673462587335679, 'colsample_bytree': 0.7513711037208894, 'reg_alpha': 0.5799510207723524, 'reg_lambda': 0.5082445386567928}. Best is trial 12 with value: 0.8179421768707483.\n",
      "[I 2025-10-02 13:43:15,666] Trial 37 finished with value: 0.8098639455782312 and parameters: {'n_estimators': 800, 'max_depth': 7, 'learning_rate': 0.022445898847312927, 'subsample': 0.7425087124442512, 'colsample_bytree': 0.8409236624691045, 'reg_alpha': 0.6667055986804995, 'reg_lambda': 0.6395092729169012}. Best is trial 12 with value: 0.8179421768707483.\n",
      "[I 2025-10-02 13:43:15,881] Trial 38 finished with value: 0.8013605442176871 and parameters: {'n_estimators': 600, 'max_depth': 3, 'learning_rate': 0.054359081491739375, 'subsample': 0.8052323403737071, 'colsample_bytree': 0.9827125849972428, 'reg_alpha': 0.7358842488657439, 'reg_lambda': 1.2130186894877262}. Best is trial 12 with value: 0.8179421768707483.\n",
      "[I 2025-10-02 13:43:16,273] Trial 39 finished with value: 0.8097789115646258 and parameters: {'n_estimators': 900, 'max_depth': 7, 'learning_rate': 0.028855863295579553, 'subsample': 0.7162032239949573, 'colsample_bytree': 0.7765607087211166, 'reg_alpha': 0.9799136007913948, 'reg_lambda': 0.8776056242059911}. Best is trial 12 with value: 0.8179421768707483.\n"
     ]
    }
   ],
   "execution_count": 31
  },
  {
   "metadata": {
    "ExecuteTime": {
     "end_time": "2025-10-02T06:36:27.288243Z",
     "start_time": "2025-10-02T06:31:23.566944Z"
    }
   },
   "cell_type": "code",
   "source": [
    "out_rf = optuna_tune_simple(\"rf\", X_train, y_train)\n",
    "out_gb = optuna_tune_simple('gb', X_train, y_train)"
   ],
   "id": "3a50d76b845893a0",
   "outputs": [
    {
     "name": "stderr",
     "output_type": "stream",
     "text": [
      "[I 2025-10-02 13:31:23,568] A new study created in memory with name: rf_simple\n",
      "[I 2025-10-02 13:31:25,778] Trial 0 finished with value: 0.8180272108843537 and parameters: {'n_estimators': 300, 'max_depth': 20, 'min_samples_split': 5, 'min_samples_leaf': 3}. Best is trial 0 with value: 0.8180272108843537.\n",
      "[I 2025-10-02 13:31:28,279] Trial 1 finished with value: 0.8180272108843537 and parameters: {'n_estimators': 300, 'max_depth': 30, 'min_samples_split': 3, 'min_samples_leaf': 3}. Best is trial 0 with value: 0.8180272108843537.\n",
      "[I 2025-10-02 13:31:38,759] Trial 2 finished with value: 0.8179421768707481 and parameters: {'n_estimators': 900, 'max_depth': 20, 'min_samples_split': 9, 'min_samples_leaf': 2}. Best is trial 0 with value: 0.8180272108843537.\n",
      "[I 2025-10-02 13:31:44,161] Trial 3 finished with value: 0.8096938775510203 and parameters: {'n_estimators': 900, 'max_depth': None, 'min_samples_split': 10, 'min_samples_leaf': 3}. Best is trial 0 with value: 0.8180272108843537.\n",
      "[I 2025-10-02 13:31:47,769] Trial 4 finished with value: 0.8096938775510203 and parameters: {'n_estimators': 600, 'max_depth': None, 'min_samples_split': 7, 'min_samples_leaf': 3}. Best is trial 0 with value: 0.8180272108843537.\n",
      "[I 2025-10-02 13:31:51,415] Trial 5 finished with value: 0.8180272108843537 and parameters: {'n_estimators': 600, 'max_depth': 12, 'min_samples_split': 8, 'min_samples_leaf': 3}. Best is trial 0 with value: 0.8180272108843537.\n",
      "[I 2025-10-02 13:31:53,331] Trial 6 finished with value: 0.8220238095238095 and parameters: {'n_estimators': 300, 'max_depth': 30, 'min_samples_split': 10, 'min_samples_leaf': 1}. Best is trial 6 with value: 0.8220238095238095.\n",
      "[I 2025-10-02 13:31:59,100] Trial 7 finished with value: 0.8221938775510204 and parameters: {'n_estimators': 900, 'max_depth': 12, 'min_samples_split': 7, 'min_samples_leaf': 1}. Best is trial 7 with value: 0.8221938775510204.\n",
      "[I 2025-10-02 13:32:04,478] Trial 8 finished with value: 0.8180272108843537 and parameters: {'n_estimators': 900, 'max_depth': None, 'min_samples_split': 4, 'min_samples_leaf': 3}. Best is trial 7 with value: 0.8221938775510204.\n",
      "[I 2025-10-02 13:32:09,902] Trial 9 finished with value: 0.8221088435374149 and parameters: {'n_estimators': 900, 'max_depth': 20, 'min_samples_split': 8, 'min_samples_leaf': 4}. Best is trial 7 with value: 0.8221938775510204.\n",
      "[I 2025-10-02 13:32:13,658] Trial 10 finished with value: 0.8056122448979591 and parameters: {'n_estimators': 600, 'max_depth': 12, 'min_samples_split': 2, 'min_samples_leaf': 1}. Best is trial 7 with value: 0.8221938775510204.\n",
      "[I 2025-10-02 13:32:19,182] Trial 11 finished with value: 0.8221088435374149 and parameters: {'n_estimators': 900, 'max_depth': 20, 'min_samples_split': 6, 'min_samples_leaf': 4}. Best is trial 7 with value: 0.8221938775510204.\n",
      "[I 2025-10-02 13:32:24,682] Trial 12 finished with value: 0.8221088435374149 and parameters: {'n_estimators': 900, 'max_depth': 12, 'min_samples_split': 7, 'min_samples_leaf': 4}. Best is trial 7 with value: 0.8221938775510204.\n",
      "[I 2025-10-02 13:32:30,410] Trial 13 finished with value: 0.8138605442176872 and parameters: {'n_estimators': 900, 'max_depth': 12, 'min_samples_split': 8, 'min_samples_leaf': 2}. Best is trial 7 with value: 0.8221938775510204.\n",
      "[I 2025-10-02 13:32:34,140] Trial 14 finished with value: 0.8179421768707481 and parameters: {'n_estimators': 600, 'max_depth': 20, 'min_samples_split': 6, 'min_samples_leaf': 1}. Best is trial 7 with value: 0.8221938775510204.\n",
      "[I 2025-10-02 13:32:40,983] Trial 15 finished with value: 0.8138605442176872 and parameters: {'n_estimators': 900, 'max_depth': 12, 'min_samples_split': 8, 'min_samples_leaf': 2}. Best is trial 7 with value: 0.8221938775510204.\n",
      "[I 2025-10-02 13:32:46,684] Trial 16 finished with value: 0.8138605442176872 and parameters: {'n_estimators': 600, 'max_depth': 20, 'min_samples_split': 5, 'min_samples_leaf': 4}. Best is trial 7 with value: 0.8221938775510204.\n",
      "[I 2025-10-02 13:32:54,504] Trial 17 finished with value: 0.8180272108843537 and parameters: {'n_estimators': 900, 'max_depth': 30, 'min_samples_split': 7, 'min_samples_leaf': 2}. Best is trial 7 with value: 0.8221938775510204.\n",
      "[I 2025-10-02 13:33:02,258] Trial 18 finished with value: 0.8138605442176872 and parameters: {'n_estimators': 900, 'max_depth': 20, 'min_samples_split': 5, 'min_samples_leaf': 1}. Best is trial 7 with value: 0.8221938775510204.\n",
      "[I 2025-10-02 13:33:09,381] Trial 19 finished with value: 0.8056122448979591 and parameters: {'n_estimators': 600, 'max_depth': 12, 'min_samples_split': 9, 'min_samples_leaf': 4}. Best is trial 7 with value: 0.8221938775510204.\n",
      "[I 2025-10-02 13:33:16,537] Trial 20 finished with value: 0.8137755102040816 and parameters: {'n_estimators': 600, 'max_depth': 12, 'min_samples_split': 9, 'min_samples_leaf': 2}. Best is trial 7 with value: 0.8221938775510204.\n",
      "[I 2025-10-02 13:33:25,413] Trial 21 finished with value: 0.8221088435374149 and parameters: {'n_estimators': 900, 'max_depth': 20, 'min_samples_split': 6, 'min_samples_leaf': 4}. Best is trial 7 with value: 0.8221938775510204.\n",
      "[I 2025-10-02 13:33:31,425] Trial 22 finished with value: 0.8221088435374149 and parameters: {'n_estimators': 900, 'max_depth': 20, 'min_samples_split': 7, 'min_samples_leaf': 4}. Best is trial 7 with value: 0.8221938775510204.\n",
      "[I 2025-10-02 13:33:38,347] Trial 23 finished with value: 0.8221088435374149 and parameters: {'n_estimators': 900, 'max_depth': 20, 'min_samples_split': 6, 'min_samples_leaf': 4}. Best is trial 7 with value: 0.8221938775510204.\n",
      "[I 2025-10-02 13:33:44,878] Trial 24 finished with value: 0.8221088435374149 and parameters: {'n_estimators': 900, 'max_depth': 20, 'min_samples_split': 8, 'min_samples_leaf': 4}. Best is trial 7 with value: 0.8221938775510204.\n",
      "[I 2025-10-02 13:33:52,854] Trial 25 finished with value: 0.8221088435374149 and parameters: {'n_estimators': 900, 'max_depth': 20, 'min_samples_split': 4, 'min_samples_leaf': 4}. Best is trial 7 with value: 0.8221938775510204.\n",
      "[I 2025-10-02 13:34:00,822] Trial 26 finished with value: 0.8138605442176872 and parameters: {'n_estimators': 900, 'max_depth': 30, 'min_samples_split': 7, 'min_samples_leaf': 3}. Best is trial 7 with value: 0.8221938775510204.\n",
      "[I 2025-10-02 13:34:07,803] Trial 27 finished with value: 0.8179421768707481 and parameters: {'n_estimators': 600, 'max_depth': None, 'min_samples_split': 6, 'min_samples_leaf': 1}. Best is trial 7 with value: 0.8221938775510204.\n",
      "[I 2025-10-02 13:34:13,347] Trial 28 finished with value: 0.8221088435374149 and parameters: {'n_estimators': 900, 'max_depth': 20, 'min_samples_split': 5, 'min_samples_leaf': 4}. Best is trial 7 with value: 0.8221938775510204.\n",
      "[I 2025-10-02 13:34:15,270] Trial 29 finished with value: 0.8180272108843537 and parameters: {'n_estimators': 300, 'max_depth': 20, 'min_samples_split': 4, 'min_samples_leaf': 3}. Best is trial 7 with value: 0.8221938775510204.\n",
      "[I 2025-10-02 13:34:20,613] Trial 30 finished with value: 0.8055272108843538 and parameters: {'n_estimators': 900, 'max_depth': 12, 'min_samples_split': 6, 'min_samples_leaf': 2}. Best is trial 7 with value: 0.8221938775510204.\n",
      "[I 2025-10-02 13:34:26,144] Trial 31 finished with value: 0.8221088435374149 and parameters: {'n_estimators': 900, 'max_depth': 12, 'min_samples_split': 7, 'min_samples_leaf': 4}. Best is trial 7 with value: 0.8221938775510204.\n",
      "[I 2025-10-02 13:34:32,051] Trial 32 finished with value: 0.8221088435374149 and parameters: {'n_estimators': 900, 'max_depth': 12, 'min_samples_split': 8, 'min_samples_leaf': 4}. Best is trial 7 with value: 0.8221938775510204.\n",
      "[I 2025-10-02 13:34:38,555] Trial 33 finished with value: 0.8221088435374149 and parameters: {'n_estimators': 900, 'max_depth': 12, 'min_samples_split': 7, 'min_samples_leaf': 4}. Best is trial 7 with value: 0.8221938775510204.\n",
      "[I 2025-10-02 13:34:46,577] Trial 34 finished with value: 0.8138605442176872 and parameters: {'n_estimators': 900, 'max_depth': 12, 'min_samples_split': 9, 'min_samples_leaf': 3}. Best is trial 7 with value: 0.8221938775510204.\n",
      "[I 2025-10-02 13:34:55,602] Trial 35 finished with value: 0.8221088435374149 and parameters: {'n_estimators': 900, 'max_depth': 30, 'min_samples_split': 6, 'min_samples_leaf': 4}. Best is trial 7 with value: 0.8221938775510204.\n",
      "[I 2025-10-02 13:35:02,833] Trial 36 finished with value: 0.8138605442176872 and parameters: {'n_estimators': 900, 'max_depth': None, 'min_samples_split': 9, 'min_samples_leaf': 3}. Best is trial 7 with value: 0.8221938775510204.\n",
      "[I 2025-10-02 13:35:08,474] Trial 37 finished with value: 0.8180272108843537 and parameters: {'n_estimators': 600, 'max_depth': 20, 'min_samples_split': 10, 'min_samples_leaf': 3}. Best is trial 7 with value: 0.8221938775510204.\n",
      "[I 2025-10-02 13:35:11,650] Trial 38 finished with value: 0.8180272108843537 and parameters: {'n_estimators': 300, 'max_depth': 12, 'min_samples_split': 7, 'min_samples_leaf': 4}. Best is trial 7 with value: 0.8221938775510204.\n",
      "[I 2025-10-02 13:35:16,506] Trial 39 finished with value: 0.8180272108843537 and parameters: {'n_estimators': 600, 'max_depth': None, 'min_samples_split': 8, 'min_samples_leaf': 3}. Best is trial 7 with value: 0.8221938775510204.\n",
      "[I 2025-10-02 13:35:17,821] A new study created in memory with name: gb_simple\n",
      "[I 2025-10-02 13:35:19,101] Trial 0 finished with value: 0.7685374149659864 and parameters: {'n_estimators': 200, 'learning_rate': 0.05351563997324441, 'max_depth': 3, 'min_samples_leaf': 1}. Best is trial 0 with value: 0.7685374149659864.\n",
      "[I 2025-10-02 13:35:20,639] Trial 1 finished with value: 0.7392857142857143 and parameters: {'n_estimators': 400, 'learning_rate': 0.06358523574568738, 'max_depth': 2, 'min_samples_leaf': 1}. Best is trial 0 with value: 0.7685374149659864.\n",
      "[I 2025-10-02 13:35:21,485] Trial 2 finished with value: 0.7393707482993197 and parameters: {'n_estimators': 200, 'learning_rate': 0.15350933007571685, 'max_depth': 2, 'min_samples_leaf': 1}. Best is trial 0 with value: 0.7685374149659864.\n",
      "[I 2025-10-02 13:35:27,720] Trial 3 finished with value: 0.743452380952381 and parameters: {'n_estimators': 800, 'learning_rate': 0.06964542045840064, 'max_depth': 5, 'min_samples_leaf': 2}. Best is trial 0 with value: 0.7685374149659864.\n",
      "[I 2025-10-02 13:35:28,621] Trial 4 finished with value: 0.7850340136054422 and parameters: {'n_estimators': 200, 'learning_rate': 0.03545963535486875, 'max_depth': 2, 'min_samples_leaf': 2}. Best is trial 4 with value: 0.7850340136054422.\n",
      "[I 2025-10-02 13:35:32,720] Trial 5 finished with value: 0.7642857142857142 and parameters: {'n_estimators': 600, 'learning_rate': 0.12816220643370785, 'max_depth': 4, 'min_samples_leaf': 1}. Best is trial 4 with value: 0.7850340136054422.\n",
      "[I 2025-10-02 13:35:34,961] Trial 6 finished with value: 0.7684523809523809 and parameters: {'n_estimators': 400, 'learning_rate': 0.05464614473302437, 'max_depth': 3, 'min_samples_leaf': 1}. Best is trial 4 with value: 0.7850340136054422.\n",
      "[I 2025-10-02 13:35:39,302] Trial 7 finished with value: 0.7560374149659863 and parameters: {'n_estimators': 600, 'learning_rate': 0.04140045984736496, 'max_depth': 4, 'min_samples_leaf': 3}. Best is trial 4 with value: 0.7850340136054422.\n",
      "[I 2025-10-02 13:35:44,053] Trial 8 finished with value: 0.7601190476190476 and parameters: {'n_estimators': 800, 'learning_rate': 0.1031692858415277, 'max_depth': 5, 'min_samples_leaf': 2}. Best is trial 4 with value: 0.7850340136054422.\n",
      "[I 2025-10-02 13:35:48,528] Trial 9 finished with value: 0.7520408163265306 and parameters: {'n_estimators': 800, 'learning_rate': 0.04239789938124291, 'max_depth': 3, 'min_samples_leaf': 2}. Best is trial 4 with value: 0.7850340136054422.\n",
      "[I 2025-10-02 13:35:49,367] Trial 10 finished with value: 0.7851190476190476 and parameters: {'n_estimators': 200, 'learning_rate': 0.030745869614353258, 'max_depth': 2, 'min_samples_leaf': 3}. Best is trial 10 with value: 0.7851190476190476.\n",
      "[I 2025-10-02 13:35:50,100] Trial 11 finished with value: 0.780952380952381 and parameters: {'n_estimators': 200, 'learning_rate': 0.033076968391057844, 'max_depth': 2, 'min_samples_leaf': 3}. Best is trial 10 with value: 0.7851190476190476.\n",
      "[I 2025-10-02 13:35:51,726] Trial 12 finished with value: 0.7767006802721088 and parameters: {'n_estimators': 400, 'learning_rate': 0.03153552156433664, 'max_depth': 2, 'min_samples_leaf': 3}. Best is trial 10 with value: 0.7851190476190476.\n",
      "[I 2025-10-02 13:35:52,488] Trial 13 finished with value: 0.7892006802721089 and parameters: {'n_estimators': 200, 'learning_rate': 0.030675437660877332, 'max_depth': 2, 'min_samples_leaf': 3}. Best is trial 13 with value: 0.7892006802721089.\n",
      "[I 2025-10-02 13:35:54,674] Trial 14 finished with value: 0.7438775510204081 and parameters: {'n_estimators': 400, 'learning_rate': 0.0962830027420332, 'max_depth': 3, 'min_samples_leaf': 3}. Best is trial 13 with value: 0.7892006802721089.\n",
      "[I 2025-10-02 13:35:55,526] Trial 15 finished with value: 0.7600340136054422 and parameters: {'n_estimators': 200, 'learning_rate': 0.19977772665383872, 'max_depth': 2, 'min_samples_leaf': 3}. Best is trial 13 with value: 0.7892006802721089.\n",
      "[I 2025-10-02 13:35:56,901] Trial 16 finished with value: 0.7768707482993198 and parameters: {'n_estimators': 200, 'learning_rate': 0.04997487923749679, 'max_depth': 4, 'min_samples_leaf': 3}. Best is trial 13 with value: 0.7892006802721089.\n",
      "[I 2025-10-02 13:35:59,942] Trial 17 finished with value: 0.7437074829931973 and parameters: {'n_estimators': 600, 'learning_rate': 0.04499521501890725, 'max_depth': 3, 'min_samples_leaf': 3}. Best is trial 13 with value: 0.7892006802721089.\n",
      "[I 2025-10-02 13:36:01,421] Trial 18 finished with value: 0.7602040816326531 and parameters: {'n_estimators': 400, 'learning_rate': 0.030596782117644584, 'max_depth': 2, 'min_samples_leaf': 2}. Best is trial 13 with value: 0.7892006802721089.\n",
      "[I 2025-10-02 13:36:02,488] Trial 19 finished with value: 0.7520408163265306 and parameters: {'n_estimators': 200, 'learning_rate': 0.0831771997385008, 'max_depth': 3, 'min_samples_leaf': 3}. Best is trial 13 with value: 0.7892006802721089.\n",
      "[I 2025-10-02 13:36:03,978] Trial 20 finished with value: 0.7683673469387756 and parameters: {'n_estimators': 400, 'learning_rate': 0.03748383990946024, 'max_depth': 2, 'min_samples_leaf': 3}. Best is trial 13 with value: 0.7892006802721089.\n",
      "[I 2025-10-02 13:36:04,792] Trial 21 finished with value: 0.7891156462585035 and parameters: {'n_estimators': 200, 'learning_rate': 0.03594462628993408, 'max_depth': 2, 'min_samples_leaf': 2}. Best is trial 13 with value: 0.7892006802721089.\n",
      "[I 2025-10-02 13:36:05,501] Trial 22 finished with value: 0.7973639455782313 and parameters: {'n_estimators': 200, 'learning_rate': 0.037557796897093335, 'max_depth': 2, 'min_samples_leaf': 2}. Best is trial 22 with value: 0.7973639455782313.\n",
      "[I 2025-10-02 13:36:06,376] Trial 23 finished with value: 0.8056972789115646 and parameters: {'n_estimators': 200, 'learning_rate': 0.041604611269339564, 'max_depth': 2, 'min_samples_leaf': 2}. Best is trial 23 with value: 0.8056972789115646.\n",
      "[I 2025-10-02 13:36:07,439] Trial 24 finished with value: 0.7850340136054422 and parameters: {'n_estimators': 200, 'learning_rate': 0.060609571502469664, 'max_depth': 3, 'min_samples_leaf': 2}. Best is trial 23 with value: 0.8056972789115646.\n",
      "[I 2025-10-02 13:36:09,062] Trial 25 finished with value: 0.7435374149659864 and parameters: {'n_estimators': 400, 'learning_rate': 0.04504700769640942, 'max_depth': 2, 'min_samples_leaf': 2}. Best is trial 23 with value: 0.8056972789115646.\n",
      "[I 2025-10-02 13:36:10,116] Trial 26 finished with value: 0.7725340136054422 and parameters: {'n_estimators': 200, 'learning_rate': 0.038662430762703724, 'max_depth': 3, 'min_samples_leaf': 2}. Best is trial 23 with value: 0.8056972789115646.\n",
      "[I 2025-10-02 13:36:11,711] Trial 27 finished with value: 0.7475340136054421 and parameters: {'n_estimators': 400, 'learning_rate': 0.04856788112381196, 'max_depth': 2, 'min_samples_leaf': 2}. Best is trial 23 with value: 0.8056972789115646.\n",
      "[I 2025-10-02 13:36:13,188] Trial 28 finished with value: 0.7851190476190475 and parameters: {'n_estimators': 200, 'learning_rate': 0.03741186558838147, 'max_depth': 4, 'min_samples_leaf': 2}. Best is trial 23 with value: 0.8056972789115646.\n",
      "[I 2025-10-02 13:36:13,957] Trial 29 finished with value: 0.7849489795918367 and parameters: {'n_estimators': 200, 'learning_rate': 0.05442711399945289, 'max_depth': 2, 'min_samples_leaf': 1}. Best is trial 23 with value: 0.8056972789115646.\n",
      "[I 2025-10-02 13:36:17,097] Trial 30 finished with value: 0.7312074829931973 and parameters: {'n_estimators': 600, 'learning_rate': 0.07520156082158748, 'max_depth': 3, 'min_samples_leaf': 2}. Best is trial 23 with value: 0.8056972789115646.\n",
      "[I 2025-10-02 13:36:17,910] Trial 31 finished with value: 0.7974489795918367 and parameters: {'n_estimators': 200, 'learning_rate': 0.03621647475173072, 'max_depth': 2, 'min_samples_leaf': 2}. Best is trial 23 with value: 0.8056972789115646.\n",
      "[I 2025-10-02 13:36:18,629] Trial 32 finished with value: 0.7974489795918368 and parameters: {'n_estimators': 200, 'learning_rate': 0.041864526575766864, 'max_depth': 2, 'min_samples_leaf': 2}. Best is trial 23 with value: 0.8056972789115646.\n",
      "[I 2025-10-02 13:36:19,378] Trial 33 finished with value: 0.7851190476190476 and parameters: {'n_estimators': 200, 'learning_rate': 0.04834110950614415, 'max_depth': 2, 'min_samples_leaf': 2}. Best is trial 23 with value: 0.8056972789115646.\n",
      "[I 2025-10-02 13:36:20,134] Trial 34 finished with value: 0.7684523809523809 and parameters: {'n_estimators': 200, 'learning_rate': 0.06175555600710219, 'max_depth': 2, 'min_samples_leaf': 2}. Best is trial 23 with value: 0.8056972789115646.\n",
      "[I 2025-10-02 13:36:21,646] Trial 35 finished with value: 0.7601190476190476 and parameters: {'n_estimators': 400, 'learning_rate': 0.04148397502283196, 'max_depth': 2, 'min_samples_leaf': 2}. Best is trial 23 with value: 0.8056972789115646.\n",
      "[I 2025-10-02 13:36:22,430] Trial 36 finished with value: 0.7974489795918368 and parameters: {'n_estimators': 200, 'learning_rate': 0.056409124592211236, 'max_depth': 2, 'min_samples_leaf': 1}. Best is trial 23 with value: 0.8056972789115646.\n",
      "[I 2025-10-02 13:36:24,387] Trial 37 finished with value: 0.7601190476190476 and parameters: {'n_estimators': 200, 'learning_rate': 0.06577067523993956, 'max_depth': 5, 'min_samples_leaf': 1}. Best is trial 23 with value: 0.8056972789115646.\n",
      "[I 2025-10-02 13:36:26,367] Trial 38 finished with value: 0.7768707482993198 and parameters: {'n_estimators': 400, 'learning_rate': 0.057690162059511635, 'max_depth': 3, 'min_samples_leaf': 1}. Best is trial 23 with value: 0.8056972789115646.\n",
      "[I 2025-10-02 13:36:27,106] Trial 39 finished with value: 0.7891156462585034 and parameters: {'n_estimators': 200, 'learning_rate': 0.051471374563107866, 'max_depth': 2, 'min_samples_leaf': 1}. Best is trial 23 with value: 0.8056972789115646.\n"
     ]
    }
   ],
   "execution_count": 26
  },
  {
   "metadata": {
    "ExecuteTime": {
     "end_time": "2025-10-02T06:11:21.707314Z",
     "start_time": "2025-10-02T06:10:20.230603Z"
    }
   },
   "cell_type": "code",
   "source": "out_ada = optuna_tune_simple('adb', X_train, y_train, n_trials=50)",
   "id": "9beaa1f456bf8b95",
   "outputs": [
    {
     "name": "stderr",
     "output_type": "stream",
     "text": [
      "[I 2025-10-02 13:10:20,233] A new study created in memory with name: adb_simple\n",
      "[I 2025-10-02 13:10:39,503] Trial 0 finished with value: 0.8141156462585034 and parameters: {'n_estimators': 600, 'learning_rate': 0.05436236530386764}. Best is trial 0 with value: 0.8141156462585034.\n",
      "[I 2025-10-02 13:10:43,935] Trial 1 finished with value: 0.826530612244898 and parameters: {'n_estimators': 600, 'learning_rate': 0.03155881196279211}. Best is trial 1 with value: 0.826530612244898.\n",
      "[I 2025-10-02 13:10:48,736] Trial 2 finished with value: 0.789030612244898 and parameters: {'n_estimators': 800, 'learning_rate': 0.22265497018496705}. Best is trial 1 with value: 0.826530612244898.\n",
      "[I 2025-10-02 13:10:52,300] Trial 3 finished with value: 0.8017857142857144 and parameters: {'n_estimators': 600, 'learning_rate': 0.11050951327930099}. Best is trial 1 with value: 0.826530612244898.\n",
      "[I 2025-10-02 13:10:53,601] Trial 4 finished with value: 0.8058673469387754 and parameters: {'n_estimators': 600, 'learning_rate': 0.06830721571076172}. Best is trial 1 with value: 0.826530612244898.\n",
      "[I 2025-10-02 13:10:54,520] Trial 5 finished with value: 0.8223639455782313 and parameters: {'n_estimators': 400, 'learning_rate': 0.05384093848950886}. Best is trial 1 with value: 0.826530612244898.\n",
      "[I 2025-10-02 13:10:56,036] Trial 6 finished with value: 0.8017857142857142 and parameters: {'n_estimators': 600, 'learning_rate': 0.16148312662034717}. Best is trial 1 with value: 0.826530612244898.\n",
      "[I 2025-10-02 13:10:56,535] Trial 7 finished with value: 0.8017857142857142 and parameters: {'n_estimators': 200, 'learning_rate': 0.18936501454172652}. Best is trial 1 with value: 0.826530612244898.\n",
      "[I 2025-10-02 13:10:57,502] Trial 8 finished with value: 0.8264455782312925 and parameters: {'n_estimators': 200, 'learning_rate': 0.10748400782431335}. Best is trial 1 with value: 0.826530612244898.\n",
      "[I 2025-10-02 13:10:58,503] Trial 9 finished with value: 0.8017857142857144 and parameters: {'n_estimators': 400, 'learning_rate': 0.1800093226787081}. Best is trial 1 with value: 0.826530612244898.\n",
      "[I 2025-10-02 13:11:01,517] Trial 10 finished with value: 0.8223639455782313 and parameters: {'n_estimators': 800, 'learning_rate': 0.0302519347003077}. Best is trial 1 with value: 0.826530612244898.\n",
      "[I 2025-10-02 13:11:02,221] Trial 11 finished with value: 0.8388605442176871 and parameters: {'n_estimators': 200, 'learning_rate': 0.0319494023965763}. Best is trial 11 with value: 0.8388605442176871.\n",
      "[I 2025-10-02 13:11:03,091] Trial 12 finished with value: 0.8347789115646258 and parameters: {'n_estimators': 400, 'learning_rate': 0.03009556734548018}. Best is trial 11 with value: 0.8388605442176871.\n",
      "[I 2025-10-02 13:11:03,538] Trial 13 finished with value: 0.8347789115646258 and parameters: {'n_estimators': 200, 'learning_rate': 0.03788713564370808}. Best is trial 11 with value: 0.8388605442176871.\n",
      "[I 2025-10-02 13:11:04,432] Trial 14 finished with value: 0.8306972789115645 and parameters: {'n_estimators': 400, 'learning_rate': 0.043729679078739536}. Best is trial 11 with value: 0.8388605442176871.\n",
      "[I 2025-10-02 13:11:04,893] Trial 15 finished with value: 0.8306122448979592 and parameters: {'n_estimators': 200, 'learning_rate': 0.08274805426984799}. Best is trial 11 with value: 0.8388605442176871.\n",
      "[I 2025-10-02 13:11:05,730] Trial 16 finished with value: 0.8347789115646258 and parameters: {'n_estimators': 400, 'learning_rate': 0.04391584017121724}. Best is trial 11 with value: 0.8388605442176871.\n",
      "[I 2025-10-02 13:11:06,187] Trial 17 finished with value: 0.8347789115646258 and parameters: {'n_estimators': 200, 'learning_rate': 0.06038392346650341}. Best is trial 11 with value: 0.8388605442176871.\n",
      "[I 2025-10-02 13:11:07,044] Trial 18 finished with value: 0.8347789115646258 and parameters: {'n_estimators': 400, 'learning_rate': 0.0393980685757152}. Best is trial 11 with value: 0.8388605442176871.\n",
      "[I 2025-10-02 13:11:07,511] Trial 19 finished with value: 0.8306122448979592 and parameters: {'n_estimators': 200, 'learning_rate': 0.08093294981574559}. Best is trial 11 with value: 0.8388605442176871.\n",
      "[I 2025-10-02 13:11:08,294] Trial 20 finished with value: 0.805952380952381 and parameters: {'n_estimators': 400, 'learning_rate': 0.13842867871179926}. Best is trial 11 with value: 0.8388605442176871.\n",
      "[I 2025-10-02 13:11:08,624] Trial 21 finished with value: 0.8347789115646258 and parameters: {'n_estimators': 200, 'learning_rate': 0.03707577995999708}. Best is trial 11 with value: 0.8388605442176871.\n",
      "[I 2025-10-02 13:11:08,960] Trial 22 finished with value: 0.8388605442176871 and parameters: {'n_estimators': 200, 'learning_rate': 0.030130386889233626}. Best is trial 11 with value: 0.8388605442176871.\n",
      "[I 2025-10-02 13:11:09,254] Trial 23 finished with value: 0.793452380952381 and parameters: {'n_estimators': 200, 'learning_rate': 0.28974913655962964}. Best is trial 11 with value: 0.8388605442176871.\n",
      "[I 2025-10-02 13:11:09,827] Trial 24 finished with value: 0.8306972789115645 and parameters: {'n_estimators': 400, 'learning_rate': 0.03053497795859585}. Best is trial 11 with value: 0.8388605442176871.\n",
      "[I 2025-10-02 13:11:10,142] Trial 25 finished with value: 0.8347789115646258 and parameters: {'n_estimators': 200, 'learning_rate': 0.04654816704402446}. Best is trial 11 with value: 0.8388605442176871.\n",
      "[I 2025-10-02 13:11:10,698] Trial 26 finished with value: 0.8306972789115645 and parameters: {'n_estimators': 400, 'learning_rate': 0.03438655706197895}. Best is trial 11 with value: 0.8388605442176871.\n",
      "[I 2025-10-02 13:11:10,999] Trial 27 finished with value: 0.8347789115646258 and parameters: {'n_estimators': 200, 'learning_rate': 0.05376498680134877}. Best is trial 11 with value: 0.8388605442176871.\n",
      "[I 2025-10-02 13:11:11,314] Trial 28 finished with value: 0.8347789115646258 and parameters: {'n_estimators': 200, 'learning_rate': 0.045023117848265584}. Best is trial 11 with value: 0.8388605442176871.\n",
      "[I 2025-10-02 13:11:11,897] Trial 29 finished with value: 0.8181972789115646 and parameters: {'n_estimators': 400, 'learning_rate': 0.06611886216960251}. Best is trial 11 with value: 0.8388605442176871.\n",
      "[I 2025-10-02 13:11:12,206] Trial 30 finished with value: 0.8347789115646258 and parameters: {'n_estimators': 200, 'learning_rate': 0.035902834151290454}. Best is trial 11 with value: 0.8388605442176871.\n",
      "[I 2025-10-02 13:11:12,528] Trial 31 finished with value: 0.8389455782312926 and parameters: {'n_estimators': 200, 'learning_rate': 0.03764562186390852}. Best is trial 31 with value: 0.8389455782312926.\n",
      "[I 2025-10-02 13:11:12,822] Trial 32 finished with value: 0.8388605442176871 and parameters: {'n_estimators': 200, 'learning_rate': 0.03020978025798425}. Best is trial 31 with value: 0.8389455782312926.\n",
      "[I 2025-10-02 13:11:13,106] Trial 33 finished with value: 0.8347789115646258 and parameters: {'n_estimators': 200, 'learning_rate': 0.03467333198303531}. Best is trial 31 with value: 0.8389455782312926.\n",
      "[I 2025-10-02 13:11:13,393] Trial 34 finished with value: 0.8347789115646258 and parameters: {'n_estimators': 200, 'learning_rate': 0.04112200129841056}. Best is trial 31 with value: 0.8389455782312926.\n",
      "[I 2025-10-02 13:11:13,702] Trial 35 finished with value: 0.8347789115646258 and parameters: {'n_estimators': 200, 'learning_rate': 0.05042305011109329}. Best is trial 31 with value: 0.8389455782312926.\n",
      "[I 2025-10-02 13:11:14,031] Trial 36 finished with value: 0.8388605442176871 and parameters: {'n_estimators': 200, 'learning_rate': 0.033862374010624224}. Best is trial 31 with value: 0.8389455782312926.\n",
      "[I 2025-10-02 13:11:15,176] Trial 37 finished with value: 0.8099489795918366 and parameters: {'n_estimators': 800, 'learning_rate': 0.04924171897561402}. Best is trial 31 with value: 0.8389455782312926.\n",
      "[I 2025-10-02 13:11:16,045] Trial 38 finished with value: 0.8141156462585034 and parameters: {'n_estimators': 600, 'learning_rate': 0.058390100963379925}. Best is trial 31 with value: 0.8389455782312926.\n",
      "[I 2025-10-02 13:11:16,357] Trial 39 finished with value: 0.8388605442176871 and parameters: {'n_estimators': 200, 'learning_rate': 0.033098553860374254}. Best is trial 31 with value: 0.8389455782312926.\n",
      "[I 2025-10-02 13:11:16,671] Trial 40 finished with value: 0.8347789115646258 and parameters: {'n_estimators': 200, 'learning_rate': 0.039675859763381914}. Best is trial 31 with value: 0.8389455782312926.\n",
      "[I 2025-10-02 13:11:17,132] Trial 41 finished with value: 0.8347789115646258 and parameters: {'n_estimators': 200, 'learning_rate': 0.03480107561288804}. Best is trial 31 with value: 0.8389455782312926.\n",
      "[I 2025-10-02 13:11:17,400] Trial 42 finished with value: 0.8347789115646258 and parameters: {'n_estimators': 200, 'learning_rate': 0.03262295063652561}. Best is trial 31 with value: 0.8389455782312926.\n",
      "[I 2025-10-02 13:11:17,700] Trial 43 finished with value: 0.8388605442176871 and parameters: {'n_estimators': 200, 'learning_rate': 0.030124457223322562}. Best is trial 31 with value: 0.8389455782312926.\n",
      "[I 2025-10-02 13:11:18,016] Trial 44 finished with value: 0.8389455782312926 and parameters: {'n_estimators': 200, 'learning_rate': 0.03940962005477965}. Best is trial 31 with value: 0.8389455782312926.\n",
      "[I 2025-10-02 13:11:18,332] Trial 45 finished with value: 0.8347789115646258 and parameters: {'n_estimators': 200, 'learning_rate': 0.04004053649378038}. Best is trial 31 with value: 0.8389455782312926.\n",
      "[I 2025-10-02 13:11:18,601] Trial 46 finished with value: 0.8264455782312925 and parameters: {'n_estimators': 200, 'learning_rate': 0.12246226875291367}. Best is trial 31 with value: 0.8389455782312926.\n",
      "[I 2025-10-02 13:11:19,136] Trial 47 finished with value: 0.8347789115646258 and parameters: {'n_estimators': 400, 'learning_rate': 0.042790992381151485}. Best is trial 31 with value: 0.8389455782312926.\n",
      "[I 2025-10-02 13:11:19,405] Trial 48 finished with value: 0.8430272108843537 and parameters: {'n_estimators': 200, 'learning_rate': 0.03729717290662577}. Best is trial 48 with value: 0.8430272108843537.\n",
      "[I 2025-10-02 13:11:20,552] Trial 49 finished with value: 0.8017857142857144 and parameters: {'n_estimators': 800, 'learning_rate': 0.07866624184388323}. Best is trial 48 with value: 0.8430272108843537.\n"
     ]
    }
   ],
   "execution_count": 11
  },
  {
   "metadata": {
    "ExecuteTime": {
     "end_time": "2025-10-02T06:44:05.839957Z",
     "start_time": "2025-10-02T06:44:05.674568Z"
    }
   },
   "cell_type": "code",
   "source": "ranked = sorted([out_ada, out_rf, out_gb, out_lgbm, out_xgb, out_cat], key=lambda x: x[\"best_score\"], reverse=True)",
   "id": "bbf066fb6f06c5b9",
   "outputs": [],
   "execution_count": 32
  },
  {
   "metadata": {
    "ExecuteTime": {
     "end_time": "2025-10-02T06:44:09.657455Z",
     "start_time": "2025-10-02T06:44:07.875970Z"
    }
   },
   "cell_type": "code",
   "source": "raw_results = calc_results(ranked, X_test, y_test, X_val, y_val)",
   "id": "159e38dff0e8aa26",
   "outputs": [],
   "execution_count": 33
  },
  {
   "metadata": {
    "ExecuteTime": {
     "end_time": "2025-10-02T06:44:11.703124Z",
     "start_time": "2025-10-02T06:44:11.636846Z"
    }
   },
   "cell_type": "code",
   "source": "raw_results",
   "id": "5593b66ff3983dbc",
   "outputs": [
    {
     "data": {
      "text/plain": [
       "{'adb': {'val': 0.9666666666666667, 'test': 0.8387096774193549},\n",
       " 'lgbm': {'val': 0.9333333333333333, 'test': 0.8709677419354839},\n",
       " 'cat': {'val': 0.9, 'test': 0.8064516129032258},\n",
       " 'rf': {'val': 0.9333333333333333, 'test': 0.8709677419354839},\n",
       " 'xgb': {'val': 0.9333333333333333, 'test': 0.8709677419354839},\n",
       " 'gb': {'val': 0.9333333333333333, 'test': 0.9032258064516129}}"
      ]
     },
     "execution_count": 34,
     "metadata": {},
     "output_type": "execute_result"
    }
   ],
   "execution_count": 34
  },
  {
   "metadata": {
    "ExecuteTime": {
     "end_time": "2025-10-02T06:47:33.034938Z",
     "start_time": "2025-10-02T06:47:32.301712Z"
    }
   },
   "cell_type": "code",
   "source": "visualize(raw_results, 'Raw Dataset')",
   "id": "e5fed7a8d0e5654d",
   "outputs": [
    {
     "data": {
      "text/plain": [
       "<Figure size 640x480 with 1 Axes>"
      ],
      "image/png": "[encoded data removed]"
     },
     "metadata": {},
     "output_type": "display_data"
    }
   ],
   "execution_count": 41
  },
  {
   "metadata": {
    "ExecuteTime": {
     "end_time": "2025-10-02T06:47:39.822435Z",
     "start_time": "2025-10-02T06:47:39.745840Z"
    }
   },
   "cell_type": "code",
   "source": [
    "for r in ranked:\n",
    "    print(r['best_estimator'])"
   ],
   "id": "c32708ca7b738723",
   "outputs": [
    {
     "name": "stdout",
     "output_type": "stream",
     "text": [
      "AdaBoostClassifier(estimator=DecisionTreeClassifier(max_depth=1,\n",
      "                                                    random_state=42),\n",
      "                   learning_rate=0.03729717290662577, n_estimators=200,\n",
      "                   random_state=42)\n",
      "LGBMClassifier(colsample_bytree=0.8062473945344163,\n",
      "               learning_rate=0.024332353079705077, min_child_samples=38,\n",
      "               n_estimators=700, n_jobs=-1, num_leaves=127, random_state=42,\n",
      "               reg_alpha=0.5410345586666022, reg_lambda=0.8011381093354967,\n",
      "               subsample=0.7636828373411673, verbose=-1)\n",
      "<catboost.core.CatBoostClassifier object at 0x0000012E71AC4520>\n",
      "RandomForestClassifier(max_depth=12, min_samples_split=7, n_estimators=900,\n",
      "                       n_jobs=-1, random_state=42)\n",
      "XGBClassifier(base_score=None, booster=None, callbacks=None,\n",
      "              colsample_bylevel=None, colsample_bynode=None,\n",
      "              colsample_bytree=0.7980976532947479, device=None,\n",
      "              early_stopping_rounds=None, enable_categorical=False,\n",
      "              eval_metric='logloss', feature_types=None, feature_weights=None,\n",
      "              gamma=None, grow_policy=None, importance_type=None,\n",
      "              interaction_constraints=None, learning_rate=0.0343796329533941,\n",
      "              max_bin=None, max_cat_threshold=None, max_cat_to_onehot=None,\n",
      "              max_delta_step=None, max_depth=4, max_leaves=None,\n",
      "              min_child_weight=None, missing=nan, monotone_constraints=None,\n",
      "              multi_strategy=None, n_estimators=400, n_jobs=-1,\n",
      "              num_parallel_tree=None, ...)\n",
      "GradientBoostingClassifier(learning_rate=0.041604611269339564, max_depth=2,\n",
      "                           min_samples_leaf=2, n_estimators=200,\n",
      "                           random_state=42)\n"
     ]
    }
   ],
   "execution_count": 42
  },
  {
   "metadata": {},
   "cell_type": "markdown",
   "source": "## DT DATASET",
   "id": "64e6a609714c67a9"
  },
  {
   "metadata": {
    "ExecuteTime": {
     "end_time": "2025-10-02T04:31:56.475434Z",
     "start_time": "2025-10-02T04:26:01.822287Z"
    }
   },
   "cell_type": "code",
   "source": [
    "out_dt_lgbm = optuna_tune_simple(\"lgbm\", X_train, y_dt_train, n_trials=40, scoring=\"accuracy\")\n",
    "out_dt_xgb  = optuna_tune_simple(\"xgb\",  X_dt_train, y_dt_train)\n",
    "out_dt_cat  = optuna_tune_simple(\"cat\",  X_dt_train, y_dt_train)\n",
    "out_dt_rf = optuna_tune_simple(\"rf\", X_dt_train, y_dt_train)\n",
    "out_dt_gb = optuna_tune_simple('gb', X_dt_train, y_dt_train)\n",
    "out_dt_ada = optuna_tune_simple('adb', X_dt_train, y_dt_train)"
   ],
   "id": "db2f123169702b93",
   "outputs": [
    {
     "name": "stderr",
     "output_type": "stream",
     "text": [
      "[I 2025-10-02 11:26:01,872] A new study created in memory with name: lgbm_simple\n",
      "[I 2025-10-02 11:26:09,994] Trial 0 finished with value: 0.805952380952381 and parameters: {'n_estimators': 1000, 'num_leaves': 191, 'learning_rate': 0.04261537429383293, 'min_child_samples': 23, 'subsample': 0.9110704612657818, 'colsample_bytree': 0.9308504660995367, 'reg_alpha': 0.21424764609846914, 'reg_lambda': 0.871046156694997}. Best is trial 0 with value: 0.805952380952381.\n",
      "[I 2025-10-02 11:26:11,213] Trial 1 finished with value: 0.780952380952381 and parameters: {'n_estimators': 800, 'num_leaves': 63, 'learning_rate': 0.05681789615279229, 'min_child_samples': 18, 'subsample': 0.7431089636537699, 'colsample_bytree': 0.9834216560102679, 'reg_alpha': 0.6009645161865016, 'reg_lambda': 1.9790797947093233}. Best is trial 0 with value: 0.805952380952381.\n",
      "[I 2025-10-02 11:26:12,620] Trial 2 finished with value: 0.7892857142857143 and parameters: {'n_estimators': 800, 'num_leaves': 95, 'learning_rate': 0.1301853265785321, 'min_child_samples': 16, 'subsample': 0.8154688635583968, 'colsample_bytree': 0.8262708133346861, 'reg_alpha': 0.33369930602479825, 'reg_lambda': 1.3412018576094773}. Best is trial 0 with value: 0.805952380952381.\n",
      "[I 2025-10-02 11:26:13,155] Trial 3 finished with value: 0.801530612244898 and parameters: {'n_estimators': 600, 'num_leaves': 159, 'learning_rate': 0.075264299469509, 'min_child_samples': 29, 'subsample': 0.9709699710579649, 'colsample_bytree': 0.8216227591564527, 'reg_alpha': 0.9152038890430076, 'reg_lambda': 1.5520335362216735}. Best is trial 0 with value: 0.805952380952381.\n",
      "[I 2025-10-02 11:26:13,481] Trial 4 finished with value: 0.8139455782312925 and parameters: {'n_estimators': 400, 'num_leaves': 159, 'learning_rate': 0.11625671933480973, 'min_child_samples': 40, 'subsample': 0.9942604632235645, 'colsample_bytree': 0.8747775334687345, 'reg_alpha': 0.513716423207596, 'reg_lambda': 0.6466313435465918}. Best is trial 4 with value: 0.8139455782312925.\n",
      "[I 2025-10-02 11:26:14,137] Trial 5 finished with value: 0.7934523809523809 and parameters: {'n_estimators': 800, 'num_leaves': 255, 'learning_rate': 0.10612998477397668, 'min_child_samples': 26, 'subsample': 0.9822428153439956, 'colsample_bytree': 0.9389979049910198, 'reg_alpha': 0.3371708754162168, 'reg_lambda': 0.7498407369271604}. Best is trial 4 with value: 0.8139455782312925.\n",
      "[I 2025-10-02 11:26:14,517] Trial 6 finished with value: 0.8180272108843537 and parameters: {'n_estimators': 400, 'num_leaves': 31, 'learning_rate': 0.08990113439629259, 'min_child_samples': 38, 'subsample': 0.7221694202893152, 'colsample_bytree': 0.7851803727315743, 'reg_alpha': 0.8664664201228427, 'reg_lambda': 1.3521600999853218}. Best is trial 6 with value: 0.8180272108843537.\n",
      "[I 2025-10-02 11:26:15,277] Trial 7 finished with value: 0.7934523809523809 and parameters: {'n_estimators': 400, 'num_leaves': 127, 'learning_rate': 0.03600620586998747, 'min_child_samples': 8, 'subsample': 0.9509695450221072, 'colsample_bytree': 0.7367746090800783, 'reg_alpha': 0.6212182488570651, 'reg_lambda': 0.9920306330574488}. Best is trial 6 with value: 0.8180272108843537.\n",
      "[I 2025-10-02 11:26:16,211] Trial 8 finished with value: 0.7810374149659863 and parameters: {'n_estimators': 900, 'num_leaves': 127, 'learning_rate': 0.061901503040500606, 'min_child_samples': 26, 'subsample': 0.7723784032799543, 'colsample_bytree': 0.9409307382275802, 'reg_alpha': 0.2636369025296984, 'reg_lambda': 1.355156588933953}. Best is trial 6 with value: 0.8180272108843537.\n",
      "[I 2025-10-02 11:26:17,079] Trial 9 finished with value: 0.7974489795918367 and parameters: {'n_estimators': 700, 'num_leaves': 255, 'learning_rate': 0.030049928423215362, 'min_child_samples': 22, 'subsample': 0.8872913503947639, 'colsample_bytree': 0.907175008554523, 'reg_alpha': 0.7327725138011248, 'reg_lambda': 1.0536592351894423}. Best is trial 6 with value: 0.8180272108843537.\n",
      "[I 2025-10-02 11:26:17,371] Trial 10 finished with value: 0.8180272108843537 and parameters: {'n_estimators': 300, 'num_leaves': 31, 'learning_rate': 0.18937676892768163, 'min_child_samples': 39, 'subsample': 0.70432034868021, 'colsample_bytree': 0.7077060995784636, 'reg_alpha': 0.9865152302718646, 'reg_lambda': 1.8002356115277731}. Best is trial 6 with value: 0.8180272108843537.\n",
      "[I 2025-10-02 11:26:17,625] Trial 11 finished with value: 0.8221938775510205 and parameters: {'n_estimators': 300, 'num_leaves': 31, 'learning_rate': 0.19460168783038695, 'min_child_samples': 40, 'subsample': 0.7027181120584506, 'colsample_bytree': 0.7142714993500604, 'reg_alpha': 0.9991008890495705, 'reg_lambda': 1.8396817055901638}. Best is trial 11 with value: 0.8221938775510205.\n",
      "[I 2025-10-02 11:26:17,957] Trial 12 finished with value: 0.8098639455782314 and parameters: {'n_estimators': 500, 'num_leaves': 31, 'learning_rate': 0.18611517022780508, 'min_child_samples': 34, 'subsample': 0.705356166377176, 'colsample_bytree': 0.7698724137474616, 'reg_alpha': 0.820471997236098, 'reg_lambda': 1.6005208461371148}. Best is trial 11 with value: 0.8221938775510205.\n",
      "[I 2025-10-02 11:26:18,263] Trial 13 finished with value: 0.8303571428571429 and parameters: {'n_estimators': 300, 'num_leaves': 63, 'learning_rate': 0.02271387205754518, 'min_child_samples': 33, 'subsample': 0.7906764317631014, 'colsample_bytree': 0.7766283865358261, 'reg_alpha': 0.7929600376148045, 'reg_lambda': 1.6458047401148141}. Best is trial 13 with value: 0.8303571428571429.\n",
      "[I 2025-10-02 11:26:18,641] Trial 14 finished with value: 0.8262755102040815 and parameters: {'n_estimators': 300, 'num_leaves': 63, 'learning_rate': 0.022615039125163466, 'min_child_samples': 33, 'subsample': 0.8051317803482689, 'colsample_bytree': 0.7022597190644089, 'reg_alpha': 0.7527116542176527, 'reg_lambda': 1.8157750170699392}. Best is trial 13 with value: 0.8303571428571429.\n",
      "[I 2025-10-02 11:26:19,113] Trial 15 finished with value: 0.8262755102040815 and parameters: {'n_estimators': 500, 'num_leaves': 95, 'learning_rate': 0.020120194413473447, 'min_child_samples': 32, 'subsample': 0.8187541395093266, 'colsample_bytree': 0.7714280733551938, 'reg_alpha': 0.04952038936450426, 'reg_lambda': 1.6627086020599329}. Best is trial 13 with value: 0.8303571428571429.\n",
      "[I 2025-10-02 11:26:19,423] Trial 16 finished with value: 0.8303571428571429 and parameters: {'n_estimators': 300, 'num_leaves': 95, 'learning_rate': 0.02087768953614251, 'min_child_samples': 34, 'subsample': 0.8137485790003697, 'colsample_bytree': 0.7350030042520974, 'reg_alpha': 0.7239519949986467, 'reg_lambda': 1.9840829732436709}. Best is trial 13 with value: 0.8303571428571429.\n",
      "[I 2025-10-02 11:26:19,934] Trial 17 finished with value: 0.8303571428571429 and parameters: {'n_estimators': 500, 'num_leaves': 95, 'learning_rate': 0.026109947899556795, 'min_child_samples': 35, 'subsample': 0.8551059021992645, 'colsample_bytree': 0.8004993207208589, 'reg_alpha': 0.658483184195964, 'reg_lambda': 1.9744640943075271}. Best is trial 13 with value: 0.8303571428571429.\n",
      "[I 2025-10-02 11:26:20,556] Trial 18 finished with value: 0.8014455782312926 and parameters: {'n_estimators': 600, 'num_leaves': 191, 'learning_rate': 0.04517375943450847, 'min_child_samples': 29, 'subsample': 0.764101503336023, 'colsample_bytree': 0.7473082428796092, 'reg_alpha': 0.49872046902691214, 'reg_lambda': 1.4972368267162035}. Best is trial 13 with value: 0.8303571428571429.\n",
      "[I 2025-10-02 11:26:21,425] Trial 19 finished with value: 0.8056972789115646 and parameters: {'n_estimators': 300, 'num_leaves': 63, 'learning_rate': 0.03102359862539574, 'min_child_samples': 5, 'subsample': 0.8567806760062805, 'colsample_bytree': 0.8698262053659125, 'reg_alpha': 0.4980052028515806, 'reg_lambda': 1.7115771322414437}. Best is trial 13 with value: 0.8303571428571429.\n",
      "[I 2025-10-02 11:26:22,077] Trial 20 finished with value: 0.7975340136054422 and parameters: {'n_estimators': 400, 'num_leaves': 95, 'learning_rate': 0.022715431045203897, 'min_child_samples': 13, 'subsample': 0.790393880617952, 'colsample_bytree': 0.7477154747678012, 'reg_alpha': 0.7751036149087556, 'reg_lambda': 1.1426580206499428}. Best is trial 13 with value: 0.8303571428571429.\n",
      "[I 2025-10-02 11:26:22,553] Trial 21 finished with value: 0.8303571428571429 and parameters: {'n_estimators': 500, 'num_leaves': 95, 'learning_rate': 0.027044030657070076, 'min_child_samples': 35, 'subsample': 0.8507160121812367, 'colsample_bytree': 0.811098055276616, 'reg_alpha': 0.6443518392444321, 'reg_lambda': 1.9776271599200697}. Best is trial 13 with value: 0.8303571428571429.\n",
      "[I 2025-10-02 11:26:23,072] Trial 22 finished with value: 0.8386054421768707 and parameters: {'n_estimators': 500, 'num_leaves': 63, 'learning_rate': 0.02556447929664733, 'min_child_samples': 36, 'subsample': 0.8854883766418701, 'colsample_bytree': 0.7937229546115788, 'reg_alpha': 0.6975190782084204, 'reg_lambda': 1.9918002832830917}. Best is trial 22 with value: 0.8386054421768707.\n",
      "[I 2025-10-02 11:26:23,508] Trial 23 finished with value: 0.8261904761904763 and parameters: {'n_estimators': 400, 'num_leaves': 63, 'learning_rate': 0.03743389242255169, 'min_child_samples': 31, 'subsample': 0.8931637270740453, 'colsample_bytree': 0.8492774748903396, 'reg_alpha': 0.7057737009928592, 'reg_lambda': 1.8646723841015311}. Best is trial 22 with value: 0.8386054421768707.\n",
      "[I 2025-10-02 11:26:23,807] Trial 24 finished with value: 0.8345238095238094 and parameters: {'n_estimators': 300, 'num_leaves': 127, 'learning_rate': 0.020524382765169682, 'min_child_samples': 37, 'subsample': 0.8313786680366522, 'colsample_bytree': 0.7366832925225285, 'reg_alpha': 0.8738711383973033, 'reg_lambda': 1.7131901685784534}. Best is trial 22 with value: 0.8386054421768707.\n",
      "[I 2025-10-02 11:26:24,292] Trial 25 finished with value: 0.8303571428571429 and parameters: {'n_estimators': 600, 'num_leaves': 127, 'learning_rate': 0.025643841529371526, 'min_child_samples': 37, 'subsample': 0.9388433853074356, 'colsample_bytree': 0.7854485178010351, 'reg_alpha': 0.8916268061948955, 'reg_lambda': 1.4895893410271688}. Best is trial 22 with value: 0.8386054421768707.\n",
      "[I 2025-10-02 11:26:24,735] Trial 26 finished with value: 0.8180272108843537 and parameters: {'n_estimators': 400, 'num_leaves': 191, 'learning_rate': 0.04907779525295281, 'min_child_samples': 37, 'subsample': 0.879970387216449, 'colsample_bytree': 0.8408569078425281, 'reg_alpha': 0.8317177768508597, 'reg_lambda': 1.656445608290766}. Best is trial 22 with value: 0.8386054421768707.\n",
      "[I 2025-10-02 11:26:25,489] Trial 27 finished with value: 0.8096938775510203 and parameters: {'n_estimators': 700, 'num_leaves': 223, 'learning_rate': 0.03344504809954762, 'min_child_samples': 29, 'subsample': 0.9204727554465164, 'colsample_bytree': 0.7600943670942095, 'reg_alpha': 0.9261275198862395, 'reg_lambda': 1.7480163850659463}. Best is trial 22 with value: 0.8386054421768707.\n",
      "[I 2025-10-02 11:26:25,992] Trial 28 finished with value: 0.822278911564626 and parameters: {'n_estimators': 300, 'num_leaves': 63, 'learning_rate': 0.025227531855019934, 'min_child_samples': 25, 'subsample': 0.830170538217483, 'colsample_bytree': 0.7960024442651024, 'reg_alpha': 0.5501201014392545, 'reg_lambda': 1.4592408998649207}. Best is trial 22 with value: 0.8386054421768707.\n",
      "[I 2025-10-02 11:26:27,012] Trial 29 finished with value: 0.7808673469387755 and parameters: {'n_estimators': 1000, 'num_leaves': 159, 'learning_rate': 0.03915818042764344, 'min_child_samples': 31, 'subsample': 0.7805171553508358, 'colsample_bytree': 0.7255449836074124, 'reg_alpha': 0.43295705416586916, 'reg_lambda': 1.2076067890807216}. Best is trial 22 with value: 0.8386054421768707.\n",
      "[I 2025-10-02 11:26:27,657] Trial 30 finished with value: 0.7851190476190476 and parameters: {'n_estimators': 500, 'num_leaves': 127, 'learning_rate': 0.029230453099847783, 'min_child_samples': 21, 'subsample': 0.8351946210261952, 'colsample_bytree': 0.768688083205831, 'reg_alpha': 0.11381994769146209, 'reg_lambda': 1.8916486602953055}. Best is trial 22 with value: 0.8386054421768707.\n",
      "[I 2025-10-02 11:26:27,923] Trial 31 finished with value: 0.8261904761904763 and parameters: {'n_estimators': 300, 'num_leaves': 95, 'learning_rate': 0.021015136591375824, 'min_child_samples': 36, 'subsample': 0.8725911556376454, 'colsample_bytree': 0.7308820001412908, 'reg_alpha': 0.8095498884879944, 'reg_lambda': 1.90451988421702}. Best is trial 22 with value: 0.8386054421768707.\n",
      "[I 2025-10-02 11:26:28,223] Trial 32 finished with value: 0.8303571428571429 and parameters: {'n_estimators': 300, 'num_leaves': 63, 'learning_rate': 0.022834263667335455, 'min_child_samples': 34, 'subsample': 0.7969549941791592, 'colsample_bytree': 0.7513423735888141, 'reg_alpha': 0.6839607147780755, 'reg_lambda': 1.7296677699115535}. Best is trial 22 with value: 0.8386054421768707.\n",
      "[I 2025-10-02 11:26:28,614] Trial 33 finished with value: 0.8262755102040815 and parameters: {'n_estimators': 400, 'num_leaves': 95, 'learning_rate': 0.02439670623767361, 'min_child_samples': 37, 'subsample': 0.7530092268616172, 'colsample_bytree': 0.9911780797018885, 'reg_alpha': 0.5824047383087694, 'reg_lambda': 1.9602555497856429}. Best is trial 22 with value: 0.8386054421768707.\n",
      "[I 2025-10-02 11:26:28,945] Trial 34 finished with value: 0.8221088435374149 and parameters: {'n_estimators': 300, 'num_leaves': 127, 'learning_rate': 0.02128435879149226, 'min_child_samples': 30, 'subsample': 0.9036193458870341, 'colsample_bytree': 0.7248356470326137, 'reg_alpha': 0.7687642625297897, 'reg_lambda': 1.5960063279366117}. Best is trial 22 with value: 0.8386054421768707.\n",
      "[I 2025-10-02 11:26:29,347] Trial 35 finished with value: 0.8221088435374149 and parameters: {'n_estimators': 400, 'num_leaves': 63, 'learning_rate': 0.020015926932470632, 'min_child_samples': 33, 'subsample': 0.8331171896527251, 'colsample_bytree': 0.8241478830303127, 'reg_alpha': 0.8784340935264835, 'reg_lambda': 1.9974932942169716}. Best is trial 22 with value: 0.8386054421768707.\n",
      "[I 2025-10-02 11:26:29,698] Trial 36 finished with value: 0.8181122448979592 and parameters: {'n_estimators': 300, 'num_leaves': 159, 'learning_rate': 0.02890642292263515, 'min_child_samples': 28, 'subsample': 0.811086874333241, 'colsample_bytree': 0.7776407477108401, 'reg_alpha': 0.9419708470692959, 'reg_lambda': 1.7817716776067136}. Best is trial 22 with value: 0.8386054421768707.\n",
      "[I 2025-10-02 11:26:30,425] Trial 37 finished with value: 0.7892006802721088 and parameters: {'n_estimators': 600, 'num_leaves': 63, 'learning_rate': 0.050161189382556655, 'min_child_samples': 19, 'subsample': 0.8671873814746713, 'colsample_bytree': 0.8063290882022821, 'reg_alpha': 0.7058097714727052, 'reg_lambda': 1.892661164175519}. Best is trial 22 with value: 0.8386054421768707.\n",
      "[I 2025-10-02 11:26:30,772] Trial 38 finished with value: 0.8427721088435375 and parameters: {'n_estimators': 400, 'num_leaves': 95, 'learning_rate': 0.033606069188771126, 'min_child_samples': 40, 'subsample': 0.7335955748211628, 'colsample_bytree': 0.7369048541686912, 'reg_alpha': 0.4225290872241009, 'reg_lambda': 1.6569241867177684}. Best is trial 38 with value: 0.8427721088435375.\n",
      "[I 2025-10-02 11:26:31,253] Trial 39 finished with value: 0.8220238095238095 and parameters: {'n_estimators': 500, 'num_leaves': 31, 'learning_rate': 0.03258017358286428, 'min_child_samples': 39, 'subsample': 0.731678034515312, 'colsample_bytree': 0.8369355761920053, 'reg_alpha': 0.4155150467759311, 'reg_lambda': 1.430746016814728}. Best is trial 38 with value: 0.8427721088435375.\n",
      "[I 2025-10-02 11:26:31,475] A new study created in memory with name: xgb_simple\n"
     ]
    },
    {
     "name": "stdout",
     "output_type": "stream",
     "text": [
      "[LightGBM] [Info] Number of positive: 111, number of negative: 131\n",
      "[LightGBM] [Info] Auto-choosing col-wise multi-threading, the overhead of testing was 0.000464 seconds.\n",
      "You can set `force_col_wise=true` to remove the overhead.\n",
      "[LightGBM] [Info] Total Bins 203\n",
      "[LightGBM] [Info] Number of data points in the train set: 242, number of used features: 10\n",
      "[LightGBM] [Info] [binary:BoostFromScore]: pavg=0.458678 -> initscore=-0.165667\n",
      "[LightGBM] [Info] Start training from score -0.165667\n",
      "[LightGBM] [Warning] No further splits with positive gain, best gain: -inf\n",
      "[LightGBM] [Warning] No further splits with positive gain, best gain: -inf\n",
      "[LightGBM] [Warning] No further splits with positive gain, best gain: -inf\n",
      "[LightGBM] [Warning] No further splits with positive gain, best gain: -inf\n",
      "[LightGBM] [Warning] No further splits with positive gain, best gain: -inf\n",
      "[LightGBM] [Warning] No further splits with positive gain, best gain: -inf\n",
      "[LightGBM] [Warning] No further splits with positive gain, best gain: -inf\n",
      "[LightGBM] [Warning] No further splits with positive gain, best gain: -inf\n",
      "[LightGBM] [Warning] No further splits with positive gain, best gain: -inf\n",
      "[LightGBM] [Warning] No further splits with positive gain, best gain: -inf\n",
      "[LightGBM] [Warning] No further splits with positive gain, best gain: -inf\n",
      "[LightGBM] [Warning] No further splits with positive gain, best gain: -inf\n",
      "[LightGBM] [Warning] No further splits with positive gain, best gain: -inf\n",
      "[LightGBM] [Warning] No further splits with positive gain, best gain: -inf\n",
      "[LightGBM] [Warning] No further splits with positive gain, best gain: -inf\n",
      "[LightGBM] [Warning] No further splits with positive gain, best gain: -inf\n",
      "[LightGBM] [Warning] No further splits with positive gain, best gain: -inf\n",
      "[LightGBM] [Warning] No further splits with positive gain, best gain: -inf\n",
      "[LightGBM] [Warning] No further splits with positive gain, best gain: -inf\n",
      "[LightGBM] [Warning] No further splits with positive gain, best gain: -inf\n",
      "[LightGBM] [Warning] No further splits with positive gain, best gain: -inf\n",
      "[LightGBM] [Warning] No further splits with positive gain, best gain: -inf\n",
      "[LightGBM] [Warning] No further splits with positive gain, best gain: -inf\n",
      "[LightGBM] [Warning] No further splits with positive gain, best gain: -inf\n",
      "[LightGBM] [Warning] No further splits with positive gain, best gain: -inf\n",
      "[LightGBM] [Warning] No further splits with positive gain, best gain: -inf\n",
      "[LightGBM] [Warning] No further splits with positive gain, best gain: -inf\n",
      "[LightGBM] [Warning] No further splits with positive gain, best gain: -inf\n",
      "[LightGBM] [Warning] No further splits with positive gain, best gain: -inf\n",
      "[LightGBM] [Warning] No further splits with positive gain, best gain: -inf\n",
      "[LightGBM] [Warning] No further splits with positive gain, best gain: -inf\n",
      "[LightGBM] [Warning] No further splits with positive gain, best gain: -inf\n",
      "[LightGBM] [Warning] No further splits with positive gain, best gain: -inf\n",
      "[LightGBM] [Warning] No further splits with positive gain, best gain: -inf\n",
      "[LightGBM] [Warning] No further splits with positive gain, best gain: -inf\n",
      "[LightGBM] [Warning] No further splits with positive gain, best gain: -inf\n",
      "[LightGBM] [Warning] No further splits with positive gain, best gain: -inf\n",
      "[LightGBM] [Warning] No further splits with positive gain, best gain: -inf\n",
      "[LightGBM] [Warning] No further splits with positive gain, best gain: -inf\n",
      "[LightGBM] [Warning] No further splits with positive gain, best gain: -inf\n",
      "[LightGBM] [Warning] No further splits with positive gain, best gain: -inf\n",
      "[LightGBM] [Warning] No further splits with positive gain, best gain: -inf\n",
      "[LightGBM] [Warning] No further splits with positive gain, best gain: -inf\n",
      "[LightGBM] [Warning] No further splits with positive gain, best gain: -inf\n",
      "[LightGBM] [Warning] No further splits with positive gain, best gain: -inf\n",
      "[LightGBM] [Warning] No further splits with positive gain, best gain: -inf\n",
      "[LightGBM] [Warning] No further splits with positive gain, best gain: -inf\n",
      "[LightGBM] [Warning] No further splits with positive gain, best gain: -inf\n",
      "[LightGBM] [Warning] No further splits with positive gain, best gain: -inf\n",
      "[LightGBM] [Warning] No further splits with positive gain, best gain: -inf\n",
      "[LightGBM] [Warning] No further splits with positive gain, best gain: -inf\n",
      "[LightGBM] [Warning] No further splits with positive gain, best gain: -inf\n",
      "[LightGBM] [Warning] No further splits with positive gain, best gain: -inf\n",
      "[LightGBM] [Warning] No further splits with positive gain, best gain: -inf\n",
      "[LightGBM] [Warning] No further splits with positive gain, best gain: -inf\n",
      "[LightGBM] [Warning] No further splits with positive gain, best gain: -inf\n",
      "[LightGBM] [Warning] No further splits with positive gain, best gain: -inf\n",
      "[LightGBM] [Warning] No further splits with positive gain, best gain: -inf\n",
      "[LightGBM] [Warning] No further splits with positive gain, best gain: -inf\n",
      "[LightGBM] [Warning] No further splits with positive gain, best gain: -inf\n",
      "[LightGBM] [Warning] No further splits with positive gain, best gain: -inf\n",
      "[LightGBM] [Warning] No further splits with positive gain, best gain: -inf\n",
      "[LightGBM] [Warning] No further splits with positive gain, best gain: -inf\n",
      "[LightGBM] [Warning] No further splits with positive gain, best gain: -inf\n",
      "[LightGBM] [Warning] No further splits with positive gain, best gain: -inf\n",
      "[LightGBM] [Warning] No further splits with positive gain, best gain: -inf\n",
      "[LightGBM] [Warning] No further splits with positive gain, best gain: -inf\n",
      "[LightGBM] [Warning] No further splits with positive gain, best gain: -inf\n",
      "[LightGBM] [Warning] No further splits with positive gain, best gain: -inf\n",
      "[LightGBM] [Warning] No further splits with positive gain, best gain: -inf\n",
      "[LightGBM] [Warning] No further splits with positive gain, best gain: -inf\n",
      "[LightGBM] [Warning] No further splits with positive gain, best gain: -inf\n",
      "[LightGBM] [Warning] No further splits with positive gain, best gain: -inf\n",
      "[LightGBM] [Warning] No further splits with positive gain, best gain: -inf\n",
      "[LightGBM] [Warning] No further splits with positive gain, best gain: -inf\n",
      "[LightGBM] [Warning] No further splits with positive gain, best gain: -inf\n",
      "[LightGBM] [Warning] No further splits with positive gain, best gain: -inf\n",
      "[LightGBM] [Warning] No further splits with positive gain, best gain: -inf\n",
      "[LightGBM] [Warning] No further splits with positive gain, best gain: -inf\n",
      "[LightGBM] [Warning] No further splits with positive gain, best gain: -inf\n",
      "[LightGBM] [Warning] No further splits with positive gain, best gain: -inf\n",
      "[LightGBM] [Warning] No further splits with positive gain, best gain: -inf\n",
      "[LightGBM] [Warning] No further splits with positive gain, best gain: -inf\n",
      "[LightGBM] [Warning] No further splits with positive gain, best gain: -inf\n",
      "[LightGBM] [Warning] No further splits with positive gain, best gain: -inf\n",
      "[LightGBM] [Warning] No further splits with positive gain, best gain: -inf\n",
      "[LightGBM] [Warning] No further splits with positive gain, best gain: -inf\n",
      "[LightGBM] [Warning] No further splits with positive gain, best gain: -inf\n",
      "[LightGBM] [Warning] No further splits with positive gain, best gain: -inf\n",
      "[LightGBM] [Warning] No further splits with positive gain, best gain: -inf\n",
      "[LightGBM] [Warning] No further splits with positive gain, best gain: -inf\n",
      "[LightGBM] [Warning] No further splits with positive gain, best gain: -inf\n",
      "[LightGBM] [Warning] No further splits with positive gain, best gain: -inf\n",
      "[LightGBM] [Warning] No further splits with positive gain, best gain: -inf\n",
      "[LightGBM] [Warning] No further splits with positive gain, best gain: -inf\n",
      "[LightGBM] [Warning] No further splits with positive gain, best gain: -inf\n",
      "[LightGBM] [Warning] No further splits with positive gain, best gain: -inf\n",
      "[LightGBM] [Warning] No further splits with positive gain, best gain: -inf\n",
      "[LightGBM] [Warning] No further splits with positive gain, best gain: -inf\n",
      "[LightGBM] [Warning] No further splits with positive gain, best gain: -inf\n",
      "[LightGBM] [Warning] No further splits with positive gain, best gain: -inf\n",
      "[LightGBM] [Warning] No further splits with positive gain, best gain: -inf\n",
      "[LightGBM] [Warning] No further splits with positive gain, best gain: -inf\n",
      "[LightGBM] [Warning] No further splits with positive gain, best gain: -inf\n",
      "[LightGBM] [Warning] No further splits with positive gain, best gain: -inf\n",
      "[LightGBM] [Warning] No further splits with positive gain, best gain: -inf\n",
      "[LightGBM] [Warning] No further splits with positive gain, best gain: -inf\n",
      "[LightGBM] [Warning] No further splits with positive gain, best gain: -inf\n",
      "[LightGBM] [Warning] No further splits with positive gain, best gain: -inf\n",
      "[LightGBM] [Warning] No further splits with positive gain, best gain: -inf\n",
      "[LightGBM] [Warning] No further splits with positive gain, best gain: -inf\n",
      "[LightGBM] [Warning] No further splits with positive gain, best gain: -inf\n",
      "[LightGBM] [Warning] No further splits with positive gain, best gain: -inf\n",
      "[LightGBM] [Warning] No further splits with positive gain, best gain: -inf\n",
      "[LightGBM] [Warning] No further splits with positive gain, best gain: -inf\n",
      "[LightGBM] [Warning] No further splits with positive gain, best gain: -inf\n",
      "[LightGBM] [Warning] No further splits with positive gain, best gain: -inf\n",
      "[LightGBM] [Warning] No further splits with positive gain, best gain: -inf\n",
      "[LightGBM] [Warning] No further splits with positive gain, best gain: -inf\n",
      "[LightGBM] [Warning] No further splits with positive gain, best gain: -inf\n",
      "[LightGBM] [Warning] No further splits with positive gain, best gain: -inf\n",
      "[LightGBM] [Warning] No further splits with positive gain, best gain: -inf\n",
      "[LightGBM] [Warning] No further splits with positive gain, best gain: -inf\n",
      "[LightGBM] [Warning] No further splits with positive gain, best gain: -inf\n",
      "[LightGBM] [Warning] No further splits with positive gain, best gain: -inf\n",
      "[LightGBM] [Warning] No further splits with positive gain, best gain: -inf\n",
      "[LightGBM] [Warning] No further splits with positive gain, best gain: -inf\n",
      "[LightGBM] [Warning] No further splits with positive gain, best gain: -inf\n",
      "[LightGBM] [Warning] No further splits with positive gain, best gain: -inf\n",
      "[LightGBM] [Warning] No further splits with positive gain, best gain: -inf\n",
      "[LightGBM] [Warning] No further splits with positive gain, best gain: -inf\n",
      "[LightGBM] [Warning] No further splits with positive gain, best gain: -inf\n",
      "[LightGBM] [Warning] No further splits with positive gain, best gain: -inf\n",
      "[LightGBM] [Warning] No further splits with positive gain, best gain: -inf\n",
      "[LightGBM] [Warning] No further splits with positive gain, best gain: -inf\n",
      "[LightGBM] [Warning] No further splits with positive gain, best gain: -inf\n",
      "[LightGBM] [Warning] No further splits with positive gain, best gain: -inf\n",
      "[LightGBM] [Warning] No further splits with positive gain, best gain: -inf\n",
      "[LightGBM] [Warning] No further splits with positive gain, best gain: -inf\n",
      "[LightGBM] [Warning] No further splits with positive gain, best gain: -inf\n",
      "[LightGBM] [Warning] No further splits with positive gain, best gain: -inf\n",
      "[LightGBM] [Warning] No further splits with positive gain, best gain: -inf\n",
      "[LightGBM] [Warning] No further splits with positive gain, best gain: -inf\n",
      "[LightGBM] [Warning] No further splits with positive gain, best gain: -inf\n",
      "[LightGBM] [Warning] No further splits with positive gain, best gain: -inf\n",
      "[LightGBM] [Warning] No further splits with positive gain, best gain: -inf\n",
      "[LightGBM] [Warning] No further splits with positive gain, best gain: -inf\n",
      "[LightGBM] [Warning] No further splits with positive gain, best gain: -inf\n",
      "[LightGBM] [Warning] No further splits with positive gain, best gain: -inf\n",
      "[LightGBM] [Warning] No further splits with positive gain, best gain: -inf\n",
      "[LightGBM] [Warning] No further splits with positive gain, best gain: -inf\n",
      "[LightGBM] [Warning] No further splits with positive gain, best gain: -inf\n",
      "[LightGBM] [Warning] No further splits with positive gain, best gain: -inf\n",
      "[LightGBM] [Warning] No further splits with positive gain, best gain: -inf\n",
      "[LightGBM] [Warning] No further splits with positive gain, best gain: -inf\n",
      "[LightGBM] [Warning] No further splits with positive gain, best gain: -inf\n",
      "[LightGBM] [Warning] No further splits with positive gain, best gain: -inf\n",
      "[LightGBM] [Warning] No further splits with positive gain, best gain: -inf\n",
      "[LightGBM] [Warning] No further splits with positive gain, best gain: -inf\n",
      "[LightGBM] [Warning] No further splits with positive gain, best gain: -inf\n",
      "[LightGBM] [Warning] No further splits with positive gain, best gain: -inf\n",
      "[LightGBM] [Warning] No further splits with positive gain, best gain: -inf\n",
      "[LightGBM] [Warning] No further splits with positive gain, best gain: -inf\n",
      "[LightGBM] [Warning] No further splits with positive gain, best gain: -inf\n",
      "[LightGBM] [Warning] No further splits with positive gain, best gain: -inf\n",
      "[LightGBM] [Warning] No further splits with positive gain, best gain: -inf\n",
      "[LightGBM] [Warning] No further splits with positive gain, best gain: -inf\n",
      "[LightGBM] [Warning] No further splits with positive gain, best gain: -inf\n",
      "[LightGBM] [Warning] No further splits with positive gain, best gain: -inf\n",
      "[LightGBM] [Warning] No further splits with positive gain, best gain: -inf\n",
      "[LightGBM] [Warning] No further splits with positive gain, best gain: -inf\n",
      "[LightGBM] [Warning] No further splits with positive gain, best gain: -inf\n",
      "[LightGBM] [Warning] No further splits with positive gain, best gain: -inf\n",
      "[LightGBM] [Warning] No further splits with positive gain, best gain: -inf\n",
      "[LightGBM] [Warning] No further splits with positive gain, best gain: -inf\n",
      "[LightGBM] [Warning] No further splits with positive gain, best gain: -inf\n",
      "[LightGBM] [Warning] No further splits with positive gain, best gain: -inf\n",
      "[LightGBM] [Warning] No further splits with positive gain, best gain: -inf\n",
      "[LightGBM] [Warning] No further splits with positive gain, best gain: -inf\n",
      "[LightGBM] [Warning] No further splits with positive gain, best gain: -inf\n",
      "[LightGBM] [Warning] No further splits with positive gain, best gain: -inf\n",
      "[LightGBM] [Warning] No further splits with positive gain, best gain: -inf\n",
      "[LightGBM] [Warning] No further splits with positive gain, best gain: -inf\n",
      "[LightGBM] [Warning] No further splits with positive gain, best gain: -inf\n",
      "[LightGBM] [Warning] No further splits with positive gain, best gain: -inf\n",
      "[LightGBM] [Warning] No further splits with positive gain, best gain: -inf\n",
      "[LightGBM] [Warning] No further splits with positive gain, best gain: -inf\n",
      "[LightGBM] [Warning] No further splits with positive gain, best gain: -inf\n",
      "[LightGBM] [Warning] No further splits with positive gain, best gain: -inf\n",
      "[LightGBM] [Warning] No further splits with positive gain, best gain: -inf\n",
      "[LightGBM] [Warning] No further splits with positive gain, best gain: -inf\n",
      "[LightGBM] [Warning] No further splits with positive gain, best gain: -inf\n",
      "[LightGBM] [Warning] No further splits with positive gain, best gain: -inf\n",
      "[LightGBM] [Warning] No further splits with positive gain, best gain: -inf\n",
      "[LightGBM] [Warning] No further splits with positive gain, best gain: -inf\n",
      "[LightGBM] [Warning] No further splits with positive gain, best gain: -inf\n",
      "[LightGBM] [Warning] No further splits with positive gain, best gain: -inf\n",
      "[LightGBM] [Warning] No further splits with positive gain, best gain: -inf\n",
      "[LightGBM] [Warning] No further splits with positive gain, best gain: -inf\n",
      "[LightGBM] [Warning] No further splits with positive gain, best gain: -inf\n",
      "[LightGBM] [Warning] No further splits with positive gain, best gain: -inf\n",
      "[LightGBM] [Warning] No further splits with positive gain, best gain: -inf\n",
      "[LightGBM] [Warning] No further splits with positive gain, best gain: -inf\n",
      "[LightGBM] [Warning] No further splits with positive gain, best gain: -inf\n",
      "[LightGBM] [Warning] No further splits with positive gain, best gain: -inf\n",
      "[LightGBM] [Warning] No further splits with positive gain, best gain: -inf\n",
      "[LightGBM] [Warning] No further splits with positive gain, best gain: -inf\n",
      "[LightGBM] [Warning] No further splits with positive gain, best gain: -inf\n",
      "[LightGBM] [Warning] No further splits with positive gain, best gain: -inf\n",
      "[LightGBM] [Warning] No further splits with positive gain, best gain: -inf\n",
      "[LightGBM] [Warning] No further splits with positive gain, best gain: -inf\n",
      "[LightGBM] [Warning] No further splits with positive gain, best gain: -inf\n",
      "[LightGBM] [Warning] No further splits with positive gain, best gain: -inf\n",
      "[LightGBM] [Warning] No further splits with positive gain, best gain: -inf\n",
      "[LightGBM] [Warning] No further splits with positive gain, best gain: -inf\n",
      "[LightGBM] [Warning] No further splits with positive gain, best gain: -inf\n",
      "[LightGBM] [Warning] No further splits with positive gain, best gain: -inf\n",
      "[LightGBM] [Warning] No further splits with positive gain, best gain: -inf\n",
      "[LightGBM] [Warning] No further splits with positive gain, best gain: -inf\n",
      "[LightGBM] [Warning] No further splits with positive gain, best gain: -inf\n",
      "[LightGBM] [Warning] No further splits with positive gain, best gain: -inf\n",
      "[LightGBM] [Warning] No further splits with positive gain, best gain: -inf\n",
      "[LightGBM] [Warning] No further splits with positive gain, best gain: -inf\n",
      "[LightGBM] [Warning] No further splits with positive gain, best gain: -inf\n",
      "[LightGBM] [Warning] No further splits with positive gain, best gain: -inf\n",
      "[LightGBM] [Warning] No further splits with positive gain, best gain: -inf\n",
      "[LightGBM] [Warning] No further splits with positive gain, best gain: -inf\n",
      "[LightGBM] [Warning] No further splits with positive gain, best gain: -inf\n",
      "[LightGBM] [Warning] No further splits with positive gain, best gain: -inf\n",
      "[LightGBM] [Warning] No further splits with positive gain, best gain: -inf\n",
      "[LightGBM] [Warning] No further splits with positive gain, best gain: -inf\n",
      "[LightGBM] [Warning] No further splits with positive gain, best gain: -inf\n",
      "[LightGBM] [Warning] No further splits with positive gain, best gain: -inf\n",
      "[LightGBM] [Warning] No further splits with positive gain, best gain: -inf\n",
      "[LightGBM] [Warning] No further splits with positive gain, best gain: -inf\n",
      "[LightGBM] [Warning] No further splits with positive gain, best gain: -inf\n",
      "[LightGBM] [Warning] No further splits with positive gain, best gain: -inf\n",
      "[LightGBM] [Warning] No further splits with positive gain, best gain: -inf\n",
      "[LightGBM] [Warning] No further splits with positive gain, best gain: -inf\n",
      "[LightGBM] [Warning] No further splits with positive gain, best gain: -inf\n",
      "[LightGBM] [Warning] No further splits with positive gain, best gain: -inf\n",
      "[LightGBM] [Warning] No further splits with positive gain, best gain: -inf\n",
      "[LightGBM] [Warning] No further splits with positive gain, best gain: -inf\n",
      "[LightGBM] [Warning] No further splits with positive gain, best gain: -inf\n",
      "[LightGBM] [Warning] No further splits with positive gain, best gain: -inf\n",
      "[LightGBM] [Warning] No further splits with positive gain, best gain: -inf\n",
      "[LightGBM] [Warning] No further splits with positive gain, best gain: -inf\n",
      "[LightGBM] [Warning] No further splits with positive gain, best gain: -inf\n",
      "[LightGBM] [Warning] No further splits with positive gain, best gain: -inf\n",
      "[LightGBM] [Warning] No further splits with positive gain, best gain: -inf\n",
      "[LightGBM] [Warning] No further splits with positive gain, best gain: -inf\n",
      "[LightGBM] [Warning] No further splits with positive gain, best gain: -inf\n",
      "[LightGBM] [Warning] No further splits with positive gain, best gain: -inf\n",
      "[LightGBM] [Warning] No further splits with positive gain, best gain: -inf\n",
      "[LightGBM] [Warning] No further splits with positive gain, best gain: -inf\n",
      "[LightGBM] [Warning] No further splits with positive gain, best gain: -inf\n",
      "[LightGBM] [Warning] No further splits with positive gain, best gain: -inf\n",
      "[LightGBM] [Warning] No further splits with positive gain, best gain: -inf\n",
      "[LightGBM] [Warning] No further splits with positive gain, best gain: -inf\n",
      "[LightGBM] [Warning] No further splits with positive gain, best gain: -inf\n",
      "[LightGBM] [Warning] No further splits with positive gain, best gain: -inf\n",
      "[LightGBM] [Warning] No further splits with positive gain, best gain: -inf\n",
      "[LightGBM] [Warning] No further splits with positive gain, best gain: -inf\n",
      "[LightGBM] [Warning] No further splits with positive gain, best gain: -inf\n",
      "[LightGBM] [Warning] No further splits with positive gain, best gain: -inf\n",
      "[LightGBM] [Warning] No further splits with positive gain, best gain: -inf\n",
      "[LightGBM] [Warning] No further splits with positive gain, best gain: -inf\n",
      "[LightGBM] [Warning] No further splits with positive gain, best gain: -inf\n",
      "[LightGBM] [Warning] No further splits with positive gain, best gain: -inf\n",
      "[LightGBM] [Warning] No further splits with positive gain, best gain: -inf\n",
      "[LightGBM] [Warning] No further splits with positive gain, best gain: -inf\n",
      "[LightGBM] [Warning] No further splits with positive gain, best gain: -inf\n",
      "[LightGBM] [Warning] No further splits with positive gain, best gain: -inf\n",
      "[LightGBM] [Warning] No further splits with positive gain, best gain: -inf\n",
      "[LightGBM] [Warning] No further splits with positive gain, best gain: -inf\n",
      "[LightGBM] [Warning] No further splits with positive gain, best gain: -inf\n",
      "[LightGBM] [Warning] No further splits with positive gain, best gain: -inf\n",
      "[LightGBM] [Warning] No further splits with positive gain, best gain: -inf\n",
      "[LightGBM] [Warning] No further splits with positive gain, best gain: -inf\n",
      "[LightGBM] [Warning] No further splits with positive gain, best gain: -inf\n",
      "[LightGBM] [Warning] No further splits with positive gain, best gain: -inf\n",
      "[LightGBM] [Warning] No further splits with positive gain, best gain: -inf\n",
      "[LightGBM] [Warning] No further splits with positive gain, best gain: -inf\n",
      "[LightGBM] [Warning] No further splits with positive gain, best gain: -inf\n",
      "[LightGBM] [Warning] No further splits with positive gain, best gain: -inf\n",
      "[LightGBM] [Warning] No further splits with positive gain, best gain: -inf\n",
      "[LightGBM] [Warning] No further splits with positive gain, best gain: -inf\n",
      "[LightGBM] [Warning] No further splits with positive gain, best gain: -inf\n",
      "[LightGBM] [Warning] No further splits with positive gain, best gain: -inf\n",
      "[LightGBM] [Warning] No further splits with positive gain, best gain: -inf\n",
      "[LightGBM] [Warning] No further splits with positive gain, best gain: -inf\n",
      "[LightGBM] [Warning] No further splits with positive gain, best gain: -inf\n",
      "[LightGBM] [Warning] No further splits with positive gain, best gain: -inf\n",
      "[LightGBM] [Warning] No further splits with positive gain, best gain: -inf\n",
      "[LightGBM] [Warning] No further splits with positive gain, best gain: -inf\n",
      "[LightGBM] [Warning] No further splits with positive gain, best gain: -inf\n",
      "[LightGBM] [Warning] No further splits with positive gain, best gain: -inf\n",
      "[LightGBM] [Warning] No further splits with positive gain, best gain: -inf\n",
      "[LightGBM] [Warning] No further splits with positive gain, best gain: -inf\n",
      "[LightGBM] [Warning] No further splits with positive gain, best gain: -inf\n",
      "[LightGBM] [Warning] No further splits with positive gain, best gain: -inf\n",
      "[LightGBM] [Warning] No further splits with positive gain, best gain: -inf\n",
      "[LightGBM] [Warning] No further splits with positive gain, best gain: -inf\n",
      "[LightGBM] [Warning] No further splits with positive gain, best gain: -inf\n",
      "[LightGBM] [Warning] No further splits with positive gain, best gain: -inf\n",
      "[LightGBM] [Warning] No further splits with positive gain, best gain: -inf\n",
      "[LightGBM] [Warning] No further splits with positive gain, best gain: -inf\n",
      "[LightGBM] [Warning] No further splits with positive gain, best gain: -inf\n",
      "[LightGBM] [Warning] No further splits with positive gain, best gain: -inf\n",
      "[LightGBM] [Warning] No further splits with positive gain, best gain: -inf\n",
      "[LightGBM] [Warning] No further splits with positive gain, best gain: -inf\n",
      "[LightGBM] [Warning] No further splits with positive gain, best gain: -inf\n",
      "[LightGBM] [Warning] No further splits with positive gain, best gain: -inf\n",
      "[LightGBM] [Warning] No further splits with positive gain, best gain: -inf\n",
      "[LightGBM] [Warning] No further splits with positive gain, best gain: -inf\n",
      "[LightGBM] [Warning] No further splits with positive gain, best gain: -inf\n",
      "[LightGBM] [Warning] No further splits with positive gain, best gain: -inf\n",
      "[LightGBM] [Warning] No further splits with positive gain, best gain: -inf\n",
      "[LightGBM] [Warning] No further splits with positive gain, best gain: -inf\n",
      "[LightGBM] [Warning] No further splits with positive gain, best gain: -inf\n",
      "[LightGBM] [Warning] No further splits with positive gain, best gain: -inf\n",
      "[LightGBM] [Warning] No further splits with positive gain, best gain: -inf\n",
      "[LightGBM] [Warning] No further splits with positive gain, best gain: -inf\n",
      "[LightGBM] [Warning] No further splits with positive gain, best gain: -inf\n",
      "[LightGBM] [Warning] No further splits with positive gain, best gain: -inf\n",
      "[LightGBM] [Warning] No further splits with positive gain, best gain: -inf\n",
      "[LightGBM] [Warning] No further splits with positive gain, best gain: -inf\n",
      "[LightGBM] [Warning] No further splits with positive gain, best gain: -inf\n",
      "[LightGBM] [Warning] No further splits with positive gain, best gain: -inf\n",
      "[LightGBM] [Warning] No further splits with positive gain, best gain: -inf\n",
      "[LightGBM] [Warning] No further splits with positive gain, best gain: -inf\n",
      "[LightGBM] [Warning] No further splits with positive gain, best gain: -inf\n",
      "[LightGBM] [Warning] No further splits with positive gain, best gain: -inf\n",
      "[LightGBM] [Warning] No further splits with positive gain, best gain: -inf\n",
      "[LightGBM] [Warning] No further splits with positive gain, best gain: -inf\n",
      "[LightGBM] [Warning] No further splits with positive gain, best gain: -inf\n",
      "[LightGBM] [Warning] No further splits with positive gain, best gain: -inf\n",
      "[LightGBM] [Warning] No further splits with positive gain, best gain: -inf\n",
      "[LightGBM] [Warning] No further splits with positive gain, best gain: -inf\n",
      "[LightGBM] [Warning] No further splits with positive gain, best gain: -inf\n",
      "[LightGBM] [Warning] No further splits with positive gain, best gain: -inf\n",
      "[LightGBM] [Warning] No further splits with positive gain, best gain: -inf\n",
      "[LightGBM] [Warning] No further splits with positive gain, best gain: -inf\n",
      "[LightGBM] [Warning] No further splits with positive gain, best gain: -inf\n",
      "[LightGBM] [Warning] No further splits with positive gain, best gain: -inf\n",
      "[LightGBM] [Warning] No further splits with positive gain, best gain: -inf\n",
      "[LightGBM] [Warning] No further splits with positive gain, best gain: -inf\n",
      "[LightGBM] [Warning] No further splits with positive gain, best gain: -inf\n",
      "[LightGBM] [Warning] No further splits with positive gain, best gain: -inf\n",
      "[LightGBM] [Warning] No further splits with positive gain, best gain: -inf\n",
      "[LightGBM] [Warning] No further splits with positive gain, best gain: -inf\n",
      "[LightGBM] [Warning] No further splits with positive gain, best gain: -inf\n",
      "[LightGBM] [Warning] No further splits with positive gain, best gain: -inf\n",
      "[LightGBM] [Warning] No further splits with positive gain, best gain: -inf\n",
      "[LightGBM] [Warning] No further splits with positive gain, best gain: -inf\n",
      "[LightGBM] [Warning] No further splits with positive gain, best gain: -inf\n",
      "[LightGBM] [Warning] No further splits with positive gain, best gain: -inf\n",
      "[LightGBM] [Warning] No further splits with positive gain, best gain: -inf\n",
      "[LightGBM] [Warning] No further splits with positive gain, best gain: -inf\n",
      "[LightGBM] [Warning] No further splits with positive gain, best gain: -inf\n",
      "[LightGBM] [Warning] No further splits with positive gain, best gain: -inf\n",
      "[LightGBM] [Warning] No further splits with positive gain, best gain: -inf\n",
      "[LightGBM] [Warning] No further splits with positive gain, best gain: -inf\n",
      "[LightGBM] [Warning] No further splits with positive gain, best gain: -inf\n",
      "[LightGBM] [Warning] No further splits with positive gain, best gain: -inf\n",
      "[LightGBM] [Warning] No further splits with positive gain, best gain: -inf\n",
      "[LightGBM] [Warning] No further splits with positive gain, best gain: -inf\n",
      "[LightGBM] [Warning] No further splits with positive gain, best gain: -inf\n",
      "[LightGBM] [Warning] No further splits with positive gain, best gain: -inf\n",
      "[LightGBM] [Warning] No further splits with positive gain, best gain: -inf\n",
      "[LightGBM] [Warning] No further splits with positive gain, best gain: -inf\n",
      "[LightGBM] [Warning] No further splits with positive gain, best gain: -inf\n",
      "[LightGBM] [Warning] No further splits with positive gain, best gain: -inf\n",
      "[LightGBM] [Warning] No further splits with positive gain, best gain: -inf\n",
      "[LightGBM] [Warning] No further splits with positive gain, best gain: -inf\n",
      "[LightGBM] [Warning] No further splits with positive gain, best gain: -inf\n",
      "[LightGBM] [Warning] No further splits with positive gain, best gain: -inf\n",
      "[LightGBM] [Warning] No further splits with positive gain, best gain: -inf\n",
      "[LightGBM] [Warning] No further splits with positive gain, best gain: -inf\n",
      "[LightGBM] [Warning] No further splits with positive gain, best gain: -inf\n",
      "[LightGBM] [Warning] No further splits with positive gain, best gain: -inf\n",
      "[LightGBM] [Warning] No further splits with positive gain, best gain: -inf\n",
      "[LightGBM] [Warning] No further splits with positive gain, best gain: -inf\n",
      "[LightGBM] [Warning] No further splits with positive gain, best gain: -inf\n",
      "[LightGBM] [Warning] No further splits with positive gain, best gain: -inf\n",
      "[LightGBM] [Warning] No further splits with positive gain, best gain: -inf\n",
      "[LightGBM] [Warning] No further splits with positive gain, best gain: -inf\n",
      "[LightGBM] [Warning] No further splits with positive gain, best gain: -inf\n",
      "[LightGBM] [Warning] No further splits with positive gain, best gain: -inf\n",
      "[LightGBM] [Warning] No further splits with positive gain, best gain: -inf\n",
      "[LightGBM] [Warning] No further splits with positive gain, best gain: -inf\n",
      "[LightGBM] [Warning] No further splits with positive gain, best gain: -inf\n",
      "[LightGBM] [Warning] No further splits with positive gain, best gain: -inf\n",
      "[LightGBM] [Warning] No further splits with positive gain, best gain: -inf\n",
      "[LightGBM] [Warning] No further splits with positive gain, best gain: -inf\n",
      "[LightGBM] [Warning] No further splits with positive gain, best gain: -inf\n",
      "[LightGBM] [Warning] No further splits with positive gain, best gain: -inf\n",
      "[LightGBM] [Warning] No further splits with positive gain, best gain: -inf\n",
      "[LightGBM] [Warning] No further splits with positive gain, best gain: -inf\n",
      "[LightGBM] [Warning] No further splits with positive gain, best gain: -inf\n"
     ]
    },
    {
     "name": "stderr",
     "output_type": "stream",
     "text": [
      "[I 2025-10-02 11:26:31,933] Trial 0 finished with value: 0.7852040816326531 and parameters: {'n_estimators': 900, 'max_depth': 3, 'learning_rate': 0.030874682059259605, 'subsample': 0.9000623306912745, 'colsample_bytree': 0.8135210862627401, 'reg_alpha': 0.5582708258787848, 'reg_lambda': 1.465223308357886}. Best is trial 0 with value: 0.7852040816326531.\n",
      "[I 2025-10-02 11:26:32,335] Trial 1 finished with value: 0.7975340136054421 and parameters: {'n_estimators': 900, 'max_depth': 5, 'learning_rate': 0.04134466012879701, 'subsample': 0.7206238070947698, 'colsample_bytree': 0.7709597896217889, 'reg_alpha': 0.26248139037903284, 'reg_lambda': 1.9795116978261404}. Best is trial 1 with value: 0.7975340136054421.\n",
      "[I 2025-10-02 11:26:32,693] Trial 2 finished with value: 0.797704081632653 and parameters: {'n_estimators': 600, 'max_depth': 7, 'learning_rate': 0.056361078041190144, 'subsample': 0.9890891815210483, 'colsample_bytree': 0.7563164956305332, 'reg_alpha': 0.3849553980782885, 'reg_lambda': 1.0127219421300524}. Best is trial 2 with value: 0.797704081632653.\n",
      "[I 2025-10-02 11:26:33,148] Trial 3 finished with value: 0.7934523809523809 and parameters: {'n_estimators': 1000, 'max_depth': 7, 'learning_rate': 0.03752806749162412, 'subsample': 0.910132827713748, 'colsample_bytree': 0.9355775000187161, 'reg_alpha': 0.3988338260494684, 'reg_lambda': 1.5999245501394523}. Best is trial 2 with value: 0.797704081632653.\n",
      "[I 2025-10-02 11:26:33,321] Trial 4 finished with value: 0.7975340136054422 and parameters: {'n_estimators': 500, 'max_depth': 6, 'learning_rate': 0.08184923920110779, 'subsample': 0.9592694695324648, 'colsample_bytree': 0.7790265454549359, 'reg_alpha': 0.44244548065777944, 'reg_lambda': 0.81902820563251}. Best is trial 2 with value: 0.797704081632653.\n",
      "[I 2025-10-02 11:26:33,454] Trial 5 finished with value: 0.79328231292517 and parameters: {'n_estimators': 600, 'max_depth': 5, 'learning_rate': 0.05058010895017986, 'subsample': 0.8252185777666079, 'colsample_bytree': 0.7477972450957973, 'reg_alpha': 0.3784068825506489, 'reg_lambda': 0.5597174109109487}. Best is trial 2 with value: 0.797704081632653.\n",
      "[I 2025-10-02 11:26:33,670] Trial 6 finished with value: 0.79328231292517 and parameters: {'n_estimators': 900, 'max_depth': 8, 'learning_rate': 0.04286467336276133, 'subsample': 0.7969410782221498, 'colsample_bytree': 0.747208489687482, 'reg_alpha': 0.3950445237303333, 'reg_lambda': 1.8429882234746822}. Best is trial 2 with value: 0.797704081632653.\n",
      "[I 2025-10-02 11:26:33,779] Trial 7 finished with value: 0.7892857142857143 and parameters: {'n_estimators': 600, 'max_depth': 6, 'learning_rate': 0.12148772803916624, 'subsample': 0.7013243848295023, 'colsample_bytree': 0.8180656061405293, 'reg_alpha': 0.8698461943535553, 'reg_lambda': 0.8439707670537904}. Best is trial 2 with value: 0.797704081632653.\n",
      "[I 2025-10-02 11:26:33,947] Trial 8 finished with value: 0.79328231292517 and parameters: {'n_estimators': 800, 'max_depth': 7, 'learning_rate': 0.10811767721791851, 'subsample': 0.9062648061343446, 'colsample_bytree': 0.79487350365676, 'reg_alpha': 0.2558954972249111, 'reg_lambda': 0.8971953625803111}. Best is trial 2 with value: 0.797704081632653.\n",
      "[I 2025-10-02 11:26:34,111] Trial 9 finished with value: 0.8016156462585033 and parameters: {'n_estimators': 700, 'max_depth': 4, 'learning_rate': 0.022448081830679607, 'subsample': 0.8102656473434537, 'colsample_bytree': 0.8835103547545096, 'reg_alpha': 0.6978619707734781, 'reg_lambda': 0.8554982070968695}. Best is trial 9 with value: 0.8016156462585033.\n",
      "[I 2025-10-02 11:26:34,193] Trial 10 finished with value: 0.801530612244898 and parameters: {'n_estimators': 300, 'max_depth': 3, 'learning_rate': 0.021269613283017783, 'subsample': 0.8043256196674088, 'colsample_bytree': 0.9125528901178803, 'reg_alpha': 0.7416290987377518, 'reg_lambda': 1.2417101882350043}. Best is trial 9 with value: 0.8016156462585033.\n",
      "[I 2025-10-02 11:26:34,285] Trial 11 finished with value: 0.8097789115646258 and parameters: {'n_estimators': 300, 'max_depth': 3, 'learning_rate': 0.022098564840106433, 'subsample': 0.772386205071095, 'colsample_bytree': 0.9139089800489091, 'reg_alpha': 0.7493933512168057, 'reg_lambda': 1.2104540698932218}. Best is trial 11 with value: 0.8097789115646258.\n",
      "[I 2025-10-02 11:26:34,371] Trial 12 finished with value: 0.8014455782312926 and parameters: {'n_estimators': 300, 'max_depth': 4, 'learning_rate': 0.02085400869068008, 'subsample': 0.7551986890741725, 'colsample_bytree': 0.9915378782413695, 'reg_alpha': 0.6889813910665723, 'reg_lambda': 1.208062752190653}. Best is trial 11 with value: 0.8097789115646258.\n",
      "[I 2025-10-02 11:26:34,457] Trial 13 finished with value: 0.7810374149659863 and parameters: {'n_estimators': 400, 'max_depth': 4, 'learning_rate': 0.19598645028963652, 'subsample': 0.7616326714203845, 'colsample_bytree': 0.8876526419513306, 'reg_alpha': 0.8705941211099681, 'reg_lambda': 0.54973045450626}. Best is trial 11 with value: 0.8097789115646258.\n",
      "[I 2025-10-02 11:26:34,623] Trial 14 finished with value: 0.7892006802721088 and parameters: {'n_estimators': 700, 'max_depth': 4, 'learning_rate': 0.02870021620777704, 'subsample': 0.8572101138965573, 'colsample_bytree': 0.8693450150283998, 'reg_alpha': 0.7167688862806039, 'reg_lambda': 1.033276065262188}. Best is trial 11 with value: 0.8097789115646258.\n",
      "[I 2025-10-02 11:26:34,794] Trial 15 finished with value: 0.7769557823129252 and parameters: {'n_estimators': 700, 'max_depth': 3, 'learning_rate': 0.028126924966393074, 'subsample': 0.8548009072692582, 'colsample_bytree': 0.9582326927012119, 'reg_alpha': 0.006768885122434898, 'reg_lambda': 1.4781892584159046}. Best is trial 11 with value: 0.8097789115646258.\n",
      "[I 2025-10-02 11:26:34,928] Trial 16 finished with value: 0.8056122448979591 and parameters: {'n_estimators': 500, 'max_depth': 4, 'learning_rate': 0.020743454277137523, 'subsample': 0.7662304992018377, 'colsample_bytree': 0.8404472204136517, 'reg_alpha': 0.9587958700364522, 'reg_lambda': 0.7390389435103961}. Best is trial 11 with value: 0.8097789115646258.\n",
      "[I 2025-10-02 11:26:35,012] Trial 17 finished with value: 0.7974489795918367 and parameters: {'n_estimators': 400, 'max_depth': 3, 'learning_rate': 0.07615288951419938, 'subsample': 0.7563208698464238, 'colsample_bytree': 0.8525262316922225, 'reg_alpha': 0.9824414763045591, 'reg_lambda': 0.6528541937748756}. Best is trial 11 with value: 0.8097789115646258.\n",
      "[I 2025-10-02 11:26:35,129] Trial 18 finished with value: 0.801530612244898 and parameters: {'n_estimators': 400, 'max_depth': 5, 'learning_rate': 0.03158472758909755, 'subsample': 0.7313830549944484, 'colsample_bytree': 0.7054289932523371, 'reg_alpha': 0.9683218937586132, 'reg_lambda': 1.0662673783457994}. Best is trial 11 with value: 0.8097789115646258.\n",
      "[I 2025-10-02 11:26:35,249] Trial 19 finished with value: 0.8056122448979591 and parameters: {'n_estimators': 500, 'max_depth': 4, 'learning_rate': 0.024424191787020013, 'subsample': 0.7651463656037681, 'colsample_bytree': 0.8305858657470098, 'reg_alpha': 0.8598437463107346, 'reg_lambda': 1.3779959906805688}. Best is trial 11 with value: 0.8097789115646258.\n",
      "[I 2025-10-02 11:26:35,346] Trial 20 finished with value: 0.8096938775510203 and parameters: {'n_estimators': 300, 'max_depth': 3, 'learning_rate': 0.036128182479200466, 'subsample': 0.78338677114358, 'colsample_bytree': 0.9124048157676292, 'reg_alpha': 0.5595015755120489, 'reg_lambda': 1.6947487982511475}. Best is trial 11 with value: 0.8097789115646258.\n",
      "[I 2025-10-02 11:26:35,432] Trial 21 finished with value: 0.8096938775510203 and parameters: {'n_estimators': 300, 'max_depth': 3, 'learning_rate': 0.034231457257628696, 'subsample': 0.788780296665312, 'colsample_bytree': 0.914301314998722, 'reg_alpha': 0.5570571424574263, 'reg_lambda': 1.6665380888688546}. Best is trial 11 with value: 0.8097789115646258.\n",
      "[I 2025-10-02 11:26:35,520] Trial 22 finished with value: 0.8055272108843538 and parameters: {'n_estimators': 300, 'max_depth': 3, 'learning_rate': 0.03617336708811548, 'subsample': 0.7882665594064028, 'colsample_bytree': 0.9182025822912315, 'reg_alpha': 0.5747919362741614, 'reg_lambda': 1.6762902435253286}. Best is trial 11 with value: 0.8097789115646258.\n",
      "[I 2025-10-02 11:26:35,607] Trial 23 finished with value: 0.8016156462585033 and parameters: {'n_estimators': 300, 'max_depth': 3, 'learning_rate': 0.050010596882975454, 'subsample': 0.8374636830161263, 'colsample_bytree': 0.966315886037178, 'reg_alpha': 0.6083035055809942, 'reg_lambda': 1.7630355838427867}. Best is trial 11 with value: 0.8097789115646258.\n",
      "[I 2025-10-02 11:26:35,695] Trial 24 finished with value: 0.8014455782312926 and parameters: {'n_estimators': 400, 'max_depth': 3, 'learning_rate': 0.026238283405982936, 'subsample': 0.7321150870521589, 'colsample_bytree': 0.9024579480478172, 'reg_alpha': 0.49381181963196996, 'reg_lambda': 1.5760611809047835}. Best is trial 11 with value: 0.8097789115646258.\n",
      "[I 2025-10-02 11:26:35,780] Trial 25 finished with value: 0.8055272108843538 and parameters: {'n_estimators': 300, 'max_depth': 3, 'learning_rate': 0.03725293136455178, 'subsample': 0.784486032562739, 'colsample_bytree': 0.944292868135716, 'reg_alpha': 0.6351537334966697, 'reg_lambda': 1.9722246611261194}. Best is trial 11 with value: 0.8097789115646258.\n",
      "[I 2025-10-02 11:26:35,881] Trial 26 finished with value: 0.8016156462585033 and parameters: {'n_estimators': 400, 'max_depth': 4, 'learning_rate': 0.06663253567999354, 'subsample': 0.829279547493221, 'colsample_bytree': 0.9813722561186887, 'reg_alpha': 0.7909497090033002, 'reg_lambda': 1.3446576481370098}. Best is trial 11 with value: 0.8097789115646258.\n",
      "[I 2025-10-02 11:26:36,015] Trial 27 finished with value: 0.7931972789115646 and parameters: {'n_estimators': 500, 'max_depth': 5, 'learning_rate': 0.03274692762232595, 'subsample': 0.8822573554067288, 'colsample_bytree': 0.9257729397258848, 'reg_alpha': 0.5032941827562877, 'reg_lambda': 1.8041723267718681}. Best is trial 11 with value: 0.8097789115646258.\n",
      "[I 2025-10-02 11:26:36,103] Trial 28 finished with value: 0.7934523809523809 and parameters: {'n_estimators': 300, 'max_depth': 3, 'learning_rate': 0.046192850264090146, 'subsample': 0.7792620931107106, 'colsample_bytree': 0.8586886807073073, 'reg_alpha': 0.23542632804051833, 'reg_lambda': 1.1827726422739677}. Best is trial 11 with value: 0.8097789115646258.\n",
      "[I 2025-10-02 11:26:36,192] Trial 29 finished with value: 0.8014455782312924 and parameters: {'n_estimators': 400, 'max_depth': 3, 'learning_rate': 0.02577114474585886, 'subsample': 0.879755817556657, 'colsample_bytree': 0.8908526643973269, 'reg_alpha': 0.5318543774191458, 'reg_lambda': 1.4567323940335104}. Best is trial 11 with value: 0.8097789115646258.\n",
      "[I 2025-10-02 11:26:36,294] Trial 30 finished with value: 0.8055272108843538 and parameters: {'n_estimators': 300, 'max_depth': 4, 'learning_rate': 0.03342818930604465, 'subsample': 0.8164836239889681, 'colsample_bytree': 0.9536973605182387, 'reg_alpha': 0.6466710671809076, 'reg_lambda': 1.6552153159592653}. Best is trial 11 with value: 0.8097789115646258.\n",
      "[I 2025-10-02 11:26:36,425] Trial 31 finished with value: 0.7973639455782313 and parameters: {'n_estimators': 500, 'max_depth': 4, 'learning_rate': 0.020819142079529212, 'subsample': 0.7412209357463867, 'colsample_bytree': 0.8331026775543651, 'reg_alpha': 0.7760620520047534, 'reg_lambda': 0.6980628447499423}. Best is trial 11 with value: 0.8097789115646258.\n",
      "[I 2025-10-02 11:26:36,527] Trial 32 finished with value: 0.7973639455782313 and parameters: {'n_estimators': 400, 'max_depth': 3, 'learning_rate': 0.024169448712015016, 'subsample': 0.7143599650689951, 'colsample_bytree': 0.872980811963812, 'reg_alpha': 0.8254837529035988, 'reg_lambda': 1.8799327883306443}. Best is trial 11 with value: 0.8097789115646258.\n",
      "[I 2025-10-02 11:26:36,648] Trial 33 finished with value: 0.7974489795918367 and parameters: {'n_estimators': 500, 'max_depth': 3, 'learning_rate': 0.028722346004526927, 'subsample': 0.7768484751074649, 'colsample_bytree': 0.904010849106596, 'reg_alpha': 0.32319783795895135, 'reg_lambda': 1.5129617703266003}. Best is trial 11 with value: 0.8097789115646258.\n",
      "[I 2025-10-02 11:26:36,735] Trial 34 finished with value: 0.7892006802721088 and parameters: {'n_estimators': 300, 'max_depth': 4, 'learning_rate': 0.041785453301475005, 'subsample': 0.7445757546747096, 'colsample_bytree': 0.8401508050857986, 'reg_alpha': 0.9060706730019167, 'reg_lambda': 1.720085107605655}. Best is trial 11 with value: 0.8097789115646258.\n",
      "[I 2025-10-02 11:26:36,844] Trial 35 finished with value: 0.7975340136054421 and parameters: {'n_estimators': 400, 'max_depth': 3, 'learning_rate': 0.05727208678831259, 'subsample': 0.7735283683118053, 'colsample_bytree': 0.934524892858293, 'reg_alpha': 0.5713172150982336, 'reg_lambda': 1.33896518128644}. Best is trial 11 with value: 0.8097789115646258.\n",
      "[I 2025-10-02 11:26:36,996] Trial 36 finished with value: 0.7892006802721088 and parameters: {'n_estimators': 600, 'max_depth': 5, 'learning_rate': 0.023859144670825602, 'subsample': 0.9318524925136183, 'colsample_bytree': 0.8063077152005782, 'reg_alpha': 0.472452407059709, 'reg_lambda': 1.1219787689796092}. Best is trial 11 with value: 0.8097789115646258.\n",
      "[I 2025-10-02 11:26:37,193] Trial 37 finished with value: 0.8016156462585033 and parameters: {'n_estimators': 1000, 'max_depth': 4, 'learning_rate': 0.030657278175175086, 'subsample': 0.797265667000009, 'colsample_bytree': 0.8626333541874319, 'reg_alpha': 0.9483211063376261, 'reg_lambda': 0.7256110822637569}. Best is trial 11 with value: 0.8097789115646258.\n",
      "[I 2025-10-02 11:26:37,333] Trial 38 finished with value: 0.8016156462585033 and parameters: {'n_estimators': 500, 'max_depth': 6, 'learning_rate': 0.03717049446113878, 'subsample': 0.9964686471562126, 'colsample_bytree': 0.9753504473447819, 'reg_alpha': 0.6549069522658096, 'reg_lambda': 1.9073139301127537}. Best is trial 11 with value: 0.8097789115646258.\n",
      "[I 2025-10-02 11:26:37,434] Trial 39 finished with value: 0.79328231292517 and parameters: {'n_estimators': 300, 'max_depth': 8, 'learning_rate': 0.020626434945878156, 'subsample': 0.7190334251699494, 'colsample_bytree': 0.9339064571487451, 'reg_alpha': 0.17415999393241194, 'reg_lambda': 0.9611122501937401}. Best is trial 11 with value: 0.8097789115646258.\n",
      "[I 2025-10-02 11:26:37,576] A new study created in memory with name: cat_simple\n",
      "[I 2025-10-02 11:26:38,722] Trial 0 finished with value: 0.7892857142857143 and parameters: {'n_estimators': 400, 'depth': 5, 'learning_rate': 0.031340160373923745, 'l2_leaf_reg': 4.56718690931698, 'subsample': 0.758995852668194}. Best is trial 0 with value: 0.7892857142857143.\n",
      "[I 2025-10-02 11:26:40,505] Trial 1 finished with value: 0.7811224489795918 and parameters: {'n_estimators': 400, 'depth': 9, 'learning_rate': 0.061880220641611396, 'l2_leaf_reg': 1.6507035672900474, 'subsample': 0.9547647619097419}. Best is trial 0 with value: 0.7892857142857143.\n",
      "[I 2025-10-02 11:26:43,317] Trial 2 finished with value: 0.7729591836734694 and parameters: {'n_estimators': 1200, 'depth': 6, 'learning_rate': 0.08992112506072422, 'l2_leaf_reg': 2.3455877790808586, 'subsample': 0.9378983008147298}. Best is trial 0 with value: 0.7892857142857143.\n",
      "[I 2025-10-02 11:26:44,503] Trial 3 finished with value: 0.7892857142857143 and parameters: {'n_estimators': 400, 'depth': 7, 'learning_rate': 0.05758761639696353, 'l2_leaf_reg': 1.201420625394824, 'subsample': 0.8779654954809603}. Best is trial 0 with value: 0.7892857142857143.\n",
      "[I 2025-10-02 11:26:48,345] Trial 4 finished with value: 0.8017857142857142 and parameters: {'n_estimators': 800, 'depth': 9, 'learning_rate': 0.05283812823019773, 'l2_leaf_reg': 5.7690936759618, 'subsample': 0.7160482622456842}. Best is trial 4 with value: 0.8017857142857142.\n",
      "[I 2025-10-02 11:26:50,239] Trial 5 finished with value: 0.7811224489795918 and parameters: {'n_estimators': 400, 'depth': 9, 'learning_rate': 0.15632301105273275, 'l2_leaf_reg': 3.923142726728216, 'subsample': 0.9384965004365595}. Best is trial 4 with value: 0.8017857142857142.\n",
      "[I 2025-10-02 11:26:52,631] Trial 6 finished with value: 0.7936224489795919 and parameters: {'n_estimators': 800, 'depth': 7, 'learning_rate': 0.03249137320995304, 'l2_leaf_reg': 3.467381717238074, 'subsample': 0.7243823000880989}. Best is trial 4 with value: 0.8017857142857142.\n",
      "[I 2025-10-02 11:26:55,253] Trial 7 finished with value: 0.8058673469387754 and parameters: {'n_estimators': 800, 'depth': 7, 'learning_rate': 0.13345926377325146, 'l2_leaf_reg': 4.786142584740005, 'subsample': 0.9036507482601812}. Best is trial 7 with value: 0.8058673469387754.\n",
      "[I 2025-10-02 11:27:16,636] Trial 8 finished with value: 0.8100340136054422 and parameters: {'n_estimators': 1000, 'depth': 10, 'learning_rate': 0.1564351373853802, 'l2_leaf_reg': 5.49665304670064, 'subsample': 0.8516613429652186}. Best is trial 8 with value: 0.8100340136054422.\n",
      "[I 2025-10-02 11:27:24,283] Trial 9 finished with value: 0.7729591836734694 and parameters: {'n_estimators': 800, 'depth': 9, 'learning_rate': 0.0488327216616389, 'l2_leaf_reg': 4.211905037167708, 'subsample': 0.8668410210059074}. Best is trial 8 with value: 0.8100340136054422.\n",
      "[I 2025-10-02 11:27:39,753] Trial 10 finished with value: 0.7852891156462586 and parameters: {'n_estimators': 1200, 'depth': 10, 'learning_rate': 0.19576193818833412, 'l2_leaf_reg': 5.798527674020711, 'subsample': 0.8048249706628587}. Best is trial 8 with value: 0.8100340136054422.\n",
      "[I 2025-10-02 11:27:42,373] Trial 11 finished with value: 0.7770408163265305 and parameters: {'n_estimators': 1000, 'depth': 4, 'learning_rate': 0.11579068157764306, 'l2_leaf_reg': 5.038650492799265, 'subsample': 0.8192467843274365}. Best is trial 8 with value: 0.8100340136054422.\n",
      "[I 2025-10-02 11:27:55,372] Trial 12 finished with value: 0.7771258503401361 and parameters: {'n_estimators': 1000, 'depth': 8, 'learning_rate': 0.10739185386124231, 'l2_leaf_reg': 5.090074572547726, 'subsample': 0.894182700391528}. Best is trial 8 with value: 0.8100340136054422.\n",
      "[I 2025-10-02 11:27:57,803] Trial 13 finished with value: 0.7812074829931973 and parameters: {'n_estimators': 600, 'depth': 6, 'learning_rate': 0.1432021963618611, 'l2_leaf_reg': 3.0524912968386655, 'subsample': 0.8289526183394225}. Best is trial 8 with value: 0.8100340136054422.\n",
      "[I 2025-10-02 11:28:03,929] Trial 14 finished with value: 0.7893707482993197 and parameters: {'n_estimators': 1000, 'depth': 8, 'learning_rate': 0.08444016284050022, 'l2_leaf_reg': 5.032370242961902, 'subsample': 0.9903978337286814}. Best is trial 8 with value: 0.8100340136054422.\n",
      "[I 2025-10-02 11:28:20,833] Trial 15 finished with value: 0.7975340136054422 and parameters: {'n_estimators': 600, 'depth': 10, 'learning_rate': 0.020322925596164047, 'l2_leaf_reg': 5.980022011754994, 'subsample': 0.8997636189535264}. Best is trial 8 with value: 0.8100340136054422.\n",
      "[I 2025-10-02 11:28:25,366] Trial 16 finished with value: 0.7812074829931973 and parameters: {'n_estimators': 1000, 'depth': 6, 'learning_rate': 0.19902056338795765, 'l2_leaf_reg': 4.560320219841792, 'subsample': 0.7802561299425965}. Best is trial 8 with value: 0.8100340136054422.\n",
      "[I 2025-10-02 11:28:28,996] Trial 17 finished with value: 0.8016156462585033 and parameters: {'n_estimators': 600, 'depth': 8, 'learning_rate': 0.136828810878807, 'l2_leaf_reg': 5.377774838674275, 'subsample': 0.8505632520816222}. Best is trial 8 with value: 0.8100340136054422.\n",
      "[I 2025-10-02 11:28:34,249] Trial 18 finished with value: 0.793452380952381 and parameters: {'n_estimators': 1200, 'depth': 7, 'learning_rate': 0.07879491612205446, 'l2_leaf_reg': 2.958230063614838, 'subsample': 0.9126801233981551}. Best is trial 8 with value: 0.8100340136054422.\n",
      "[I 2025-10-02 11:28:37,439] Trial 19 finished with value: 0.7810374149659863 and parameters: {'n_estimators': 1000, 'depth': 4, 'learning_rate': 0.10977291462833899, 'l2_leaf_reg': 4.408835684948143, 'subsample': 0.9989625558765751}. Best is trial 8 with value: 0.8100340136054422.\n",
      "[I 2025-10-02 11:28:40,516] Trial 20 finished with value: 0.7729591836734694 and parameters: {'n_estimators': 800, 'depth': 5, 'learning_rate': 0.1668631336215185, 'l2_leaf_reg': 3.7556881028298914, 'subsample': 0.844523872954506}. Best is trial 8 with value: 0.8100340136054422.\n",
      "[I 2025-10-02 11:28:49,776] Trial 21 finished with value: 0.8057823129251702 and parameters: {'n_estimators': 800, 'depth': 10, 'learning_rate': 0.043440838570448614, 'l2_leaf_reg': 5.539521219577584, 'subsample': 0.7008527621486139}. Best is trial 8 with value: 0.8100340136054422.\n",
      "[I 2025-10-02 11:28:58,847] Trial 22 finished with value: 0.8058673469387756 and parameters: {'n_estimators': 800, 'depth': 10, 'learning_rate': 0.03775082694557954, 'l2_leaf_reg': 5.265214792150548, 'subsample': 0.754086843567246}. Best is trial 8 with value: 0.8100340136054422.\n",
      "[I 2025-10-02 11:29:05,423] Trial 23 finished with value: 0.80578231292517 and parameters: {'n_estimators': 600, 'depth': 10, 'learning_rate': 0.03396742105917206, 'l2_leaf_reg': 4.853552839027546, 'subsample': 0.788823218658428}. Best is trial 8 with value: 0.8100340136054422.\n",
      "[I 2025-10-02 11:29:08,182] Trial 24 finished with value: 0.80578231292517 and parameters: {'n_estimators': 800, 'depth': 8, 'learning_rate': 0.07280794380462452, 'l2_leaf_reg': 5.427515159567276, 'subsample': 0.7519266221066754}. Best is trial 8 with value: 0.8100340136054422.\n",
      "[I 2025-10-02 11:29:12,934] Trial 25 finished with value: 0.7975340136054421 and parameters: {'n_estimators': 1000, 'depth': 9, 'learning_rate': 0.025947159124024878, 'l2_leaf_reg': 4.705345764055281, 'subsample': 0.8649095387036175}. Best is trial 8 with value: 0.8100340136054422.\n",
      "[I 2025-10-02 11:29:19,412] Trial 26 finished with value: 0.8099489795918368 and parameters: {'n_estimators': 600, 'depth': 10, 'learning_rate': 0.04080075733328808, 'l2_leaf_reg': 5.318568581288765, 'subsample': 0.9271690262178175}. Best is trial 8 with value: 0.8100340136054422.\n",
      "[I 2025-10-02 11:29:29,661] Trial 27 finished with value: 0.8100340136054422 and parameters: {'n_estimators': 600, 'depth': 10, 'learning_rate': 0.041310418270543256, 'l2_leaf_reg': 5.319396835518413, 'subsample': 0.9741584472867886}. Best is trial 8 with value: 0.8100340136054422.\n",
      "[I 2025-10-02 11:29:38,878] Trial 28 finished with value: 0.8181122448979592 and parameters: {'n_estimators': 600, 'depth': 10, 'learning_rate': 0.044614547560524846, 'l2_leaf_reg': 5.971255116844047, 'subsample': 0.9691279865558708}. Best is trial 28 with value: 0.8181122448979592.\n",
      "[I 2025-10-02 11:29:43,023] Trial 29 finished with value: 0.8100340136054422 and parameters: {'n_estimators': 600, 'depth': 9, 'learning_rate': 0.06822596296437473, 'l2_leaf_reg': 5.906278179927233, 'subsample': 0.9684075520467641}. Best is trial 28 with value: 0.8181122448979592.\n",
      "[I 2025-10-02 11:29:49,166] Trial 30 finished with value: 0.8056972789115646 and parameters: {'n_estimators': 400, 'depth': 10, 'learning_rate': 0.02490068332897722, 'l2_leaf_reg': 4.185808963633564, 'subsample': 0.971865760202016}. Best is trial 28 with value: 0.8181122448979592.\n",
      "[I 2025-10-02 11:29:53,866] Trial 31 finished with value: 0.8017857142857142 and parameters: {'n_estimators': 600, 'depth': 9, 'learning_rate': 0.0479061468684916, 'l2_leaf_reg': 5.965667078778262, 'subsample': 0.9679178263153977}. Best is trial 28 with value: 0.8181122448979592.\n",
      "[I 2025-10-02 11:29:58,112] Trial 32 finished with value: 0.7894557823129251 and parameters: {'n_estimators': 600, 'depth': 9, 'learning_rate': 0.060515925917033996, 'l2_leaf_reg': 5.653903065100175, 'subsample': 0.9729757788176687}. Best is trial 28 with value: 0.8181122448979592.\n",
      "[I 2025-10-02 11:30:04,457] Trial 33 finished with value: 0.8057823129251702 and parameters: {'n_estimators': 400, 'depth': 10, 'learning_rate': 0.06951740720381226, 'l2_leaf_reg': 5.667232440042137, 'subsample': 0.9502687247476181}. Best is trial 28 with value: 0.8181122448979592.\n",
      "[I 2025-10-02 11:30:10,957] Trial 34 finished with value: 0.7850340136054422 and parameters: {'n_estimators': 600, 'depth': 10, 'learning_rate': 0.09479725408408375, 'l2_leaf_reg': 2.1352513409061267, 'subsample': 0.9827785029158614}. Best is trial 28 with value: 0.8181122448979592.\n",
      "[I 2025-10-02 11:30:13,005] Trial 35 finished with value: 0.8098639455782312 and parameters: {'n_estimators': 400, 'depth': 9, 'learning_rate': 0.027497209406211427, 'l2_leaf_reg': 5.561804412426101, 'subsample': 0.9565362675827973}. Best is trial 28 with value: 0.8181122448979592.\n",
      "[I 2025-10-02 11:30:15,753] Trial 36 finished with value: 0.797704081632653 and parameters: {'n_estimators': 600, 'depth': 9, 'learning_rate': 0.05371897257501293, 'l2_leaf_reg': 5.957884607653549, 'subsample': 0.920582101808459}. Best is trial 28 with value: 0.8181122448979592.\n",
      "[I 2025-10-02 11:30:19,863] Trial 37 finished with value: 0.8014455782312926 and parameters: {'n_estimators': 400, 'depth': 10, 'learning_rate': 0.03672846738368164, 'l2_leaf_reg': 5.249069172844157, 'subsample': 0.9418730418421274}. Best is trial 28 with value: 0.8181122448979592.\n",
      "[I 2025-10-02 11:30:23,616] Trial 38 finished with value: 0.7852040816326531 and parameters: {'n_estimators': 600, 'depth': 9, 'learning_rate': 0.04469360577587255, 'l2_leaf_reg': 1.6236506528001475, 'subsample': 0.9591813872901328}. Best is trial 28 with value: 0.8181122448979592.\n",
      "[I 2025-10-02 11:30:27,605] Trial 39 finished with value: 0.7852040816326531 and parameters: {'n_estimators': 800, 'depth': 8, 'learning_rate': 0.06813489811922974, 'l2_leaf_reg': 5.743157902080396, 'subsample': 0.8839890758866619}. Best is trial 28 with value: 0.8181122448979592.\n",
      "[I 2025-10-02 11:30:34,129] A new study created in memory with name: rf_simple\n",
      "[I 2025-10-02 11:30:35,442] Trial 0 finished with value: 0.8139455782312925 and parameters: {'n_estimators': 300, 'max_depth': 20, 'min_samples_split': 9, 'min_samples_leaf': 2}. Best is trial 0 with value: 0.8139455782312925.\n",
      "[I 2025-10-02 11:30:36,686] Trial 1 finished with value: 0.8057823129251702 and parameters: {'n_estimators': 300, 'max_depth': 20, 'min_samples_split': 3, 'min_samples_leaf': 4}. Best is trial 0 with value: 0.8139455782312925.\n",
      "[I 2025-10-02 11:30:39,027] Trial 2 finished with value: 0.8140306122448979 and parameters: {'n_estimators': 600, 'max_depth': None, 'min_samples_split': 9, 'min_samples_leaf': 1}. Best is trial 2 with value: 0.8140306122448979.\n",
      "[I 2025-10-02 11:30:41,154] Trial 3 finished with value: 0.8097789115646259 and parameters: {'n_estimators': 900, 'max_depth': 12, 'min_samples_split': 10, 'min_samples_leaf': 2}. Best is trial 2 with value: 0.8140306122448979.\n",
      "[I 2025-10-02 11:30:42,806] Trial 4 finished with value: 0.8139455782312925 and parameters: {'n_estimators': 900, 'max_depth': 12, 'min_samples_split': 10, 'min_samples_leaf': 4}. Best is trial 2 with value: 0.8140306122448979.\n",
      "[I 2025-10-02 11:30:43,505] Trial 5 finished with value: 0.8097789115646258 and parameters: {'n_estimators': 300, 'max_depth': 12, 'min_samples_split': 3, 'min_samples_leaf': 1}. Best is trial 2 with value: 0.8140306122448979.\n",
      "[I 2025-10-02 11:30:44,724] Trial 6 finished with value: 0.8097789115646258 and parameters: {'n_estimators': 600, 'max_depth': 12, 'min_samples_split': 6, 'min_samples_leaf': 3}. Best is trial 2 with value: 0.8140306122448979.\n",
      "[I 2025-10-02 11:30:45,391] Trial 7 finished with value: 0.8139455782312925 and parameters: {'n_estimators': 300, 'max_depth': 20, 'min_samples_split': 9, 'min_samples_leaf': 2}. Best is trial 2 with value: 0.8140306122448979.\n",
      "[I 2025-10-02 11:30:47,408] Trial 8 finished with value: 0.8056122448979591 and parameters: {'n_estimators': 900, 'max_depth': None, 'min_samples_split': 4, 'min_samples_leaf': 2}. Best is trial 2 with value: 0.8140306122448979.\n",
      "[I 2025-10-02 11:30:48,202] Trial 9 finished with value: 0.8139455782312925 and parameters: {'n_estimators': 300, 'max_depth': 30, 'min_samples_split': 9, 'min_samples_leaf': 1}. Best is trial 2 with value: 0.8140306122448979.\n",
      "[I 2025-10-02 11:30:49,960] Trial 10 finished with value: 0.8264455782312925 and parameters: {'n_estimators': 600, 'max_depth': None, 'min_samples_split': 7, 'min_samples_leaf': 1}. Best is trial 10 with value: 0.8264455782312925.\n",
      "[I 2025-10-02 11:30:51,822] Trial 11 finished with value: 0.8264455782312925 and parameters: {'n_estimators': 600, 'max_depth': None, 'min_samples_split': 7, 'min_samples_leaf': 1}. Best is trial 10 with value: 0.8264455782312925.\n",
      "[I 2025-10-02 11:30:53,578] Trial 12 finished with value: 0.8138605442176872 and parameters: {'n_estimators': 600, 'max_depth': None, 'min_samples_split': 6, 'min_samples_leaf': 1}. Best is trial 10 with value: 0.8264455782312925.\n",
      "[I 2025-10-02 11:30:55,301] Trial 13 finished with value: 0.8056972789115646 and parameters: {'n_estimators': 600, 'max_depth': None, 'min_samples_split': 7, 'min_samples_leaf': 3}. Best is trial 10 with value: 0.8264455782312925.\n",
      "[I 2025-10-02 11:30:57,057] Trial 14 finished with value: 0.8264455782312925 and parameters: {'n_estimators': 600, 'max_depth': None, 'min_samples_split': 7, 'min_samples_leaf': 1}. Best is trial 10 with value: 0.8264455782312925.\n",
      "[I 2025-10-02 11:30:58,958] Trial 15 finished with value: 0.8139455782312925 and parameters: {'n_estimators': 600, 'max_depth': 30, 'min_samples_split': 5, 'min_samples_leaf': 1}. Best is trial 10 with value: 0.8264455782312925.\n",
      "[I 2025-10-02 11:31:02,490] Trial 16 finished with value: 0.8139455782312925 and parameters: {'n_estimators': 900, 'max_depth': None, 'min_samples_split': 7, 'min_samples_leaf': 3}. Best is trial 10 with value: 0.8264455782312925.\n",
      "[I 2025-10-02 11:31:04,483] Trial 17 finished with value: 0.8098639455782314 and parameters: {'n_estimators': 600, 'max_depth': None, 'min_samples_split': 8, 'min_samples_leaf': 2}. Best is trial 10 with value: 0.8264455782312925.\n",
      "[I 2025-10-02 11:31:06,612] Trial 18 finished with value: 0.8139455782312925 and parameters: {'n_estimators': 600, 'max_depth': None, 'min_samples_split': 2, 'min_samples_leaf': 1}. Best is trial 10 with value: 0.8264455782312925.\n",
      "[I 2025-10-02 11:31:09,352] Trial 19 finished with value: 0.8139455782312925 and parameters: {'n_estimators': 900, 'max_depth': 30, 'min_samples_split': 5, 'min_samples_leaf': 2}. Best is trial 10 with value: 0.8264455782312925.\n",
      "[I 2025-10-02 11:31:11,097] Trial 20 finished with value: 0.8181972789115646 and parameters: {'n_estimators': 600, 'max_depth': None, 'min_samples_split': 8, 'min_samples_leaf': 1}. Best is trial 10 with value: 0.8264455782312925.\n",
      "[I 2025-10-02 11:31:12,771] Trial 21 finished with value: 0.8264455782312925 and parameters: {'n_estimators': 600, 'max_depth': None, 'min_samples_split': 7, 'min_samples_leaf': 1}. Best is trial 10 with value: 0.8264455782312925.\n",
      "[I 2025-10-02 11:31:14,698] Trial 22 finished with value: 0.8181972789115646 and parameters: {'n_estimators': 600, 'max_depth': None, 'min_samples_split': 8, 'min_samples_leaf': 1}. Best is trial 10 with value: 0.8264455782312925.\n",
      "[I 2025-10-02 11:31:16,413] Trial 23 finished with value: 0.8264455782312925 and parameters: {'n_estimators': 600, 'max_depth': None, 'min_samples_split': 7, 'min_samples_leaf': 1}. Best is trial 10 with value: 0.8264455782312925.\n",
      "[I 2025-10-02 11:31:17,737] Trial 24 finished with value: 0.8139455782312925 and parameters: {'n_estimators': 600, 'max_depth': None, 'min_samples_split': 6, 'min_samples_leaf': 2}. Best is trial 10 with value: 0.8264455782312925.\n",
      "[I 2025-10-02 11:31:18,394] Trial 25 finished with value: 0.8181122448979592 and parameters: {'n_estimators': 300, 'max_depth': None, 'min_samples_split': 5, 'min_samples_leaf': 1}. Best is trial 10 with value: 0.8264455782312925.\n",
      "[I 2025-10-02 11:31:20,362] Trial 26 finished with value: 0.8181122448979592 and parameters: {'n_estimators': 900, 'max_depth': None, 'min_samples_split': 8, 'min_samples_leaf': 2}. Best is trial 10 with value: 0.8264455782312925.\n",
      "[I 2025-10-02 11:31:21,722] Trial 27 finished with value: 0.8138605442176872 and parameters: {'n_estimators': 600, 'max_depth': 20, 'min_samples_split': 6, 'min_samples_leaf': 1}. Best is trial 10 with value: 0.8264455782312925.\n",
      "[I 2025-10-02 11:31:23,047] Trial 28 finished with value: 0.8056972789115646 and parameters: {'n_estimators': 600, 'max_depth': 30, 'min_samples_split': 7, 'min_samples_leaf': 3}. Best is trial 10 with value: 0.8264455782312925.\n",
      "[I 2025-10-02 11:31:23,733] Trial 29 finished with value: 0.8057823129251702 and parameters: {'n_estimators': 300, 'max_depth': 20, 'min_samples_split': 8, 'min_samples_leaf': 2}. Best is trial 10 with value: 0.8264455782312925.\n",
      "[I 2025-10-02 11:31:25,464] Trial 30 finished with value: 0.8139455782312925 and parameters: {'n_estimators': 600, 'max_depth': None, 'min_samples_split': 5, 'min_samples_leaf': 1}. Best is trial 10 with value: 0.8264455782312925.\n",
      "[I 2025-10-02 11:31:26,778] Trial 31 finished with value: 0.8264455782312925 and parameters: {'n_estimators': 600, 'max_depth': None, 'min_samples_split': 7, 'min_samples_leaf': 1}. Best is trial 10 with value: 0.8264455782312925.\n",
      "[I 2025-10-02 11:31:28,194] Trial 32 finished with value: 0.8264455782312925 and parameters: {'n_estimators': 600, 'max_depth': None, 'min_samples_split': 7, 'min_samples_leaf': 1}. Best is trial 10 with value: 0.8264455782312925.\n",
      "[I 2025-10-02 11:31:29,547] Trial 33 finished with value: 0.8138605442176872 and parameters: {'n_estimators': 600, 'max_depth': None, 'min_samples_split': 6, 'min_samples_leaf': 1}. Best is trial 10 with value: 0.8264455782312925.\n",
      "[I 2025-10-02 11:31:30,970] Trial 34 finished with value: 0.8140306122448979 and parameters: {'n_estimators': 600, 'max_depth': None, 'min_samples_split': 9, 'min_samples_leaf': 1}. Best is trial 10 with value: 0.8264455782312925.\n",
      "[I 2025-10-02 11:31:32,318] Trial 35 finished with value: 0.8098639455782314 and parameters: {'n_estimators': 600, 'max_depth': 20, 'min_samples_split': 8, 'min_samples_leaf': 2}. Best is trial 10 with value: 0.8264455782312925.\n",
      "[I 2025-10-02 11:31:32,979] Trial 36 finished with value: 0.8057823129251702 and parameters: {'n_estimators': 300, 'max_depth': 12, 'min_samples_split': 7, 'min_samples_leaf': 4}. Best is trial 10 with value: 0.8264455782312925.\n",
      "[I 2025-10-02 11:31:34,940] Trial 37 finished with value: 0.8139455782312925 and parameters: {'n_estimators': 900, 'max_depth': None, 'min_samples_split': 6, 'min_samples_leaf': 1}. Best is trial 10 with value: 0.8264455782312925.\n",
      "[I 2025-10-02 11:31:36,329] Trial 38 finished with value: 0.8057823129251702 and parameters: {'n_estimators': 600, 'max_depth': 12, 'min_samples_split': 10, 'min_samples_leaf': 1}. Best is trial 10 with value: 0.8264455782312925.\n",
      "[I 2025-10-02 11:31:37,717] Trial 39 finished with value: 0.8221938775510204 and parameters: {'n_estimators': 300, 'max_depth': None, 'min_samples_split': 7, 'min_samples_leaf': 2}. Best is trial 10 with value: 0.8264455782312925.\n",
      "[I 2025-10-02 11:31:38,719] A new study created in memory with name: gb_simple\n",
      "[I 2025-10-02 11:31:39,342] Trial 0 finished with value: 0.7644557823129252 and parameters: {'n_estimators': 800, 'learning_rate': 0.04281507578895304, 'max_depth': 3, 'min_samples_leaf': 1}. Best is trial 0 with value: 0.7644557823129252.\n",
      "[I 2025-10-02 11:31:40,849] Trial 1 finished with value: 0.764625850340136 and parameters: {'n_estimators': 600, 'learning_rate': 0.04174877225558524, 'max_depth': 5, 'min_samples_leaf': 1}. Best is trial 1 with value: 0.764625850340136.\n",
      "[I 2025-10-02 11:31:41,321] Trial 2 finished with value: 0.7769557823129253 and parameters: {'n_estimators': 600, 'learning_rate': 0.07172456746745859, 'max_depth': 3, 'min_samples_leaf': 2}. Best is trial 2 with value: 0.7769557823129253.\n",
      "[I 2025-10-02 11:31:41,790] Trial 3 finished with value: 0.7645408163265306 and parameters: {'n_estimators': 600, 'learning_rate': 0.10048929645194456, 'max_depth': 3, 'min_samples_leaf': 3}. Best is trial 2 with value: 0.7769557823129253.\n",
      "[I 2025-10-02 11:31:42,094] Trial 4 finished with value: 0.7768707482993198 and parameters: {'n_estimators': 400, 'learning_rate': 0.07185281664926686, 'max_depth': 3, 'min_samples_leaf': 3}. Best is trial 2 with value: 0.7769557823129253.\n",
      "[I 2025-10-02 11:31:42,803] Trial 5 finished with value: 0.7851190476190476 and parameters: {'n_estimators': 800, 'learning_rate': 0.11518539783459716, 'max_depth': 5, 'min_samples_leaf': 1}. Best is trial 5 with value: 0.7851190476190476.\n",
      "[I 2025-10-02 11:31:44,060] Trial 6 finished with value: 0.7852040816326531 and parameters: {'n_estimators': 800, 'learning_rate': 0.046949120548611396, 'max_depth': 5, 'min_samples_leaf': 1}. Best is trial 6 with value: 0.7852040816326531.\n",
      "[I 2025-10-02 11:31:44,742] Trial 7 finished with value: 0.7603741496598639 and parameters: {'n_estimators': 800, 'learning_rate': 0.13282756264061374, 'max_depth': 4, 'min_samples_leaf': 1}. Best is trial 6 with value: 0.7852040816326531.\n",
      "[I 2025-10-02 11:31:45,161] Trial 8 finished with value: 0.7730442176870749 and parameters: {'n_estimators': 200, 'learning_rate': 0.09663667662475318, 'max_depth': 5, 'min_samples_leaf': 3}. Best is trial 6 with value: 0.7852040816326531.\n",
      "[I 2025-10-02 11:31:47,230] Trial 9 finished with value: 0.7686224489795919 and parameters: {'n_estimators': 800, 'learning_rate': 0.04715895639373791, 'max_depth': 5, 'min_samples_leaf': 1}. Best is trial 6 with value: 0.7852040816326531.\n",
      "[I 2025-10-02 11:31:47,470] Trial 10 finished with value: 0.7602891156462585 and parameters: {'n_estimators': 400, 'learning_rate': 0.1812192693394369, 'max_depth': 2, 'min_samples_leaf': 2}. Best is trial 6 with value: 0.7852040816326531.\n",
      "[I 2025-10-02 11:31:48,204] Trial 11 finished with value: 0.7561224489795919 and parameters: {'n_estimators': 800, 'learning_rate': 0.0612761388534257, 'max_depth': 4, 'min_samples_leaf': 2}. Best is trial 6 with value: 0.7852040816326531.\n",
      "[I 2025-10-02 11:31:49,359] Trial 12 finished with value: 0.7687074829931972 and parameters: {'n_estimators': 800, 'learning_rate': 0.030055040838024738, 'max_depth': 5, 'min_samples_leaf': 1}. Best is trial 6 with value: 0.7852040816326531.\n",
      "[I 2025-10-02 11:31:49,909] Trial 13 finished with value: 0.7562074829931973 and parameters: {'n_estimators': 600, 'learning_rate': 0.1385955183965096, 'max_depth': 4, 'min_samples_leaf': 1}. Best is trial 6 with value: 0.7852040816326531.\n",
      "[I 2025-10-02 11:31:50,224] Trial 14 finished with value: 0.7935374149659864 and parameters: {'n_estimators': 200, 'learning_rate': 0.10347955272724842, 'max_depth': 5, 'min_samples_leaf': 2}. Best is trial 14 with value: 0.7935374149659864.\n",
      "[I 2025-10-02 11:31:50,441] Trial 15 finished with value: 0.7811224489795918 and parameters: {'n_estimators': 200, 'learning_rate': 0.05530568813635015, 'max_depth': 4, 'min_samples_leaf': 2}. Best is trial 14 with value: 0.7935374149659864.\n",
      "[I 2025-10-02 11:31:50,715] Trial 16 finished with value: 0.79328231292517 and parameters: {'n_estimators': 400, 'learning_rate': 0.03539080792442001, 'max_depth': 2, 'min_samples_leaf': 2}. Best is trial 14 with value: 0.7935374149659864.\n",
      "[I 2025-10-02 11:31:50,845] Trial 17 finished with value: 0.80578231292517 and parameters: {'n_estimators': 200, 'learning_rate': 0.030913288252122657, 'max_depth': 2, 'min_samples_leaf': 2}. Best is trial 17 with value: 0.80578231292517.\n",
      "[I 2025-10-02 11:31:50,986] Trial 18 finished with value: 0.7685374149659864 and parameters: {'n_estimators': 200, 'learning_rate': 0.19531999898706046, 'max_depth': 2, 'min_samples_leaf': 2}. Best is trial 17 with value: 0.80578231292517.\n",
      "[I 2025-10-02 11:31:51,115] Trial 19 finished with value: 0.7931972789115646 and parameters: {'n_estimators': 200, 'learning_rate': 0.0884249897415489, 'max_depth': 2, 'min_samples_leaf': 2}. Best is trial 17 with value: 0.80578231292517.\n",
      "[I 2025-10-02 11:31:51,420] Trial 20 finished with value: 0.7439625850340137 and parameters: {'n_estimators': 400, 'learning_rate': 0.15651122720377508, 'max_depth': 3, 'min_samples_leaf': 3}. Best is trial 17 with value: 0.80578231292517.\n",
      "[I 2025-10-02 11:31:51,669] Trial 21 finished with value: 0.7973639455782313 and parameters: {'n_estimators': 400, 'learning_rate': 0.030071426322446106, 'max_depth': 2, 'min_samples_leaf': 2}. Best is trial 17 with value: 0.80578231292517.\n",
      "[I 2025-10-02 11:31:51,808] Trial 22 finished with value: 0.8056972789115646 and parameters: {'n_estimators': 200, 'learning_rate': 0.033222408540770985, 'max_depth': 2, 'min_samples_leaf': 2}. Best is trial 17 with value: 0.80578231292517.\n",
      "[I 2025-10-02 11:31:51,952] Trial 23 finished with value: 0.8139455782312925 and parameters: {'n_estimators': 200, 'learning_rate': 0.03135031765157944, 'max_depth': 2, 'min_samples_leaf': 2}. Best is trial 23 with value: 0.8139455782312925.\n",
      "[I 2025-10-02 11:31:52,082] Trial 24 finished with value: 0.8096938775510205 and parameters: {'n_estimators': 200, 'learning_rate': 0.03806916125039152, 'max_depth': 2, 'min_samples_leaf': 2}. Best is trial 23 with value: 0.8139455782312925.\n",
      "[I 2025-10-02 11:31:52,222] Trial 25 finished with value: 0.7974489795918367 and parameters: {'n_estimators': 200, 'learning_rate': 0.03942262829311139, 'max_depth': 2, 'min_samples_leaf': 3}. Best is trial 23 with value: 0.8139455782312925.\n",
      "[I 2025-10-02 11:31:52,333] Trial 26 finished with value: 0.8014455782312926 and parameters: {'n_estimators': 200, 'learning_rate': 0.036494437119290006, 'max_depth': 2, 'min_samples_leaf': 2}. Best is trial 23 with value: 0.8139455782312925.\n",
      "[I 2025-10-02 11:31:53,060] Trial 27 finished with value: 0.7727040816326531 and parameters: {'n_estimators': 400, 'learning_rate': 0.056351735869059595, 'max_depth': 3, 'min_samples_leaf': 2}. Best is trial 23 with value: 0.8139455782312925.\n",
      "[I 2025-10-02 11:31:53,188] Trial 28 finished with value: 0.8097789115646258 and parameters: {'n_estimators': 200, 'learning_rate': 0.04846313622108207, 'max_depth': 2, 'min_samples_leaf': 2}. Best is trial 23 with value: 0.8139455782312925.\n",
      "[I 2025-10-02 11:31:53,323] Trial 29 finished with value: 0.8016156462585033 and parameters: {'n_estimators': 200, 'learning_rate': 0.047167286290686915, 'max_depth': 2, 'min_samples_leaf': 3}. Best is trial 23 with value: 0.8139455782312925.\n",
      "[I 2025-10-02 11:31:53,633] Trial 30 finished with value: 0.7851190476190476 and parameters: {'n_estimators': 400, 'learning_rate': 0.04010608123941453, 'max_depth': 3, 'min_samples_leaf': 2}. Best is trial 23 with value: 0.8139455782312925.\n",
      "[I 2025-10-02 11:31:53,777] Trial 31 finished with value: 0.8056122448979591 and parameters: {'n_estimators': 200, 'learning_rate': 0.03375580146270048, 'max_depth': 2, 'min_samples_leaf': 2}. Best is trial 23 with value: 0.8139455782312925.\n",
      "[I 2025-10-02 11:31:53,900] Trial 32 finished with value: 0.8056972789115647 and parameters: {'n_estimators': 200, 'learning_rate': 0.04199809866332282, 'max_depth': 2, 'min_samples_leaf': 2}. Best is trial 23 with value: 0.8139455782312925.\n",
      "[I 2025-10-02 11:31:54,025] Trial 33 finished with value: 0.8056122448979591 and parameters: {'n_estimators': 200, 'learning_rate': 0.037392442143001664, 'max_depth': 2, 'min_samples_leaf': 2}. Best is trial 23 with value: 0.8139455782312925.\n",
      "[I 2025-10-02 11:31:54,192] Trial 34 finished with value: 0.7933673469387755 and parameters: {'n_estimators': 200, 'learning_rate': 0.032201869430058164, 'max_depth': 3, 'min_samples_leaf': 2}. Best is trial 23 with value: 0.8139455782312925.\n",
      "[I 2025-10-02 11:31:54,345] Trial 35 finished with value: 0.8056972789115647 and parameters: {'n_estimators': 200, 'learning_rate': 0.044605177221187925, 'max_depth': 2, 'min_samples_leaf': 2}. Best is trial 23 with value: 0.8139455782312925.\n",
      "[I 2025-10-02 11:31:54,669] Trial 36 finished with value: 0.7602891156462585 and parameters: {'n_estimators': 400, 'learning_rate': 0.054075995807954996, 'max_depth': 3, 'min_samples_leaf': 3}. Best is trial 23 with value: 0.8139455782312925.\n",
      "[I 2025-10-02 11:31:55,607] Trial 37 finished with value: 0.7562074829931973 and parameters: {'n_estimators': 600, 'learning_rate': 0.06424159321387346, 'max_depth': 3, 'min_samples_leaf': 2}. Best is trial 23 with value: 0.8139455782312925.\n",
      "[I 2025-10-02 11:31:55,742] Trial 38 finished with value: 0.7972789115646258 and parameters: {'n_estimators': 200, 'learning_rate': 0.03755813091807816, 'max_depth': 2, 'min_samples_leaf': 1}. Best is trial 23 with value: 0.8139455782312925.\n",
      "[I 2025-10-02 11:31:56,049] Trial 39 finished with value: 0.7726190476190476 and parameters: {'n_estimators': 400, 'learning_rate': 0.05050997509782315, 'max_depth': 3, 'min_samples_leaf': 2}. Best is trial 23 with value: 0.8139455782312925.\n",
      "[I 2025-10-02 11:31:56,171] A new study created in memory with name: adb_simple\n",
      "[W 2025-10-02 11:31:56,174] Trial 0 failed with parameters: {'dt_max_depth': 1, 'n_estimators': 200, 'learning_rate': 0.22127910378036988} because of the following error: TypeError(\"AdaBoostClassifier.__init__() got an unexpected keyword argument 'estimator'\").\n",
      "Traceback (most recent call last):\n",
      "  File \"c:\\Users\\USER\\anaconda3\\envs\\ml\\lib\\site-packages\\optuna\\study\\_optimize.py\", line 201, in _run_trial\n",
      "    value_or_values = func(trial)\n",
      "  File \"C:\\Users\\USER\\AppData\\Local\\Temp\\ipykernel_29192\\967207985.py\", line 93, in objective\n",
      "    est = suggest_fn(trial)\n",
      "  File \"C:\\Users\\USER\\AppData\\Local\\Temp\\ipykernel_29192\\967207985.py\", line 29, in suggest_adb\n",
      "    return AdaBoostClassifier(\n",
      "TypeError: AdaBoostClassifier.__init__() got an unexpected keyword argument 'estimator'\n",
      "[W 2025-10-02 11:31:56,186] Trial 0 failed with value None.\n"
     ]
    },
    {
     "ename": "TypeError",
     "evalue": "AdaBoostClassifier.__init__() got an unexpected keyword argument 'estimator'",
     "output_type": "error",
     "traceback": [
      "\u001B[1;31m---------------------------------------------------------------------------\u001B[0m",
      "\u001B[1;31mTypeError\u001B[0m                                 Traceback (most recent call last)",
      "Cell \u001B[1;32mIn[25], line 6\u001B[0m\n\u001B[0;32m      4\u001B[0m out_dt_rf \u001B[38;5;241m=\u001B[39m optuna_tune_simple(\u001B[38;5;124m\"\u001B[39m\u001B[38;5;124mrf\u001B[39m\u001B[38;5;124m\"\u001B[39m, X_dt_train, y_dt_train)\n\u001B[0;32m      5\u001B[0m out_dt_gb \u001B[38;5;241m=\u001B[39m optuna_tune_simple(\u001B[38;5;124m'\u001B[39m\u001B[38;5;124mgb\u001B[39m\u001B[38;5;124m'\u001B[39m, X_dt_train, y_dt_train)\n\u001B[1;32m----> 6\u001B[0m out_dt_ada \u001B[38;5;241m=\u001B[39m \u001B[43moptuna_tune_simple\u001B[49m\u001B[43m(\u001B[49m\u001B[38;5;124;43m'\u001B[39;49m\u001B[38;5;124;43madb\u001B[39;49m\u001B[38;5;124;43m'\u001B[39;49m\u001B[43m,\u001B[49m\u001B[43m \u001B[49m\u001B[43mX_dt_train\u001B[49m\u001B[43m,\u001B[49m\u001B[43m \u001B[49m\u001B[43my_dt_train\u001B[49m\u001B[43m)\u001B[49m\n",
      "Cell \u001B[1;32mIn[19], line 98\u001B[0m, in \u001B[0;36moptuna_tune_simple\u001B[1;34m(model_key, X, y, n_trials, scoring)\u001B[0m\n\u001B[0;32m     95\u001B[0m     \u001B[38;5;28;01mreturn\u001B[39;00m score\n\u001B[0;32m     97\u001B[0m study \u001B[38;5;241m=\u001B[39m optuna\u001B[38;5;241m.\u001B[39mcreate_study(direction\u001B[38;5;241m=\u001B[39m\u001B[38;5;124m\"\u001B[39m\u001B[38;5;124mmaximize\u001B[39m\u001B[38;5;124m\"\u001B[39m, study_name\u001B[38;5;241m=\u001B[39m\u001B[38;5;124mf\u001B[39m\u001B[38;5;124m\"\u001B[39m\u001B[38;5;132;01m{\u001B[39;00mmodel_key\u001B[38;5;132;01m}\u001B[39;00m\u001B[38;5;124m_simple\u001B[39m\u001B[38;5;124m\"\u001B[39m)\n\u001B[1;32m---> 98\u001B[0m \u001B[43mstudy\u001B[49m\u001B[38;5;241;43m.\u001B[39;49m\u001B[43moptimize\u001B[49m\u001B[43m(\u001B[49m\u001B[43mobjective\u001B[49m\u001B[43m,\u001B[49m\u001B[43m \u001B[49m\u001B[43mn_trials\u001B[49m\u001B[38;5;241;43m=\u001B[39;49m\u001B[43mn_trials\u001B[49m\u001B[43m)\u001B[49m\n\u001B[0;32m    100\u001B[0m best_est \u001B[38;5;241m=\u001B[39m suggest_fn(study\u001B[38;5;241m.\u001B[39mbest_trial)\n\u001B[0;32m    101\u001B[0m best_est\u001B[38;5;241m.\u001B[39mfit(X, y)\n",
      "File \u001B[1;32mc:\\Users\\USER\\anaconda3\\envs\\ml\\lib\\site-packages\\optuna\\study\\study.py:490\u001B[0m, in \u001B[0;36mStudy.optimize\u001B[1;34m(self, func, n_trials, timeout, n_jobs, catch, callbacks, gc_after_trial, show_progress_bar)\u001B[0m\n\u001B[0;32m    388\u001B[0m \u001B[38;5;28;01mdef\u001B[39;00m\u001B[38;5;250m \u001B[39m\u001B[38;5;21moptimize\u001B[39m(\n\u001B[0;32m    389\u001B[0m     \u001B[38;5;28mself\u001B[39m,\n\u001B[0;32m    390\u001B[0m     func: ObjectiveFuncType,\n\u001B[1;32m   (...)\u001B[0m\n\u001B[0;32m    397\u001B[0m     show_progress_bar: \u001B[38;5;28mbool\u001B[39m \u001B[38;5;241m=\u001B[39m \u001B[38;5;28;01mFalse\u001B[39;00m,\n\u001B[0;32m    398\u001B[0m ) \u001B[38;5;241m-\u001B[39m\u001B[38;5;241m>\u001B[39m \u001B[38;5;28;01mNone\u001B[39;00m:\n\u001B[0;32m    399\u001B[0m \u001B[38;5;250m    \u001B[39m\u001B[38;5;124;03m\"\"\"Optimize an objective function.\u001B[39;00m\n\u001B[0;32m    400\u001B[0m \n\u001B[0;32m    401\u001B[0m \u001B[38;5;124;03m    Optimization is done by choosing a suitable set of hyperparameter values from a given\u001B[39;00m\n\u001B[1;32m   (...)\u001B[0m\n\u001B[0;32m    488\u001B[0m \u001B[38;5;124;03m            If nested invocation of this method occurs.\u001B[39;00m\n\u001B[0;32m    489\u001B[0m \u001B[38;5;124;03m    \"\"\"\u001B[39;00m\n\u001B[1;32m--> 490\u001B[0m     \u001B[43m_optimize\u001B[49m\u001B[43m(\u001B[49m\n\u001B[0;32m    491\u001B[0m \u001B[43m        \u001B[49m\u001B[43mstudy\u001B[49m\u001B[38;5;241;43m=\u001B[39;49m\u001B[38;5;28;43mself\u001B[39;49m\u001B[43m,\u001B[49m\n\u001B[0;32m    492\u001B[0m \u001B[43m        \u001B[49m\u001B[43mfunc\u001B[49m\u001B[38;5;241;43m=\u001B[39;49m\u001B[43mfunc\u001B[49m\u001B[43m,\u001B[49m\n\u001B[0;32m    493\u001B[0m \u001B[43m        \u001B[49m\u001B[43mn_trials\u001B[49m\u001B[38;5;241;43m=\u001B[39;49m\u001B[43mn_trials\u001B[49m\u001B[43m,\u001B[49m\n\u001B[0;32m    494\u001B[0m \u001B[43m        \u001B[49m\u001B[43mtimeout\u001B[49m\u001B[38;5;241;43m=\u001B[39;49m\u001B[43mtimeout\u001B[49m\u001B[43m,\u001B[49m\n\u001B[0;32m    495\u001B[0m \u001B[43m        \u001B[49m\u001B[43mn_jobs\u001B[49m\u001B[38;5;241;43m=\u001B[39;49m\u001B[43mn_jobs\u001B[49m\u001B[43m,\u001B[49m\n\u001B[0;32m    496\u001B[0m \u001B[43m        \u001B[49m\u001B[43mcatch\u001B[49m\u001B[38;5;241;43m=\u001B[39;49m\u001B[38;5;28;43mtuple\u001B[39;49m\u001B[43m(\u001B[49m\u001B[43mcatch\u001B[49m\u001B[43m)\u001B[49m\u001B[43m \u001B[49m\u001B[38;5;28;43;01mif\u001B[39;49;00m\u001B[43m \u001B[49m\u001B[38;5;28;43misinstance\u001B[39;49m\u001B[43m(\u001B[49m\u001B[43mcatch\u001B[49m\u001B[43m,\u001B[49m\u001B[43m \u001B[49m\u001B[43mIterable\u001B[49m\u001B[43m)\u001B[49m\u001B[43m \u001B[49m\u001B[38;5;28;43;01melse\u001B[39;49;00m\u001B[43m \u001B[49m\u001B[43m(\u001B[49m\u001B[43mcatch\u001B[49m\u001B[43m,\u001B[49m\u001B[43m)\u001B[49m\u001B[43m,\u001B[49m\n\u001B[0;32m    497\u001B[0m \u001B[43m        \u001B[49m\u001B[43mcallbacks\u001B[49m\u001B[38;5;241;43m=\u001B[39;49m\u001B[43mcallbacks\u001B[49m\u001B[43m,\u001B[49m\n\u001B[0;32m    498\u001B[0m \u001B[43m        \u001B[49m\u001B[43mgc_after_trial\u001B[49m\u001B[38;5;241;43m=\u001B[39;49m\u001B[43mgc_after_trial\u001B[49m\u001B[43m,\u001B[49m\n\u001B[0;32m    499\u001B[0m \u001B[43m        \u001B[49m\u001B[43mshow_progress_bar\u001B[49m\u001B[38;5;241;43m=\u001B[39;49m\u001B[43mshow_progress_bar\u001B[49m\u001B[43m,\u001B[49m\n\u001B[0;32m    500\u001B[0m \u001B[43m    \u001B[49m\u001B[43m)\u001B[49m\n",
      "File \u001B[1;32mc:\\Users\\USER\\anaconda3\\envs\\ml\\lib\\site-packages\\optuna\\study\\_optimize.py:63\u001B[0m, in \u001B[0;36m_optimize\u001B[1;34m(study, func, n_trials, timeout, n_jobs, catch, callbacks, gc_after_trial, show_progress_bar)\u001B[0m\n\u001B[0;32m     61\u001B[0m \u001B[38;5;28;01mtry\u001B[39;00m:\n\u001B[0;32m     62\u001B[0m     \u001B[38;5;28;01mif\u001B[39;00m n_jobs \u001B[38;5;241m==\u001B[39m \u001B[38;5;241m1\u001B[39m:\n\u001B[1;32m---> 63\u001B[0m         \u001B[43m_optimize_sequential\u001B[49m\u001B[43m(\u001B[49m\n\u001B[0;32m     64\u001B[0m \u001B[43m            \u001B[49m\u001B[43mstudy\u001B[49m\u001B[43m,\u001B[49m\n\u001B[0;32m     65\u001B[0m \u001B[43m            \u001B[49m\u001B[43mfunc\u001B[49m\u001B[43m,\u001B[49m\n\u001B[0;32m     66\u001B[0m \u001B[43m            \u001B[49m\u001B[43mn_trials\u001B[49m\u001B[43m,\u001B[49m\n\u001B[0;32m     67\u001B[0m \u001B[43m            \u001B[49m\u001B[43mtimeout\u001B[49m\u001B[43m,\u001B[49m\n\u001B[0;32m     68\u001B[0m \u001B[43m            \u001B[49m\u001B[43mcatch\u001B[49m\u001B[43m,\u001B[49m\n\u001B[0;32m     69\u001B[0m \u001B[43m            \u001B[49m\u001B[43mcallbacks\u001B[49m\u001B[43m,\u001B[49m\n\u001B[0;32m     70\u001B[0m \u001B[43m            \u001B[49m\u001B[43mgc_after_trial\u001B[49m\u001B[43m,\u001B[49m\n\u001B[0;32m     71\u001B[0m \u001B[43m            \u001B[49m\u001B[43mreseed_sampler_rng\u001B[49m\u001B[38;5;241;43m=\u001B[39;49m\u001B[38;5;28;43;01mFalse\u001B[39;49;00m\u001B[43m,\u001B[49m\n\u001B[0;32m     72\u001B[0m \u001B[43m            \u001B[49m\u001B[43mtime_start\u001B[49m\u001B[38;5;241;43m=\u001B[39;49m\u001B[38;5;28;43;01mNone\u001B[39;49;00m\u001B[43m,\u001B[49m\n\u001B[0;32m     73\u001B[0m \u001B[43m            \u001B[49m\u001B[43mprogress_bar\u001B[49m\u001B[38;5;241;43m=\u001B[39;49m\u001B[43mprogress_bar\u001B[49m\u001B[43m,\u001B[49m\n\u001B[0;32m     74\u001B[0m \u001B[43m        \u001B[49m\u001B[43m)\u001B[49m\n\u001B[0;32m     75\u001B[0m     \u001B[38;5;28;01melse\u001B[39;00m:\n\u001B[0;32m     76\u001B[0m         \u001B[38;5;28;01mif\u001B[39;00m n_jobs \u001B[38;5;241m==\u001B[39m \u001B[38;5;241m-\u001B[39m\u001B[38;5;241m1\u001B[39m:\n",
      "File \u001B[1;32mc:\\Users\\USER\\anaconda3\\envs\\ml\\lib\\site-packages\\optuna\\study\\_optimize.py:160\u001B[0m, in \u001B[0;36m_optimize_sequential\u001B[1;34m(study, func, n_trials, timeout, catch, callbacks, gc_after_trial, reseed_sampler_rng, time_start, progress_bar)\u001B[0m\n\u001B[0;32m    157\u001B[0m         \u001B[38;5;28;01mbreak\u001B[39;00m\n\u001B[0;32m    159\u001B[0m \u001B[38;5;28;01mtry\u001B[39;00m:\n\u001B[1;32m--> 160\u001B[0m     frozen_trial_id \u001B[38;5;241m=\u001B[39m \u001B[43m_run_trial\u001B[49m\u001B[43m(\u001B[49m\u001B[43mstudy\u001B[49m\u001B[43m,\u001B[49m\u001B[43m \u001B[49m\u001B[43mfunc\u001B[49m\u001B[43m,\u001B[49m\u001B[43m \u001B[49m\u001B[43mcatch\u001B[49m\u001B[43m)\u001B[49m\n\u001B[0;32m    161\u001B[0m \u001B[38;5;28;01mfinally\u001B[39;00m:\n\u001B[0;32m    162\u001B[0m     \u001B[38;5;66;03m# The following line mitigates memory problems that can be occurred in some\u001B[39;00m\n\u001B[0;32m    163\u001B[0m     \u001B[38;5;66;03m# environments (e.g., services that use computing containers such as GitHub Actions).\u001B[39;00m\n\u001B[0;32m    164\u001B[0m     \u001B[38;5;66;03m# Please refer to the following PR for further details:\u001B[39;00m\n\u001B[0;32m    165\u001B[0m     \u001B[38;5;66;03m# https://github.com/optuna/optuna/pull/325.\u001B[39;00m\n\u001B[0;32m    166\u001B[0m     \u001B[38;5;28;01mif\u001B[39;00m gc_after_trial:\n",
      "File \u001B[1;32mc:\\Users\\USER\\anaconda3\\envs\\ml\\lib\\site-packages\\optuna\\study\\_optimize.py:258\u001B[0m, in \u001B[0;36m_run_trial\u001B[1;34m(study, func, catch)\u001B[0m\n\u001B[0;32m    251\u001B[0m         \u001B[38;5;28;01massert\u001B[39;00m \u001B[38;5;28;01mFalse\u001B[39;00m, \u001B[38;5;124m\"\u001B[39m\u001B[38;5;124mShould not reach.\u001B[39m\u001B[38;5;124m\"\u001B[39m\n\u001B[0;32m    253\u001B[0m \u001B[38;5;28;01mif\u001B[39;00m (\n\u001B[0;32m    254\u001B[0m     updated_state \u001B[38;5;241m==\u001B[39m TrialState\u001B[38;5;241m.\u001B[39mFAIL\n\u001B[0;32m    255\u001B[0m     \u001B[38;5;129;01mand\u001B[39;00m func_err \u001B[38;5;129;01mis\u001B[39;00m \u001B[38;5;129;01mnot\u001B[39;00m \u001B[38;5;28;01mNone\u001B[39;00m\n\u001B[0;32m    256\u001B[0m     \u001B[38;5;129;01mand\u001B[39;00m \u001B[38;5;129;01mnot\u001B[39;00m \u001B[38;5;28misinstance\u001B[39m(func_err, catch)\n\u001B[0;32m    257\u001B[0m ):\n\u001B[1;32m--> 258\u001B[0m     \u001B[38;5;28;01mraise\u001B[39;00m func_err\n\u001B[0;32m    259\u001B[0m \u001B[38;5;28;01mreturn\u001B[39;00m trial\u001B[38;5;241m.\u001B[39m_trial_id\n",
      "File \u001B[1;32mc:\\Users\\USER\\anaconda3\\envs\\ml\\lib\\site-packages\\optuna\\study\\_optimize.py:201\u001B[0m, in \u001B[0;36m_run_trial\u001B[1;34m(study, func, catch)\u001B[0m\n\u001B[0;32m    199\u001B[0m \u001B[38;5;28;01mwith\u001B[39;00m get_heartbeat_thread(trial\u001B[38;5;241m.\u001B[39m_trial_id, study\u001B[38;5;241m.\u001B[39m_storage):\n\u001B[0;32m    200\u001B[0m     \u001B[38;5;28;01mtry\u001B[39;00m:\n\u001B[1;32m--> 201\u001B[0m         value_or_values \u001B[38;5;241m=\u001B[39m \u001B[43mfunc\u001B[49m\u001B[43m(\u001B[49m\u001B[43mtrial\u001B[49m\u001B[43m)\u001B[49m\n\u001B[0;32m    202\u001B[0m     \u001B[38;5;28;01mexcept\u001B[39;00m exceptions\u001B[38;5;241m.\u001B[39mTrialPruned \u001B[38;5;28;01mas\u001B[39;00m e:\n\u001B[0;32m    203\u001B[0m         \u001B[38;5;66;03m# TODO(mamu): Handle multi-objective cases.\u001B[39;00m\n\u001B[0;32m    204\u001B[0m         state \u001B[38;5;241m=\u001B[39m TrialState\u001B[38;5;241m.\u001B[39mPRUNED\n",
      "Cell \u001B[1;32mIn[19], line 93\u001B[0m, in \u001B[0;36moptuna_tune_simple.<locals>.objective\u001B[1;34m(trial)\u001B[0m\n\u001B[0;32m     92\u001B[0m \u001B[38;5;28;01mdef\u001B[39;00m\u001B[38;5;250m \u001B[39m\u001B[38;5;21mobjective\u001B[39m(trial):\n\u001B[1;32m---> 93\u001B[0m     est \u001B[38;5;241m=\u001B[39m \u001B[43msuggest_fn\u001B[49m\u001B[43m(\u001B[49m\u001B[43mtrial\u001B[49m\u001B[43m)\u001B[49m\n\u001B[0;32m     94\u001B[0m     score \u001B[38;5;241m=\u001B[39m cross_val_score(est, X, y, cv\u001B[38;5;241m=\u001B[39mcv, scoring\u001B[38;5;241m=\u001B[39mscoring, n_jobs\u001B[38;5;241m=\u001B[39mN_JOBS)\u001B[38;5;241m.\u001B[39mmean()\n\u001B[0;32m     95\u001B[0m     \u001B[38;5;28;01mreturn\u001B[39;00m score\n",
      "Cell \u001B[1;32mIn[19], line 29\u001B[0m, in \u001B[0;36msuggest_adb\u001B[1;34m(trial)\u001B[0m\n\u001B[0;32m     27\u001B[0m \u001B[38;5;28;01mdef\u001B[39;00m\u001B[38;5;250m \u001B[39m\u001B[38;5;21msuggest_adb\u001B[39m(trial):\n\u001B[0;32m     28\u001B[0m     dt \u001B[38;5;241m=\u001B[39m DecisionTreeClassifier(max_depth\u001B[38;5;241m=\u001B[39mtrial\u001B[38;5;241m.\u001B[39msuggest_int(\u001B[38;5;124m\"\u001B[39m\u001B[38;5;124mdt_max_depth\u001B[39m\u001B[38;5;124m\"\u001B[39m, \u001B[38;5;241m1\u001B[39m, \u001B[38;5;241m3\u001B[39m), random_state\u001B[38;5;241m=\u001B[39mSEED)\n\u001B[1;32m---> 29\u001B[0m     \u001B[38;5;28;01mreturn\u001B[39;00m \u001B[43mAdaBoostClassifier\u001B[49m\u001B[43m(\u001B[49m\n\u001B[0;32m     30\u001B[0m \u001B[43m        \u001B[49m\u001B[43mestimator\u001B[49m\u001B[38;5;241;43m=\u001B[39;49m\u001B[43mdt\u001B[49m\u001B[43m,\u001B[49m\n\u001B[0;32m     31\u001B[0m \u001B[43m        \u001B[49m\u001B[43mn_estimators\u001B[49m\u001B[38;5;241;43m=\u001B[39;49m\u001B[43mtrial\u001B[49m\u001B[38;5;241;43m.\u001B[39;49m\u001B[43msuggest_int\u001B[49m\u001B[43m(\u001B[49m\u001B[38;5;124;43m\"\u001B[39;49m\u001B[38;5;124;43mn_estimators\u001B[39;49m\u001B[38;5;124;43m\"\u001B[39;49m\u001B[43m,\u001B[49m\u001B[43m \u001B[49m\u001B[38;5;241;43m200\u001B[39;49m\u001B[43m,\u001B[49m\u001B[43m \u001B[49m\u001B[38;5;241;43m800\u001B[39;49m\u001B[43m,\u001B[49m\u001B[43m \u001B[49m\u001B[43mstep\u001B[49m\u001B[38;5;241;43m=\u001B[39;49m\u001B[38;5;241;43m200\u001B[39;49m\u001B[43m)\u001B[49m\u001B[43m,\u001B[49m\n\u001B[0;32m     32\u001B[0m \u001B[43m        \u001B[49m\u001B[43mlearning_rate\u001B[49m\u001B[38;5;241;43m=\u001B[39;49m\u001B[43mtrial\u001B[49m\u001B[38;5;241;43m.\u001B[39;49m\u001B[43msuggest_float\u001B[49m\u001B[43m(\u001B[49m\u001B[38;5;124;43m\"\u001B[39;49m\u001B[38;5;124;43mlearning_rate\u001B[39;49m\u001B[38;5;124;43m\"\u001B[39;49m\u001B[43m,\u001B[49m\u001B[43m \u001B[49m\u001B[38;5;241;43m0.03\u001B[39;49m\u001B[43m,\u001B[49m\u001B[43m \u001B[49m\u001B[38;5;241;43m0.3\u001B[39;49m\u001B[43m,\u001B[49m\u001B[43m \u001B[49m\u001B[43mlog\u001B[49m\u001B[38;5;241;43m=\u001B[39;49m\u001B[38;5;28;43;01mTrue\u001B[39;49;00m\u001B[43m)\u001B[49m\u001B[43m,\u001B[49m\n\u001B[0;32m     33\u001B[0m \u001B[43m        \u001B[49m\u001B[43mrandom_state\u001B[49m\u001B[38;5;241;43m=\u001B[39;49m\u001B[43mSEED\u001B[49m\n\u001B[0;32m     34\u001B[0m \u001B[43m    \u001B[49m\u001B[43m)\u001B[49m\n",
      "\u001B[1;31mTypeError\u001B[0m: AdaBoostClassifier.__init__() got an unexpected keyword argument 'estimator'"
     ]
    }
   ],
   "execution_count": 25
  },
  {
   "metadata": {
    "ExecuteTime": {
     "end_time": "2025-10-02T04:23:50.055598Z",
     "start_time": "2025-10-02T04:23:49.762090Z"
    }
   },
   "cell_type": "code",
   "source": "dt_ranked = sorted([out_dt_ada, out_dt_rf, out_dt_gb, out_dt_lgbm, out_dt_xgb, out_dt_cat], key=lambda x: x[\"best_score\"], reverse=True)",
   "id": "1ddd0516173c032d",
   "outputs": [
    {
     "ename": "NameError",
     "evalue": "name 'out_dt_ada' is not defined",
     "output_type": "error",
     "traceback": [
      "\u001B[1;31m---------------------------------------------------------------------------\u001B[0m",
      "\u001B[1;31mNameError\u001B[0m                                 Traceback (most recent call last)",
      "Cell \u001B[1;32mIn[24], line 1\u001B[0m\n\u001B[1;32m----> 1\u001B[0m dt_ranked \u001B[38;5;241m=\u001B[39m \u001B[38;5;28msorted\u001B[39m([\u001B[43mout_dt_ada\u001B[49m, out_dt_rf, out_dt_gb, out_dt_lgbm, out_dt_xgb, out_dt_cat], key\u001B[38;5;241m=\u001B[39m\u001B[38;5;28;01mlambda\u001B[39;00m x: x[\u001B[38;5;124m\"\u001B[39m\u001B[38;5;124mbest_score\u001B[39m\u001B[38;5;124m\"\u001B[39m], reverse\u001B[38;5;241m=\u001B[39m\u001B[38;5;28;01mTrue\u001B[39;00m)\n",
      "\u001B[1;31mNameError\u001B[0m: name 'out_dt_ada' is not defined"
     ]
    }
   ],
   "execution_count": 24
  },
  {
   "metadata": {},
   "cell_type": "code",
   "outputs": [],
   "execution_count": null,
   "source": "",
   "id": "9004eedbecf3476b"
  }
 ],
 "metadata": {
  "kernelspec": {
   "display_name": "ml",
   "language": "python",
   "name": "python3"
  },
  "language_info": {
   "codemirror_mode": {
    "name": "ipython",
    "version": 3
   },
   "file_extension": ".py",
   "mimetype": "text/x-python",
   "name": "python",
   "nbconvert_exporter": "python",
   "pygments_lexer": "ipython3",
   "version": "3.10.18"
  }
 },
 "nbformat": 4,
 "nbformat_minor": 5
}
