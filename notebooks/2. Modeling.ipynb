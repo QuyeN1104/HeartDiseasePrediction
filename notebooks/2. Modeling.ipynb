{
 "cells": [
  {
   "cell_type": "markdown",
   "id": "4af613f8374faf1b",
   "metadata": {},
   "source": [
    "## IMPORT LIBRAIES"
   ]
  },
  {
   "cell_type": "code",
   "id": "initial_id",
   "metadata": {
    "collapsed": true,
    "ExecuteTime": {
     "end_time": "2025-10-02T15:21:33.265644Z",
     "start_time": "2025-10-02T15:21:32.781678Z"
    }
   },
   "source": [
    "import os\n",
    "import json\n",
    "import random\n",
    "import numpy as np\n",
    "import pandas as pd\n",
    "import matplotlib.pyplot as plt\n",
    "\n",
    "from pathlib import Path\n",
    "\n",
    "from sklearn.model_selection import train_test_split\n",
    "from sklearn.pipeline import Pipeline\n",
    "from sklearn.impute import SimpleImputer\n",
    "from sklearn.compose import ColumnTransformer\n",
    "from sklearn.tree import DecisionTreeClassifier\n",
    "from sklearn.base import BaseEstimator, TransformerMixin\n",
    "from sklearn.feature_selection import mutual_info_classif\n",
    "from sklearn.preprocessing import OneHotEncoder, StandardScaler, MinMaxScaler\n",
    "\n",
    "os.environ['PYTHONHASHSEED'] = '42'\n",
    "np.random.seed(42)\n",
    "random.seed(42)\n",
    "print('Seed: 42')\n",
    "\n",
    "\n"
   ],
   "outputs": [
    {
     "name": "stdout",
     "output_type": "stream",
     "text": [
      "Seed: 42\n"
     ]
    }
   ],
   "execution_count": 1
  },
  {
   "cell_type": "code",
   "id": "fc25bd4b9e227fa0",
   "metadata": {
    "ExecuteTime": {
     "end_time": "2025-10-02T15:21:44.071093Z",
     "start_time": "2025-10-02T15:21:44.058201Z"
    }
   },
   "source": [
    "def read_csv(file_path):\n",
    "    df = pd.read_csv(file_path)\n",
    "    # display(df.head())\n",
    "\n",
    "    X = df.drop('target', axis=1)\n",
    "    y = df['target']\n",
    "    display(y.value_counts())\n",
    "\n",
    "    print('Shape df ', df.shape)\n",
    "    print('Shape X', X.shape)\n",
    "    print('Shape y: ', y.shape)\n",
    "    return X, y"
   ],
   "outputs": [],
   "execution_count": 2
  },
  {
   "cell_type": "markdown",
   "id": "fba47ac16cb71521",
   "metadata": {},
   "source": [
    "## READ DATASETS"
   ]
  },
  {
   "cell_type": "code",
   "id": "e2d7af0457be138c",
   "metadata": {
    "ExecuteTime": {
     "end_time": "2025-10-02T15:21:48.217176Z",
     "start_time": "2025-10-02T15:21:48.138801Z"
    }
   },
   "source": [
    "dir = '../splits'\n",
    "X_train, y_train = read_csv(f'{dir}/raw_train.csv')\n",
    "X_test, y_test = read_csv(f'{dir}/raw_test.csv')\n",
    "X_val, y_val = read_csv(f'{dir}/raw_val.csv')\n",
    "\n",
    "X_val.head(3)"
   ],
   "outputs": [
    {
     "data": {
      "text/plain": [
       "target\n",
       "0    131\n",
       "1    111\n",
       "Name: count, dtype: int64"
      ]
     },
     "metadata": {},
     "output_type": "display_data"
    },
    {
     "name": "stdout",
     "output_type": "stream",
     "text": [
      "Shape df  (242, 14)\n",
      "Shape X (242, 13)\n",
      "Shape y:  (242,)\n"
     ]
    },
    {
     "data": {
      "text/plain": [
       "target\n",
       "0    17\n",
       "1    14\n",
       "Name: count, dtype: int64"
      ]
     },
     "metadata": {},
     "output_type": "display_data"
    },
    {
     "name": "stdout",
     "output_type": "stream",
     "text": [
      "Shape df  (31, 14)\n",
      "Shape X (31, 13)\n",
      "Shape y:  (31,)\n"
     ]
    },
    {
     "data": {
      "text/plain": [
       "target\n",
       "0    16\n",
       "1    14\n",
       "Name: count, dtype: int64"
      ]
     },
     "metadata": {},
     "output_type": "display_data"
    },
    {
     "name": "stdout",
     "output_type": "stream",
     "text": [
      "Shape df  (30, 14)\n",
      "Shape X (30, 13)\n",
      "Shape y:  (30,)\n"
     ]
    },
    {
     "data": {
      "text/plain": [
       "        age  trestbps      chol   thalach   oldpeak  sex        cp  fbs  \\\n",
       "0 -1.063621  0.400391 -0.262410  0.089984 -0.713154  0.0  1.000000  0.0   \n",
       "1  1.720848 -0.054513  1.368307 -1.809349  1.250048  1.0  1.000000  0.0   \n",
       "2 -0.061212  1.082748 -0.338257  0.664201  0.536156  1.0  0.666667  0.0   \n",
       "\n",
       "   restecg  exang  slope   ca  thal  \n",
       "0      1.0    1.0    0.5  0.0   0.0  \n",
       "1      1.0    0.0    0.5  1.0   0.0  \n",
       "2      1.0    0.0    0.0  0.0   1.0  "
      ],
      "text/html": [
       "<div>\n",
       "<style scoped>\n",
       "    .dataframe tbody tr th:only-of-type {\n",
       "        vertical-align: middle;\n",
       "    }\n",
       "\n",
       "    .dataframe tbody tr th {\n",
       "        vertical-align: top;\n",
       "    }\n",
       "\n",
       "    .dataframe thead th {\n",
       "        text-align: right;\n",
       "    }\n",
       "</style>\n",
       "<table border=\"1\" class=\"dataframe\">\n",
       "  <thead>\n",
       "    <tr style=\"text-align: right;\">\n",
       "      <th></th>\n",
       "      <th>age</th>\n",
       "      <th>trestbps</th>\n",
       "      <th>chol</th>\n",
       "      <th>thalach</th>\n",
       "      <th>oldpeak</th>\n",
       "      <th>sex</th>\n",
       "      <th>cp</th>\n",
       "      <th>fbs</th>\n",
       "      <th>restecg</th>\n",
       "      <th>exang</th>\n",
       "      <th>slope</th>\n",
       "      <th>ca</th>\n",
       "      <th>thal</th>\n",
       "    </tr>\n",
       "  </thead>\n",
       "  <tbody>\n",
       "    <tr>\n",
       "      <th>0</th>\n",
       "      <td>-1.063621</td>\n",
       "      <td>0.400391</td>\n",
       "      <td>-0.262410</td>\n",
       "      <td>0.089984</td>\n",
       "      <td>-0.713154</td>\n",
       "      <td>0.0</td>\n",
       "      <td>1.000000</td>\n",
       "      <td>0.0</td>\n",
       "      <td>1.0</td>\n",
       "      <td>1.0</td>\n",
       "      <td>0.5</td>\n",
       "      <td>0.0</td>\n",
       "      <td>0.0</td>\n",
       "    </tr>\n",
       "    <tr>\n",
       "      <th>1</th>\n",
       "      <td>1.720848</td>\n",
       "      <td>-0.054513</td>\n",
       "      <td>1.368307</td>\n",
       "      <td>-1.809349</td>\n",
       "      <td>1.250048</td>\n",
       "      <td>1.0</td>\n",
       "      <td>1.000000</td>\n",
       "      <td>0.0</td>\n",
       "      <td>1.0</td>\n",
       "      <td>0.0</td>\n",
       "      <td>0.5</td>\n",
       "      <td>1.0</td>\n",
       "      <td>0.0</td>\n",
       "    </tr>\n",
       "    <tr>\n",
       "      <th>2</th>\n",
       "      <td>-0.061212</td>\n",
       "      <td>1.082748</td>\n",
       "      <td>-0.338257</td>\n",
       "      <td>0.664201</td>\n",
       "      <td>0.536156</td>\n",
       "      <td>1.0</td>\n",
       "      <td>0.666667</td>\n",
       "      <td>0.0</td>\n",
       "      <td>1.0</td>\n",
       "      <td>0.0</td>\n",
       "      <td>0.0</td>\n",
       "      <td>0.0</td>\n",
       "      <td>1.0</td>\n",
       "    </tr>\n",
       "  </tbody>\n",
       "</table>\n",
       "</div>"
      ]
     },
     "execution_count": 3,
     "metadata": {},
     "output_type": "execute_result"
    }
   ],
   "execution_count": 3
  },
  {
   "cell_type": "code",
   "id": "3f3d7642180de3ef",
   "metadata": {
    "ExecuteTime": {
     "end_time": "2025-10-02T15:53:58.869707Z",
     "start_time": "2025-10-02T15:53:57.244427Z"
    }
   },
   "source": [
    "# FE Dataset\n",
    "X_fe_train, y_fe_train = read_csv(f'{dir}/fe_train.csv')\n",
    "X_fe_test, y_fe_test = read_csv(f'{dir}/fe_test.csv')\n",
    "X_fe_val, y_fe_val = read_csv(f'{dir}/fe_val.csv')\n",
    "\n",
    "X_fe_val.head(3)"
   ],
   "outputs": [
    {
     "data": {
      "text/plain": [
       "target\n",
       "0    131\n",
       "1    111\n",
       "Name: count, dtype: int64"
      ]
     },
     "metadata": {},
     "output_type": "display_data"
    },
    {
     "name": "stdout",
     "output_type": "stream",
     "text": [
      "Shape df  (242, 14)\n",
      "Shape X (242, 13)\n",
      "Shape y:  (242,)\n"
     ]
    },
    {
     "data": {
      "text/plain": [
       "target\n",
       "0    17\n",
       "1    14\n",
       "Name: count, dtype: int64"
      ]
     },
     "metadata": {},
     "output_type": "display_data"
    },
    {
     "name": "stdout",
     "output_type": "stream",
     "text": [
      "Shape df  (31, 14)\n",
      "Shape X (31, 13)\n",
      "Shape y:  (31,)\n"
     ]
    },
    {
     "data": {
      "text/plain": [
       "target\n",
       "0    16\n",
       "1    14\n",
       "Name: count, dtype: int64"
      ]
     },
     "metadata": {},
     "output_type": "display_data"
    },
    {
     "name": "stdout",
     "output_type": "stream",
     "text": [
      "Shape df  (30, 14)\n",
      "Shape X (30, 13)\n",
      "Shape y:  (30,)\n"
     ]
    },
    {
     "data": {
      "text/plain": [
       "   thal_3.0  thal_7.0  cp_4.0  ca_0.0  exang_1.0  exang_0.0   oldpeak  \\\n",
       "0       1.0       0.0     1.0     1.0        1.0        0.0 -0.713154   \n",
       "1       1.0       0.0     1.0     0.0        0.0        1.0  1.250048   \n",
       "2       0.0       1.0     0.0     1.0        0.0        1.0  0.536156   \n",
       "\n",
       "   slope_1.0      chol  slope_2.0   thalach  hr_ratio  sex_0.0  \n",
       "0        0.0 -0.262410        1.0  0.089984  0.628019      1.0  \n",
       "1        0.0  1.368307        1.0 -1.809349 -1.592443      0.0  \n",
       "2        1.0 -0.338257        0.0  0.664201  0.235034      0.0  "
      ],
      "text/html": [
       "<div>\n",
       "<style scoped>\n",
       "    .dataframe tbody tr th:only-of-type {\n",
       "        vertical-align: middle;\n",
       "    }\n",
       "\n",
       "    .dataframe tbody tr th {\n",
       "        vertical-align: top;\n",
       "    }\n",
       "\n",
       "    .dataframe thead th {\n",
       "        text-align: right;\n",
       "    }\n",
       "</style>\n",
       "<table border=\"1\" class=\"dataframe\">\n",
       "  <thead>\n",
       "    <tr style=\"text-align: right;\">\n",
       "      <th></th>\n",
       "      <th>thal_3.0</th>\n",
       "      <th>thal_7.0</th>\n",
       "      <th>cp_4.0</th>\n",
       "      <th>ca_0.0</th>\n",
       "      <th>exang_1.0</th>\n",
       "      <th>exang_0.0</th>\n",
       "      <th>oldpeak</th>\n",
       "      <th>slope_1.0</th>\n",
       "      <th>chol</th>\n",
       "      <th>slope_2.0</th>\n",
       "      <th>thalach</th>\n",
       "      <th>hr_ratio</th>\n",
       "      <th>sex_0.0</th>\n",
       "    </tr>\n",
       "  </thead>\n",
       "  <tbody>\n",
       "    <tr>\n",
       "      <th>0</th>\n",
       "      <td>1.0</td>\n",
       "      <td>0.0</td>\n",
       "      <td>1.0</td>\n",
       "      <td>1.0</td>\n",
       "      <td>1.0</td>\n",
       "      <td>0.0</td>\n",
       "      <td>-0.713154</td>\n",
       "      <td>0.0</td>\n",
       "      <td>-0.262410</td>\n",
       "      <td>1.0</td>\n",
       "      <td>0.089984</td>\n",
       "      <td>0.628019</td>\n",
       "      <td>1.0</td>\n",
       "    </tr>\n",
       "    <tr>\n",
       "      <th>1</th>\n",
       "      <td>1.0</td>\n",
       "      <td>0.0</td>\n",
       "      <td>1.0</td>\n",
       "      <td>0.0</td>\n",
       "      <td>0.0</td>\n",
       "      <td>1.0</td>\n",
       "      <td>1.250048</td>\n",
       "      <td>0.0</td>\n",
       "      <td>1.368307</td>\n",
       "      <td>1.0</td>\n",
       "      <td>-1.809349</td>\n",
       "      <td>-1.592443</td>\n",
       "      <td>0.0</td>\n",
       "    </tr>\n",
       "    <tr>\n",
       "      <th>2</th>\n",
       "      <td>0.0</td>\n",
       "      <td>1.0</td>\n",
       "      <td>0.0</td>\n",
       "      <td>1.0</td>\n",
       "      <td>0.0</td>\n",
       "      <td>1.0</td>\n",
       "      <td>0.536156</td>\n",
       "      <td>1.0</td>\n",
       "      <td>-0.338257</td>\n",
       "      <td>0.0</td>\n",
       "      <td>0.664201</td>\n",
       "      <td>0.235034</td>\n",
       "      <td>0.0</td>\n",
       "    </tr>\n",
       "  </tbody>\n",
       "</table>\n",
       "</div>"
      ]
     },
     "execution_count": 46,
     "metadata": {},
     "output_type": "execute_result"
    }
   ],
   "execution_count": 46
  },
  {
   "cell_type": "code",
   "id": "cfd3604d42eb2be9",
   "metadata": {
    "ExecuteTime": {
     "end_time": "2025-10-02T15:21:52.304250Z",
     "start_time": "2025-10-02T15:21:52.274080Z"
    }
   },
   "source": [
    "# Original + DT\n",
    "X_dt_train, y_dt_train = read_csv(f'{dir}/dt_train.csv')\n",
    "X_dt_test, y_dt_test = read_csv(f'{dir}/dt_test.csv')\n",
    "X_dt_val, y_dt_val = read_csv(f'{dir}/dt_val.csv')"
   ],
   "outputs": [
    {
     "data": {
      "text/plain": [
       "target\n",
       "0    131\n",
       "1    111\n",
       "Name: count, dtype: int64"
      ]
     },
     "metadata": {},
     "output_type": "display_data"
    },
    {
     "name": "stdout",
     "output_type": "stream",
     "text": [
      "Shape df  (242, 11)\n",
      "Shape X (242, 10)\n",
      "Shape y:  (242,)\n"
     ]
    },
    {
     "data": {
      "text/plain": [
       "target\n",
       "0    17\n",
       "1    14\n",
       "Name: count, dtype: int64"
      ]
     },
     "metadata": {},
     "output_type": "display_data"
    },
    {
     "name": "stdout",
     "output_type": "stream",
     "text": [
      "Shape df  (31, 11)\n",
      "Shape X (31, 10)\n",
      "Shape y:  (31,)\n"
     ]
    },
    {
     "data": {
      "text/plain": [
       "target\n",
       "0    16\n",
       "1    14\n",
       "Name: count, dtype: int64"
      ]
     },
     "metadata": {},
     "output_type": "display_data"
    },
    {
     "name": "stdout",
     "output_type": "stream",
     "text": [
      "Shape df  (30, 11)\n",
      "Shape X (30, 10)\n",
      "Shape y:  (30,)\n"
     ]
    }
   ],
   "execution_count": 5
  },
  {
   "cell_type": "code",
   "id": "1610b8996ba87aa5",
   "metadata": {
    "ExecuteTime": {
     "end_time": "2025-10-02T15:21:53.153943Z",
     "start_time": "2025-10-02T15:21:53.130578Z"
    }
   },
   "source": [
    "# FEATURING + DECISTION TREE\n",
    "X_fe_dt_train, y_fe_dt_train = read_csv(f'{dir}/fe_dt_train.csv')\n",
    "X_fe_dt_test, y_fe_dt_test = read_csv(f'{dir}/fe_dt_test.csv')\n",
    "X_fe_dt_val, y_fe_dt_val = read_csv(f'{dir}/fe_dt_val.csv')"
   ],
   "outputs": [
    {
     "data": {
      "text/plain": [
       "target\n",
       "0    131\n",
       "1    111\n",
       "Name: count, dtype: int64"
      ]
     },
     "metadata": {},
     "output_type": "display_data"
    },
    {
     "name": "stdout",
     "output_type": "stream",
     "text": [
      "Shape df  (242, 11)\n",
      "Shape X (242, 10)\n",
      "Shape y:  (242,)\n"
     ]
    },
    {
     "data": {
      "text/plain": [
       "target\n",
       "0    17\n",
       "1    14\n",
       "Name: count, dtype: int64"
      ]
     },
     "metadata": {},
     "output_type": "display_data"
    },
    {
     "name": "stdout",
     "output_type": "stream",
     "text": [
      "Shape df  (31, 11)\n",
      "Shape X (31, 10)\n",
      "Shape y:  (31,)\n"
     ]
    },
    {
     "data": {
      "text/plain": [
       "target\n",
       "0    16\n",
       "1    14\n",
       "Name: count, dtype: int64"
      ]
     },
     "metadata": {},
     "output_type": "display_data"
    },
    {
     "name": "stdout",
     "output_type": "stream",
     "text": [
      "Shape df  (30, 11)\n",
      "Shape X (30, 10)\n",
      "Shape y:  (30,)\n"
     ]
    }
   ],
   "execution_count": 6
  },
  {
   "cell_type": "code",
   "id": "85fbe491a1fdf09",
   "metadata": {
    "ExecuteTime": {
     "end_time": "2025-10-02T15:21:53.818167Z",
     "start_time": "2025-10-02T15:21:53.776843Z"
    }
   },
   "source": [
    "# FEATURING + DT + SMOTE\n",
    "X_smote_train, y_smote_train = read_csv(f'{dir}/smote_fe_train.csv')\n",
    "X_smote_test, y_smote_test = read_csv(f'{dir}/smote_fe_test.csv')\n",
    "X_smote_val, y_smote_val = read_csv(f'{dir}/smote_fe_val.csv')"
   ],
   "outputs": [
    {
     "data": {
      "text/plain": [
       "target\n",
       "1    131\n",
       "0    131\n",
       "Name: count, dtype: int64"
      ]
     },
     "metadata": {},
     "output_type": "display_data"
    },
    {
     "name": "stdout",
     "output_type": "stream",
     "text": [
      "Shape df  (262, 11)\n",
      "Shape X (262, 10)\n",
      "Shape y:  (262,)\n"
     ]
    },
    {
     "data": {
      "text/plain": [
       "target\n",
       "0    17\n",
       "1    14\n",
       "Name: count, dtype: int64"
      ]
     },
     "metadata": {},
     "output_type": "display_data"
    },
    {
     "name": "stdout",
     "output_type": "stream",
     "text": [
      "Shape df  (31, 11)\n",
      "Shape X (31, 10)\n",
      "Shape y:  (31,)\n"
     ]
    },
    {
     "data": {
      "text/plain": [
       "target\n",
       "0    16\n",
       "1    14\n",
       "Name: count, dtype: int64"
      ]
     },
     "metadata": {},
     "output_type": "display_data"
    },
    {
     "name": "stdout",
     "output_type": "stream",
     "text": [
      "Shape df  (30, 11)\n",
      "Shape X (30, 10)\n",
      "Shape y:  (30,)\n"
     ]
    }
   ],
   "execution_count": 7
  },
  {
   "cell_type": "markdown",
   "id": "c9c6441f",
   "metadata": {},
   "source": [
    "## MOCK HELPERS"
   ]
  },
  {
   "cell_type": "code",
   "id": "2eeed9d6",
   "metadata": {
    "ExecuteTime": {
     "end_time": "2025-10-02T15:21:55.652821Z",
     "start_time": "2025-10-02T15:21:55.294016Z"
    }
   },
   "source": [
    "# MOCK TUNING HELPERS (sklearn >= 1.7)\n",
    "import warnings\n",
    "warnings.filterwarnings(\"ignore\")\n",
    "\n",
    "import numpy as np\n",
    "from pathlib import Path\n",
    "from sklearn.model_selection import StratifiedKFold, cross_val_score\n",
    "from sklearn.metrics import accuracy_score\n",
    "from sklearn.tree import DecisionTreeClassifier\n",
    "from sklearn.ensemble import (\n",
    "    AdaBoostClassifier, RandomForestClassifier, GradientBoostingClassifier\n",
    ")\n",
    "\n",
    "# Optional libs\n",
    "HAS_XGB = HAS_LGBM = HAS_CAT = True\n",
    "try:\n",
    "    from xgboost import XGBClassifier\n",
    "except Exception as e:\n",
    "    HAS_XGB = False; print(\"XGBoost not available:\", e)\n",
    "try:\n",
    "    from lightgbm import LGBMClassifier\n",
    "except Exception as e:\n",
    "    HAS_LGBM = False; print(\"LightGBM not available:\", e)\n",
    "try:\n",
    "    from catboost import CatBoostClassifier\n",
    "    Path('../splits/cat_tmp').mkdir(parents=True, exist_ok=True)\n",
    "except Exception as e:\n",
    "    HAS_CAT = False; print(\"CatBoost not available:\", e)\n",
    "\n",
    "SEED = 42\n",
    "cv5 = StratifiedKFold(n_splits=5, shuffle=True, random_state=SEED)\n",
    "\n",
    "def make_out(name_key: str, est, best_params: dict, X, y, scoring='accuracy'):\n",
    "    est.fit(X, y)\n",
    "    try:\n",
    "        cv_score = cross_val_score(est, X, y, cv=cv5, scoring=scoring, n_jobs=-1).mean()\n",
    "    except Exception:\n",
    "        pred = est.predict(X)\n",
    "        cv_score = accuracy_score(y, pred)\n",
    "    return {\n",
    "        \"name\": name_key,\n",
    "        \"best_score\": float(cv_score),\n",
    "        \"best_params\": dict(best_params),\n",
    "        \"best_estimator\": est,\n",
    "    }\n",
    "\n",
    "def define_mock_outs(X, y, prefix=\"\"):\n",
    "    # Compose variable name like out_{prefix}_ada or out_ada when prefix == \"\"\n",
    "    def setvar(suffix, value):\n",
    "        varname = f\"out_{(prefix + '_') if prefix else ''}{suffix}\"\n",
    "        globals()[varname] = value\n",
    "        print(\"Defined\", varname)\n",
    "\n",
    "    # AdaBoost (API mới: estimator=)\n",
    "    ada_params = {\"n_estimators\": 200, \"learning_rate\": 0.03729717290662577, \"dt_max_depth\": 1}\n",
    "    ada = AdaBoostClassifier(\n",
    "        estimator=DecisionTreeClassifier(max_depth=1, random_state=SEED),\n",
    "        n_estimators=ada_params[\"n_estimators\"],\n",
    "        learning_rate=ada_params[\"learning_rate\"],\n",
    "        random_state=SEED\n",
    "    )\n",
    "    setvar(\"ada\", make_out(\"adb\", ada, ada_params, X, y))\n",
    "\n",
    "    # RandomForest\n",
    "    rf_params = {\"n_estimators\": 900, \"max_depth\": 12, \"min_samples_split\": 7}\n",
    "    rf = RandomForestClassifier(\n",
    "        n_estimators=rf_params[\"n_estimators\"],\n",
    "        max_depth=rf_params[\"max_depth\"],\n",
    "        min_samples_split=rf_params[\"min_samples_split\"],\n",
    "        n_jobs=-1, random_state=SEED\n",
    "    )\n",
    "    setvar(\"rf\", make_out(\"rf\", rf, rf_params, X, y))\n",
    "\n",
    "    # GradientBoosting\n",
    "    gb_params = {\"n_estimators\": 200, \"learning_rate\": 0.041604611269339564, \"max_depth\": 2, \"min_samples_leaf\": 2}\n",
    "    gb = GradientBoostingClassifier(\n",
    "        n_estimators=gb_params[\"n_estimators\"],\n",
    "        learning_rate=gb_params[\"learning_rate\"],\n",
    "        max_depth=gb_params[\"max_depth\"],\n",
    "        min_samples_leaf=gb_params[\"min_samples_leaf\"],\n",
    "        random_state=SEED\n",
    "    )\n",
    "    setvar(\"gb\", make_out(\"gb\", gb, gb_params, X, y))\n",
    "\n",
    "    # LightGBM\n",
    "    if HAS_LGBM:\n",
    "        lgbm_params = {\n",
    "            \"n_estimators\": 700, \"num_leaves\": 127, \"learning_rate\": 0.024332353079705077,\n",
    "            \"min_child_samples\": 38, \"subsample\": 0.7636828373411673,\n",
    "            \"colsample_bytree\": 0.8062473945344163, \"reg_alpha\": 0.5410345586666022,\n",
    "            \"reg_lambda\": 0.8011381093354967\n",
    "        }\n",
    "        lgbm = LGBMClassifier(\n",
    "            n_estimators=lgbm_params[\"n_estimators\"],\n",
    "            num_leaves=lgbm_params[\"num_leaves\"],\n",
    "            learning_rate=lgbm_params[\"learning_rate\"],\n",
    "            min_child_samples=lgbm_params[\"min_child_samples\"],\n",
    "            subsample=lgbm_params[\"subsample\"],\n",
    "            colsample_bytree=lgbm_params[\"colsample_bytree\"],\n",
    "            reg_alpha=lgbm_params[\"reg_alpha\"],\n",
    "            reg_lambda=lgbm_params[\"reg_lambda\"],\n",
    "            n_jobs=-1, random_state=SEED, verbose=-1\n",
    "        )\n",
    "        setvar(\"lgbm\", make_out(\"lgbm\", lgbm, lgbm_params, X, y))\n",
    "    else:\n",
    "        setvar(\"lgbm\", {\"name\":\"lgbm\",\"best_score\":0.0,\"best_params\":{},\"best_estimator\":None})\n",
    "\n",
    "    # XGBoost\n",
    "    if HAS_XGB:\n",
    "        xgb_params = {\n",
    "            \"n_estimators\": 400, \"max_depth\": 4, \"learning_rate\": 0.0343796329533941,\n",
    "            \"subsample\": 0.8, \"colsample_bytree\": 0.7980976532947479,\n",
    "            \"reg_lambda\": 0.8, \"reg_alpha\": 0.5\n",
    "        }\n",
    "        xgb = XGBClassifier(\n",
    "            n_estimators=xgb_params[\"n_estimators\"],\n",
    "            max_depth=xgb_params[\"max_depth\"],\n",
    "            learning_rate=xgb_params[\"learning_rate\"],\n",
    "            subsample=xgb_params[\"subsample\"],\n",
    "            colsample_bytree=xgb_params[\"colsample_bytree\"],\n",
    "            reg_lambda=xgb_params[\"reg_lambda\"],\n",
    "            reg_alpha=xgb_params[\"reg_alpha\"],\n",
    "            n_jobs=-1, random_state=SEED,\n",
    "            eval_metric=\"logloss\", tree_method=\"hist\", use_label_encoder=False\n",
    "        )\n",
    "        setvar(\"xgb\", make_out(\"xgb\", xgb, xgb_params, X, y))\n",
    "    else:\n",
    "        setvar(\"xgb\", {\"name\":\"xgb\",\"best_score\":0.0,\"best_params\":{},\"best_estimator\":None})\n",
    "\n",
    "    # CatBoost (train_dir để tránh lỗi tmp)\n",
    "    if HAS_CAT:\n",
    "        cat_params = {\"n_estimators\": 800, \"depth\": 6, \"learning_rate\": 0.05, \"l2_leaf_reg\": 3.0, \"subsample\": 0.8}\n",
    "        cat = CatBoostClassifier(\n",
    "            n_estimators=cat_params[\"n_estimators\"],\n",
    "            depth=cat_params[\"depth\"],\n",
    "            learning_rate=cat_params[\"learning_rate\"],\n",
    "            l2_leaf_reg=cat_params[\"l2_leaf_reg\"],\n",
    "            subsample=cat_params[\"subsample\"],\n",
    "            loss_function=\"Logloss\", eval_metric=\"AUC\",\n",
    "            random_state=SEED, verbose=0, train_dir=str(Path(\"../splits/cat_tmp\"))\n",
    "        )\n",
    "        setvar(\"cat\", make_out(\"cat\", cat, cat_params, X, y))\n",
    "    else:\n",
    "        setvar(\"cat\", {\"name\":\"cat\",\"best_score\":0.0,\"best_params\":{},\"best_estimator\":None})\n"
   ],
   "outputs": [],
   "execution_count": 8
  },
  {
   "cell_type": "markdown",
   "id": "2ec9817979e3d698",
   "metadata": {},
   "source": [
    "## TỐI ƯU THAM SỐ DÙNG OPTUNA"
   ]
  },
  {
   "cell_type": "code",
   "id": "bd038d37",
   "metadata": {
    "ExecuteTime": {
     "end_time": "2025-10-02T15:21:56.793667Z",
     "start_time": "2025-10-02T15:21:56.627321Z"
    }
   },
   "source": [
    "import optuna\n",
    "import numpy as np\n",
    "from sklearn.model_selection import cross_val_score, StratifiedKFold\n",
    "from sklearn.metrics import accuracy_score, f1_score, roc_auc_score\n",
    "from sklearn.base import clone\n",
    "\n",
    "SEED     = 42\n",
    "N_JOBS   = -1\n",
    "SCORING  = \"accuracy\"  # đổi \"f1\" hoặc \"roc_auc\" nếu cần\n",
    "cv = StratifiedKFold(n_splits=5, shuffle=True, random_state=SEED)\n",
    "\n",
    "# ===== Suggest spaces cho 6 model =====\n",
    "from sklearn.ensemble import RandomForestClassifier, AdaBoostClassifier, GradientBoostingClassifier\n",
    "from sklearn.tree import DecisionTreeClassifier\n",
    "from xgboost import XGBClassifier\n",
    "from lightgbm import LGBMClassifier, early_stopping\n",
    "from catboost import CatBoostClassifier\n",
    "\n",
    "def suggest_rf(trial):\n",
    "    return RandomForestClassifier(\n",
    "        n_estimators=trial.suggest_int(\"n_estimators\", 300, 900, step=300),\n",
    "        max_depth=trial.suggest_categorical(\"max_depth\", [None, 12, 20, 30]),\n",
    "        min_samples_split=trial.suggest_int(\"min_samples_split\", 2, 10),\n",
    "        min_samples_leaf=trial.suggest_int(\"min_samples_leaf\", 1, 4),\n",
    "        random_state=SEED, n_jobs=N_JOBS\n",
    "    )\n",
    "\n",
    "def suggest_adb(trial):\n",
    "\n",
    "    return AdaBoostClassifier(\n",
    "        estimator=DecisionTreeClassifier(max_depth=1, random_state=SEED),\n",
    "        n_estimators=trial.suggest_int(\"n_estimators\", 200, 800, step=200),\n",
    "        learning_rate=trial.suggest_float(\"learning_rate\", 0.03, 0.3, log=True),\n",
    "        random_state=SEED\n",
    "    )\n",
    "\n",
    "def suggest_gb(trial):\n",
    "    return GradientBoostingClassifier(\n",
    "        n_estimators=trial.suggest_int(\"n_estimators\", 200, 800, step=200),\n",
    "        learning_rate=trial.suggest_float(\"learning_rate\", 0.03, 0.2, log=True),\n",
    "        max_depth=trial.suggest_int(\"max_depth\", 2, 5),\n",
    "        min_samples_leaf=trial.suggest_int(\"min_samples_leaf\", 1, 3),\n",
    "        random_state=SEED\n",
    "    )\n",
    "\n",
    "def suggest_xgb(trial):\n",
    "    return XGBClassifier(\n",
    "        n_estimators=trial.suggest_int(\"n_estimators\", 300, 1500, step=100),\n",
    "        max_depth=trial.suggest_int(\"max_depth\", 3, 8),\n",
    "        learning_rate=trial.suggest_float(\"learning_rate\", 0.02, 0.2, log=True),\n",
    "        subsample=trial.suggest_float(\"subsample\", 0.7, 1.0),\n",
    "        colsample_bytree=trial.suggest_float(\"colsample_bytree\", 0.7, 1.0),\n",
    "        reg_alpha=trial.suggest_float(\"reg_alpha\", 0.0, 1.0),\n",
    "        reg_lambda=trial.suggest_float(\"reg_lambda\", 0.5, 2.0),\n",
    "        n_jobs=N_JOBS, random_state=SEED, eval_metric=\"logloss\", tree_method=\"hist\"\n",
    "    )\n",
    "\n",
    "def suggest_lgbm(trial):\n",
    "    return LGBMClassifier(\n",
    "        verbose=-1,\n",
    "        n_estimators=trial.suggest_int(\"n_estimators\", 300, 1500, step=100),\n",
    "        num_leaves=trial.suggest_int(\"num_leaves\", 31, 255, step=32),\n",
    "        learning_rate=trial.suggest_float(\"learning_rate\", 0.02, 0.2, log=True),\n",
    "        min_child_samples=trial.suggest_int(\"min_child_samples\", 5, 40),\n",
    "        subsample=trial.suggest_float(\"subsample\", 0.7, 1.0),\n",
    "        colsample_bytree=trial.suggest_float(\"colsample_bytree\", 0.7, 1.0),\n",
    "        reg_alpha=trial.suggest_float(\"reg_alpha\", 0.0, 1.0),\n",
    "        reg_lambda=trial.suggest_float(\"reg_lambda\", 0.5, 2.0),\n",
    "        n_jobs=N_JOBS, random_state=SEED\n",
    "    )\n",
    "\n",
    "def suggest_cat(trial):\n",
    "    return CatBoostClassifier(\n",
    "        n_estimators=trial.suggest_int(\"n_estimators\", 300, 1500, step=200),\n",
    "        depth=trial.suggest_int(\"depth\", 4, 10),\n",
    "        learning_rate=trial.suggest_float(\"learning_rate\", 0.02, 0.2, log=True),\n",
    "        l2_leaf_reg=trial.suggest_float(\"l2_leaf_reg\", 1.0, 6.0),\n",
    "        subsample=trial.suggest_float(\"subsample\", 0.7, 1.0),\n",
    "        random_state=SEED, verbose=False\n",
    "    )\n",
    "\n",
    "SUGGESTERS = {\n",
    "    \"rf\":   suggest_rf,\n",
    "    \"adb\":  suggest_adb,\n",
    "    \"gb\":   suggest_gb,\n",
    "    \"xgb\":  suggest_xgb,\n",
    "    \"lgbm\": suggest_lgbm,\n",
    "    \"cat\":  suggest_cat,\n",
    "}\n",
    "\n"
   ],
   "outputs": [],
   "execution_count": 9
  },
  {
   "metadata": {
    "ExecuteTime": {
     "end_time": "2025-10-02T16:00:49.917920Z",
     "start_time": "2025-10-02T16:00:49.823270Z"
    }
   },
   "cell_type": "code",
   "source": [
    "import optuna\n",
    "import numpy as np\n",
    "from sklearn.model_selection import StratifiedKFold, train_test_split\n",
    "from sklearn.base import clone\n",
    "from sklearn.metrics import roc_auc_score\n",
    "from lightgbm import early_stopping  # đã import ở trên trong notebook của bạn\n",
    "\n",
    "SEED = 42\n",
    "cv = StratifiedKFold(n_splits=5, shuffle=True, random_state=SEED)\n",
    "\n",
    "from lightgbm import early_stopping  # bạn đã import ở cell trước\n",
    "from xgboost.callback import EarlyStopping as XgbEarlyStopping\n",
    "\n",
    "def _fit_with_es(model_key, est, X_tr, y_tr, X_va, y_va, stopping_rounds):\n",
    "    if model_key == \"lgbm\":\n",
    "        # LightGBM dùng callback early_stopping\n",
    "        est.fit(\n",
    "            X_tr, y_tr,\n",
    "            eval_set=[(X_va, y_va)],\n",
    "            eval_metric=\"auc\",\n",
    "            callbacks=[early_stopping(stopping_rounds, verbose=False)],\n",
    "        )\n",
    "        return est\n",
    "\n",
    "    elif model_key == \"cat\":\n",
    "        # CatBoost vẫn nhận early_stopping_rounds + use_best_model\n",
    "        est.set_params(loss_function=\"Logloss\", eval_metric=\"AUC\")\n",
    "        est.fit(\n",
    "            X_tr, y_tr,\n",
    "            eval_set=(X_va, y_va),\n",
    "            use_best_model=True,\n",
    "            early_stopping_rounds=stopping_rounds,\n",
    "            verbose=False,\n",
    "        )\n",
    "        return est\n",
    "\n",
    "    # Các model khác không hỗ trợ ES\n",
    "    est.fit(X_tr, y_tr)\n",
    "    return est\n",
    "\n",
    "def optuna_tune_simple(model_key, X, y, n_trials=40, scoring=\"roc_auc\",\n",
    "                   with_early_stopping=True, es_min=50, es_max=200,\n",
    "                   final_refit_with_es=True, final_val_frac=0.15):\n",
    "    \"\"\"\n",
    "    Tuning với Optuna + Early Stopping theo fold (xgb/lgbm/cat).\n",
    "    Với rf/adb/gb không hỗ trợ ES, vẫn chạy như thường.\n",
    "    \"\"\"\n",
    "    suggest_fn = SUGGESTERS[model_key]\n",
    "\n",
    "    def objective(trial):\n",
    "        est = suggest_fn(trial)\n",
    "        # Thử stopping_rounds khi model hỗ trợ\n",
    "        stopping_rounds = None\n",
    "        if with_early_stopping and model_key in ( \"lgbm\", \"cat\"):\n",
    "            stopping_rounds = trial.suggest_int(\"stopping_rounds\", es_min, es_max)\n",
    "\n",
    "        fold_scores = []\n",
    "        for tr_idx, va_idx in cv.split(X, y):\n",
    "            X_tr, X_va = X.iloc[tr_idx], X.iloc[va_idx]\n",
    "            y_tr, y_va = y.iloc[tr_idx], y.iloc[va_idx]\n",
    "\n",
    "            est_fold = clone(est)\n",
    "            if stopping_rounds is not None:\n",
    "                est_fold = _fit_with_es(model_key, est_fold, X_tr, y_tr, X_va, y_va, stopping_rounds)\n",
    "            else:\n",
    "                est_fold.fit(X_tr, y_tr)\n",
    "\n",
    "            # Đo ROC AUC trên fold-val (ưu tiên predict_proba)\n",
    "            if hasattr(est_fold, \"predict_proba\"):\n",
    "                prob = est_fold.predict_proba(X_va)[:, 1]\n",
    "                score = roc_auc_score(y_va, prob)\n",
    "            elif hasattr(est_fold, \"decision_function\"):\n",
    "                s = est_fold.decision_function(X_va)\n",
    "                # Chuẩn hoá về [0,1] để tính AUC nếu cần\n",
    "                s = (s - s.min()) / (s.max() - s.min() + 1e-12)\n",
    "                score = roc_auc_score(y_va, s)\n",
    "            else:\n",
    "                # fallback (kém chính xác cho AUC)\n",
    "                pred = est_fold.predict(X_va)\n",
    "                score = roc_auc_score(y_va, pred)\n",
    "            fold_scores.append(score)\n",
    "\n",
    "        return float(np.mean(fold_scores))\n",
    "\n",
    "    study = optuna.create_study(direction=\"maximize\", study_name=f\"{model_key}_es\")\n",
    "    study.optimize(objective, n_trials=n_trials)\n",
    "\n",
    "    # Dựng best_estimator và fit cuối\n",
    "    best_est = suggest_fn(study.best_trial)\n",
    "    stopping_rounds = study.best_trial.params.get(\"stopping_rounds\", None)\n",
    "\n",
    "    if final_refit_with_es and (stopping_rounds is not None) and model_key in (\"lgbm\", \"cat\"):\n",
    "        X_tr, X_va, y_tr, y_va = train_test_split(\n",
    "            X, y, test_size=final_val_frac, stratify=y, random_state=SEED\n",
    "        )\n",
    "        best_est = _fit_with_es(model_key, best_est, X_tr, y_tr, X_va, y_va, stopping_rounds)\n",
    "    else:\n",
    "        best_est.fit(X, y)\n",
    "\n",
    "    return {\n",
    "        \"name\": model_key,\n",
    "        \"best_score\": study.best_value,\n",
    "        \"best_params\": study.best_trial.params,\n",
    "        \"best_estimator\": best_est\n",
    "    }\n"
   ],
   "id": "bc59548ad242264d",
   "outputs": [],
   "execution_count": 51
  },
  {
   "cell_type": "code",
   "id": "e0e1199be724525",
   "metadata": {
    "ExecuteTime": {
     "end_time": "2025-10-02T15:21:57.710853Z",
     "start_time": "2025-10-02T15:21:57.695718Z"
    }
   },
   "source": [
    "def calc_results(ranked, X_test, y_test, X_val, y_val):\n",
    "    results = {}\n",
    "    for r in ranked:\n",
    "        results[r['name']] = {\n",
    "            'val': accuracy_score(y_val, r['best_estimator'].predict(X_val)),\n",
    "            'test': accuracy_score(y_test, r['best_estimator'].predict(X_test)),\n",
    "        }\n",
    "    # print(results)\n",
    "    return results"
   ],
   "outputs": [],
   "execution_count": 10
  },
  {
   "cell_type": "code",
   "id": "86b0ef6101af6de",
   "metadata": {
    "ExecuteTime": {
     "end_time": "2025-10-02T15:21:58.293860Z",
     "start_time": "2025-10-02T15:21:58.278058Z"
    }
   },
   "source": [
    "def visualize(results, data_name=''):\n",
    "    algos = list(results.keys())\n",
    "    val_scores = [results[a]['val'] for a in algos]\n",
    "    test_scores = [results[a]['test'] for a in algos]\n",
    "\n",
    "    x = np.arange(len(algos))\n",
    "    width = 0.38\n",
    "    fig, ax = plt.subplots()\n",
    "    b1 = ax.bar(x - width / 2, val_scores, width, label='Validation Accuracy')\n",
    "    b2 = ax.bar(x + width / 2, test_scores, width, label='Test Accuracy')\n",
    "\n",
    "    ax.set_ylabel('Accuracy')\n",
    "    ax.set_xlabel('Algorithms')\n",
    "    ax.set_title(f'{data_name} Validation vs Test Scores by Algorithm')\n",
    "    ax.set_xticks(x)\n",
    "    ax.set_xticklabels(algos)\n",
    "    ax.legend()\n",
    "\n",
    "    def annotate(bars):\n",
    "        for bar in bars:\n",
    "            h = bar.get_height()\n",
    "            ax.annotate('{:.2f}'.format(h), (bar.get_x() + bar.get_width()/ 2, h),\n",
    "                        xytext=(0, 3), textcoords='offset points',\n",
    "                        ha='center', va='bottom')\n",
    "    annotate(b1)\n",
    "    annotate(b2)\n",
    "    plt.show()"
   ],
   "outputs": [],
   "execution_count": 11
  },
  {
   "cell_type": "markdown",
   "id": "d50d1278d049e6a2",
   "metadata": {},
   "source": [
    "## ORIGINAL DATASET"
   ]
  },
  {
   "cell_type": "code",
   "id": "6fc4eb47",
   "metadata": {
    "ExecuteTime": {
     "end_time": "2025-10-02T15:22:50.910753Z",
     "start_time": "2025-10-02T15:21:59.371773Z"
    }
   },
   "source": [
    "# MOCK for Original (raw) dataset — đặt ngay sau cell READ DATASETS raw\n",
    "define_mock_outs(X_train, y_train, prefix=\"\")\n",
    "# Sinh ra: out_ada, out_rf, out_gb, out_lgbm, out_xgb, out_cat"
   ],
   "outputs": [
    {
     "name": "stdout",
     "output_type": "stream",
     "text": [
      "Defined out_ada\n",
      "Defined out_rf\n",
      "Defined out_gb\n",
      "Defined out_lgbm\n",
      "Defined out_xgb\n",
      "Defined out_cat\n"
     ]
    }
   ],
   "execution_count": 12
  },
  {
   "cell_type": "code",
   "id": "cd8843f3a9c6a2a0",
   "metadata": {
    "ExecuteTime": {
     "end_time": "2025-10-02T15:30:32.558110Z",
     "start_time": "2025-10-02T15:23:07.321159Z"
    }
   },
   "source": [
    "# === Gọi ví dụ:\n",
    "out_lgbm = optuna_tune_simple(\"lgbm\", X_train, y_train, n_trials=50, scoring=\"accuracy\")\n",
    "out_cat  = optuna_tune_simple(\"cat\",  X_train, y_train)"
   ],
   "outputs": [
    {
     "name": "stderr",
     "output_type": "stream",
     "text": [
      "[I 2025-10-02 22:23:07,349] A new study created in memory with name: lgbm_simple\n",
      "[I 2025-10-02 22:23:08,359] Trial 0 finished with value: 0.7889455782312924 and parameters: {'n_estimators': 400, 'num_leaves': 255, 'learning_rate': 0.17094957841772193, 'min_child_samples': 12, 'subsample': 0.8257808208916684, 'colsample_bytree': 0.9247137095488004, 'reg_alpha': 0.3400000510929405, 'reg_lambda': 1.5406083392809689}. Best is trial 0 with value: 0.7889455782312924.\n",
      "[I 2025-10-02 22:23:11,222] Trial 1 finished with value: 0.8096088435374149 and parameters: {'n_estimators': 1000, 'num_leaves': 191, 'learning_rate': 0.02014531692113209, 'min_child_samples': 23, 'subsample': 0.9462547194806241, 'colsample_bytree': 0.9473570564737204, 'reg_alpha': 0.6021139757200088, 'reg_lambda': 1.298717545280411}. Best is trial 1 with value: 0.8096088435374149.\n",
      "[I 2025-10-02 22:23:14,060] Trial 2 finished with value: 0.8137755102040817 and parameters: {'n_estimators': 300, 'num_leaves': 255, 'learning_rate': 0.021046458645656994, 'min_child_samples': 14, 'subsample': 0.8425525750519582, 'colsample_bytree': 0.707574511865955, 'reg_alpha': 0.7446928647550609, 'reg_lambda': 1.132244418168106}. Best is trial 2 with value: 0.8137755102040817.\n",
      "[I 2025-10-02 22:23:15,545] Trial 3 finished with value: 0.7931972789115647 and parameters: {'n_estimators': 700, 'num_leaves': 95, 'learning_rate': 0.02226901587242593, 'min_child_samples': 16, 'subsample': 0.7173709083415827, 'colsample_bytree': 0.8026875526215049, 'reg_alpha': 0.44409517193702663, 'reg_lambda': 1.3007072747372486}. Best is trial 2 with value: 0.8137755102040817.\n",
      "[I 2025-10-02 22:23:16,943] Trial 4 finished with value: 0.8098639455782312 and parameters: {'n_estimators': 900, 'num_leaves': 95, 'learning_rate': 0.10369926620927374, 'min_child_samples': 35, 'subsample': 0.8030435213653506, 'colsample_bytree': 0.9245592606917307, 'reg_alpha': 0.10786429537869291, 'reg_lambda': 0.9286185231544513}. Best is trial 2 with value: 0.8137755102040817.\n",
      "[I 2025-10-02 22:23:17,374] Trial 5 finished with value: 0.8221938775510204 and parameters: {'n_estimators': 500, 'num_leaves': 223, 'learning_rate': 0.17884724841044586, 'min_child_samples': 36, 'subsample': 0.8580893496870816, 'colsample_bytree': 0.8786415314571235, 'reg_alpha': 0.15165182869918192, 'reg_lambda': 0.6481834375285664}. Best is trial 5 with value: 0.8221938775510204.\n",
      "[I 2025-10-02 22:23:18,277] Trial 6 finished with value: 0.7973639455782313 and parameters: {'n_estimators': 600, 'num_leaves': 255, 'learning_rate': 0.02665144555248668, 'min_child_samples': 16, 'subsample': 0.7705620052268878, 'colsample_bytree': 0.8262983195193045, 'reg_alpha': 0.4106080274295578, 'reg_lambda': 0.7271491745664309}. Best is trial 5 with value: 0.8221938775510204.\n",
      "[I 2025-10-02 22:23:19,327] Trial 7 finished with value: 0.8096938775510203 and parameters: {'n_estimators': 700, 'num_leaves': 127, 'learning_rate': 0.036099528916534354, 'min_child_samples': 17, 'subsample': 0.7789857839177772, 'colsample_bytree': 0.7537348308006546, 'reg_alpha': 0.3481475081062593, 'reg_lambda': 1.4610368498225468}. Best is trial 5 with value: 0.8221938775510204.\n",
      "[I 2025-10-02 22:23:19,784] Trial 8 finished with value: 0.8263605442176871 and parameters: {'n_estimators': 500, 'num_leaves': 127, 'learning_rate': 0.08773222767312806, 'min_child_samples': 38, 'subsample': 0.9324950617597396, 'colsample_bytree': 0.9569258187674943, 'reg_alpha': 0.40516972174546917, 'reg_lambda': 1.8134154178712931}. Best is trial 8 with value: 0.8263605442176871.\n",
      "[I 2025-10-02 22:23:20,620] Trial 9 finished with value: 0.7972789115646258 and parameters: {'n_estimators': 300, 'num_leaves': 95, 'learning_rate': 0.038100723460692466, 'min_child_samples': 6, 'subsample': 0.9816993880881426, 'colsample_bytree': 0.7597469170068759, 'reg_alpha': 0.14087535887175895, 'reg_lambda': 1.2536415974463093}. Best is trial 8 with value: 0.8263605442176871.\n",
      "[I 2025-10-02 22:23:21,261] Trial 10 finished with value: 0.8138605442176872 and parameters: {'n_estimators': 800, 'num_leaves': 31, 'learning_rate': 0.07174568323651938, 'min_child_samples': 28, 'subsample': 0.9095271253335883, 'colsample_bytree': 0.9994520645658058, 'reg_alpha': 0.9238521078110623, 'reg_lambda': 1.9422938861160675}. Best is trial 8 with value: 0.8263605442176871.\n",
      "[I 2025-10-02 22:23:21,745] Trial 11 finished with value: 0.8012755102040817 and parameters: {'n_estimators': 500, 'num_leaves': 191, 'learning_rate': 0.18359039156030446, 'min_child_samples': 39, 'subsample': 0.8951145023680789, 'colsample_bytree': 0.8785702106683474, 'reg_alpha': 0.1563525247861614, 'reg_lambda': 1.9198779204952767}. Best is trial 8 with value: 0.8263605442176871.\n",
      "[I 2025-10-02 22:23:22,260] Trial 12 finished with value: 0.7972789115646257 and parameters: {'n_estimators': 500, 'num_leaves': 191, 'learning_rate': 0.11735441585951746, 'min_child_samples': 32, 'subsample': 0.8830996686906085, 'colsample_bytree': 0.8709295391319736, 'reg_alpha': 0.23492840324120795, 'reg_lambda': 0.5758284792909582}. Best is trial 8 with value: 0.8263605442176871.\n",
      "[I 2025-10-02 22:23:22,687] Trial 13 finished with value: 0.8262755102040817 and parameters: {'n_estimators': 500, 'num_leaves': 159, 'learning_rate': 0.0759117540663953, 'min_child_samples': 39, 'subsample': 0.9927157994676432, 'colsample_bytree': 0.9920036090923039, 'reg_alpha': 0.5885538044703627, 'reg_lambda': 1.7120677085529745}. Best is trial 8 with value: 0.8263605442176871.\n",
      "[I 2025-10-02 22:23:23,268] Trial 14 finished with value: 0.8180272108843537 and parameters: {'n_estimators': 600, 'num_leaves': 159, 'learning_rate': 0.06167056382876563, 'min_child_samples': 40, 'subsample': 0.9874202598806974, 'colsample_bytree': 0.9960651717079566, 'reg_alpha': 0.6220344753018313, 'reg_lambda': 1.7164614903183688}. Best is trial 8 with value: 0.8263605442176871.\n",
      "[I 2025-10-02 22:23:23,907] Trial 15 finished with value: 0.8181122448979592 and parameters: {'n_estimators': 400, 'num_leaves': 31, 'learning_rate': 0.07720905486048618, 'min_child_samples': 30, 'subsample': 0.9493122734536886, 'colsample_bytree': 0.9604320977307483, 'reg_alpha': 0.5705310154770706, 'reg_lambda': 1.7185303332830286}. Best is trial 8 with value: 0.8263605442176871.\n",
      "[I 2025-10-02 22:23:24,376] Trial 16 finished with value: 0.8054421768707483 and parameters: {'n_estimators': 400, 'num_leaves': 127, 'learning_rate': 0.05065285903305815, 'min_child_samples': 24, 'subsample': 0.9499348493168959, 'colsample_bytree': 0.9714197178755802, 'reg_alpha': 0.7946866832648501, 'reg_lambda': 1.719170803167919}. Best is trial 8 with value: 0.8263605442176871.\n",
      "[I 2025-10-02 22:23:24,938] Trial 17 finished with value: 0.8221088435374149 and parameters: {'n_estimators': 600, 'num_leaves': 159, 'learning_rate': 0.09857891648415688, 'min_child_samples': 35, 'subsample': 0.9242057956928866, 'colsample_bytree': 0.9114773498532323, 'reg_alpha': 0.016677725118714626, 'reg_lambda': 1.539004037567737}. Best is trial 8 with value: 0.8263605442176871.\n",
      "[I 2025-10-02 22:23:25,336] Trial 18 finished with value: 0.8180272108843537 and parameters: {'n_estimators': 800, 'num_leaves': 63, 'learning_rate': 0.14041709970001953, 'min_child_samples': 27, 'subsample': 0.981552067207163, 'colsample_bytree': 0.969459680368557, 'reg_alpha': 0.7255498141453776, 'reg_lambda': 1.844741719580298}. Best is trial 8 with value: 0.8263605442176871.\n",
      "[I 2025-10-02 22:23:25,723] Trial 19 finished with value: 0.8181122448979592 and parameters: {'n_estimators': 500, 'num_leaves': 127, 'learning_rate': 0.08423752601589746, 'min_child_samples': 40, 'subsample': 0.9388687494406929, 'colsample_bytree': 0.9036391534085603, 'reg_alpha': 0.5192197838069695, 'reg_lambda': 1.0413752306895492}. Best is trial 8 with value: 0.8263605442176871.\n",
      "[I 2025-10-02 22:23:26,105] Trial 20 finished with value: 0.8140306122448979 and parameters: {'n_estimators': 400, 'num_leaves': 159, 'learning_rate': 0.051587590615110895, 'min_child_samples': 32, 'subsample': 0.9994256862104723, 'colsample_bytree': 0.9441963832465823, 'reg_alpha': 0.9490213173655618, 'reg_lambda': 1.4261644854293378}. Best is trial 8 with value: 0.8263605442176871.\n",
      "[I 2025-10-02 22:23:26,618] Trial 21 finished with value: 0.8262755102040815 and parameters: {'n_estimators': 500, 'num_leaves': 223, 'learning_rate': 0.1205190338221879, 'min_child_samples': 37, 'subsample': 0.8696414357615505, 'colsample_bytree': 0.850764450188446, 'reg_alpha': 0.28334243919025626, 'reg_lambda': 0.8319590548578262}. Best is trial 8 with value: 0.8263605442176871.\n",
      "[I 2025-10-02 22:23:27,405] Trial 22 finished with value: 0.8098639455782314 and parameters: {'n_estimators': 500, 'num_leaves': 191, 'learning_rate': 0.1346298588825665, 'min_child_samples': 37, 'subsample': 0.8778737916132346, 'colsample_bytree': 0.8435817447917842, 'reg_alpha': 0.2651076395002496, 'reg_lambda': 0.7830846807365759}. Best is trial 8 with value: 0.8263605442176871.\n",
      "[I 2025-10-02 22:23:28,889] Trial 23 finished with value: 0.8056122448979591 and parameters: {'n_estimators': 600, 'num_leaves': 223, 'learning_rate': 0.09236067686025526, 'min_child_samples': 35, 'subsample': 0.9611930681917575, 'colsample_bytree': 0.7993737611521403, 'reg_alpha': 0.4822774542136844, 'reg_lambda': 0.9153864764358368}. Best is trial 8 with value: 0.8263605442176871.\n",
      "[I 2025-10-02 22:23:30,046] Trial 24 finished with value: 0.8140306122448979 and parameters: {'n_estimators': 700, 'num_leaves': 223, 'learning_rate': 0.06242974663800136, 'min_child_samples': 32, 'subsample': 0.9194458950132539, 'colsample_bytree': 0.9806574953537428, 'reg_alpha': 0.33636113592060735, 'reg_lambda': 1.8148805011003304}. Best is trial 8 with value: 0.8263605442176871.\n",
      "[I 2025-10-02 22:23:31,710] Trial 25 finished with value: 0.79328231292517 and parameters: {'n_estimators': 300, 'num_leaves': 159, 'learning_rate': 0.12117280821161129, 'min_child_samples': 20, 'subsample': 0.9700202727547014, 'colsample_bytree': 0.9458836552636871, 'reg_alpha': 0.2798783686112215, 'reg_lambda': 1.0963962756283476}. Best is trial 8 with value: 0.8263605442176871.\n",
      "[I 2025-10-02 22:23:32,279] Trial 26 finished with value: 0.801530612244898 and parameters: {'n_estimators': 400, 'num_leaves': 63, 'learning_rate': 0.14662489750645558, 'min_child_samples': 38, 'subsample': 0.8574698405413937, 'colsample_bytree': 0.9070806542553205, 'reg_alpha': 0.6453950439471857, 'reg_lambda': 1.6006436225633889}. Best is trial 8 with value: 0.8263605442176871.\n",
      "[I 2025-10-02 22:23:34,665] Trial 27 finished with value: 0.8096938775510203 and parameters: {'n_estimators': 500, 'num_leaves': 127, 'learning_rate': 0.05025327610988516, 'min_child_samples': 27, 'subsample': 0.9003539273910165, 'colsample_bytree': 0.8481870533284774, 'reg_alpha': 0.40867170968283406, 'reg_lambda': 1.9982776028873186}. Best is trial 8 with value: 0.8263605442176871.\n",
      "[I 2025-10-02 22:23:35,485] Trial 28 finished with value: 0.8014455782312926 and parameters: {'n_estimators': 600, 'num_leaves': 223, 'learning_rate': 0.11143347349430945, 'min_child_samples': 33, 'subsample': 0.9288017147661977, 'colsample_bytree': 0.7009184586886483, 'reg_alpha': 0.541222770301436, 'reg_lambda': 1.6300055070572381}. Best is trial 8 with value: 0.8263605442176871.\n",
      "[I 2025-10-02 22:23:36,354] Trial 29 finished with value: 0.7807823129251701 and parameters: {'n_estimators': 400, 'num_leaves': 255, 'learning_rate': 0.07247832788916275, 'min_child_samples': 9, 'subsample': 0.8240996235062211, 'colsample_bytree': 0.9290860232750033, 'reg_alpha': 0.35317643921978276, 'reg_lambda': 1.4331682373518246}. Best is trial 8 with value: 0.8263605442176871.\n",
      "[I 2025-10-02 22:23:36,765] Trial 30 finished with value: 0.8181122448979592 and parameters: {'n_estimators': 500, 'num_leaves': 63, 'learning_rate': 0.08599965089615781, 'min_child_samples': 29, 'subsample': 0.827072720346222, 'colsample_bytree': 0.7742098675179783, 'reg_alpha': 0.8592006521938281, 'reg_lambda': 1.8084888098218477}. Best is trial 8 with value: 0.8263605442176871.\n",
      "[I 2025-10-02 22:23:37,362] Trial 31 finished with value: 0.8097789115646258 and parameters: {'n_estimators': 500, 'num_leaves': 223, 'learning_rate': 0.16718329653207914, 'min_child_samples': 36, 'subsample': 0.858034315638733, 'colsample_bytree': 0.8844715945248913, 'reg_alpha': 0.18892646738983682, 'reg_lambda': 0.5930494292322745}. Best is trial 8 with value: 0.8263605442176871.\n",
      "[I 2025-10-02 22:23:37,766] Trial 32 finished with value: 0.8054421768707483 and parameters: {'n_estimators': 400, 'num_leaves': 191, 'learning_rate': 0.19024074238785457, 'min_child_samples': 38, 'subsample': 0.8858647032587292, 'colsample_bytree': 0.8648872831242783, 'reg_alpha': 0.05802802917442433, 'reg_lambda': 0.6973380469509589}. Best is trial 8 with value: 0.8263605442176871.\n",
      "[I 2025-10-02 22:23:38,446] Trial 33 finished with value: 0.7973639455782313 and parameters: {'n_estimators': 600, 'num_leaves': 223, 'learning_rate': 0.16116634095623766, 'min_child_samples': 34, 'subsample': 0.8682736538025189, 'colsample_bytree': 0.8242810635133863, 'reg_alpha': 0.2961680200942056, 'reg_lambda': 0.5288917589441167}. Best is trial 8 with value: 0.8263605442176871.\n",
      "[I 2025-10-02 22:23:38,853] Trial 34 finished with value: 0.8139455782312925 and parameters: {'n_estimators': 300, 'num_leaves': 255, 'learning_rate': 0.12585548131491206, 'min_child_samples': 37, 'subsample': 0.8326960247998629, 'colsample_bytree': 0.8872978490556833, 'reg_alpha': 0.20018586612116018, 'reg_lambda': 0.864957906815144}. Best is trial 8 with value: 0.8263605442176871.\n",
      "[I 2025-10-02 22:23:39,307] Trial 35 finished with value: 0.8098639455782312 and parameters: {'n_estimators': 500, 'num_leaves': 159, 'learning_rate': 0.15516705300406214, 'min_child_samples': 40, 'subsample': 0.7930686571775765, 'colsample_bytree': 0.9303589623884838, 'reg_alpha': 0.6944468468041152, 'reg_lambda': 1.0047711785705706}. Best is trial 8 with value: 0.8263605442176871.\n",
      "[I 2025-10-02 22:23:40,028] Trial 36 finished with value: 0.8097789115646258 and parameters: {'n_estimators': 700, 'num_leaves': 191, 'learning_rate': 0.1027494807257381, 'min_child_samples': 25, 'subsample': 0.7350737593703851, 'colsample_bytree': 0.9870078426589081, 'reg_alpha': 0.4662897042603784, 'reg_lambda': 1.1859604099389287}. Best is trial 8 with value: 0.8263605442176871.\n",
      "[I 2025-10-02 22:23:40,414] Trial 37 finished with value: 0.7974489795918368 and parameters: {'n_estimators': 600, 'num_leaves': 95, 'learning_rate': 0.19403857603631958, 'min_child_samples': 30, 'subsample': 0.8434554990950436, 'colsample_bytree': 0.9559423531126738, 'reg_alpha': 0.40208041308250575, 'reg_lambda': 0.6405820139527937}. Best is trial 8 with value: 0.8263605442176871.\n",
      "[I 2025-10-02 22:23:41,969] Trial 38 finished with value: 0.789030612244898 and parameters: {'n_estimators': 1000, 'num_leaves': 255, 'learning_rate': 0.0882779018022712, 'min_child_samples': 21, 'subsample': 0.8031747631543853, 'colsample_bytree': 0.8188550739759652, 'reg_alpha': 0.08258723155059608, 'reg_lambda': 0.7882504631888017}. Best is trial 8 with value: 0.8263605442176871.\n",
      "[I 2025-10-02 22:23:42,380] Trial 39 finished with value: 0.8098639455782312 and parameters: {'n_estimators': 500, 'num_leaves': 95, 'learning_rate': 0.06750545384729803, 'min_child_samples': 36, 'subsample': 0.9666238147803086, 'colsample_bytree': 0.7945831651195789, 'reg_alpha': 0.3712448971956083, 'reg_lambda': 1.3199566736612607}. Best is trial 8 with value: 0.8263605442176871.\n",
      "[I 2025-10-02 22:23:42,695] Trial 40 finished with value: 0.8305272108843538 and parameters: {'n_estimators': 300, 'num_leaves': 127, 'learning_rate': 0.10729710288243247, 'min_child_samples': 38, 'subsample': 0.9106618880033557, 'colsample_bytree': 0.720375511114958, 'reg_alpha': 0.438371798594956, 'reg_lambda': 0.9661715173964606}. Best is trial 40 with value: 0.8305272108843538.\n",
      "[I 2025-10-02 22:23:43,055] Trial 41 finished with value: 0.8305272108843538 and parameters: {'n_estimators': 300, 'num_leaves': 127, 'learning_rate': 0.10647522923956403, 'min_child_samples': 38, 'subsample': 0.9127950968158048, 'colsample_bytree': 0.7295640268301414, 'reg_alpha': 0.4515375743439945, 'reg_lambda': 0.8317430431197714}. Best is trial 40 with value: 0.8305272108843538.\n",
      "[I 2025-10-02 22:23:43,405] Trial 42 finished with value: 0.8264455782312924 and parameters: {'n_estimators': 300, 'num_leaves': 127, 'learning_rate': 0.11085204846251909, 'min_child_samples': 38, 'subsample': 0.9173672144377809, 'colsample_bytree': 0.7368250159190051, 'reg_alpha': 0.4328947082873626, 'reg_lambda': 0.8470159817427801}. Best is trial 40 with value: 0.8305272108843538.\n",
      "[I 2025-10-02 22:23:43,658] Trial 43 finished with value: 0.8221938775510204 and parameters: {'n_estimators': 300, 'num_leaves': 127, 'learning_rate': 0.10701638978508828, 'min_child_samples': 38, 'subsample': 0.9121093709723239, 'colsample_bytree': 0.7255899348416692, 'reg_alpha': 0.5630509994940626, 'reg_lambda': 0.9001846574109331}. Best is trial 40 with value: 0.8305272108843538.\n",
      "[I 2025-10-02 22:23:43,943] Trial 44 finished with value: 0.8180272108843537 and parameters: {'n_estimators': 300, 'num_leaves': 127, 'learning_rate': 0.07758360514699099, 'min_child_samples': 34, 'subsample': 0.9352386500760467, 'colsample_bytree': 0.7248653532923893, 'reg_alpha': 0.4499731034305377, 'reg_lambda': 1.0069427134830748}. Best is trial 40 with value: 0.8305272108843538.\n",
      "[I 2025-10-02 22:23:44,241] Trial 45 finished with value: 0.8346088435374149 and parameters: {'n_estimators': 300, 'num_leaves': 95, 'learning_rate': 0.09830149739307255, 'min_child_samples': 40, 'subsample': 0.9016369252657277, 'colsample_bytree': 0.7243364749406372, 'reg_alpha': 0.5097827013551092, 'reg_lambda': 0.9692849916402695}. Best is trial 45 with value: 0.8346088435374149.\n",
      "[I 2025-10-02 22:23:44,525] Trial 46 finished with value: 0.8221088435374149 and parameters: {'n_estimators': 300, 'num_leaves': 95, 'learning_rate': 0.10130522126147717, 'min_child_samples': 40, 'subsample': 0.9040937902987649, 'colsample_bytree': 0.7231025108656188, 'reg_alpha': 0.5063209278818647, 'reg_lambda': 1.186306109142829}. Best is trial 45 with value: 0.8346088435374149.\n",
      "[I 2025-10-02 22:23:44,794] Trial 47 finished with value: 0.8139455782312925 and parameters: {'n_estimators': 300, 'num_leaves': 95, 'learning_rate': 0.09333156287340741, 'min_child_samples': 34, 'subsample': 0.8924362530535294, 'colsample_bytree': 0.7494292617289672, 'reg_alpha': 0.4300633292930575, 'reg_lambda': 0.9606423862474547}. Best is trial 45 with value: 0.8346088435374149.\n",
      "[I 2025-10-02 22:23:45,064] Trial 48 finished with value: 0.8221938775510204 and parameters: {'n_estimators': 300, 'num_leaves': 127, 'learning_rate': 0.1347752172235165, 'min_child_samples': 38, 'subsample': 0.9144527452111896, 'colsample_bytree': 0.7342899436988054, 'reg_alpha': 0.6534320096227697, 'reg_lambda': 1.0988545545357895}. Best is trial 45 with value: 0.8346088435374149.\n",
      "[I 2025-10-02 22:23:45,440] Trial 49 finished with value: 0.8180272108843537 and parameters: {'n_estimators': 400, 'num_leaves': 95, 'learning_rate': 0.11160308778835114, 'min_child_samples': 32, 'subsample': 0.9478666730552278, 'colsample_bytree': 0.7671637360243666, 'reg_alpha': 0.4709009616550092, 'reg_lambda': 0.7240865538781571}. Best is trial 45 with value: 0.8346088435374149.\n",
      "[I 2025-10-02 22:23:45,674] A new study created in memory with name: cat_simple\n",
      "[W 2025-10-02 22:23:50,500] Trial 0 failed with parameters: {'n_estimators': 1200, 'depth': 5, 'learning_rate': 0.02114988427702095, 'l2_leaf_reg': 2.2825240198809795, 'subsample': 0.9093224043207715} because of the following error: The value nan is not acceptable.\n",
      "[W 2025-10-02 22:23:50,508] Trial 0 failed with value nan.\n",
      "[I 2025-10-02 22:24:06,121] Trial 1 finished with value: 0.8055272108843538 and parameters: {'n_estimators': 600, 'depth': 7, 'learning_rate': 0.11202487150884063, 'l2_leaf_reg': 3.701316845356253, 'subsample': 0.9895009022208829}. Best is trial 1 with value: 0.8055272108843538.\n",
      "[I 2025-10-02 22:24:41,267] Trial 2 finished with value: 0.7849489795918367 and parameters: {'n_estimators': 1000, 'depth': 5, 'learning_rate': 0.020453232917340577, 'l2_leaf_reg': 1.5167547633893022, 'subsample': 0.754319486567087}. Best is trial 1 with value: 0.8055272108843538.\n",
      "[I 2025-10-02 22:25:19,538] Trial 3 finished with value: 0.8016156462585033 and parameters: {'n_estimators': 1000, 'depth': 10, 'learning_rate': 0.04337864344194176, 'l2_leaf_reg': 1.834802808269059, 'subsample': 0.9861388315028963}. Best is trial 1 with value: 0.8055272108843538.\n",
      "[I 2025-10-02 22:25:49,559] Trial 4 finished with value: 0.7971938775510206 and parameters: {'n_estimators': 800, 'depth': 6, 'learning_rate': 0.09084925727267733, 'l2_leaf_reg': 1.2660962992210458, 'subsample': 0.945674830697451}. Best is trial 1 with value: 0.8055272108843538.\n",
      "[I 2025-10-02 22:25:54,321] Trial 5 finished with value: 0.801530612244898 and parameters: {'n_estimators': 400, 'depth': 7, 'learning_rate': 0.03105895769099104, 'l2_leaf_reg': 2.6094462824508575, 'subsample': 0.7912873053238048}. Best is trial 1 with value: 0.8055272108843538.\n",
      "[I 2025-10-02 22:26:32,714] Trial 6 finished with value: 0.7973639455782313 and parameters: {'n_estimators': 1200, 'depth': 9, 'learning_rate': 0.0473723706274169, 'l2_leaf_reg': 4.288070114462162, 'subsample': 0.9107673390449003}. Best is trial 1 with value: 0.8055272108843538.\n",
      "[I 2025-10-02 22:26:54,039] Trial 7 finished with value: 0.8056122448979591 and parameters: {'n_estimators': 800, 'depth': 10, 'learning_rate': 0.09823289138718966, 'l2_leaf_reg': 4.455444564385833, 'subsample': 0.9078598560206067}. Best is trial 7 with value: 0.8056122448979591.\n",
      "[I 2025-10-02 22:27:01,435] Trial 8 finished with value: 0.8097789115646258 and parameters: {'n_estimators': 1200, 'depth': 7, 'learning_rate': 0.12730383856895838, 'l2_leaf_reg': 5.708500860892613, 'subsample': 0.8790355824308349}. Best is trial 8 with value: 0.8097789115646258.\n",
      "[I 2025-10-02 22:27:12,361] Trial 9 finished with value: 0.8098639455782314 and parameters: {'n_estimators': 1000, 'depth': 9, 'learning_rate': 0.09333844180955855, 'l2_leaf_reg': 4.379104738721184, 'subsample': 0.948064608801323}. Best is trial 9 with value: 0.8098639455782314.\n",
      "[I 2025-10-02 22:27:29,502] Trial 10 finished with value: 0.8056122448979591 and parameters: {'n_estimators': 1200, 'depth': 7, 'learning_rate': 0.11408067717150373, 'l2_leaf_reg': 3.5802402021878073, 'subsample': 0.8303026406980192}. Best is trial 9 with value: 0.8098639455782314.\n",
      "[I 2025-10-02 22:27:35,477] Trial 11 finished with value: 0.8139455782312925 and parameters: {'n_estimators': 600, 'depth': 9, 'learning_rate': 0.16788837227592618, 'l2_leaf_reg': 5.9724574306804294, 'subsample': 0.7237240215875426}. Best is trial 11 with value: 0.8139455782312925.\n",
      "[I 2025-10-02 22:27:39,816] Trial 12 finished with value: 0.7933673469387755 and parameters: {'n_estimators': 600, 'depth': 9, 'learning_rate': 0.19399999327965767, 'l2_leaf_reg': 5.904526249629182, 'subsample': 0.7226089826545039}. Best is trial 11 with value: 0.8139455782312925.\n",
      "[I 2025-10-02 22:27:42,461] Trial 13 finished with value: 0.8056972789115647 and parameters: {'n_estimators': 400, 'depth': 9, 'learning_rate': 0.1784226424967741, 'l2_leaf_reg': 5.034443454558562, 'subsample': 0.7046066121019879}. Best is trial 11 with value: 0.8139455782312925.\n",
      "[I 2025-10-02 22:27:45,567] Trial 14 finished with value: 0.7973639455782313 and parameters: {'n_estimators': 600, 'depth': 8, 'learning_rate': 0.06775436065683807, 'l2_leaf_reg': 5.049801478939547, 'subsample': 0.817987041544152}. Best is trial 11 with value: 0.8139455782312925.\n",
      "[I 2025-10-02 22:27:48,048] Trial 15 finished with value: 0.7930272108843538 and parameters: {'n_estimators': 1000, 'depth': 4, 'learning_rate': 0.1568136116851806, 'l2_leaf_reg': 2.9662449327615876, 'subsample': 0.766604349536838}. Best is trial 11 with value: 0.8139455782312925.\n",
      "[I 2025-10-02 22:27:52,122] Trial 16 finished with value: 0.8096938775510205 and parameters: {'n_estimators': 800, 'depth': 8, 'learning_rate': 0.07316001027592982, 'l2_leaf_reg': 5.200688006139958, 'subsample': 0.8611922676491414}. Best is trial 11 with value: 0.8139455782312925.\n",
      "[I 2025-10-02 22:27:55,112] Trial 17 finished with value: 0.7973639455782313 and parameters: {'n_estimators': 600, 'depth': 8, 'learning_rate': 0.1421267000847237, 'l2_leaf_reg': 4.306190179534413, 'subsample': 0.9363493209537981}. Best is trial 11 with value: 0.8139455782312925.\n",
      "[I 2025-10-02 22:28:06,654] Trial 18 finished with value: 0.7645408163265307 and parameters: {'n_estimators': 1000, 'depth': 10, 'learning_rate': 0.08025222352285875, 'l2_leaf_reg': 2.705209517177625, 'subsample': 0.8012372607971516}. Best is trial 11 with value: 0.8139455782312925.\n",
      "[I 2025-10-02 22:28:12,292] Trial 19 finished with value: 0.7932823129251702 and parameters: {'n_estimators': 800, 'depth': 9, 'learning_rate': 0.05594202938117256, 'l2_leaf_reg': 5.456693579657431, 'subsample': 0.8763927576446919}. Best is trial 11 with value: 0.8139455782312925.\n",
      "[I 2025-10-02 22:28:15,515] Trial 20 finished with value: 0.79328231292517 and parameters: {'n_estimators': 400, 'depth': 8, 'learning_rate': 0.19924082856457614, 'l2_leaf_reg': 4.513601588945255, 'subsample': 0.7516516853892328}. Best is trial 11 with value: 0.8139455782312925.\n",
      "[I 2025-10-02 22:28:25,637] Trial 21 finished with value: 0.7931972789115647 and parameters: {'n_estimators': 600, 'depth': 10, 'learning_rate': 0.14644920362735386, 'l2_leaf_reg': 3.868634639008986, 'subsample': 0.9489695913527117}. Best is trial 11 with value: 0.8139455782312925.\n",
      "[I 2025-10-02 22:28:30,871] Trial 22 finished with value: 0.7850340136054421 and parameters: {'n_estimators': 1200, 'depth': 6, 'learning_rate': 0.12354793188782406, 'l2_leaf_reg': 5.862211200614219, 'subsample': 0.8891666805057051}. Best is trial 11 with value: 0.8139455782312925.\n",
      "[I 2025-10-02 22:28:36,353] Trial 23 finished with value: 0.7849489795918367 and parameters: {'n_estimators': 1200, 'depth': 6, 'learning_rate': 0.13341700958520286, 'l2_leaf_reg': 5.499059639796872, 'subsample': 0.8401897563493678}. Best is trial 11 with value: 0.8139455782312925.\n",
      "[I 2025-10-02 22:28:40,783] Trial 24 finished with value: 0.801530612244898 and parameters: {'n_estimators': 1000, 'depth': 7, 'learning_rate': 0.09220298708855092, 'l2_leaf_reg': 5.970696875737204, 'subsample': 0.9627340861342121}. Best is trial 11 with value: 0.8139455782312925.\n",
      "[I 2025-10-02 22:28:49,625] Trial 25 finished with value: 0.8096938775510203 and parameters: {'n_estimators': 1200, 'depth': 9, 'learning_rate': 0.1643106835587364, 'l2_leaf_reg': 4.733794574840006, 'subsample': 0.9167380034349825}. Best is trial 11 with value: 0.8139455782312925.\n",
      "[I 2025-10-02 22:28:55,729] Trial 26 finished with value: 0.8056972789115646 and parameters: {'n_estimators': 1000, 'depth': 8, 'learning_rate': 0.10770198542867955, 'l2_leaf_reg': 5.476584897023259, 'subsample': 0.8619500883749145}. Best is trial 11 with value: 0.8139455782312925.\n",
      "[I 2025-10-02 22:28:58,611] Trial 27 finished with value: 0.7892006802721088 and parameters: {'n_estimators': 800, 'depth': 5, 'learning_rate': 0.0819650877970046, 'l2_leaf_reg': 4.832300931850254, 'subsample': 0.8866114693711199}. Best is trial 11 with value: 0.8139455782312925.\n",
      "[I 2025-10-02 22:29:04,121] Trial 28 finished with value: 0.8057823129251702 and parameters: {'n_estimators': 1200, 'depth': 7, 'learning_rate': 0.12764030171609086, 'l2_leaf_reg': 5.575970865137434, 'subsample': 0.9686981741116116}. Best is trial 11 with value: 0.8139455782312925.\n",
      "[I 2025-10-02 22:29:10,472] Trial 29 finished with value: 0.7933673469387755 and parameters: {'n_estimators': 1000, 'depth': 9, 'learning_rate': 0.06261914465399061, 'l2_leaf_reg': 4.006629269557597, 'subsample': 0.9284826898539569}. Best is trial 11 with value: 0.8139455782312925.\n",
      "[I 2025-10-02 22:29:14,109] Trial 30 finished with value: 0.7850340136054422 and parameters: {'n_estimators': 800, 'depth': 8, 'learning_rate': 0.10531312243870454, 'l2_leaf_reg': 3.4589415509974843, 'subsample': 0.996075289129228}. Best is trial 11 with value: 0.8139455782312925.\n",
      "[I 2025-10-02 22:29:18,018] Trial 31 finished with value: 0.7849489795918367 and parameters: {'n_estimators': 1200, 'depth': 5, 'learning_rate': 0.1612637714568901, 'l2_leaf_reg': 5.2171280701219995, 'subsample': 0.7833630227029788}. Best is trial 11 with value: 0.8139455782312925.\n",
      "[I 2025-10-02 22:29:21,657] Trial 32 finished with value: 0.8180272108843537 and parameters: {'n_estimators': 800, 'depth': 8, 'learning_rate': 0.07417951001017664, 'l2_leaf_reg': 5.2147647022890435, 'subsample': 0.8554084749122763}. Best is trial 32 with value: 0.8180272108843537.\n",
      "[I 2025-10-02 22:29:24,828] Trial 33 finished with value: 0.8013605442176871 and parameters: {'n_estimators': 600, 'depth': 8, 'learning_rate': 0.053431691431147815, 'l2_leaf_reg': 5.6966588479062885, 'subsample': 0.8162468835468186}. Best is trial 32 with value: 0.8180272108843537.\n",
      "[I 2025-10-02 22:29:32,585] Trial 34 finished with value: 0.8014455782312926 and parameters: {'n_estimators': 1000, 'depth': 9, 'learning_rate': 0.0380049129076684, 'l2_leaf_reg': 4.8648589244750635, 'subsample': 0.8676239694572976}. Best is trial 32 with value: 0.8180272108843537.\n",
      "[I 2025-10-02 22:29:45,753] Trial 35 finished with value: 0.8097789115646259 and parameters: {'n_estimators': 800, 'depth': 10, 'learning_rate': 0.022550602604190884, 'l2_leaf_reg': 5.295607894713039, 'subsample': 0.8438563801733072}. Best is trial 32 with value: 0.8180272108843537.\n",
      "[I 2025-10-02 22:29:56,449] Trial 36 finished with value: 0.8014455782312926 and parameters: {'n_estimators': 800, 'depth': 10, 'learning_rate': 0.024811916062151586, 'l2_leaf_reg': 5.213815612567479, 'subsample': 0.737645146596242}. Best is trial 32 with value: 0.8180272108843537.\n",
      "[I 2025-10-02 22:30:17,364] Trial 37 finished with value: 0.8140306122448979 and parameters: {'n_estimators': 800, 'depth': 10, 'learning_rate': 0.036254166022181414, 'l2_leaf_reg': 2.024235520562952, 'subsample': 0.7763255849077542}. Best is trial 32 with value: 0.8180272108843537.\n",
      "[I 2025-10-02 22:30:22,622] Trial 38 finished with value: 0.79328231292517 and parameters: {'n_estimators': 800, 'depth': 9, 'learning_rate': 0.0370704154859286, 'l2_leaf_reg': 1.766994457240752, 'subsample': 0.7775702691978249}. Best is trial 32 with value: 0.8180272108843537.\n",
      "[I 2025-10-02 22:30:29,942] Trial 39 finished with value: 0.801530612244898 and parameters: {'n_estimators': 600, 'depth': 10, 'learning_rate': 0.029651460385733634, 'l2_leaf_reg': 3.362397457284935, 'subsample': 0.7020972193122447}. Best is trial 32 with value: 0.8180272108843537.\n"
     ]
    }
   ],
   "execution_count": 13
  },
  {
   "cell_type": "code",
   "id": "65ede63bf842bc5a",
   "metadata": {
    "ExecuteTime": {
     "end_time": "2025-10-02T15:31:01.909176Z",
     "start_time": "2025-10-02T15:30:33.907605Z"
    }
   },
   "source": [
    "out_xgb  = optuna_tune_simple(\"xgb\",  X_train, y_train)"
   ],
   "outputs": [
    {
     "name": "stderr",
     "output_type": "stream",
     "text": [
      "[I 2025-10-02 22:30:33,939] A new study created in memory with name: xgb_simple\n",
      "[I 2025-10-02 22:30:35,484] Trial 0 finished with value: 0.7889455782312925 and parameters: {'n_estimators': 800, 'max_depth': 4, 'learning_rate': 0.05355388821058314, 'subsample': 0.9742068014267249, 'colsample_bytree': 0.9599127049378849, 'reg_alpha': 0.597990497384738, 'reg_lambda': 1.7246130119407985}. Best is trial 0 with value: 0.7889455782312925.\n",
      "[I 2025-10-02 22:30:38,101] Trial 1 finished with value: 0.7849489795918367 and parameters: {'n_estimators': 600, 'max_depth': 4, 'learning_rate': 0.10467977702180482, 'subsample': 0.971059810318118, 'colsample_bytree': 0.8224982682770924, 'reg_alpha': 0.08715954252240266, 'reg_lambda': 1.870462355374999}. Best is trial 0 with value: 0.7889455782312925.\n",
      "[I 2025-10-02 22:30:39,663] Trial 2 finished with value: 0.7846938775510204 and parameters: {'n_estimators': 600, 'max_depth': 3, 'learning_rate': 0.062064691637893556, 'subsample': 0.9996538247614752, 'colsample_bytree': 0.9073791694481493, 'reg_alpha': 0.9636509141590894, 'reg_lambda': 0.5612014796938887}. Best is trial 0 with value: 0.7889455782312925.\n",
      "[I 2025-10-02 22:30:40,752] Trial 3 finished with value: 0.8055272108843538 and parameters: {'n_estimators': 300, 'max_depth': 5, 'learning_rate': 0.18316291884480218, 'subsample': 0.7111158179201424, 'colsample_bytree': 0.7577026081140931, 'reg_alpha': 0.9284348937918205, 'reg_lambda': 1.8927128352033615}. Best is trial 3 with value: 0.8055272108843538.\n",
      "[I 2025-10-02 22:30:41,376] Trial 4 finished with value: 0.8013605442176871 and parameters: {'n_estimators': 1000, 'max_depth': 6, 'learning_rate': 0.1910161594631192, 'subsample': 0.814434428724989, 'colsample_bytree': 0.9849308762264577, 'reg_alpha': 0.4654033992044093, 'reg_lambda': 0.9912774083798356}. Best is trial 3 with value: 0.8055272108843538.\n",
      "[I 2025-10-02 22:30:41,721] Trial 5 finished with value: 0.7930272108843538 and parameters: {'n_estimators': 600, 'max_depth': 7, 'learning_rate': 0.1516101080590343, 'subsample': 0.9581108497229018, 'colsample_bytree': 0.7150131839013849, 'reg_alpha': 0.8623049683346378, 'reg_lambda': 1.3211958110385245}. Best is trial 3 with value: 0.8055272108843538.\n",
      "[I 2025-10-02 22:30:42,283] Trial 6 finished with value: 0.7931122448979592 and parameters: {'n_estimators': 900, 'max_depth': 3, 'learning_rate': 0.05911653601791588, 'subsample': 0.8111097026309728, 'colsample_bytree': 0.8653302950426651, 'reg_alpha': 0.327994851284906, 'reg_lambda': 1.3395186799428416}. Best is trial 3 with value: 0.8055272108843538.\n",
      "[I 2025-10-02 22:30:42,905] Trial 7 finished with value: 0.7972789115646257 and parameters: {'n_estimators': 900, 'max_depth': 3, 'learning_rate': 0.04331115218383946, 'subsample': 0.8179393558524424, 'colsample_bytree': 0.8304833662652351, 'reg_alpha': 0.6648353232166059, 'reg_lambda': 1.6573998954541542}. Best is trial 3 with value: 0.8055272108843538.\n",
      "[I 2025-10-02 22:30:43,282] Trial 8 finished with value: 0.7848639455782312 and parameters: {'n_estimators': 400, 'max_depth': 5, 'learning_rate': 0.1964993375913826, 'subsample': 0.8074807786808579, 'colsample_bytree': 0.7998509879256469, 'reg_alpha': 0.5986520316435026, 'reg_lambda': 1.601690668444844}. Best is trial 3 with value: 0.8055272108843538.\n",
      "[I 2025-10-02 22:30:43,563] Trial 9 finished with value: 0.801530612244898 and parameters: {'n_estimators': 300, 'max_depth': 4, 'learning_rate': 0.03687727052743458, 'subsample': 0.8314217505878538, 'colsample_bytree': 0.7818757332436365, 'reg_alpha': 0.7899572028225623, 'reg_lambda': 1.1840612941970088}. Best is trial 3 with value: 0.8055272108843538.\n",
      "[I 2025-10-02 22:30:44,043] Trial 10 finished with value: 0.8096938775510203 and parameters: {'n_estimators': 400, 'max_depth': 8, 'learning_rate': 0.0207307657333032, 'subsample': 0.7010262661562423, 'colsample_bytree': 0.7302745711457674, 'reg_alpha': 0.27987239304783174, 'reg_lambda': 1.9605202905623402}. Best is trial 10 with value: 0.8096938775510203.\n",
      "[I 2025-10-02 22:30:44,451] Trial 11 finished with value: 0.8056122448979591 and parameters: {'n_estimators': 400, 'max_depth': 8, 'learning_rate': 0.02033350512694463, 'subsample': 0.7044077411809758, 'colsample_bytree': 0.7023007370261347, 'reg_alpha': 0.2255650781435516, 'reg_lambda': 1.990871006508709}. Best is trial 10 with value: 0.8096938775510203.\n",
      "[I 2025-10-02 22:30:44,839] Trial 12 finished with value: 0.8096938775510203 and parameters: {'n_estimators': 400, 'max_depth': 8, 'learning_rate': 0.020192561569251304, 'subsample': 0.7008493555095962, 'colsample_bytree': 0.703841989544881, 'reg_alpha': 0.17910191411441537, 'reg_lambda': 1.962621284214773}. Best is trial 10 with value: 0.8096938775510203.\n",
      "[I 2025-10-02 22:30:45,384] Trial 13 finished with value: 0.8097789115646258 and parameters: {'n_estimators': 500, 'max_depth': 8, 'learning_rate': 0.020102475025517395, 'subsample': 0.7512513642433477, 'colsample_bytree': 0.7463121690711197, 'reg_alpha': 0.012784800528076845, 'reg_lambda': 1.5318555325745116}. Best is trial 13 with value: 0.8097789115646258.\n",
      "[I 2025-10-02 22:30:45,915] Trial 14 finished with value: 0.79328231292517 and parameters: {'n_estimators': 500, 'max_depth': 7, 'learning_rate': 0.028082276898893768, 'subsample': 0.7668456858394794, 'colsample_bytree': 0.7527911926694774, 'reg_alpha': 0.006648445136564418, 'reg_lambda': 1.4688695121051456}. Best is trial 13 with value: 0.8097789115646258.\n",
      "[I 2025-10-02 22:30:46,633] Trial 15 finished with value: 0.801530612244898 and parameters: {'n_estimators': 700, 'max_depth': 7, 'learning_rate': 0.029992371291520183, 'subsample': 0.8781507930711407, 'colsample_bytree': 0.7570370672654753, 'reg_alpha': 0.35308437194631503, 'reg_lambda': 1.0010940423502075}. Best is trial 13 with value: 0.8097789115646258.\n",
      "[I 2025-10-02 22:30:47,083] Trial 16 finished with value: 0.7931122448979592 and parameters: {'n_estimators': 500, 'max_depth': 8, 'learning_rate': 0.08311354347465996, 'subsample': 0.7537791164645145, 'colsample_bytree': 0.860722430025551, 'reg_alpha': 0.002634580074403493, 'reg_lambda': 1.5108550437578736}. Best is trial 13 with value: 0.8097789115646258.\n",
      "[I 2025-10-02 22:30:47,535] Trial 17 finished with value: 0.8056122448979591 and parameters: {'n_estimators': 500, 'max_depth': 6, 'learning_rate': 0.026249833087082012, 'subsample': 0.7524026139941947, 'colsample_bytree': 0.7346536829839373, 'reg_alpha': 0.1878215191954159, 'reg_lambda': 1.7753575203551748}. Best is trial 13 with value: 0.8097789115646258.\n",
      "[I 2025-10-02 22:30:48,051] Trial 18 finished with value: 0.7931122448979592 and parameters: {'n_estimators': 700, 'max_depth': 7, 'learning_rate': 0.037713559249899664, 'subsample': 0.8853407080520834, 'colsample_bytree': 0.7862092094301137, 'reg_alpha': 0.3685098001992709, 'reg_lambda': 0.7305166814008285}. Best is trial 13 with value: 0.8097789115646258.\n",
      "[I 2025-10-02 22:30:49,112] Trial 19 finished with value: 0.8014455782312926 and parameters: {'n_estimators': 300, 'max_depth': 8, 'learning_rate': 0.02438536014281373, 'subsample': 0.7364670809136618, 'colsample_bytree': 0.9138633918118141, 'reg_alpha': 0.12254579196927055, 'reg_lambda': 1.1710832547057588}. Best is trial 13 with value: 0.8097789115646258.\n",
      "[I 2025-10-02 22:30:49,627] Trial 20 finished with value: 0.789030612244898 and parameters: {'n_estimators': 500, 'max_depth': 6, 'learning_rate': 0.0820810317052852, 'subsample': 0.7847036192930282, 'colsample_bytree': 0.7353781016512134, 'reg_alpha': 0.27527817371002944, 'reg_lambda': 1.458054816918886}. Best is trial 13 with value: 0.8097789115646258.\n",
      "[I 2025-10-02 22:30:49,845] Trial 21 finished with value: 0.8097789115646258 and parameters: {'n_estimators': 400, 'max_depth': 8, 'learning_rate': 0.02025451372390141, 'subsample': 0.7282263868443487, 'colsample_bytree': 0.7052026146685169, 'reg_alpha': 0.11247208662691957, 'reg_lambda': 1.9667370589843374}. Best is trial 13 with value: 0.8097789115646258.\n",
      "[I 2025-10-02 22:30:50,343] Trial 22 finished with value: 0.801530612244898 and parameters: {'n_estimators': 400, 'max_depth': 8, 'learning_rate': 0.022315634847838255, 'subsample': 0.7293539241973652, 'colsample_bytree': 0.7278539783032242, 'reg_alpha': 0.09032789114474188, 'reg_lambda': 1.769898413349993}. Best is trial 13 with value: 0.8097789115646258.\n",
      "[I 2025-10-02 22:30:50,892] Trial 23 finished with value: 0.8138605442176872 and parameters: {'n_estimators': 400, 'max_depth': 7, 'learning_rate': 0.03234388670326608, 'subsample': 0.7332981692040834, 'colsample_bytree': 0.7700309076915354, 'reg_alpha': 0.45035774196067246, 'reg_lambda': 1.8381250188101268}. Best is trial 23 with value: 0.8138605442176872.\n",
      "[I 2025-10-02 22:30:51,405] Trial 24 finished with value: 0.7973639455782313 and parameters: {'n_estimators': 500, 'max_depth': 7, 'learning_rate': 0.032265639004131985, 'subsample': 0.7801778595237835, 'colsample_bytree': 0.7713443883686714, 'reg_alpha': 0.4637105900724703, 'reg_lambda': 1.5979274398889156}. Best is trial 23 with value: 0.8138605442176872.\n",
      "[I 2025-10-02 22:30:51,661] Trial 25 finished with value: 0.8055272108843538 and parameters: {'n_estimators': 300, 'max_depth': 7, 'learning_rate': 0.044352597643404136, 'subsample': 0.730015315823598, 'colsample_bytree': 0.8089120071006585, 'reg_alpha': 0.06935671944410268, 'reg_lambda': 1.8663904100720603}. Best is trial 23 with value: 0.8138605442176872.\n",
      "[I 2025-10-02 22:30:52,055] Trial 26 finished with value: 0.8056122448979591 and parameters: {'n_estimators': 400, 'max_depth': 8, 'learning_rate': 0.03312253505287845, 'subsample': 0.7824878408086615, 'colsample_bytree': 0.7592867333897927, 'reg_alpha': 0.7392117499220107, 'reg_lambda': 1.7329051213217506}. Best is trial 23 with value: 0.8138605442176872.\n",
      "[I 2025-10-02 22:30:52,708] Trial 27 finished with value: 0.8096938775510203 and parameters: {'n_estimators': 600, 'max_depth': 7, 'learning_rate': 0.02670854793450512, 'subsample': 0.860601632355256, 'colsample_bytree': 0.7000034052153473, 'reg_alpha': 0.4116548316901203, 'reg_lambda': 1.8365718531721986}. Best is trial 23 with value: 0.8138605442176872.\n",
      "[I 2025-10-02 22:30:53,567] Trial 28 finished with value: 0.7848639455782312 and parameters: {'n_estimators': 500, 'max_depth': 6, 'learning_rate': 0.02432053604020645, 'subsample': 0.9180477222228165, 'colsample_bytree': 0.7962450563765125, 'reg_alpha': 0.5589278218392683, 'reg_lambda': 1.662938748668227}. Best is trial 23 with value: 0.8138605442176872.\n",
      "[I 2025-10-02 22:30:54,205] Trial 29 finished with value: 0.7931972789115647 and parameters: {'n_estimators': 700, 'max_depth': 8, 'learning_rate': 0.04865607274023898, 'subsample': 0.7462077662935411, 'colsample_bytree': 0.8946743517001866, 'reg_alpha': 0.14727311089521655, 'reg_lambda': 1.5466704592443952}. Best is trial 23 with value: 0.8138605442176872.\n",
      "[I 2025-10-02 22:30:54,687] Trial 30 finished with value: 0.7973639455782313 and parameters: {'n_estimators': 300, 'max_depth': 7, 'learning_rate': 0.035251912059694177, 'subsample': 0.7694218528161934, 'colsample_bytree': 0.7372384918531545, 'reg_alpha': 0.25483019394876194, 'reg_lambda': 1.4092717986244305}. Best is trial 23 with value: 0.8138605442176872.\n",
      "[I 2025-10-02 22:30:55,146] Trial 31 finished with value: 0.8056122448979591 and parameters: {'n_estimators': 400, 'max_depth': 8, 'learning_rate': 0.020172060583934726, 'subsample': 0.720912951591513, 'colsample_bytree': 0.7260062603617239, 'reg_alpha': 0.280385028550091, 'reg_lambda': 1.9993073381599167}. Best is trial 23 with value: 0.8138605442176872.\n",
      "[I 2025-10-02 22:30:55,774] Trial 32 finished with value: 0.8096938775510203 and parameters: {'n_estimators': 400, 'max_depth': 8, 'learning_rate': 0.023962120554066567, 'subsample': 0.7168849666648827, 'colsample_bytree': 0.7452521764292958, 'reg_alpha': 0.042995259564880706, 'reg_lambda': 1.890914882161084}. Best is trial 23 with value: 0.8138605442176872.\n",
      "[I 2025-10-02 22:30:56,206] Trial 33 finished with value: 0.8056122448979591 and parameters: {'n_estimators': 500, 'max_depth': 8, 'learning_rate': 0.029136207305911176, 'subsample': 0.7476219696145674, 'colsample_bytree': 0.7746144051485306, 'reg_alpha': 0.13180746623342848, 'reg_lambda': 1.787615730266793}. Best is trial 23 with value: 0.8138605442176872.\n",
      "[I 2025-10-02 22:30:56,802] Trial 34 finished with value: 0.8097789115646258 and parameters: {'n_estimators': 600, 'max_depth': 8, 'learning_rate': 0.02273995547525951, 'subsample': 0.7187912551954478, 'colsample_bytree': 0.7186079294222756, 'reg_alpha': 0.5410118950774315, 'reg_lambda': 1.923276357804216}. Best is trial 23 with value: 0.8138605442176872.\n",
      "[I 2025-10-02 22:30:57,514] Trial 35 finished with value: 0.8096088435374149 and parameters: {'n_estimators': 600, 'max_depth': 7, 'learning_rate': 0.02320268786884622, 'subsample': 0.7954724586978326, 'colsample_bytree': 0.7185864648770495, 'reg_alpha': 0.5402305414166328, 'reg_lambda': 1.712868917161739}. Best is trial 23 with value: 0.8138605442176872.\n",
      "[I 2025-10-02 22:30:58,314] Trial 36 finished with value: 0.8056122448979591 and parameters: {'n_estimators': 600, 'max_depth': 8, 'learning_rate': 0.04032179180041043, 'subsample': 0.7593491203463245, 'colsample_bytree': 0.7693464267338957, 'reg_alpha': 0.6445747896201863, 'reg_lambda': 1.8525024504095147}. Best is trial 23 with value: 0.8138605442176872.\n",
      "[I 2025-10-02 22:30:58,931] Trial 37 finished with value: 0.8138605442176872 and parameters: {'n_estimators': 700, 'max_depth': 7, 'learning_rate': 0.030732645457106827, 'subsample': 0.7347730087094899, 'colsample_bytree': 0.8293687208114723, 'reg_alpha': 0.40731951359506735, 'reg_lambda': 1.9133105253551332}. Best is trial 23 with value: 0.8138605442176872.\n",
      "[I 2025-10-02 22:30:59,360] Trial 38 finished with value: 0.7971938775510204 and parameters: {'n_estimators': 700, 'max_depth': 6, 'learning_rate': 0.05687883042496685, 'subsample': 0.7373139979942166, 'colsample_bytree': 0.828901525321121, 'reg_alpha': 0.44578296392557537, 'reg_lambda': 1.6520539528883738}. Best is trial 23 with value: 0.8138605442176872.\n",
      "[I 2025-10-02 22:30:59,898] Trial 39 finished with value: 0.8014455782312926 and parameters: {'n_estimators': 800, 'max_depth': 5, 'learning_rate': 0.05070991243323587, 'subsample': 0.834440399941479, 'colsample_bytree': 0.8439098658649746, 'reg_alpha': 0.40147649261837665, 'reg_lambda': 1.8056908212197804}. Best is trial 23 with value: 0.8138605442176872.\n"
     ]
    }
   ],
   "execution_count": 14
  },
  {
   "cell_type": "code",
   "id": "3a50d76b845893a0",
   "metadata": {
    "ExecuteTime": {
     "end_time": "2025-10-02T15:33:03.199833Z",
     "start_time": "2025-10-02T15:31:02.247074Z"
    }
   },
   "source": [
    "out_rf = optuna_tune_simple(\"rf\", X_train, y_train)\n",
    "out_gb = optuna_tune_simple('gb', X_train, y_train)"
   ],
   "outputs": [
    {
     "name": "stderr",
     "output_type": "stream",
     "text": [
      "[I 2025-10-02 22:31:02,297] A new study created in memory with name: rf_simple\n",
      "[I 2025-10-02 22:31:08,015] Trial 0 finished with value: 0.8055272108843538 and parameters: {'n_estimators': 300, 'max_depth': 12, 'min_samples_split': 9, 'min_samples_leaf': 3}. Best is trial 0 with value: 0.8055272108843538.\n",
      "[I 2025-10-02 22:31:12,389] Trial 1 finished with value: 0.7973639455782313 and parameters: {'n_estimators': 600, 'max_depth': None, 'min_samples_split': 9, 'min_samples_leaf': 1}. Best is trial 0 with value: 0.8055272108843538.\n",
      "[I 2025-10-02 22:31:18,657] Trial 2 finished with value: 0.7973639455782313 and parameters: {'n_estimators': 600, 'max_depth': None, 'min_samples_split': 2, 'min_samples_leaf': 3}. Best is trial 0 with value: 0.8055272108843538.\n",
      "[I 2025-10-02 22:31:26,268] Trial 3 finished with value: 0.8137755102040817 and parameters: {'n_estimators': 300, 'max_depth': None, 'min_samples_split': 4, 'min_samples_leaf': 3}. Best is trial 3 with value: 0.8137755102040817.\n",
      "[I 2025-10-02 22:31:28,241] Trial 4 finished with value: 0.801530612244898 and parameters: {'n_estimators': 300, 'max_depth': 30, 'min_samples_split': 10, 'min_samples_leaf': 2}. Best is trial 3 with value: 0.8137755102040817.\n",
      "[I 2025-10-02 22:31:32,178] Trial 5 finished with value: 0.8056122448979591 and parameters: {'n_estimators': 600, 'max_depth': 20, 'min_samples_split': 10, 'min_samples_leaf': 3}. Best is trial 3 with value: 0.8137755102040817.\n",
      "[I 2025-10-02 22:31:35,480] Trial 6 finished with value: 0.8096938775510205 and parameters: {'n_estimators': 600, 'max_depth': None, 'min_samples_split': 6, 'min_samples_leaf': 4}. Best is trial 3 with value: 0.8137755102040817.\n",
      "[I 2025-10-02 22:31:39,589] Trial 7 finished with value: 0.7973639455782313 and parameters: {'n_estimators': 600, 'max_depth': 12, 'min_samples_split': 4, 'min_samples_leaf': 3}. Best is trial 3 with value: 0.8137755102040817.\n",
      "[I 2025-10-02 22:31:44,308] Trial 8 finished with value: 0.8056122448979591 and parameters: {'n_estimators': 900, 'max_depth': 20, 'min_samples_split': 8, 'min_samples_leaf': 4}. Best is trial 3 with value: 0.8137755102040817.\n",
      "[I 2025-10-02 22:31:52,532] Trial 9 finished with value: 0.7931972789115647 and parameters: {'n_estimators': 900, 'max_depth': 20, 'min_samples_split': 5, 'min_samples_leaf': 3}. Best is trial 3 with value: 0.8137755102040817.\n",
      "[I 2025-10-02 22:31:54,377] Trial 10 finished with value: 0.8179421768707483 and parameters: {'n_estimators': 300, 'max_depth': 30, 'min_samples_split': 2, 'min_samples_leaf': 1}. Best is trial 10 with value: 0.8179421768707483.\n",
      "[I 2025-10-02 22:31:55,297] Trial 11 finished with value: 0.8179421768707483 and parameters: {'n_estimators': 300, 'max_depth': 30, 'min_samples_split': 2, 'min_samples_leaf': 1}. Best is trial 10 with value: 0.8179421768707483.\n",
      "[I 2025-10-02 22:31:56,459] Trial 12 finished with value: 0.8179421768707483 and parameters: {'n_estimators': 300, 'max_depth': 30, 'min_samples_split': 2, 'min_samples_leaf': 1}. Best is trial 10 with value: 0.8179421768707483.\n",
      "[I 2025-10-02 22:32:05,386] Trial 13 finished with value: 0.8016156462585033 and parameters: {'n_estimators': 300, 'max_depth': 30, 'min_samples_split': 3, 'min_samples_leaf': 1}. Best is trial 10 with value: 0.8179421768707483.\n",
      "[I 2025-10-02 22:32:08,944] Trial 14 finished with value: 0.8096088435374149 and parameters: {'n_estimators': 300, 'max_depth': 30, 'min_samples_split': 2, 'min_samples_leaf': 2}. Best is trial 10 with value: 0.8179421768707483.\n",
      "[I 2025-10-02 22:32:10,191] Trial 15 finished with value: 0.8096088435374149 and parameters: {'n_estimators': 300, 'max_depth': 30, 'min_samples_split': 4, 'min_samples_leaf': 2}. Best is trial 10 with value: 0.8179421768707483.\n",
      "[I 2025-10-02 22:32:11,850] Trial 16 finished with value: 0.8014455782312926 and parameters: {'n_estimators': 300, 'max_depth': 30, 'min_samples_split': 7, 'min_samples_leaf': 1}. Best is trial 10 with value: 0.8179421768707483.\n",
      "[I 2025-10-02 22:32:14,355] Trial 17 finished with value: 0.8096938775510203 and parameters: {'n_estimators': 900, 'max_depth': 30, 'min_samples_split': 3, 'min_samples_leaf': 2}. Best is trial 10 with value: 0.8179421768707483.\n",
      "[I 2025-10-02 22:32:14,938] Trial 18 finished with value: 0.8096938775510205 and parameters: {'n_estimators': 300, 'max_depth': 30, 'min_samples_split': 6, 'min_samples_leaf': 1}. Best is trial 10 with value: 0.8179421768707483.\n",
      "[I 2025-10-02 22:32:15,959] Trial 19 finished with value: 0.8056972789115647 and parameters: {'n_estimators': 600, 'max_depth': 12, 'min_samples_split': 3, 'min_samples_leaf': 1}. Best is trial 10 with value: 0.8179421768707483.\n",
      "[I 2025-10-02 22:32:16,483] Trial 20 finished with value: 0.7971938775510204 and parameters: {'n_estimators': 300, 'max_depth': 30, 'min_samples_split': 5, 'min_samples_leaf': 2}. Best is trial 10 with value: 0.8179421768707483.\n",
      "[I 2025-10-02 22:32:17,004] Trial 21 finished with value: 0.8179421768707483 and parameters: {'n_estimators': 300, 'max_depth': 30, 'min_samples_split': 2, 'min_samples_leaf': 1}. Best is trial 10 with value: 0.8179421768707483.\n",
      "[I 2025-10-02 22:32:17,567] Trial 22 finished with value: 0.8179421768707483 and parameters: {'n_estimators': 300, 'max_depth': 30, 'min_samples_split': 2, 'min_samples_leaf': 1}. Best is trial 10 with value: 0.8179421768707483.\n",
      "[I 2025-10-02 22:32:18,121] Trial 23 finished with value: 0.8016156462585033 and parameters: {'n_estimators': 300, 'max_depth': 30, 'min_samples_split': 3, 'min_samples_leaf': 1}. Best is trial 10 with value: 0.8179421768707483.\n",
      "[I 2025-10-02 22:32:18,692] Trial 24 finished with value: 0.8096088435374149 and parameters: {'n_estimators': 300, 'max_depth': 30, 'min_samples_split': 2, 'min_samples_leaf': 2}. Best is trial 10 with value: 0.8179421768707483.\n",
      "[I 2025-10-02 22:32:19,835] Trial 25 finished with value: 0.8016156462585033 and parameters: {'n_estimators': 600, 'max_depth': 30, 'min_samples_split': 3, 'min_samples_leaf': 1}. Best is trial 10 with value: 0.8179421768707483.\n",
      "[I 2025-10-02 22:32:20,400] Trial 26 finished with value: 0.7972789115646257 and parameters: {'n_estimators': 300, 'max_depth': 30, 'min_samples_split': 5, 'min_samples_leaf': 1}. Best is trial 10 with value: 0.8179421768707483.\n",
      "[I 2025-10-02 22:32:21,002] Trial 27 finished with value: 0.8096088435374149 and parameters: {'n_estimators': 300, 'max_depth': 12, 'min_samples_split': 4, 'min_samples_leaf': 2}. Best is trial 10 with value: 0.8179421768707483.\n",
      "[I 2025-10-02 22:32:22,101] Trial 28 finished with value: 0.8056122448979591 and parameters: {'n_estimators': 600, 'max_depth': 20, 'min_samples_split': 2, 'min_samples_leaf': 1}. Best is trial 10 with value: 0.8179421768707483.\n",
      "[I 2025-10-02 22:32:22,670] Trial 29 finished with value: 0.8096088435374149 and parameters: {'n_estimators': 300, 'max_depth': 12, 'min_samples_split': 3, 'min_samples_leaf': 2}. Best is trial 10 with value: 0.8179421768707483.\n",
      "[I 2025-10-02 22:32:23,220] Trial 30 finished with value: 0.8137755102040817 and parameters: {'n_estimators': 300, 'max_depth': 30, 'min_samples_split': 4, 'min_samples_leaf': 1}. Best is trial 10 with value: 0.8179421768707483.\n",
      "[I 2025-10-02 22:32:23,788] Trial 31 finished with value: 0.8179421768707483 and parameters: {'n_estimators': 300, 'max_depth': 30, 'min_samples_split': 2, 'min_samples_leaf': 1}. Best is trial 10 with value: 0.8179421768707483.\n",
      "[I 2025-10-02 22:32:24,368] Trial 32 finished with value: 0.8179421768707483 and parameters: {'n_estimators': 300, 'max_depth': 30, 'min_samples_split': 2, 'min_samples_leaf': 1}. Best is trial 10 with value: 0.8179421768707483.\n",
      "[I 2025-10-02 22:32:25,044] Trial 33 finished with value: 0.8179421768707483 and parameters: {'n_estimators': 300, 'max_depth': 30, 'min_samples_split': 2, 'min_samples_leaf': 1}. Best is trial 10 with value: 0.8179421768707483.\n",
      "[I 2025-10-02 22:32:26,755] Trial 34 finished with value: 0.8016156462585033 and parameters: {'n_estimators': 600, 'max_depth': None, 'min_samples_split': 3, 'min_samples_leaf': 1}. Best is trial 10 with value: 0.8179421768707483.\n",
      "[I 2025-10-02 22:32:27,537] Trial 35 finished with value: 0.8179421768707483 and parameters: {'n_estimators': 300, 'max_depth': 30, 'min_samples_split': 2, 'min_samples_leaf': 1}. Best is trial 10 with value: 0.8179421768707483.\n",
      "[I 2025-10-02 22:32:28,086] Trial 36 finished with value: 0.8096088435374149 and parameters: {'n_estimators': 300, 'max_depth': None, 'min_samples_split': 3, 'min_samples_leaf': 2}. Best is trial 10 with value: 0.8179421768707483.\n",
      "[I 2025-10-02 22:32:28,652] Trial 37 finished with value: 0.7973639455782313 and parameters: {'n_estimators': 300, 'max_depth': 30, 'min_samples_split': 9, 'min_samples_leaf': 1}. Best is trial 10 with value: 0.8179421768707483.\n",
      "[I 2025-10-02 22:32:29,707] Trial 38 finished with value: 0.79328231292517 and parameters: {'n_estimators': 600, 'max_depth': 30, 'min_samples_split': 4, 'min_samples_leaf': 1}. Best is trial 10 with value: 0.8179421768707483.\n",
      "[I 2025-10-02 22:32:30,782] Trial 39 finished with value: 0.8096938775510205 and parameters: {'n_estimators': 600, 'max_depth': 20, 'min_samples_split': 8, 'min_samples_leaf': 4}. Best is trial 10 with value: 0.8179421768707483.\n",
      "[I 2025-10-02 22:32:31,359] A new study created in memory with name: gb_simple\n",
      "[I 2025-10-02 22:32:32,130] Trial 0 finished with value: 0.7723639455782313 and parameters: {'n_estimators': 600, 'learning_rate': 0.037260226743169624, 'max_depth': 3, 'min_samples_leaf': 2}. Best is trial 0 with value: 0.7723639455782313.\n",
      "[I 2025-10-02 22:32:32,835] Trial 1 finished with value: 0.7805272108843538 and parameters: {'n_estimators': 600, 'learning_rate': 0.16188160414465627, 'max_depth': 5, 'min_samples_leaf': 3}. Best is trial 1 with value: 0.7805272108843538.\n",
      "[I 2025-10-02 22:32:33,803] Trial 2 finished with value: 0.7475340136054422 and parameters: {'n_estimators': 800, 'learning_rate': 0.14525724856151767, 'max_depth': 3, 'min_samples_leaf': 1}. Best is trial 1 with value: 0.7805272108843538.\n",
      "[I 2025-10-02 22:32:36,533] Trial 3 finished with value: 0.7681972789115646 and parameters: {'n_estimators': 800, 'learning_rate': 0.053059953424596816, 'max_depth': 5, 'min_samples_leaf': 3}. Best is trial 1 with value: 0.7805272108843538.\n",
      "[I 2025-10-02 22:32:37,076] Trial 4 finished with value: 0.7600340136054422 and parameters: {'n_estimators': 400, 'learning_rate': 0.09228151580846936, 'max_depth': 2, 'min_samples_leaf': 1}. Best is trial 1 with value: 0.7805272108843538.\n",
      "[I 2025-10-02 22:32:38,490] Trial 5 finished with value: 0.743452380952381 and parameters: {'n_estimators': 800, 'learning_rate': 0.04597225772894113, 'max_depth': 4, 'min_samples_leaf': 2}. Best is trial 1 with value: 0.7805272108843538.\n",
      "[I 2025-10-02 22:32:39,201] Trial 6 finished with value: 0.7474489795918366 and parameters: {'n_estimators': 400, 'learning_rate': 0.04877687578264235, 'max_depth': 4, 'min_samples_leaf': 2}. Best is trial 1 with value: 0.7805272108843538.\n",
      "[I 2025-10-02 22:32:40,235] Trial 7 finished with value: 0.7391156462585033 and parameters: {'n_estimators': 800, 'learning_rate': 0.10537625447900605, 'max_depth': 4, 'min_samples_leaf': 2}. Best is trial 1 with value: 0.7805272108843538.\n",
      "[I 2025-10-02 22:32:40,480] Trial 8 finished with value: 0.7846938775510204 and parameters: {'n_estimators': 200, 'learning_rate': 0.10874750107119426, 'max_depth': 3, 'min_samples_leaf': 3}. Best is trial 8 with value: 0.7846938775510204.\n",
      "[I 2025-10-02 22:32:40,665] Trial 9 finished with value: 0.7683673469387755 and parameters: {'n_estimators': 200, 'learning_rate': 0.06728277826672399, 'max_depth': 2, 'min_samples_leaf': 2}. Best is trial 8 with value: 0.7846938775510204.\n",
      "[I 2025-10-02 22:32:40,922] Trial 10 finished with value: 0.7723639455782313 and parameters: {'n_estimators': 200, 'learning_rate': 0.11096786866277841, 'max_depth': 3, 'min_samples_leaf': 3}. Best is trial 8 with value: 0.7846938775510204.\n",
      "[I 2025-10-02 22:32:41,495] Trial 11 finished with value: 0.7888605442176871 and parameters: {'n_estimators': 600, 'learning_rate': 0.192997128624008, 'max_depth': 5, 'min_samples_leaf': 3}. Best is trial 11 with value: 0.7888605442176871.\n",
      "[I 2025-10-02 22:32:41,999] Trial 12 finished with value: 0.7846088435374149 and parameters: {'n_estimators': 400, 'learning_rate': 0.19197343947289097, 'max_depth': 5, 'min_samples_leaf': 3}. Best is trial 11 with value: 0.7888605442176871.\n",
      "[I 2025-10-02 22:32:42,687] Trial 13 finished with value: 0.7433673469387755 and parameters: {'n_estimators': 600, 'learning_rate': 0.1305188994622316, 'max_depth': 3, 'min_samples_leaf': 3}. Best is trial 11 with value: 0.7888605442176871.\n",
      "[I 2025-10-02 22:32:42,994] Trial 14 finished with value: 0.7556972789115647 and parameters: {'n_estimators': 200, 'learning_rate': 0.07891320966636307, 'max_depth': 4, 'min_samples_leaf': 3}. Best is trial 11 with value: 0.7888605442176871.\n",
      "[I 2025-10-02 22:32:43,363] Trial 15 finished with value: 0.7311224489795918 and parameters: {'n_estimators': 400, 'learning_rate': 0.1743217511487248, 'max_depth': 2, 'min_samples_leaf': 3}. Best is trial 11 with value: 0.7888605442176871.\n",
      "[I 2025-10-02 22:32:44,125] Trial 16 finished with value: 0.7805272108843537 and parameters: {'n_estimators': 600, 'learning_rate': 0.12939485198957873, 'max_depth': 5, 'min_samples_leaf': 3}. Best is trial 11 with value: 0.7888605442176871.\n",
      "[I 2025-10-02 22:32:44,467] Trial 17 finished with value: 0.7721938775510204 and parameters: {'n_estimators': 200, 'learning_rate': 0.06907989594184093, 'max_depth': 4, 'min_samples_leaf': 1}. Best is trial 11 with value: 0.7888605442176871.\n",
      "[I 2025-10-02 22:32:44,973] Trial 18 finished with value: 0.7765306122448979 and parameters: {'n_estimators': 400, 'learning_rate': 0.030245887317348282, 'max_depth': 3, 'min_samples_leaf': 3}. Best is trial 11 with value: 0.7888605442176871.\n",
      "[I 2025-10-02 22:32:45,628] Trial 19 finished with value: 0.747704081632653 and parameters: {'n_estimators': 600, 'learning_rate': 0.19772280292352684, 'max_depth': 2, 'min_samples_leaf': 2}. Best is trial 11 with value: 0.7888605442176871.\n",
      "[I 2025-10-02 22:32:46,177] Trial 20 finished with value: 0.764030612244898 and parameters: {'n_estimators': 200, 'learning_rate': 0.0884384399407853, 'max_depth': 5, 'min_samples_leaf': 2}. Best is trial 11 with value: 0.7888605442176871.\n",
      "[I 2025-10-02 22:32:46,921] Trial 21 finished with value: 0.7639455782312925 and parameters: {'n_estimators': 400, 'learning_rate': 0.18632502054127636, 'max_depth': 5, 'min_samples_leaf': 3}. Best is trial 11 with value: 0.7888605442176871.\n",
      "[I 2025-10-02 22:32:47,800] Trial 22 finished with value: 0.7846938775510204 and parameters: {'n_estimators': 400, 'learning_rate': 0.1499083616161231, 'max_depth': 5, 'min_samples_leaf': 3}. Best is trial 11 with value: 0.7888605442176871.\n",
      "[I 2025-10-02 22:32:48,571] Trial 23 finished with value: 0.7432823129251701 and parameters: {'n_estimators': 600, 'learning_rate': 0.1444156064724486, 'max_depth': 4, 'min_samples_leaf': 3}. Best is trial 11 with value: 0.7888605442176871.\n",
      "[I 2025-10-02 22:32:49,078] Trial 24 finished with value: 0.7847789115646258 and parameters: {'n_estimators': 200, 'learning_rate': 0.12281127200992407, 'max_depth': 5, 'min_samples_leaf': 3}. Best is trial 11 with value: 0.7888605442176871.\n",
      "[I 2025-10-02 22:32:49,440] Trial 25 finished with value: 0.7723639455782313 and parameters: {'n_estimators': 200, 'learning_rate': 0.09649744407914819, 'max_depth': 4, 'min_samples_leaf': 3}. Best is trial 11 with value: 0.7888605442176871.\n",
      "[I 2025-10-02 22:32:49,749] Trial 26 finished with value: 0.7805272108843537 and parameters: {'n_estimators': 200, 'learning_rate': 0.11794154689117298, 'max_depth': 3, 'min_samples_leaf': 3}. Best is trial 11 with value: 0.7888605442176871.\n",
      "[I 2025-10-02 22:32:50,143] Trial 27 finished with value: 0.7763605442176871 and parameters: {'n_estimators': 200, 'learning_rate': 0.12570462388456075, 'max_depth': 5, 'min_samples_leaf': 2}. Best is trial 11 with value: 0.7888605442176871.\n",
      "[I 2025-10-02 22:32:51,106] Trial 28 finished with value: 0.7310374149659864 and parameters: {'n_estimators': 400, 'learning_rate': 0.07864462991074789, 'max_depth': 4, 'min_samples_leaf': 3}. Best is trial 11 with value: 0.7888605442176871.\n",
      "[I 2025-10-02 22:32:51,783] Trial 29 finished with value: 0.7391156462585035 and parameters: {'n_estimators': 600, 'learning_rate': 0.10204228706526827, 'max_depth': 3, 'min_samples_leaf': 2}. Best is trial 11 with value: 0.7888605442176871.\n",
      "[I 2025-10-02 22:32:52,200] Trial 30 finished with value: 0.7846938775510204 and parameters: {'n_estimators': 200, 'learning_rate': 0.16567490178528416, 'max_depth': 5, 'min_samples_leaf': 3}. Best is trial 11 with value: 0.7888605442176871.\n",
      "[I 2025-10-02 22:32:53,228] Trial 31 finished with value: 0.7764455782312925 and parameters: {'n_estimators': 400, 'learning_rate': 0.14846920776065348, 'max_depth': 5, 'min_samples_leaf': 3}. Best is trial 11 with value: 0.7888605442176871.\n",
      "[I 2025-10-02 22:32:54,321] Trial 32 finished with value: 0.7763605442176871 and parameters: {'n_estimators': 600, 'learning_rate': 0.15549118050083383, 'max_depth': 5, 'min_samples_leaf': 3}. Best is trial 11 with value: 0.7888605442176871.\n",
      "[I 2025-10-02 22:32:55,073] Trial 33 finished with value: 0.7847789115646259 and parameters: {'n_estimators': 200, 'learning_rate': 0.1427052343214713, 'max_depth': 5, 'min_samples_leaf': 3}. Best is trial 11 with value: 0.7888605442176871.\n",
      "[I 2025-10-02 22:32:55,826] Trial 34 finished with value: 0.7846938775510205 and parameters: {'n_estimators': 200, 'learning_rate': 0.1360395337622784, 'max_depth': 5, 'min_samples_leaf': 3}. Best is trial 11 with value: 0.7888605442176871.\n",
      "[I 2025-10-02 22:32:56,498] Trial 35 finished with value: 0.7639455782312925 and parameters: {'n_estimators': 200, 'learning_rate': 0.17049178859757977, 'max_depth': 5, 'min_samples_leaf': 3}. Best is trial 11 with value: 0.7888605442176871.\n",
      "[I 2025-10-02 22:32:58,012] Trial 36 finished with value: 0.7806122448979592 and parameters: {'n_estimators': 800, 'learning_rate': 0.13330427344342424, 'max_depth': 5, 'min_samples_leaf': 3}. Best is trial 11 with value: 0.7888605442176871.\n",
      "[I 2025-10-02 22:32:58,824] Trial 37 finished with value: 0.7806122448979591 and parameters: {'n_estimators': 200, 'learning_rate': 0.1785889308539998, 'max_depth': 5, 'min_samples_leaf': 1}. Best is trial 11 with value: 0.7888605442176871.\n",
      "[I 2025-10-02 22:32:59,512] Trial 38 finished with value: 0.7848639455782312 and parameters: {'n_estimators': 200, 'learning_rate': 0.14053285767546642, 'max_depth': 5, 'min_samples_leaf': 3}. Best is trial 11 with value: 0.7888605442176871.\n",
      "[I 2025-10-02 22:33:00,475] Trial 39 finished with value: 0.7681972789115645 and parameters: {'n_estimators': 400, 'learning_rate': 0.1600508773465571, 'max_depth': 5, 'min_samples_leaf': 2}. Best is trial 11 with value: 0.7888605442176871.\n"
     ]
    }
   ],
   "execution_count": 15
  },
  {
   "cell_type": "code",
   "id": "9beaa1f456bf8b95",
   "metadata": {
    "ExecuteTime": {
     "end_time": "2025-10-02T15:33:47.462792Z",
     "start_time": "2025-10-02T15:33:03.755654Z"
    }
   },
   "source": [
    "out_ada = optuna_tune_simple('adb', X_train, y_train, n_trials=50)"
   ],
   "outputs": [
    {
     "name": "stderr",
     "output_type": "stream",
     "text": [
      "[I 2025-10-02 22:33:04,147] A new study created in memory with name: adb_simple\n",
      "[I 2025-10-02 22:33:04,864] Trial 0 finished with value: 0.8305272108843538 and parameters: {'n_estimators': 200, 'learning_rate': 0.11602457674922251}. Best is trial 0 with value: 0.8305272108843538.\n",
      "[I 2025-10-02 22:33:06,320] Trial 1 finished with value: 0.8179421768707483 and parameters: {'n_estimators': 600, 'learning_rate': 0.20506907834055518}. Best is trial 0 with value: 0.8305272108843538.\n",
      "[I 2025-10-02 22:33:06,858] Trial 2 finished with value: 0.8263605442176871 and parameters: {'n_estimators': 200, 'learning_rate': 0.1461644290441694}. Best is trial 0 with value: 0.8305272108843538.\n",
      "[I 2025-10-02 22:33:07,327] Trial 3 finished with value: 0.8305272108843538 and parameters: {'n_estimators': 200, 'learning_rate': 0.11515843555726013}. Best is trial 0 with value: 0.8305272108843538.\n",
      "[I 2025-10-02 22:33:09,166] Trial 4 finished with value: 0.8096938775510203 and parameters: {'n_estimators': 800, 'learning_rate': 0.09786571779264978}. Best is trial 0 with value: 0.8305272108843538.\n",
      "[I 2025-10-02 22:33:10,101] Trial 5 finished with value: 0.8096938775510203 and parameters: {'n_estimators': 400, 'learning_rate': 0.16925156415482223}. Best is trial 0 with value: 0.8305272108843538.\n",
      "[I 2025-10-02 22:33:12,002] Trial 6 finished with value: 0.8096938775510203 and parameters: {'n_estimators': 600, 'learning_rate': 0.1158889203907378}. Best is trial 0 with value: 0.8305272108843538.\n",
      "[I 2025-10-02 22:33:13,439] Trial 7 finished with value: 0.8096938775510203 and parameters: {'n_estimators': 600, 'learning_rate': 0.11307963290238414}. Best is trial 0 with value: 0.8305272108843538.\n",
      "[I 2025-10-02 22:33:14,771] Trial 8 finished with value: 0.8304421768707482 and parameters: {'n_estimators': 600, 'learning_rate': 0.03230850883738151}. Best is trial 0 with value: 0.8305272108843538.\n",
      "[I 2025-10-02 22:33:16,587] Trial 9 finished with value: 0.8054421768707483 and parameters: {'n_estimators': 800, 'learning_rate': 0.14760472820880255}. Best is trial 0 with value: 0.8305272108843538.\n",
      "[I 2025-10-02 22:33:17,567] Trial 10 finished with value: 0.8263605442176871 and parameters: {'n_estimators': 400, 'learning_rate': 0.05493998725050924}. Best is trial 0 with value: 0.8305272108843538.\n",
      "[I 2025-10-02 22:33:18,141] Trial 11 finished with value: 0.8180272108843539 and parameters: {'n_estimators': 200, 'learning_rate': 0.2964858088289844}. Best is trial 0 with value: 0.8305272108843538.\n",
      "[I 2025-10-02 22:33:18,747] Trial 12 finished with value: 0.8346088435374149 and parameters: {'n_estimators': 200, 'learning_rate': 0.06664182631377753}. Best is trial 12 with value: 0.8346088435374149.\n",
      "[I 2025-10-02 22:33:20,044] Trial 13 finished with value: 0.8221938775510204 and parameters: {'n_estimators': 400, 'learning_rate': 0.06821357936512948}. Best is trial 12 with value: 0.8346088435374149.\n",
      "[I 2025-10-02 22:33:21,499] Trial 14 finished with value: 0.8386904761904763 and parameters: {'n_estimators': 200, 'learning_rate': 0.06484894922868152}. Best is trial 14 with value: 0.8386904761904763.\n",
      "[I 2025-10-02 22:33:22,095] Trial 15 finished with value: 0.8346088435374149 and parameters: {'n_estimators': 200, 'learning_rate': 0.05905249024577944}. Best is trial 14 with value: 0.8386904761904763.\n",
      "[I 2025-10-02 22:33:22,888] Trial 16 finished with value: 0.8386904761904763 and parameters: {'n_estimators': 400, 'learning_rate': 0.04165466706818049}. Best is trial 14 with value: 0.8386904761904763.\n",
      "[I 2025-10-02 22:33:23,587] Trial 17 finished with value: 0.8386904761904763 and parameters: {'n_estimators': 400, 'learning_rate': 0.036613559778022206}. Best is trial 14 with value: 0.8386904761904763.\n",
      "[I 2025-10-02 22:33:24,505] Trial 18 finished with value: 0.8346088435374149 and parameters: {'n_estimators': 400, 'learning_rate': 0.04642772340646699}. Best is trial 14 with value: 0.8386904761904763.\n",
      "[I 2025-10-02 22:33:27,618] Trial 19 finished with value: 0.8346088435374149 and parameters: {'n_estimators': 400, 'learning_rate': 0.043312782015656165}. Best is trial 14 with value: 0.8386904761904763.\n",
      "[I 2025-10-02 22:33:28,136] Trial 20 finished with value: 0.8386904761904763 and parameters: {'n_estimators': 200, 'learning_rate': 0.07601547808195964}. Best is trial 14 with value: 0.8386904761904763.\n",
      "[I 2025-10-02 22:33:28,836] Trial 21 finished with value: 0.8386904761904763 and parameters: {'n_estimators': 400, 'learning_rate': 0.033413128226500645}. Best is trial 14 with value: 0.8386904761904763.\n",
      "[I 2025-10-02 22:33:29,541] Trial 22 finished with value: 0.8346088435374149 and parameters: {'n_estimators': 400, 'learning_rate': 0.04082153817787705}. Best is trial 14 with value: 0.8386904761904763.\n",
      "[I 2025-10-02 22:33:30,214] Trial 23 finished with value: 0.8386904761904763 and parameters: {'n_estimators': 400, 'learning_rate': 0.03658551685740716}. Best is trial 14 with value: 0.8386904761904763.\n",
      "[I 2025-10-02 22:33:31,166] Trial 24 finished with value: 0.8263605442176871 and parameters: {'n_estimators': 600, 'learning_rate': 0.05021780966035896}. Best is trial 14 with value: 0.8386904761904763.\n",
      "[I 2025-10-02 22:33:31,824] Trial 25 finished with value: 0.8386904761904763 and parameters: {'n_estimators': 400, 'learning_rate': 0.030268869855276107}. Best is trial 14 with value: 0.8386904761904763.\n",
      "[I 2025-10-02 22:33:32,179] Trial 26 finished with value: 0.8345238095238094 and parameters: {'n_estimators': 200, 'learning_rate': 0.08088223355332443}. Best is trial 14 with value: 0.8386904761904763.\n",
      "[I 2025-10-02 22:33:32,819] Trial 27 finished with value: 0.8386904761904763 and parameters: {'n_estimators': 400, 'learning_rate': 0.03710155127715869}. Best is trial 14 with value: 0.8386904761904763.\n",
      "[I 2025-10-02 22:33:33,985] Trial 28 finished with value: 0.8221938775510204 and parameters: {'n_estimators': 600, 'learning_rate': 0.05735553541916324}. Best is trial 14 with value: 0.8386904761904763.\n",
      "[I 2025-10-02 22:33:34,319] Trial 29 finished with value: 0.8305272108843538 and parameters: {'n_estimators': 200, 'learning_rate': 0.04788412307374161}. Best is trial 14 with value: 0.8386904761904763.\n",
      "[I 2025-10-02 22:33:34,678] Trial 30 finished with value: 0.8346088435374149 and parameters: {'n_estimators': 200, 'learning_rate': 0.08684193404013267}. Best is trial 14 with value: 0.8386904761904763.\n",
      "[I 2025-10-02 22:33:34,989] Trial 31 finished with value: 0.8386904761904763 and parameters: {'n_estimators': 200, 'learning_rate': 0.0725375523200016}. Best is trial 14 with value: 0.8386904761904763.\n",
      "[I 2025-10-02 22:33:35,317] Trial 32 finished with value: 0.8306122448979592 and parameters: {'n_estimators': 200, 'learning_rate': 0.039936109784944544}. Best is trial 14 with value: 0.8386904761904763.\n",
      "[I 2025-10-02 22:33:35,683] Trial 33 finished with value: 0.8386904761904763 and parameters: {'n_estimators': 200, 'learning_rate': 0.06473350082498812}. Best is trial 14 with value: 0.8386904761904763.\n",
      "[I 2025-10-02 22:33:36,051] Trial 34 finished with value: 0.8386904761904763 and parameters: {'n_estimators': 200, 'learning_rate': 0.07896716009060903}. Best is trial 14 with value: 0.8386904761904763.\n",
      "[I 2025-10-02 22:33:36,804] Trial 35 finished with value: 0.8305272108843538 and parameters: {'n_estimators': 400, 'learning_rate': 0.052497762272635556}. Best is trial 14 with value: 0.8386904761904763.\n",
      "[I 2025-10-02 22:33:38,103] Trial 36 finished with value: 0.8096938775510203 and parameters: {'n_estimators': 800, 'learning_rate': 0.09877897390652647}. Best is trial 14 with value: 0.8386904761904763.\n",
      "[I 2025-10-02 22:33:38,462] Trial 37 finished with value: 0.8304421768707483 and parameters: {'n_estimators': 200, 'learning_rate': 0.09327118277217743}. Best is trial 14 with value: 0.8386904761904763.\n",
      "[I 2025-10-02 22:33:39,146] Trial 38 finished with value: 0.8346088435374149 and parameters: {'n_estimators': 400, 'learning_rate': 0.043682071750304426}. Best is trial 14 with value: 0.8386904761904763.\n",
      "[I 2025-10-02 22:33:39,496] Trial 39 finished with value: 0.8346088435374149 and parameters: {'n_estimators': 200, 'learning_rate': 0.06271005295371378}. Best is trial 14 with value: 0.8386904761904763.\n",
      "[I 2025-10-02 22:33:40,559] Trial 40 finished with value: 0.8180272108843537 and parameters: {'n_estimators': 600, 'learning_rate': 0.07430809513734103}. Best is trial 14 with value: 0.8386904761904763.\n",
      "[I 2025-10-02 22:33:41,341] Trial 41 finished with value: 0.8386904761904763 and parameters: {'n_estimators': 400, 'learning_rate': 0.03424784604128226}. Best is trial 14 with value: 0.8386904761904763.\n",
      "[I 2025-10-02 22:33:42,013] Trial 42 finished with value: 0.8386904761904763 and parameters: {'n_estimators': 400, 'learning_rate': 0.030914972227180808}. Best is trial 14 with value: 0.8386904761904763.\n",
      "[I 2025-10-02 22:33:42,693] Trial 43 finished with value: 0.8386904761904763 and parameters: {'n_estimators': 400, 'learning_rate': 0.03523634886787713}. Best is trial 14 with value: 0.8386904761904763.\n",
      "[I 2025-10-02 22:33:43,656] Trial 44 finished with value: 0.8096938775510203 and parameters: {'n_estimators': 600, 'learning_rate': 0.1339651220435942}. Best is trial 14 with value: 0.8386904761904763.\n",
      "[I 2025-10-02 22:33:44,339] Trial 45 finished with value: 0.8386904761904763 and parameters: {'n_estimators': 400, 'learning_rate': 0.03898683483184143}. Best is trial 14 with value: 0.8386904761904763.\n",
      "[I 2025-10-02 22:33:44,701] Trial 46 finished with value: 0.8305272108843539 and parameters: {'n_estimators': 200, 'learning_rate': 0.2491188299912764}. Best is trial 14 with value: 0.8386904761904763.\n",
      "[I 2025-10-02 22:33:45,531] Trial 47 finished with value: 0.8386904761904763 and parameters: {'n_estimators': 400, 'learning_rate': 0.033171928764381096}. Best is trial 14 with value: 0.8386904761904763.\n",
      "[I 2025-10-02 22:33:46,674] Trial 48 finished with value: 0.8263605442176871 and parameters: {'n_estimators': 600, 'learning_rate': 0.04550190673044001}. Best is trial 14 with value: 0.8386904761904763.\n",
      "[I 2025-10-02 22:33:47,112] Trial 49 finished with value: 0.8386904761904763 and parameters: {'n_estimators': 200, 'learning_rate': 0.056899202436159736}. Best is trial 14 with value: 0.8386904761904763.\n"
     ]
    }
   ],
   "execution_count": 16
  },
  {
   "cell_type": "code",
   "id": "bbf066fb6f06c5b9",
   "metadata": {
    "ExecuteTime": {
     "end_time": "2025-10-02T15:33:51.914228Z",
     "start_time": "2025-10-02T15:33:51.845318Z"
    }
   },
   "source": [
    "ranked = sorted([out_ada, out_rf, out_gb, out_lgbm, out_xgb, out_cat], key=lambda x: x[\"best_score\"], reverse=True)"
   ],
   "outputs": [],
   "execution_count": 17
  },
  {
   "cell_type": "code",
   "id": "159e38dff0e8aa26",
   "metadata": {
    "ExecuteTime": {
     "end_time": "2025-10-02T15:33:54.516241Z",
     "start_time": "2025-10-02T15:33:53.854632Z"
    }
   },
   "source": [
    "raw_results = calc_results(ranked, X_test, y_test, X_val, y_val)"
   ],
   "outputs": [],
   "execution_count": 18
  },
  {
   "cell_type": "code",
   "id": "5593b66ff3983dbc",
   "metadata": {
    "ExecuteTime": {
     "end_time": "2025-10-02T15:33:56.616503Z",
     "start_time": "2025-10-02T15:33:56.579108Z"
    }
   },
   "source": [
    "raw_results"
   ],
   "outputs": [
    {
     "data": {
      "text/plain": [
       "{'adb': {'val': 0.9333333333333333, 'test': 0.8709677419354839},\n",
       " 'lgbm': {'val': 0.8666666666666667, 'test': 0.8709677419354839},\n",
       " 'cat': {'val': 0.9, 'test': 0.8064516129032258},\n",
       " 'rf': {'val': 0.9333333333333333, 'test': 0.8709677419354839},\n",
       " 'xgb': {'val': 0.9333333333333333, 'test': 0.8387096774193549},\n",
       " 'gb': {'val': 0.9, 'test': 0.8064516129032258}}"
      ]
     },
     "execution_count": 19,
     "metadata": {},
     "output_type": "execute_result"
    }
   ],
   "execution_count": 19
  },
  {
   "cell_type": "code",
   "id": "e5fed7a8d0e5654d",
   "metadata": {
    "ExecuteTime": {
     "end_time": "2025-10-02T15:34:03.502330Z",
     "start_time": "2025-10-02T15:33:59.942768Z"
    }
   },
   "source": [
    "visualize(raw_results, 'Raw Dataset')"
   ],
   "outputs": [
    {
     "data": {
      "text/plain": [
       "<Figure size 640x480 with 1 Axes>"
      ],
      "image/png": "[encoded data removed]"
     },
     "metadata": {},
     "output_type": "display_data"
    }
   ],
   "execution_count": 20
  },
  {
   "cell_type": "code",
   "id": "c32708ca7b738723",
   "metadata": {
    "ExecuteTime": {
     "end_time": "2025-10-02T15:34:16.311951Z",
     "start_time": "2025-10-02T15:34:15.762116Z"
    }
   },
   "source": [
    "for r in ranked:\n",
    "    print(r['best_estimator'])"
   ],
   "outputs": [
    {
     "name": "stdout",
     "output_type": "stream",
     "text": [
      "AdaBoostClassifier(estimator=DecisionTreeClassifier(max_depth=1,\n",
      "                                                    random_state=42),\n",
      "                   learning_rate=0.06484894922868152, n_estimators=200,\n",
      "                   random_state=42)\n",
      "LGBMClassifier(colsample_bytree=0.7243364749406372,\n",
      "               learning_rate=0.09830149739307255, min_child_samples=40,\n",
      "               n_estimators=300, n_jobs=-1, num_leaves=95, random_state=42,\n",
      "               reg_alpha=0.5097827013551092, reg_lambda=0.9692849916402695,\n",
      "               subsample=0.9016369252657277, verbose=-1)\n",
      "<catboost.core.CatBoostClassifier object at 0x000001E0A55DF250>\n",
      "RandomForestClassifier(max_depth=30, n_estimators=300, n_jobs=-1,\n",
      "                       random_state=42)\n",
      "XGBClassifier(base_score=None, booster=None, callbacks=None,\n",
      "              colsample_bylevel=None, colsample_bynode=None,\n",
      "              colsample_bytree=0.7700309076915354, device=None,\n",
      "              early_stopping_rounds=None, enable_categorical=False,\n",
      "              eval_metric='logloss', feature_types=None, feature_weights=None,\n",
      "              gamma=None, grow_policy=None, importance_type=None,\n",
      "              interaction_constraints=None, learning_rate=0.03234388670326608,\n",
      "              max_bin=None, max_cat_threshold=None, max_cat_to_onehot=None,\n",
      "              max_delta_step=None, max_depth=7, max_leaves=None,\n",
      "              min_child_weight=None, missing=nan, monotone_constraints=None,\n",
      "              multi_strategy=None, n_estimators=400, n_jobs=-1,\n",
      "              num_parallel_tree=None, ...)\n",
      "GradientBoostingClassifier(learning_rate=0.192997128624008, max_depth=5,\n",
      "                           min_samples_leaf=3, n_estimators=600,\n",
      "                           random_state=42)\n"
     ]
    }
   ],
   "execution_count": 21
  },
  {
   "cell_type": "markdown",
   "id": "64e6a609714c67a9",
   "metadata": {},
   "source": [
    "## DT DATASET"
   ]
  },
  {
   "cell_type": "code",
   "id": "774de2cc",
   "metadata": {
    "ExecuteTime": {
     "end_time": "2025-10-02T15:34:57.447418Z",
     "start_time": "2025-10-02T15:34:25.221982Z"
    }
   },
   "source": [
    "# MOCK for DT dataset — sau cell đọc X_dt_*\n",
    "define_mock_outs(X_dt_train, y_dt_train, prefix=\"dt\")\n",
    "# out_dt_ada, out_dt_rf, out_dt_gb, out_dt_lgbm, out_dt_xgb, out_dt_cat"
   ],
   "outputs": [
    {
     "name": "stdout",
     "output_type": "stream",
     "text": [
      "Defined out_dt_ada\n",
      "Defined out_dt_rf\n",
      "Defined out_dt_gb\n",
      "Defined out_dt_lgbm\n",
      "Defined out_dt_xgb\n",
      "Defined out_dt_cat\n"
     ]
    }
   ],
   "execution_count": 22
  },
  {
   "cell_type": "code",
   "execution_count": null,
   "id": "4e1540f3",
   "metadata": {},
   "outputs": [],
   "source": [
    "out_dt_lgbm = optuna_tune_simple(\"lgbm\", X_dt_train, y_dt_train, n_trials=40, scoring=\"accuracy\")\n",
    "out_dt_xgb  = optuna_tune_simple(\"xgb\",  X_dt_train, y_dt_train)\n",
    "out_dt_cat  = optuna_tune_simple(\"cat\",  X_dt_train, y_dt_train)\n",
    "out_dt_rf = optuna_tune_simple(\"rf\", X_dt_train, y_dt_train)\n",
    "out_dt_gb = optuna_tune_simple('gb', X_dt_train, y_dt_train)\n",
    "out_dt_ada = optuna_tune_simple('adb', X_dt_train, y_dt_train)"
   ]
  },
  {
   "cell_type": "code",
   "id": "1ddd0516173c032d",
   "metadata": {
    "ExecuteTime": {
     "end_time": "2025-10-02T16:01:08.482503Z",
     "start_time": "2025-10-02T16:01:08.451136Z"
    }
   },
   "source": [
    "dt_ranked = sorted([out_dt_ada, out_dt_rf, out_dt_gb, out_dt_lgbm, out_dt_xgb, out_dt_cat], key=lambda x: x[\"best_score\"], reverse=True)"
   ],
   "outputs": [],
   "execution_count": 52
  },
  {
   "cell_type": "code",
   "id": "276c5d1b",
   "metadata": {
    "ExecuteTime": {
     "end_time": "2025-10-02T16:01:10.067384Z",
     "start_time": "2025-10-02T16:01:08.882815Z"
    }
   },
   "source": [
    "dt_results = calc_results(dt_ranked, X_dt_test, y_dt_test, X_dt_val, y_dt_val)"
   ],
   "outputs": [],
   "execution_count": 53
  },
  {
   "cell_type": "code",
   "id": "9004eedbecf3476b",
   "metadata": {
    "ExecuteTime": {
     "end_time": "2025-10-02T16:01:10.520254Z",
     "start_time": "2025-10-02T16:01:10.148707Z"
    }
   },
   "source": [
    "visualize(dt_results, 'DT Dataset')"
   ],
   "outputs": [
    {
     "data": {
      "text/plain": [
       "<Figure size 640x480 with 1 Axes>"
      ],
      "image/png": "[encoded data removed]"
     },
     "metadata": {},
     "output_type": "display_data"
    }
   ],
   "execution_count": 54
  },
  {
   "cell_type": "markdown",
   "id": "f918b54d",
   "metadata": {},
   "source": [
    "## FE DATASET"
   ]
  },
  {
   "cell_type": "code",
   "id": "79e59c7f",
   "metadata": {
    "ExecuteTime": {
     "end_time": "2025-10-02T15:42:36.769762Z",
     "start_time": "2025-10-02T15:42:13.282817Z"
    }
   },
   "source": [
    "# MOCK for FE dataset — sau cell đọc X_fe_*\n",
    "define_mock_outs(X_fe_train, y_fe_train, prefix=\"fe\")\n"
   ],
   "outputs": [
    {
     "name": "stdout",
     "output_type": "stream",
     "text": [
      "Defined out_fe_ada\n",
      "Defined out_fe_rf\n",
      "Defined out_fe_gb\n",
      "Defined out_fe_lgbm\n",
      "Defined out_fe_xgb\n",
      "Defined out_fe_cat\n"
     ]
    }
   ],
   "execution_count": 32
  },
  {
   "cell_type": "code",
   "execution_count": null,
   "id": "cadacb9bc9652142",
   "metadata": {},
   "outputs": [],
   "source": [
    "out_fe_lgbm = optuna_tune_simple(\"lgbm\", X_fe_train, y_fe_train, n_trials=40, scoring=\"accuracy\")\n",
    "out_fe_cat  = optuna_tune_simple(\"cat\",  X_fe_train, y_fe_train)\n",
    "out_fe_xgb  = optuna_tune_simple(\"xgb\",  X_fe_train, y_fe_train)\n",
    "out_fe_rf   = optuna_tune_simple(\"rf\",   X_fe_train, y_fe_train)\n",
    "out_fe_gb   = optuna_tune_simple('gb',   X_fe_train, y_fe_train)\n",
    "out_fe_ada  = optuna_tune_simple('adb',  X_fe_train, y_fe_train)"
   ]
  },
  {
   "cell_type": "code",
   "id": "57b470c4",
   "metadata": {
    "ExecuteTime": {
     "end_time": "2025-10-02T15:42:36.837129Z",
     "start_time": "2025-10-02T15:42:36.806443Z"
    }
   },
   "source": [
    "fe_ranked = sorted([out_fe_ada, out_fe_rf, out_fe_gb, out_fe_lgbm, out_fe_xgb, out_fe_cat],\n",
    "                   key=lambda x: x[\"best_score\"], reverse=True)\n"
   ],
   "outputs": [],
   "execution_count": 33
  },
  {
   "cell_type": "code",
   "id": "91545e26",
   "metadata": {
    "ExecuteTime": {
     "end_time": "2025-10-02T15:42:37.238434Z",
     "start_time": "2025-10-02T15:42:36.841276Z"
    }
   },
   "source": [
    "fe_results = calc_results(fe_ranked, X_fe_test, y_fe_test, X_fe_val, y_fe_val)"
   ],
   "outputs": [],
   "execution_count": 34
  },
  {
   "cell_type": "code",
   "id": "c6d8bc98",
   "metadata": {
    "ExecuteTime": {
     "end_time": "2025-10-02T15:42:37.577363Z",
     "start_time": "2025-10-02T15:42:37.257645Z"
    }
   },
   "source": [
    "visualize(fe_results, 'FE Dataset')"
   ],
   "outputs": [
    {
     "data": {
      "text/plain": [
       "<Figure size 640x480 with 1 Axes>"
      ],
      "image/png": "[encoded data removed]"
     },
     "metadata": {},
     "output_type": "display_data"
    }
   ],
   "execution_count": 35
  },
  {
   "cell_type": "markdown",
   "id": "9831a212",
   "metadata": {},
   "source": [
    "## FE + DT DATASET"
   ]
  },
  {
   "cell_type": "code",
   "id": "ed0fb498",
   "metadata": {
    "ExecuteTime": {
     "end_time": "2025-10-02T16:03:27.947870Z",
     "start_time": "2025-10-02T16:03:02.123806Z"
    }
   },
   "source": [
    "# MOCK for FE + DT dataset — sau cell đọc X_fe_dt_*\n",
    "define_mock_outs(X_fe_dt_train, y_fe_dt_train, prefix=\"fe_dt\")\n"
   ],
   "outputs": [
    {
     "name": "stdout",
     "output_type": "stream",
     "text": [
      "Defined out_fe_dt_ada\n",
      "Defined out_fe_dt_rf\n",
      "Defined out_fe_dt_gb\n",
      "Defined out_fe_dt_lgbm\n",
      "Defined out_fe_dt_xgb\n",
      "Defined out_fe_dt_cat\n"
     ]
    }
   ],
   "execution_count": 55
  },
  {
   "cell_type": "code",
   "execution_count": null,
   "id": "145c2b243ed5b8c8",
   "metadata": {},
   "outputs": [],
   "source": [
    "out_fe_dt_lgbm = optuna_tune_simple(\"lgbm\", X_fe_dt_train, y_fe_dt_train, n_trials=40, scoring=\"accuracy\")\n",
    "out_fe_dt_cat  = optuna_tune_simple(\"cat\",  X_fe_dt_train, y_fe_dt_train)\n",
    "out_fe_dt_xgb  = optuna_tune_simple(\"xgb\",  X_fe_dt_train, y_fe_dt_train)\n",
    "out_fe_dt_rf   = optuna_tune_simple(\"rf\",   X_fe_dt_train, y_fe_dt_train)\n",
    "out_fe_dt_gb   = optuna_tune_simple('gb',   X_fe_dt_train, y_fe_dt_train)\n",
    "out_fe_dt_ada  = optuna_tune_simple('adb',  X_fe_dt_train, y_fe_dt_train)"
   ]
  },
  {
   "cell_type": "code",
   "id": "57a81112",
   "metadata": {
    "ExecuteTime": {
     "end_time": "2025-10-02T16:03:28.056300Z",
     "start_time": "2025-10-02T16:03:28.026874Z"
    }
   },
   "source": [
    "fe_dt_ranked = sorted([out_fe_dt_ada, out_fe_dt_rf, out_fe_dt_gb, out_fe_dt_lgbm, out_fe_dt_xgb, out_fe_dt_cat],\n",
    "                      key=lambda x: x[\"best_score\"], reverse=True)\n"
   ],
   "outputs": [],
   "execution_count": 56
  },
  {
   "cell_type": "code",
   "id": "c7a841b7",
   "metadata": {
    "ExecuteTime": {
     "end_time": "2025-10-02T16:03:28.385406Z",
     "start_time": "2025-10-02T16:03:28.076295Z"
    }
   },
   "source": [
    "fe_dt_results = calc_results(fe_dt_ranked, X_fe_dt_test, y_fe_dt_test, X_fe_dt_val, y_fe_dt_val)"
   ],
   "outputs": [],
   "execution_count": 57
  },
  {
   "cell_type": "code",
   "id": "8b9d9f48",
   "metadata": {
    "ExecuteTime": {
     "end_time": "2025-10-02T16:03:28.708461Z",
     "start_time": "2025-10-02T16:03:28.405009Z"
    }
   },
   "source": [
    "visualize(fe_dt_results, 'FE + DT Dataset')"
   ],
   "outputs": [
    {
     "data": {
      "text/plain": [
       "<Figure size 640x480 with 1 Axes>"
      ],
      "image/png": "[encoded data removed]"
     },
     "metadata": {},
     "output_type": "display_data"
    }
   ],
   "execution_count": 58
  },
  {
   "cell_type": "markdown",
   "id": "b11de921",
   "metadata": {},
   "source": [
    "## SMOTE DATASET"
   ]
  },
  {
   "cell_type": "code",
   "id": "54e1bdff",
   "metadata": {
    "ExecuteTime": {
     "end_time": "2025-10-02T15:56:57.955217Z",
     "start_time": "2025-10-02T15:56:30.006214Z"
    }
   },
   "source": [
    "# MOCK for FE + SMOTE (train) — sau cell đọc X_smote_*\n",
    "define_mock_outs(X_smote_train, y_smote_train, prefix=\"fe_sm\")\n"
   ],
   "outputs": [
    {
     "name": "stdout",
     "output_type": "stream",
     "text": [
      "Defined out_fe_sm_ada\n",
      "Defined out_fe_sm_rf\n",
      "Defined out_fe_sm_gb\n",
      "Defined out_fe_sm_lgbm\n",
      "Defined out_fe_sm_xgb\n",
      "Defined out_fe_sm_cat\n"
     ]
    }
   ],
   "execution_count": 47
  },
  {
   "cell_type": "code",
   "execution_count": null,
   "id": "a0879115ad876c7c",
   "metadata": {},
   "outputs": [],
   "source": [
    "out_fe_sm_lgbm = optuna_tune_simple(\"lgbm\", X_smote_train, y_smote_train, n_trials=40, scoring=\"accuracy\")\n",
    "out_fe_sm_cat  = optuna_tune_simple(\"cat\",  X_smote_train, y_smote_train)\n",
    "out_fe_sm_xgb  = optuna_tune_simple(\"xgb\",  X_smote_train, y_smote_train)\n",
    "out_fe_sm_rf   = optuna_tune_simple(\"rf\",   X_smote_train, y_smote_train)\n",
    "out_fe_sm_gb   = optuna_tune_simple('gb',   X_smote_train, y_smote_train)\n",
    "out_fe_sm_ada  = optuna_tune_simple('adb',  X_smote_train, y_smote_train)\n"
   ]
  },
  {
   "cell_type": "code",
   "id": "5e87d266",
   "metadata": {
    "ExecuteTime": {
     "end_time": "2025-10-02T16:04:29.147624Z",
     "start_time": "2025-10-02T16:04:29.105121Z"
    }
   },
   "source": [
    "fe_sm_ranked = sorted([out_fe_sm_ada, out_fe_sm_rf, out_fe_sm_gb, out_fe_sm_lgbm, out_fe_sm_xgb, out_fe_sm_cat], key=lambda x: x['best_score'], reverse=True)\n"
   ],
   "outputs": [],
   "execution_count": 59
  },
  {
   "cell_type": "code",
   "id": "c1d22282",
   "metadata": {
    "ExecuteTime": {
     "end_time": "2025-10-02T16:04:30.056762Z",
     "start_time": "2025-10-02T16:04:29.457581Z"
    }
   },
   "source": [
    "fe_sm_results = calc_results(fe_sm_ranked, X_smote_test, y_smote_test, X_smote_val, y_smote_val)"
   ],
   "outputs": [],
   "execution_count": 60
  },
  {
   "cell_type": "code",
   "id": "1789b05a",
   "metadata": {
    "ExecuteTime": {
     "end_time": "2025-10-02T16:04:54.991859Z",
     "start_time": "2025-10-02T16:04:54.823990Z"
    }
   },
   "source": "visualize(fe_sm_results, 'FE + SMOTE')\n",
   "outputs": [
    {
     "data": {
      "text/plain": [
       "<Figure size 640x480 with 1 Axes>"
      ],
      "image/png": "[encoded data removed]"
     },
     "metadata": {},
     "output_type": "display_data"
    }
   ],
   "execution_count": 63
  },
  {
   "cell_type": "markdown",
   "id": "33c35b4a",
   "metadata": {},
   "source": [
    "## RESULT REPORT"
   ]
  },
  {
   "cell_type": "code",
   "id": "2dba3f2af7018e1a",
   "metadata": {
    "ExecuteTime": {
     "end_time": "2025-10-02T16:05:04.952071Z",
     "start_time": "2025-10-02T16:05:04.762888Z"
    }
   },
   "source": [
    "# Aggregate best estimators across datasets and save to CSV\n",
    "from pathlib import Path\n",
    "import json\n",
    "import pandas as pd\n",
    "\n",
    "# Map dataset -> variable prefix used in your notebook variables\n",
    "dataset_prefixes = {\n",
    "    'raw':   '',        # e.g., out_ada, out_rf, ...\n",
    "    'dt':    'dt',      # e.g., out_dt_ada, out_dt_rf, ...\n",
    "    'fe':    'fe',      # e.g., out_fe_ada, ...\n",
    "    'fe_dt': 'fe_dt',   # e.g., out_fe_dt_ada, ...\n",
    "    'fe_sm': 'fe_sm',   # e.g., out_fe_sm_ada, ...\n",
    "}\n",
    "\n",
    "# 6 algorithms (matching keys used in SUGGESTERS)\n",
    "alg_order = ['adb', 'rf', 'gb', 'lgbm', 'xgb', 'cat']\n",
    "\n",
    "# Map algorithm key -> suffix used in your variable names\n",
    "suffix_map = {'adb': 'ada', 'rf': 'rf', 'gb': 'gb', 'lgbm': 'lgbm', 'xgb': 'xgb', 'cat': 'cat'}\n",
    "\n",
    "def get_out(prefix: str, alg: str):\n",
    "    # Compose variable name e.g., out_fe_dt_ada or out_rf\n",
    "    varname = f\"out_{(prefix + '_') if prefix else ''}{suffix_map[alg]}\"\n",
    "    return globals().get(varname, None)\n",
    "\n",
    "rows = []\n",
    "for ds, prefix in dataset_prefixes.items():\n",
    "    for alg in alg_order:\n",
    "        out = get_out(prefix, alg)\n",
    "        if out is None:\n",
    "            continue\n",
    "        est = out.get('best_estimator')\n",
    "        params = out.get('best_params', {})\n",
    "        score = out.get('best_score', None)\n",
    "        score_fmt = f\"{score:.4f}\" if isinstance(score, (int, float)) else str(score)\n",
    "        est_class = type(est).__name__ if est is not None else ''\n",
    "        est_repr = (repr(est) if est is not None else '').replace('\\n', ' ').replace('\\r', ' ')\n",
    "        print(f\"[{ds}] {alg}: score={score_fmt}  estimator={est_class}\")\n",
    "\n",
    "        rows.append({\n",
    "            'dataset': ds,\n",
    "            'algorithm': alg,\n",
    "            'best_score': score,\n",
    "            'best_params_json': json.dumps(params),\n",
    "            'estimator_class': est_class,\n",
    "            'estimator_repr': est_repr\n",
    "        })\n",
    "\n",
    "best_df = pd.DataFrame(rows).sort_values(['dataset','algorithm']).reset_index(drop=True)\n",
    "out_path = Path('../splits') / 'best_estimators_summary.csv'\n",
    "out_path.parent.mkdir(parents=True, exist_ok=True)\n",
    "best_df.to_csv(out_path, index=False)\n",
    "print(\"Saved:\", out_path)\n",
    "best_df.head()\n"
   ],
   "outputs": [
    {
     "name": "stdout",
     "output_type": "stream",
     "text": [
      "[raw] adb: score=0.8387  estimator=AdaBoostClassifier\n",
      "[raw] rf: score=0.8179  estimator=RandomForestClassifier\n",
      "[raw] gb: score=0.7889  estimator=GradientBoostingClassifier\n",
      "[raw] lgbm: score=0.8346  estimator=LGBMClassifier\n",
      "[raw] xgb: score=0.8139  estimator=XGBClassifier\n",
      "[raw] cat: score=0.8180  estimator=CatBoostClassifier\n",
      "[dt] adb: score=0.8389  estimator=AdaBoostClassifier\n",
      "[dt] rf: score=0.8222  estimator=RandomForestClassifier\n",
      "[dt] gb: score=0.8057  estimator=GradientBoostingClassifier\n",
      "[dt] lgbm: score=0.9124  estimator=LGBMClassifier\n",
      "[dt] xgb: score=0.8801  estimator=XGBClassifier\n",
      "[dt] cat: score=0.9212  estimator=CatBoostClassifier\n",
      "[fe] adb: score=0.8305  estimator=AdaBoostClassifier\n",
      "[fe] rf: score=0.7974  estimator=RandomForestClassifier\n",
      "[fe] gb: score=0.8056  estimator=GradientBoostingClassifier\n",
      "[fe] lgbm: score=0.8264  estimator=LGBMClassifier\n",
      "[fe] xgb: score=0.7890  estimator=XGBClassifier\n",
      "[fe] cat: score=0.7770  estimator=CatBoostClassifier\n",
      "[fe_dt] adb: score=0.8182  estimator=AdaBoostClassifier\n",
      "[fe_dt] rf: score=0.7935  estimator=RandomForestClassifier\n",
      "[fe_dt] gb: score=0.7684  estimator=GradientBoostingClassifier\n",
      "[fe_dt] lgbm: score=0.7728  estimator=LGBMClassifier\n",
      "[fe_dt] xgb: score=0.7811  estimator=XGBClassifier\n",
      "[fe_dt] cat: score=0.7978  estimator=CatBoostClassifier\n",
      "[fe_sm] adb: score=0.8168  estimator=AdaBoostClassifier\n",
      "[fe_sm] rf: score=0.8168  estimator=RandomForestClassifier\n",
      "[fe_sm] gb: score=0.8169  estimator=GradientBoostingClassifier\n",
      "[fe_sm] lgbm: score=0.8321  estimator=LGBMClassifier\n",
      "[fe_sm] xgb: score=0.8092  estimator=XGBClassifier\n",
      "[fe_sm] cat: score=0.7902  estimator=CatBoostClassifier\n",
      "Saved: ..\\splits\\best_estimators_summary.csv\n"
     ]
    },
    {
     "data": {
      "text/plain": [
       "  dataset algorithm  best_score  \\\n",
       "0      dt       adb    0.838861   \n",
       "1      dt       cat    0.921196   \n",
       "2      dt        gb    0.805697   \n",
       "3      dt      lgbm    0.912375   \n",
       "4      dt        rf    0.822194   \n",
       "\n",
       "                                    best_params_json  \\\n",
       "0  {\"n_estimators\": 200, \"learning_rate\": 0.03729...   \n",
       "1  {\"n_estimators\": 400, \"depth\": 4, \"learning_ra...   \n",
       "2  {\"n_estimators\": 200, \"learning_rate\": 0.04160...   \n",
       "3  {\"n_estimators\": 400, \"num_leaves\": 127, \"lear...   \n",
       "4  {\"n_estimators\": 900, \"max_depth\": 12, \"min_sa...   \n",
       "\n",
       "              estimator_class  \\\n",
       "0          AdaBoostClassifier   \n",
       "1          CatBoostClassifier   \n",
       "2  GradientBoostingClassifier   \n",
       "3              LGBMClassifier   \n",
       "4      RandomForestClassifier   \n",
       "\n",
       "                                      estimator_repr  \n",
       "0  AdaBoostClassifier(estimator=DecisionTreeClass...  \n",
       "1  <catboost.core.CatBoostClassifier object at 0x...  \n",
       "2  GradientBoostingClassifier(learning_rate=0.041...  \n",
       "3  LGBMClassifier(colsample_bytree=0.822047978444...  \n",
       "4  RandomForestClassifier(max_depth=12, min_sampl...  "
      ],
      "text/html": [
       "<div>\n",
       "<style scoped>\n",
       "    .dataframe tbody tr th:only-of-type {\n",
       "        vertical-align: middle;\n",
       "    }\n",
       "\n",
       "    .dataframe tbody tr th {\n",
       "        vertical-align: top;\n",
       "    }\n",
       "\n",
       "    .dataframe thead th {\n",
       "        text-align: right;\n",
       "    }\n",
       "</style>\n",
       "<table border=\"1\" class=\"dataframe\">\n",
       "  <thead>\n",
       "    <tr style=\"text-align: right;\">\n",
       "      <th></th>\n",
       "      <th>dataset</th>\n",
       "      <th>algorithm</th>\n",
       "      <th>best_score</th>\n",
       "      <th>best_params_json</th>\n",
       "      <th>estimator_class</th>\n",
       "      <th>estimator_repr</th>\n",
       "    </tr>\n",
       "  </thead>\n",
       "  <tbody>\n",
       "    <tr>\n",
       "      <th>0</th>\n",
       "      <td>dt</td>\n",
       "      <td>adb</td>\n",
       "      <td>0.838861</td>\n",
       "      <td>{\"n_estimators\": 200, \"learning_rate\": 0.03729...</td>\n",
       "      <td>AdaBoostClassifier</td>\n",
       "      <td>AdaBoostClassifier(estimator=DecisionTreeClass...</td>\n",
       "    </tr>\n",
       "    <tr>\n",
       "      <th>1</th>\n",
       "      <td>dt</td>\n",
       "      <td>cat</td>\n",
       "      <td>0.921196</td>\n",
       "      <td>{\"n_estimators\": 400, \"depth\": 4, \"learning_ra...</td>\n",
       "      <td>CatBoostClassifier</td>\n",
       "      <td>&lt;catboost.core.CatBoostClassifier object at 0x...</td>\n",
       "    </tr>\n",
       "    <tr>\n",
       "      <th>2</th>\n",
       "      <td>dt</td>\n",
       "      <td>gb</td>\n",
       "      <td>0.805697</td>\n",
       "      <td>{\"n_estimators\": 200, \"learning_rate\": 0.04160...</td>\n",
       "      <td>GradientBoostingClassifier</td>\n",
       "      <td>GradientBoostingClassifier(learning_rate=0.041...</td>\n",
       "    </tr>\n",
       "    <tr>\n",
       "      <th>3</th>\n",
       "      <td>dt</td>\n",
       "      <td>lgbm</td>\n",
       "      <td>0.912375</td>\n",
       "      <td>{\"n_estimators\": 400, \"num_leaves\": 127, \"lear...</td>\n",
       "      <td>LGBMClassifier</td>\n",
       "      <td>LGBMClassifier(colsample_bytree=0.822047978444...</td>\n",
       "    </tr>\n",
       "    <tr>\n",
       "      <th>4</th>\n",
       "      <td>dt</td>\n",
       "      <td>rf</td>\n",
       "      <td>0.822194</td>\n",
       "      <td>{\"n_estimators\": 900, \"max_depth\": 12, \"min_sa...</td>\n",
       "      <td>RandomForestClassifier</td>\n",
       "      <td>RandomForestClassifier(max_depth=12, min_sampl...</td>\n",
       "    </tr>\n",
       "  </tbody>\n",
       "</table>\n",
       "</div>"
      ]
     },
     "execution_count": 64,
     "metadata": {},
     "output_type": "execute_result"
    }
   ],
   "execution_count": 64
  },
  {
   "cell_type": "code",
   "id": "82409ab3",
   "metadata": {
    "ExecuteTime": {
     "end_time": "2025-10-02T16:06:04.480653Z",
     "start_time": "2025-10-02T16:06:02.971608Z"
    }
   },
   "source": [
    "# Plot 6 charts: one per algorithm, showing val/test across datasets\n",
    "import numpy as np\n",
    "import pandas as pd\n",
    "import matplotlib.pyplot as plt\n",
    "import seaborn as sns\n",
    "\n",
    "# These should be produced earlier via calc_results(...):\n",
    "# raw_results, dt_results, fe_results, fe_dt_results, fe_sm_results\n",
    "results_vars = {\n",
    "    'raw':   'raw_results',\n",
    "    'dt':    'dt_results',\n",
    "    'fe':    'fe_results',\n",
    "    'fe_dt': 'fe_dt_results',\n",
    "    'fe_sm': 'fe_sm_results',\n",
    "}\n",
    "\n",
    "records = []\n",
    "for ds, varname in results_vars.items():\n",
    "    res = globals().get(varname, None)\n",
    "    if res is None:\n",
    "        continue\n",
    "    # res expected format: { 'adb': {'val': score, 'test': score}, ... }\n",
    "    for alg, metrics in res.items():\n",
    "        if not isinstance(metrics, dict):\n",
    "            continue\n",
    "        for split in ['val', 'test']:\n",
    "            val = metrics.get(split, None)\n",
    "            if val is None:\n",
    "                continue\n",
    "            records.append({'dataset': ds, 'algorithm': alg, 'split': split, 'score': float(val)})\n",
    "\n",
    "plot_df = pd.DataFrame(records)\n",
    "alg_names = ['adb', 'rf', 'gb', 'lgbm', 'xgb', 'cat']\n",
    "\n",
    "fig, axes = plt.subplots(2, 3, figsize=(14, 7), sharey=True)\n",
    "axes = axes.ravel()\n",
    "\n",
    "for i, alg in enumerate(alg_names):\n",
    "    ax = axes[i]\n",
    "    sub = plot_df[plot_df['algorithm'] == alg]\n",
    "    if sub.empty:\n",
    "        ax.set_title(f\"{alg.upper()} — no data\")\n",
    "        ax.axis('off')\n",
    "        continue\n",
    "\n",
    "    sns.barplot(data=sub, x='dataset', y='score', hue='split', ax=ax, palette=['#4c78a8', '#f58518'])\n",
    "    ax.set_title(alg.upper())\n",
    "    ax.set_xlabel('Dataset')\n",
    "    ax.set_ylabel('Score')\n",
    "    ax.set_xticklabels(ax.get_xticklabels(), rotation=20)\n",
    "\n",
    "    # annotate bars\n",
    "    for p in ax.patches:\n",
    "        h = p.get_height()\n",
    "        if np.isfinite(h):\n",
    "            ax.annotate(f\"{h:.3f}\", (p.get_x() + p.get_width()/2, h), ha='center', va='bottom', fontsize=8)\n",
    "\n",
    "# One shared legend\n",
    "handles, labels = axes[0].get_legend_handles_labels()\n",
    "fig.legend(handles, labels, loc='upper center', ncol=2, title='Split')\n",
    "plt.tight_layout(rect=[0, 0, 1, 0.92])\n",
    "plt.show()\n"
   ],
   "outputs": [
    {
     "data": {
      "text/plain": [
       "<Figure size 1400x700 with 6 Axes>"
      ],
      "image/png": "[encoded data removed]"
     },
     "metadata": {},
     "output_type": "display_data"
    }
   ],
   "execution_count": 65
  },
  {
   "cell_type": "markdown",
   "id": "ece8d86c",
   "metadata": {},
   "source": [
    "## GIỚI THIỆU: DÙNG LAZYPREDICT ĐỂ XEM HIỆU QUẢ CỦA NHỮNG MÔ HÌNH KHÁC"
   ]
  },
  {
   "cell_type": "code",
   "id": "c4facbd462d8b193",
   "metadata": {
    "ExecuteTime": {
     "end_time": "2025-10-02T16:22:00.856046Z",
     "start_time": "2025-10-02T16:21:54.700343Z"
    }
   },
   "source": [
    "from lazypredict.Supervised import  LazyClassifier\n",
    "\n",
    "clf = LazyClassifier(verbose=0, ignore_warnings=True, custom_metric=None)\n",
    "models, _ = clf.fit(X_train, X_test, y_train, y_test)\n",
    "print(models)"
   ],
   "outputs": [
    {
     "data": {
      "text/plain": [
       "  0%|          | 0/32 [00:00<?, ?it/s]"
      ],
      "application/vnd.jupyter.widget-view+json": {
       "version_major": 2,
       "version_minor": 0,
       "model_id": "a51200bcdb234670ba56090b8208b85b"
      }
     },
     "metadata": {},
     "output_type": "display_data"
    },
    {
     "name": "stdout",
     "output_type": "stream",
     "text": [
      "                               Accuracy  Balanced Accuracy  ROC AUC  F1 Score  \\\n",
      "Model                                                                           \n",
      "PassiveAggressiveClassifier        0.90               0.91     0.91      0.90   \n",
      "BernoulliNB                        0.90               0.91     0.91      0.90   \n",
      "RandomForestClassifier             0.90               0.91     0.91      0.90   \n",
      "KNeighborsClassifier               0.87               0.88     0.88      0.87   \n",
      "AdaBoostClassifier                 0.87               0.88     0.88      0.87   \n",
      "NearestCentroid                    0.87               0.88     0.88      0.87   \n",
      "GaussianNB                         0.84               0.85     0.85      0.84   \n",
      "LGBMClassifier                     0.84               0.84     0.84      0.84   \n",
      "LabelPropagation                   0.81               0.82     0.82      0.80   \n",
      "LabelSpreading                     0.81               0.82     0.82      0.80   \n",
      "ExtraTreesClassifier               0.81               0.81     0.81      0.81   \n",
      "Perceptron                         0.81               0.81     0.81      0.81   \n",
      "XGBClassifier                      0.81               0.81     0.81      0.81   \n",
      "SVC                                0.81               0.81     0.81      0.81   \n",
      "RidgeClassifierCV                  0.81               0.81     0.81      0.81   \n",
      "RidgeClassifier                    0.81               0.81     0.81      0.81   \n",
      "CalibratedClassifierCV             0.81               0.81     0.81      0.81   \n",
      "LinearSVC                          0.81               0.81     0.81      0.81   \n",
      "NuSVC                              0.81               0.81     0.81      0.81   \n",
      "LogisticRegression                 0.81               0.81     0.81      0.81   \n",
      "LinearDiscriminantAnalysis         0.81               0.81     0.81      0.81   \n",
      "QuadraticDiscriminantAnalysis      0.77               0.79     0.79      0.77   \n",
      "SGDClassifier                      0.77               0.78     0.78      0.77   \n",
      "DecisionTreeClassifier             0.77               0.78     0.78      0.77   \n",
      "BaggingClassifier                  0.77               0.78     0.78      0.77   \n",
      "ExtraTreeClassifier                0.71               0.72     0.72      0.71   \n",
      "DummyClassifier                    0.55               0.50     0.50      0.39   \n",
      "\n",
      "                               Time Taken  \n",
      "Model                                      \n",
      "PassiveAggressiveClassifier          0.02  \n",
      "BernoulliNB                          0.01  \n",
      "RandomForestClassifier               0.30  \n",
      "KNeighborsClassifier                 0.01  \n",
      "AdaBoostClassifier                   0.09  \n",
      "NearestCentroid                      0.02  \n",
      "GaussianNB                           0.01  \n",
      "LGBMClassifier                       0.21  \n",
      "LabelPropagation                     0.01  \n",
      "LabelSpreading                       0.02  \n",
      "ExtraTreesClassifier                 0.10  \n",
      "Perceptron                           0.03  \n",
      "XGBClassifier                        4.96  \n",
      "SVC                                  0.03  \n",
      "RidgeClassifierCV                    0.03  \n",
      "RidgeClassifier                      0.02  \n",
      "CalibratedClassifierCV               0.03  \n",
      "LinearSVC                            0.02  \n",
      "NuSVC                                0.02  \n",
      "LogisticRegression                   0.02  \n",
      "LinearDiscriminantAnalysis           0.02  \n",
      "QuadraticDiscriminantAnalysis        0.02  \n",
      "SGDClassifier                        0.03  \n",
      "DecisionTreeClassifier               0.01  \n",
      "BaggingClassifier                    0.03  \n",
      "ExtraTreeClassifier                  0.01  \n",
      "DummyClassifier                      0.01  \n"
     ]
    }
   ],
   "execution_count": 68
  },
  {
   "metadata": {},
   "cell_type": "markdown",
   "source": "**Có thể dùng LazyPredict để chọn ra các mô hình cơ sở tốt nhất, sau đó tối ưu theo số để chọn kết quả cuối**",
   "id": "36760d68fd323950"
  }
 ],
 "metadata": {
  "kernelspec": {
   "display_name": "ml",
   "language": "python",
   "name": "python3"
  },
  "language_info": {
   "codemirror_mode": {
    "name": "ipython",
    "version": 3
   },
   "file_extension": ".py",
   "mimetype": "text/x-python",
   "name": "python",
   "nbconvert_exporter": "python",
   "pygments_lexer": "ipython3",
   "version": "3.10.18"
  }
 },
 "nbformat": 4,
 "nbformat_minor": 5
}
